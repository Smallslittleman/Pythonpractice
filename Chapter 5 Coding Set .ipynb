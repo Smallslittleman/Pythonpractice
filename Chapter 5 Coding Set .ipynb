{
 "cells": [
  {
   "cell_type": "markdown",
   "id": "30adc62b",
   "metadata": {},
   "source": [
    "# Chapter 5 Coding Set - Zavier Christians"
   ]
  },
  {
   "cell_type": "markdown",
   "id": "f25091fc",
   "metadata": {},
   "source": [
    "## Algorithm Workbench - Number 1"
   ]
  },
  {
   "cell_type": "markdown",
   "id": "59030bc0",
   "metadata": {},
   "source": [
    "Problem number 1 asks us to: \n",
    "\n",
    "Write a function named times_ten. The function should accept an argument and display the product of its argument multiplied times 10."
   ]
  },
  {
   "cell_type": "markdown",
   "id": "b7caf4d0",
   "metadata": {},
   "source": [
    "To do this problem I am going to need to define a function named 'times_ten', use the multiplication function to multiply its argument, use the print function to display the multiplied result, and use the input function to receive the users input value which will be used as the argument value. "
   ]
  },
  {
   "cell_type": "markdown",
   "id": "b8155e7c",
   "metadata": {},
   "source": [
    "I will start by making a print statement that tells the user what to do"
   ]
  },
  {
   "cell_type": "code",
   "execution_count": 1,
   "id": "8dc43a68",
   "metadata": {},
   "outputs": [
    {
     "name": "stdout",
     "output_type": "stream",
     "text": [
      "Type in a number and it will be multiplied by ten.\n"
     ]
    }
   ],
   "source": [
    "print('Type in a number and it will be multiplied by ten.')"
   ]
  },
  {
   "cell_type": "markdown",
   "id": "ff18c3a6",
   "metadata": {},
   "source": [
    "Next I will put in a input function that sets a variable to the users input."
   ]
  },
  {
   "cell_type": "code",
   "execution_count": 2,
   "id": "88296379",
   "metadata": {},
   "outputs": [
    {
     "name": "stdout",
     "output_type": "stream",
     "text": [
      "Type in a number and it will be multiplied by ten.\n",
      "Type your number here: 10\n"
     ]
    }
   ],
   "source": [
    "print('Type in a number and it will be multiplied by ten.')\n",
    "\n",
    "user_num = float(input(\"Type your number here: \"))"
   ]
  },
  {
   "cell_type": "markdown",
   "id": "6684a429",
   "metadata": {},
   "source": [
    "I will now need to define, and call, the function that multiplies the users number by 10."
   ]
  },
  {
   "cell_type": "code",
   "execution_count": 3,
   "id": "2b5ccf5c",
   "metadata": {},
   "outputs": [],
   "source": [
    "def main():\n",
    "    print('Type in a number and it will be multiplied by ten.')\n",
    "\n",
    "    user_num = float(input(\"Type your number here: \"))\n",
    "    \n",
    "    times_ten(user_num)\n",
    "\n",
    "def times_ten(num):\n",
    "    total=num*10\n",
    "    print(total) "
   ]
  },
  {
   "cell_type": "markdown",
   "id": "20313657",
   "metadata": {},
   "source": [
    "I forgot to call the main function."
   ]
  },
  {
   "cell_type": "code",
   "execution_count": 4,
   "id": "36592000",
   "metadata": {},
   "outputs": [
    {
     "name": "stdout",
     "output_type": "stream",
     "text": [
      "Type in a number and it will be multiplied by ten.\n",
      "Type your number here: 10\n",
      "100.0\n"
     ]
    }
   ],
   "source": [
    "#Define the main function\n",
    "def main():\n",
    "    \n",
    "    #Print the directions for the user\n",
    "    print('Type in a number and it will be multiplied by ten.')\n",
    "    \n",
    "    #Assign the local variable 'user_num' the value of the number the user entered\n",
    "    user_num = float(input(\"Type your number here: \"))\n",
    "    \n",
    "    #The line below calls the function \"times_ten\" and uses the variable 'user_num' as the argument value\n",
    "    times_ten(user_num)\n",
    "\n",
    "#This line defines the \"times_ten\" and assigns the local variable 'num' the value of the argument    \n",
    "def times_ten(num):\n",
    "    #The assignment below assigns the local variable 'total' the value of the local variable 'num' times 10\n",
    "    total=num*10\n",
    "    #This line prints the local variable 'total'\n",
    "    print(total) \n",
    "\n",
    "#This line calls the main function\n",
    "main()"
   ]
  },
  {
   "cell_type": "markdown",
   "id": "8c6753ae",
   "metadata": {},
   "source": [
    "Perfect, I believe that is correct!"
   ]
  },
  {
   "cell_type": "markdown",
   "id": "b89b0c94",
   "metadata": {},
   "source": [
    "## Algorithm Workbench - Number 6"
   ]
  },
  {
   "cell_type": "markdown",
   "id": "ff708f21",
   "metadata": {},
   "source": [
    "Problem number 6 asks us to:\n",
    "\n",
    "Write a statement that generates a random number in the range of 1 through 100 and assigns it to a variable named rand."
   ]
  },
  {
   "cell_type": "markdown",
   "id": "5bf8852c",
   "metadata": {},
   "source": [
    "To do this problem I am going to need to import the 'random' module. I am then going to have to use the random.randint function to generate a random number, and assign it to a variable. "
   ]
  },
  {
   "cell_type": "markdown",
   "id": "871713fb",
   "metadata": {},
   "source": [
    "To start I will import the random module and generate a random number. "
   ]
  },
  {
   "cell_type": "code",
   "execution_count": 6,
   "id": "1b6e8b7e",
   "metadata": {},
   "outputs": [
    {
     "data": {
      "text/plain": [
       "85"
      ]
     },
     "execution_count": 6,
     "metadata": {},
     "output_type": "execute_result"
    }
   ],
   "source": [
    "import random\n",
    "\n",
    "random.randint(1,100)"
   ]
  },
  {
   "cell_type": "markdown",
   "id": "60843426",
   "metadata": {},
   "source": [
    "Perfect! That seems to have worked. Now I need to assign that value to a variable. "
   ]
  },
  {
   "cell_type": "code",
   "execution_count": 7,
   "id": "5cf22401",
   "metadata": {},
   "outputs": [],
   "source": [
    "import random\n",
    "\n",
    "rand = random.randint(1,100)"
   ]
  },
  {
   "cell_type": "markdown",
   "id": "37eb0c0c",
   "metadata": {},
   "source": [
    "That may have worked, but I am going to add a print function to make sure. "
   ]
  },
  {
   "cell_type": "code",
   "execution_count": 8,
   "id": "7562f98d",
   "metadata": {},
   "outputs": [
    {
     "name": "stdout",
     "output_type": "stream",
     "text": [
      "93\n"
     ]
    }
   ],
   "source": [
    "import random\n",
    "\n",
    "rand = random.randint(1,100)\n",
    "\n",
    "print(rand)"
   ]
  },
  {
   "cell_type": "code",
   "execution_count": 10,
   "id": "1f1b3cf8",
   "metadata": {},
   "outputs": [
    {
     "name": "stdout",
     "output_type": "stream",
     "text": [
      "50\n"
     ]
    }
   ],
   "source": [
    "#This line imports the random module\n",
    "import random\n",
    "\n",
    "#This assignment assigns the variable 'rand' a random value between 1 and 100\n",
    "rand = random.randint(1,100)\n",
    "\n",
    "#This print function displays the variable 'rand'\n",
    "print(rand)"
   ]
  },
  {
   "cell_type": "markdown",
   "id": "21467802",
   "metadata": {},
   "source": [
    "I think that is this problem done!"
   ]
  },
  {
   "cell_type": "markdown",
   "id": "b9378106",
   "metadata": {},
   "source": [
    "# Programming Exercises - Number 1"
   ]
  },
  {
   "attachments": {
    "image.png": {
     "image/png": "[encoded data removed]"
    }
   },
   "cell_type": "markdown",
   "id": "470a4732",
   "metadata": {},
   "source": [
    "Programming excercises problem 1 asks us to:\n",
    "\n",
    "Write a program that asks the user to enter a distance in kilometers, then uses a function to convert that distance to miles. The conversion formula is as follows:\n",
    "\n",
    "![image.png](attachment:image.png)"
   ]
  },
  {
   "cell_type": "markdown",
   "id": "3424c118",
   "metadata": {},
   "source": [
    "To do this problem I am going to need to define a function that does the conversion from kilometers to miles, then call apon it. I am also going to have to use a input function so the user can input the number of kilometers they would like to convert, and a print function to display the result. Finally, I will have to use some math functions to do the calculations. "
   ]
  },
  {
   "cell_type": "markdown",
   "id": "6ffef13e",
   "metadata": {},
   "source": [
    "To start I am going to define a main function, and give some instructions to the user. "
   ]
  },
  {
   "cell_type": "code",
   "execution_count": 12,
   "id": "55750d7c",
   "metadata": {},
   "outputs": [
    {
     "name": "stdout",
     "output_type": "stream",
     "text": [
      "Type in a number of kilometers in the box below to calculate how many miles they equate to.\n"
     ]
    }
   ],
   "source": [
    "def main():\n",
    "    print(\"Type in a number of kilometers in the box below to calculate how many miles they equate to.\")\n",
    "    \n",
    "main()"
   ]
  },
  {
   "cell_type": "markdown",
   "id": "950fc4d7",
   "metadata": {},
   "source": [
    "Next I will add in an input function to get the users input, and assign some variables for future use."
   ]
  },
  {
   "cell_type": "code",
   "execution_count": 13,
   "id": "85bb8f28",
   "metadata": {},
   "outputs": [
    {
     "name": "stdout",
     "output_type": "stream",
     "text": [
      "Type in a number of kilometers in the box below to calculate how many miles they equate to.\n",
      "Number of kilometers: 1\n"
     ]
    }
   ],
   "source": [
    "CONVERSION_RATE = 0.6214\n",
    "\n",
    "def main():\n",
    "    print(\"Type in a number of kilometers in the box below to calculate how many miles they equate to.\")\n",
    "    \n",
    "    kilos = float(input(\"Number of kilometers: \"))\n",
    "    \n",
    "    \n",
    "main()"
   ]
  },
  {
   "cell_type": "markdown",
   "id": "5f1f710a",
   "metadata": {},
   "source": [
    "Great, next I will work on the function needed to calculate the conversion"
   ]
  },
  {
   "cell_type": "code",
   "execution_count": 14,
   "id": "1cccd164",
   "metadata": {},
   "outputs": [
    {
     "name": "stdout",
     "output_type": "stream",
     "text": [
      "Type in a number of kilometers in the box below to calculate how many miles they equate to.\n",
      "Number of kilometers: 10\n"
     ]
    }
   ],
   "source": [
    "CONVERSION_RATE = 0.6214\n",
    "\n",
    "def main():\n",
    "    print(\"Type in a number of kilometers in the box below to calculate how many miles they equate to.\")\n",
    "    \n",
    "    kilos = float(input(\"Number of kilometers: \"))\n",
    "    \n",
    "\n",
    "def kilo_to_miles(kilos):\n",
    "    \n",
    "    miles = kilos * CONVERSION_RATE\n",
    "    \n",
    "    return miles\n",
    "    \n",
    "main()"
   ]
  },
  {
   "cell_type": "markdown",
   "id": "1a8019f1",
   "metadata": {},
   "source": [
    "So that code might work, but I need to now add in the print function that shows the result."
   ]
  },
  {
   "cell_type": "code",
   "execution_count": 16,
   "id": "97b1451f",
   "metadata": {},
   "outputs": [
    {
     "name": "stdout",
     "output_type": "stream",
     "text": [
      "Type in a number of kilometers in the box below to calculate how many miles they equate to.\n",
      "Number of kilometers: 10\n",
      "10.0 kilometers is 6.2139999999999995 miles\n"
     ]
    }
   ],
   "source": [
    "CONVERSION_RATE = 0.6214\n",
    "\n",
    "def main():\n",
    "    print(\"Type in a number of kilometers in the box below to calculate how many miles they equate to.\")\n",
    "    \n",
    "    kilos = float(input(\"Number of kilometers: \"))\n",
    "    \n",
    "    print(f'{kilos} kilometers is {kilo_to_miles(kilos)} miles')\n",
    "\n",
    "def kilo_to_miles(kilos):\n",
    "    \n",
    "    miles = kilos * CONVERSION_RATE\n",
    "    \n",
    "    return miles\n",
    "    \n",
    "main()"
   ]
  },
  {
   "cell_type": "markdown",
   "id": "9465ba87",
   "metadata": {},
   "source": [
    "That seems to work well, I am going to add in a rounding function to my F-string to make the response more readable. "
   ]
  },
  {
   "cell_type": "code",
   "execution_count": 18,
   "id": "a406c39f",
   "metadata": {},
   "outputs": [
    {
     "name": "stdout",
     "output_type": "stream",
     "text": [
      "Type in a number of kilometers in the box below to calculate how many miles they equate to.\n",
      "Number of kilometers: 15\n",
      "15.0 kilometers is 9.32 miles\n"
     ]
    }
   ],
   "source": [
    "#This assignment assign the global variable \"CONVERSION_RATE\" the value 0.6214\n",
    "CONVERSION_RATE = 0.6214\n",
    "\n",
    "#The line below calls the \"main\" function\n",
    "def main():\n",
    "    #Display the direction for the user\n",
    "    print(\"Type in a number of kilometers in the box below to calculate how many miles they equate to.\")\n",
    "    \n",
    "    #This assignment assigns the variable \"kilos\" the value of the number the user inputs\n",
    "    kilos = float(input(\"Number of kilometers: \"))\n",
    "    \n",
    "    #This line tells the user the result of the function 'kilo_to_miles' rounded to two decimal places\n",
    "    print(f'{kilos} kilometers is {kilo_to_miles(kilos):.2f} miles')\n",
    "\n",
    "#This line defines the function 'kilo_to_miles' and assigns the local variable 'kilos' the argument value    \n",
    "def kilo_to_miles(kilos):\n",
    "    \n",
    "    #This assignment assigns the variable 'miles' the value of the variable 'kilos' times the value of the global variable 'CONVERSION RATE'\n",
    "    miles = kilos * CONVERSION_RATE\n",
    "    \n",
    "    #This line tells the function to return the value of the variable 'miles'\n",
    "    return miles\n",
    "    \n",
    "#This line calls the main function\n",
    "main()"
   ]
  },
  {
   "cell_type": "markdown",
   "id": "56d5be24",
   "metadata": {},
   "source": [
    "Perfect, I think this problem is complete!"
   ]
  },
  {
   "cell_type": "markdown",
   "id": "e94b4092",
   "metadata": {},
   "source": [
    "## Programming Exercises - Number 16"
   ]
  },
  {
   "cell_type": "markdown",
   "id": "b45309e3",
   "metadata": {},
   "source": [
    "This problem asks us to:\n",
    "    \n",
    "A prime number is a number that is only evenly divisible by itself and 1. For example, the number 5 is prime because it can only be evenly divided by 1 and 5. The number 6, however, is not prime because it can be divided evenly by 1, 2, 3, and 6.\n",
    "\n",
    "Write a Boolean function named is_prime which takes an integer as an argument and returns true if the argument is a prime number, or false otherwise. Use the function in a program that prompts the user to enter a number then displays a message indicating whether the number is prime."
   ]
  },
  {
   "cell_type": "markdown",
   "id": "9f408fde",
   "metadata": {},
   "source": [
    "To complete this problem I am going to need to define some functions, use if-else statements, input functions, print functions, and math functions. "
   ]
  },
  {
   "cell_type": "markdown",
   "id": "a7de4bc8",
   "metadata": {},
   "source": [
    "To begin, as I often do, I will give the user some direction."
   ]
  },
  {
   "cell_type": "code",
   "execution_count": 19,
   "id": "a760d0fc",
   "metadata": {},
   "outputs": [
    {
     "name": "stdout",
     "output_type": "stream",
     "text": [
      "Enter and number below and the program will tell you if it is prime or not.\n"
     ]
    }
   ],
   "source": [
    "def main(): \n",
    "    print(\"Enter and number below and the program will tell you if it is prime or not.\")\n",
    "main()"
   ]
  },
  {
   "cell_type": "markdown",
   "id": "d5eb1549",
   "metadata": {},
   "source": [
    "Next I will add an input function"
   ]
  },
  {
   "cell_type": "code",
   "execution_count": 21,
   "id": "e706bfc5",
   "metadata": {},
   "outputs": [
    {
     "name": "stdout",
     "output_type": "stream",
     "text": [
      "Enter and whole number below and the program will tell you if it is prime or not.\n",
      "1\n"
     ]
    }
   ],
   "source": [
    "def main(): \n",
    "    print(\"Enter and whole number below and the program will tell you if it is prime or not.\")\n",
    "    \n",
    "    user_num = int(input())\n",
    "main()"
   ]
  },
  {
   "cell_type": "markdown",
   "id": "7c96b494",
   "metadata": {},
   "source": [
    "Next I will work on the prime function and call it in a print function to see what it is "
   ]
  },
  {
   "cell_type": "code",
   "execution_count": 27,
   "id": "092ac792",
   "metadata": {},
   "outputs": [
    {
     "name": "stdout",
     "output_type": "stream",
     "text": [
      "Enter and whole number below and the program will tell you if it is prime or not.\n",
      "7\n",
      "False\n"
     ]
    }
   ],
   "source": [
    "def main(): \n",
    "    print(\"Enter and whole number below and the program will tell you if it is prime or not.\")\n",
    "    \n",
    "    user_num = int(input())\n",
    "    \n",
    "    print(is_prime(user_num))\n",
    "    \n",
    "def is_prime(num):\n",
    "    \n",
    "    if num % 2 == 0:\n",
    "        status=False\n",
    "    elif num % 3 == 0:\n",
    "        status=False\n",
    "    elif num % 7 == 0:\n",
    "        status=False\n",
    "    elif num % 9 == 0:\n",
    "        status=False\n",
    "    else:\n",
    "        status=True\n",
    "    \n",
    "    return status\n",
    "main()"
   ]
  },
  {
   "cell_type": "markdown",
   "id": "c07b4fdf",
   "metadata": {},
   "source": [
    "So the code is not currently working because 7 is a prime number; I think I have to add some more clauses to my if-else statement for the code to work properly."
   ]
  },
  {
   "cell_type": "code",
   "execution_count": 28,
   "id": "ec380149",
   "metadata": {},
   "outputs": [
    {
     "name": "stdout",
     "output_type": "stream",
     "text": [
      "Enter and whole number below and the program will tell you if it is prime or not.\n",
      "5\n",
      "False\n"
     ]
    }
   ],
   "source": [
    "def main(): \n",
    "    print(\"Enter and whole number below and the program will tell you if it is prime or not.\")\n",
    "    \n",
    "    user_num = int(input())\n",
    "    \n",
    "    print(is_prime(user_num))\n",
    "    \n",
    "def is_prime(num):\n",
    "    \n",
    "    if num % 2 == 0 or 1:\n",
    "        status=False\n",
    "    elif num % 3 == 0 or 1:\n",
    "        status=False\n",
    "    elif num % 7 == 0 or 1:\n",
    "        status=False\n",
    "    elif num % 9 == 0 or 1:\n",
    "        status=False\n",
    "    else:\n",
    "        status=True\n",
    "    \n",
    "    return status\n",
    "main()"
   ]
  },
  {
   "cell_type": "code",
   "execution_count": 29,
   "id": "ff18f130",
   "metadata": {},
   "outputs": [
    {
     "name": "stdout",
     "output_type": "stream",
     "text": [
      "Enter and whole number below and the program will tell you if it is prime or not.\n",
      "7\n",
      "False\n"
     ]
    }
   ],
   "source": [
    "def main(): \n",
    "    print(\"Enter and whole number below and the program will tell you if it is prime or not.\")\n",
    "    \n",
    "    user_num = int(input())\n",
    "    \n",
    "    print(is_prime(user_num))\n",
    "    \n",
    "def is_prime(num):\n",
    "    \n",
    "    if num % 2 == 0 or 1:\n",
    "        status=False\n",
    "    elif num % 3 == 0 or 1:\n",
    "        status=False\n",
    "    elif num % 7 == 0 or 1:\n",
    "        status=False\n",
    "    elif num % 9 == 0 or 1:\n",
    "        status=False\n",
    "    else:\n",
    "        status=True\n",
    "    \n",
    "    return status\n",
    "main()"
   ]
  },
  {
   "cell_type": "code",
   "execution_count": 30,
   "id": "4446083d",
   "metadata": {},
   "outputs": [
    {
     "name": "stdout",
     "output_type": "stream",
     "text": [
      "Enter and whole number below and the program will tell you if it is prime or not.\n",
      "11\n",
      "False\n"
     ]
    }
   ],
   "source": [
    "def main(): \n",
    "    print(\"Enter and whole number below and the program will tell you if it is prime or not.\")\n",
    "    \n",
    "    user_num = int(input())\n",
    "    \n",
    "    print(is_prime(user_num))\n",
    "    \n",
    "def is_prime(num):\n",
    "    \n",
    "    if num % 2 == 0 or 1:\n",
    "        status=False\n",
    "    elif num % 3 == 0 or 1:\n",
    "        status=False\n",
    "    elif num % 7 == 0 or 1:\n",
    "        status=False\n",
    "    elif num % 9 == 0 or 1:\n",
    "        status=False\n",
    "    else:\n",
    "        status=True\n",
    "    \n",
    "    return status\n",
    "main()"
   ]
  },
  {
   "cell_type": "markdown",
   "id": "0bcb57c7",
   "metadata": {},
   "source": [
    "now I really broke it!"
   ]
  },
  {
   "cell_type": "code",
   "execution_count": null,
   "id": "c4888e97",
   "metadata": {},
   "outputs": [],
   "source": [
    "def main(): \n",
    "    print(\"Enter and whole number below and the program will tell you if it is prime or not.\")\n",
    "    \n",
    "    user_num = int(input())\n",
    "    \n",
    "    print(is_prime(user_num))\n",
    "    \n",
    "def is_prime(num):\n",
    "    \n",
    "    if num % 2 == 0:\n",
    "        status=False\n",
    "    elif num % 3 == 0:\n",
    "        status=False\n",
    "    elif num % 7 == 0:\n",
    "        status=False\n",
    "    elif num % 9 == 0:\n",
    "        status=False\n",
    "    else:\n",
    "        status=True\n",
    "    \n",
    "    return status\n",
    "main()"
   ]
  },
  {
   "cell_type": "markdown",
   "id": "896a29a2",
   "metadata": {},
   "source": [
    "At this point I referenced Chat GPT to see what it thought about by prime checking algorithm. It said that I need to have a better prime number checker which I can do with a loop which checks if the number is divisible by the current loop count up to the numbers square root. \n",
    "\n",
    "I am going to try to mess around a bit using this advice, but first I will need to import the math module to use the sqrt function. "
   ]
  },
  {
   "cell_type": "code",
   "execution_count": 34,
   "id": "b7caaed7",
   "metadata": {},
   "outputs": [
    {
     "name": "stdout",
     "output_type": "stream",
     "text": [
      "3\n"
     ]
    }
   ],
   "source": [
    "import math\n",
    "\n",
    "X = math.isqrt(10)\n",
    "print(X)"
   ]
  },
  {
   "cell_type": "code",
   "execution_count": 38,
   "id": "1bba083b",
   "metadata": {},
   "outputs": [
    {
     "name": "stdout",
     "output_type": "stream",
     "text": [
      "Enter and whole number below and the program will tell you if it is prime or not.\n",
      "9\n",
      "False\n"
     ]
    }
   ],
   "source": [
    "import math\n",
    "\n",
    "def main(): \n",
    "    print(\"Enter and whole number below and the program will tell you if it is prime or not.\")\n",
    "    \n",
    "    user_num = int(input())\n",
    "    \n",
    "    print(is_prime(user_num))\n",
    "    \n",
    "def is_prime(num):\n",
    "    \n",
    "    #We need to add one to the integer square root because that will mean the range will include the real value\n",
    "    max_divisor = math.isqrt(num) + 1\n",
    "    \n",
    "    #We can set the floor of the range to 3 because the any number that is 3 or is lower than 3 is prime. \n",
    "    #We can also set the step rate to 2 because all even numbers are automatically not prime.\n",
    "    for divisor in range(3, max_divisor, 2):\n",
    "        if num % divisor == 0:\n",
    "            return False\n",
    "        else:\n",
    "            return True \n",
    "main()"
   ]
  },
  {
   "cell_type": "code",
   "execution_count": 39,
   "id": "e6327411",
   "metadata": {},
   "outputs": [
    {
     "name": "stdout",
     "output_type": "stream",
     "text": [
      "Enter and whole number below and the program will tell you if it is prime or not.\n",
      "3\n",
      "None\n"
     ]
    }
   ],
   "source": [
    "import math\n",
    "\n",
    "def main(): \n",
    "    print(\"Enter and whole number below and the program will tell you if it is prime or not.\")\n",
    "    \n",
    "    user_num = int(input())\n",
    "    \n",
    "    print(is_prime(user_num))\n",
    "    \n",
    "def is_prime(num):\n",
    "    \n",
    "    max_divisor = math.isqrt(num) + 1\n",
    "    \n",
    "    for divisor in range(3, max_divisor, 2):\n",
    "        if num % divisor == 0:\n",
    "            return False\n",
    "        else:\n",
    "            return True \n",
    "main()"
   ]
  },
  {
   "cell_type": "code",
   "execution_count": 40,
   "id": "583e237e",
   "metadata": {},
   "outputs": [
    {
     "name": "stdout",
     "output_type": "stream",
     "text": [
      "Enter and whole number below and the program will tell you if it is prime or not.\n",
      "7\n",
      "None\n"
     ]
    }
   ],
   "source": [
    "import math\n",
    "\n",
    "def main(): \n",
    "    print(\"Enter and whole number below and the program will tell you if it is prime or not.\")\n",
    "    \n",
    "    user_num = int(input())\n",
    "    \n",
    "    print(is_prime(user_num))\n",
    "    \n",
    "def is_prime(num):\n",
    "    \n",
    "    max_divisor = math.isqrt(num) + 1\n",
    "    \n",
    "    for divisor in range(3, max_divisor, 2):\n",
    "        if num % divisor == 0:\n",
    "            return False\n",
    "        else:\n",
    "            return True \n",
    "main()"
   ]
  },
  {
   "cell_type": "code",
   "execution_count": 41,
   "id": "ee8acae1",
   "metadata": {},
   "outputs": [
    {
     "name": "stdout",
     "output_type": "stream",
     "text": [
      "Enter and whole number below and the program will tell you if it is prime or not.\n",
      "21\n",
      "False\n"
     ]
    }
   ],
   "source": [
    "import math\n",
    "\n",
    "def main(): \n",
    "    print(\"Enter and whole number below and the program will tell you if it is prime or not.\")\n",
    "    \n",
    "    user_num = int(input())\n",
    "    \n",
    "    print(is_prime(user_num))\n",
    "    \n",
    "def is_prime(num):\n",
    "    \n",
    "    max_divisor = math.isqrt(num) + 1\n",
    "    \n",
    "    for divisor in range(3, max_divisor, 2):\n",
    "        if num % divisor == 0:\n",
    "            return False\n",
    "        else:\n",
    "            return True \n",
    "main()"
   ]
  },
  {
   "cell_type": "markdown",
   "id": "5b0e6636",
   "metadata": {},
   "source": [
    "It seems like the loop does not work for numbers under 10 so I am going to add in some more if statements that test for numbers under 10."
   ]
  },
  {
   "cell_type": "code",
   "execution_count": 45,
   "id": "9cab9aa6",
   "metadata": {},
   "outputs": [
    {
     "name": "stdout",
     "output_type": "stream",
     "text": [
      "Enter and whole number below and the program will tell you if it is prime or not.\n",
      "6\n",
      "False\n"
     ]
    }
   ],
   "source": [
    "import math\n",
    "\n",
    "def main(): \n",
    "    print(\"Enter and whole number below and the program will tell you if it is prime or not.\")\n",
    "    \n",
    "    user_num = int(input())\n",
    "    \n",
    "    print(is_prime(user_num))\n",
    "    \n",
    "def is_prime(num):\n",
    "    \n",
    "    if num == 1:\n",
    "        return False\n",
    "    elif num == 2:\n",
    "        return True\n",
    "    elif num % 2 == 0:\n",
    "        return False\n",
    "    else:\n",
    "        return True \n",
    "\n",
    "    max_divisor = math.isqrt(num) + 1\n",
    "    for divisor in range(3, max_divisor, 2):\n",
    "        if num % divisor == 0:\n",
    "            return False\n",
    "        else:\n",
    "            return True \n",
    "main()"
   ]
  },
  {
   "cell_type": "code",
   "execution_count": 46,
   "id": "da5e7fac",
   "metadata": {},
   "outputs": [
    {
     "name": "stdout",
     "output_type": "stream",
     "text": [
      "Enter and whole number below and the program will tell you if it is prime or not.\n",
      "7\n",
      "True\n"
     ]
    }
   ],
   "source": [
    "import math\n",
    "\n",
    "def main(): \n",
    "    print(\"Enter and whole number below and the program will tell you if it is prime or not.\")\n",
    "    \n",
    "    user_num = int(input())\n",
    "    \n",
    "    print(is_prime(user_num))\n",
    "    \n",
    "def is_prime(num):\n",
    "    \n",
    "    if num == 1:\n",
    "        return False\n",
    "    elif num == 2:\n",
    "        return True\n",
    "    elif num % 2 == 0:\n",
    "        return False\n",
    "    else:\n",
    "        return True \n",
    "\n",
    "    max_divisor = math.isqrt(num) + 1\n",
    "    for divisor in range(3, max_divisor, 2):\n",
    "        if num % divisor == 0:\n",
    "            return False\n",
    "        else:\n",
    "            return True \n",
    "main()"
   ]
  },
  {
   "cell_type": "code",
   "execution_count": 47,
   "id": "80edd835",
   "metadata": {},
   "outputs": [
    {
     "name": "stdout",
     "output_type": "stream",
     "text": [
      "Enter and whole number below and the program will tell you if it is prime or not.\n",
      "9\n",
      "True\n"
     ]
    }
   ],
   "source": [
    "import math\n",
    "\n",
    "def main(): \n",
    "    print(\"Enter and whole number below and the program will tell you if it is prime or not.\")\n",
    "    \n",
    "    user_num = int(input())\n",
    "    \n",
    "    print(is_prime(user_num))\n",
    "    \n",
    "def is_prime(num):\n",
    "    \n",
    "    if num == 1:\n",
    "        return False\n",
    "    elif num == 2:\n",
    "        return True\n",
    "    elif num % 2 == 0:\n",
    "        return False\n",
    "    else:\n",
    "        return True \n",
    "\n",
    "    max_divisor = math.isqrt(num) + 1\n",
    "    for divisor in range(3, max_divisor, 2):\n",
    "        if num % divisor == 0:\n",
    "            return False\n",
    "        else:\n",
    "            return True \n",
    "main()"
   ]
  },
  {
   "cell_type": "markdown",
   "id": "ac28d302",
   "metadata": {},
   "source": [
    "Something still seems to be off, nine is not a prime number but the code is saying it is, I am going to try to find a way to fix this"
   ]
  },
  {
   "cell_type": "code",
   "execution_count": 54,
   "id": "a362f50e",
   "metadata": {},
   "outputs": [
    {
     "name": "stdout",
     "output_type": "stream",
     "text": [
      "Enter and whole number below and the program will tell you if it is prime or not.\n",
      "9\n",
      "True\n"
     ]
    }
   ],
   "source": [
    "import math\n",
    "\n",
    "def main(): \n",
    "    print(\"Enter and whole number below and the program will tell you if it is prime or not.\")\n",
    "    \n",
    "    user_num = int(input())\n",
    "    \n",
    "    print(is_prime(user_num))\n",
    "    \n",
    "def is_prime(num):\n",
    "    \n",
    "    if num == 1:\n",
    "        return False\n",
    "    elif num == 2:\n",
    "        return True\n",
    "    elif num % 2 == 0:\n",
    "        return False\n",
    "    else:\n",
    "        return True \n",
    "\n",
    "    max_divisor = math.isqrt(num) + 1\n",
    "    #I am putting this print function in for testing purposes\n",
    "    print(max_divisor)\n",
    "    for divisor in range(3, max_divisor, 2):\n",
    "        if num % divisor == 0:\n",
    "            return False\n",
    "        else:\n",
    "            return True \n",
    "main()"
   ]
  },
  {
   "cell_type": "markdown",
   "id": "9ea98b64",
   "metadata": {},
   "source": [
    "I think I know what is happening, my else return true statment right before the assignment of the max_divisor variable is making all of the code below it irrelivent. By removing it hopfully the code will work properly. "
   ]
  },
  {
   "cell_type": "code",
   "execution_count": 55,
   "id": "2280b942",
   "metadata": {},
   "outputs": [
    {
     "name": "stdout",
     "output_type": "stream",
     "text": [
      "Enter and whole number below and the program will tell you if it is prime or not.\n",
      "9\n",
      "4\n",
      "False\n"
     ]
    }
   ],
   "source": [
    "import math\n",
    "\n",
    "def main(): \n",
    "    print(\"Enter and whole number below and the program will tell you if it is prime or not.\")\n",
    "    \n",
    "    user_num = int(input())\n",
    "    \n",
    "    print(is_prime(user_num))\n",
    "    \n",
    "def is_prime(num):\n",
    "    \n",
    "    if num == 1:\n",
    "        return False\n",
    "    elif num == 2:\n",
    "        return True\n",
    "    elif num % 2 == 0:\n",
    "        return False\n",
    "\n",
    "    max_divisor = math.isqrt(num) + 1\n",
    "    #I am putting this print function in for testing purposes\n",
    "    print(max_divisor)\n",
    "    for divisor in range(3, max_divisor, 2):\n",
    "        if num % divisor == 0:\n",
    "            return False\n",
    "        else:\n",
    "            return True \n",
    "main()"
   ]
  },
  {
   "cell_type": "markdown",
   "id": "fde1814c",
   "metadata": {},
   "source": [
    "Exellent! now for a bit more testing."
   ]
  },
  {
   "cell_type": "code",
   "execution_count": 57,
   "id": "d12ed484",
   "metadata": {},
   "outputs": [
    {
     "name": "stdout",
     "output_type": "stream",
     "text": [
      "Enter and whole number below and the program will tell you if it is prime or not.\n",
      "7\n",
      "None\n"
     ]
    }
   ],
   "source": [
    "import math\n",
    "\n",
    "def main(): \n",
    "    print(\"Enter and whole number below and the program will tell you if it is prime or not.\")\n",
    "    \n",
    "    user_num = int(input())\n",
    "    \n",
    "    print(is_prime(user_num))\n",
    "    \n",
    "def is_prime(num):\n",
    "    \n",
    "    if num == 1:\n",
    "        return False\n",
    "    elif num == 2:\n",
    "        return True\n",
    "    elif num % 2 == 0:\n",
    "        return False\n",
    "\n",
    "    max_divisor = math.isqrt(num) + 1\n",
    "  \n",
    "    for divisor in range(3, max_divisor, 2):\n",
    "        if num % divisor == 0:\n",
    "            return False\n",
    "        else:\n",
    "            return True \n",
    "main()"
   ]
  },
  {
   "cell_type": "markdown",
   "id": "cc8e1635",
   "metadata": {},
   "source": [
    "I think I know what has happened here too; my else: return true statement at the end is not aligned with the rest of the if statement."
   ]
  },
  {
   "cell_type": "code",
   "execution_count": 58,
   "id": "ab8a06cd",
   "metadata": {},
   "outputs": [
    {
     "name": "stdout",
     "output_type": "stream",
     "text": [
      "Enter and whole number below and the program will tell you if it is prime or not.\n",
      "7\n",
      "True\n"
     ]
    }
   ],
   "source": [
    "import math\n",
    "\n",
    "def main(): \n",
    "    print(\"Enter and whole number below and the program will tell you if it is prime or not.\")\n",
    "    \n",
    "    user_num = int(input())\n",
    "    \n",
    "    print(is_prime(user_num))\n",
    "    \n",
    "def is_prime(num):\n",
    "    \n",
    "    if num == 1:\n",
    "        return False\n",
    "    elif num == 2:\n",
    "        return True\n",
    "    elif num % 2 == 0:\n",
    "        return False\n",
    "\n",
    "    max_divisor = math.isqrt(num) + 1\n",
    "  \n",
    "    for divisor in range(3, max_divisor, 2):\n",
    "        if num % divisor == 0:\n",
    "            return False\n",
    "    else:\n",
    "        return True \n",
    "main()"
   ]
  },
  {
   "cell_type": "markdown",
   "id": "2eba8158",
   "metadata": {},
   "source": [
    "That fixed that problem, now for more testing!"
   ]
  },
  {
   "cell_type": "code",
   "execution_count": 72,
   "id": "26f41658",
   "metadata": {},
   "outputs": [
    {
     "name": "stdout",
     "output_type": "stream",
     "text": [
      "Enter and whole number below and the program will tell you if it is prime or not.\n",
      "15\n",
      "False\n"
     ]
    }
   ],
   "source": [
    "import math\n",
    "\n",
    "def main(): \n",
    "    print(\"Enter and whole number below and the program will tell you if it is prime or not.\")\n",
    "    \n",
    "    user_num = int(input())\n",
    "    \n",
    "    print(is_prime(user_num))\n",
    "    \n",
    "def is_prime(num):\n",
    "    \n",
    "    if num == 1:\n",
    "        return False\n",
    "    elif num == 2:\n",
    "        return True\n",
    "    elif num % 2 == 0:\n",
    "        return False\n",
    "\n",
    "    max_divisor = math.isqrt(num) + 1\n",
    "  \n",
    "    for divisor in range(3, max_divisor, 2):\n",
    "        if num % divisor == 0:\n",
    "            return False\n",
    "    else:\n",
    "        return True \n",
    "main()"
   ]
  },
  {
   "cell_type": "markdown",
   "id": "efca933a",
   "metadata": {},
   "source": [
    "I am going to add a bit of code that tells the user that the number is prime or not rather than just saying \"True\" or \"False\""
   ]
  },
  {
   "cell_type": "code",
   "execution_count": 80,
   "id": "50d4e355",
   "metadata": {},
   "outputs": [
    {
     "name": "stdout",
     "output_type": "stream",
     "text": [
      "Enter and whole number below and the program will tell you if it is prime or not.\n",
      "21\n",
      "The number you entered is not prime\n"
     ]
    }
   ],
   "source": [
    "#This line imports the math module\n",
    "import math\n",
    "\n",
    "#This line defines the main function\n",
    "def main(): \n",
    "    #This diplays the directions for the user\n",
    "    print(\"Enter and whole number below and the program will tell you if it is prime or not.\")\n",
    "    \n",
    "    #This assignment assigns the variable 'user_num' the value of whatever whole number the user entered\n",
    "    user_num = int(input())\n",
    "    \n",
    "    #This if statment will say display 'The number you entered is prime' if the function 'is_prime' is true. \n",
    "    if is_prime(user_num) is True:\n",
    "        #This displays 'The number you entered is prime'\n",
    "        print('The number you entered is prime')\n",
    "    #if is_prime is false then it displays the print function below\n",
    "    else:\n",
    "        #This displays \"The number you entered is not prime\"\n",
    "        print('The number you entered is not prime')\n",
    "\n",
    "#This line defines the function 'is_prime'\n",
    "def is_prime(num):\n",
    "    \n",
    "    #If the variable 'num' equals 1 then the function returns false\n",
    "    if num == 1:\n",
    "        #This line returns false if the if statement above is true\n",
    "        return False\n",
    "    #If the variable 'num' equals 2 then the function returns true\n",
    "    elif num == 2:\n",
    "        #This line returns True if the if statement above is true\n",
    "        return True\n",
    "    #If the variable 'num' divided by 2 has a remander that equals 0 then the function returns false\n",
    "    elif num % 2 == 0:\n",
    "        #This line returns false if the if statement above is true\n",
    "        return False\n",
    "    \n",
    "    #This assignment assigns the variable \"max_divisor\" the value of the variable num's square root +1\n",
    "    max_divisor = math.isqrt(num) + 1\n",
    "    \n",
    "    #This loop will repeat with a range of 3 to the value of 'max_divisor' in incriments of 2\n",
    "    for divisor in range(3, max_divisor, 2):\n",
    "        #If the remander of dividing the variable 'num' by the variable 'divisor' equals 0 then the function returns false\n",
    "        if num % divisor == 0:\n",
    "            #This line returns false if the if statement above is true\n",
    "            return False\n",
    "    #if none of the above is true then return true\n",
    "    else:\n",
    "        #This line returns True if the if statement above is true\n",
    "        return True \n",
    "#This line calls the main function\n",
    "main()"
   ]
  },
  {
   "cell_type": "markdown",
   "id": "5ccdbf41",
   "metadata": {},
   "source": [
    "I tested about 15 other numbers and I think the code is working as it should. As I said I did use Chat GPT as a reference, and helped me make the FOR loop at the bottom of the code. "
   ]
  },
  {
   "cell_type": "markdown",
   "id": "c8a9c083",
   "metadata": {},
   "source": [
    "## Programming Exercises - Number 17"
   ]
  },
  {
   "cell_type": "markdown",
   "id": "206431bd",
   "metadata": {},
   "source": [
    "This question asks:\n",
    "\n",
    "This exercise assumes that you have already written the is_prime function in Programming Exercise 16. Write another program that displays all of the prime numbers from 1 to 100. The program should have a loop that calls the is_prime function."
   ]
  },
  {
   "cell_type": "markdown",
   "id": "7c4772aa",
   "metadata": {},
   "source": [
    "To do this problem I am going to have to use the is_prime function that I have already wrote in the last problem, and I am going to have to us another loop that calls apon it."
   ]
  },
  {
   "cell_type": "markdown",
   "id": "8b65b07a",
   "metadata": {},
   "source": [
    "First I will make a For loop that calls apon the is_prime function and prints the number if it is prime. "
   ]
  },
  {
   "cell_type": "code",
   "execution_count": 84,
   "id": "83fe5f6b",
   "metadata": {},
   "outputs": [
    {
     "name": "stdout",
     "output_type": "stream",
     "text": [
      "2\n",
      "3\n",
      "5\n",
      "7\n",
      "11\n",
      "13\n",
      "17\n",
      "19\n",
      "23\n",
      "29\n",
      "31\n",
      "37\n",
      "41\n",
      "43\n",
      "47\n",
      "53\n",
      "59\n",
      "61\n",
      "67\n",
      "71\n",
      "73\n",
      "79\n",
      "83\n",
      "89\n",
      "97\n"
     ]
    }
   ],
   "source": [
    "def main():\n",
    "    \n",
    "    #I am typing this before I run this code, but if this works I will be astonished\n",
    "    \n",
    "    for count in range(1,100):\n",
    "        if is_prime(count) is True:\n",
    "            print(count)\n",
    "        \n",
    "def is_prime(num):\n",
    "    \n",
    "    if num == 1:\n",
    "        return False\n",
    "    elif num == 2:\n",
    "        return True\n",
    "    elif num % 2 == 0:\n",
    "        return False\n",
    "\n",
    "    max_divisor = math.isqrt(num) + 1\n",
    "  \n",
    "    for divisor in range(3, max_divisor, 2):\n",
    "        if num % divisor == 0:\n",
    "            return False\n",
    "    else:\n",
    "        return True \n",
    "    \n",
    "main()"
   ]
  },
  {
   "cell_type": "markdown",
   "id": "17c80007",
   "metadata": {},
   "source": [
    "No way, I think that just worked first try!"
   ]
  },
  {
   "cell_type": "markdown",
   "id": "19c051b0",
   "metadata": {},
   "source": [
    "One little think I did miss though is that it is only repeating 99 times right now because I set the range to 100. So I am going to change the 100 to 101 to finish off this problem!"
   ]
  },
  {
   "cell_type": "code",
   "execution_count": 86,
   "id": "4b4bf5a4",
   "metadata": {},
   "outputs": [
    {
     "name": "stdout",
     "output_type": "stream",
     "text": [
      "2\n",
      "3\n",
      "5\n",
      "7\n",
      "11\n",
      "13\n",
      "17\n",
      "19\n",
      "23\n",
      "29\n",
      "31\n",
      "37\n",
      "41\n",
      "43\n",
      "47\n",
      "53\n",
      "59\n",
      "61\n",
      "67\n",
      "71\n",
      "73\n",
      "79\n",
      "83\n",
      "89\n",
      "97\n"
     ]
    }
   ],
   "source": [
    "#This defines the \"main\" function\n",
    "def main():\n",
    "    \n",
    "    #This FOR loop will repeat 100 times\n",
    "    for count in range(1,101):\n",
    "        #if the the function 'is_prime' is true with the argument with a value of 'count' then the number is displayed\n",
    "        if is_prime(count) is True:\n",
    "            #If the above statement is true then the number is printed\n",
    "            print(count)\n",
    "        \n",
    "#This line defines the function 'is_prime'\n",
    "def is_prime(num):\n",
    "    \n",
    "    #If the variable 'num' equals 1 then the function returns false\n",
    "    if num == 1:\n",
    "        #This line returns false if the if statement above is true\n",
    "        return False\n",
    "    #If the variable 'num' equals 2 then the function returns true\n",
    "    elif num == 2:\n",
    "        #This line returns True if the if statement above is true\n",
    "        return True\n",
    "    #If the variable 'num' divided by 2 has a remander that equals 0 then the function returns false\n",
    "    elif num % 2 == 0:\n",
    "        #This line returns false if the if statement above is true\n",
    "        return False\n",
    "    \n",
    "    #This assignment assigns the variable \"max_divisor\" the value of the variable num's square root +1\n",
    "    max_divisor = math.isqrt(num) + 1\n",
    "    \n",
    "    #This loop will repeat with a range of 3 to the value of 'max_divisor' in incriments of 2\n",
    "    for divisor in range(3, max_divisor, 2):\n",
    "        #If the remander of dividing the variable 'num' by the variable 'divisor' equals 0 then the function returns false\n",
    "        if num % divisor == 0:\n",
    "            #This line returns false if the if statement above is true\n",
    "            return False\n",
    "    #if none of the above is true then return true\n",
    "    else:\n",
    "        #This line returns True if the if statement above is true\n",
    "        return True \n",
    "#This line calls the main function\n",
    "main()"
   ]
  },
  {
   "cell_type": "markdown",
   "id": "87fec923",
   "metadata": {},
   "source": [
    "## Programming Exercises - Number 19"
   ]
  },
  {
   "cell_type": "markdown",
   "id": "80f394b0",
   "metadata": {},
   "source": [
    "This question asks:\n",
    "\n",
    "Write a program that generates a random number in the range of 1 through 100, and asks the user to guess what the number is. If the user’s guess is higher than the random number, the program should display “Too high, try again.” If the user’s guess is lower than the random number, the program should display “Too low, try again.” If the user guesses the number, the application should congratulate the user and generate a new random number so the game can start over.\n",
    "\n",
    "Optional Enhancement: Enhance the game so it keeps count of the number of guesses that the user makes. When the user correctly guesses the random number, the program should display the number of guesses."
   ]
  },
  {
   "cell_type": "markdown",
   "id": "2b1299f6",
   "metadata": {},
   "source": [
    "To complete this problem I am going to need to use a loop function, and import the random module. I am also going to have to use input functions, print functions, and if-else statements. "
   ]
  },
  {
   "cell_type": "markdown",
   "id": "6793222b",
   "metadata": {},
   "source": [
    "To start I will give the user some directions."
   ]
  },
  {
   "cell_type": "code",
   "execution_count": 87,
   "id": "377e5d79",
   "metadata": {},
   "outputs": [
    {
     "name": "stdout",
     "output_type": "stream",
     "text": [
      "A random number has been generated, use the box below to guess the number!\n",
      "\n",
      "If you guess below the number the program will tell you to guess higher.\n",
      "If you guess above the number the program will tell you to guess lower.\n"
     ]
    }
   ],
   "source": [
    "def main():\n",
    "    directions()\n",
    "\n",
    "    \n",
    "#I decided to put the directions in its own function to de-clutter the main function. \n",
    "def directions():\n",
    "    print('A random number has been generated, use the box below to guess the number!')\n",
    "    print()\n",
    "    print('If you guess below the number the program will tell you to guess higher.')\n",
    "    print('If you guess above the number the program will tell you to guess lower.')\n",
    "\n",
    "main()"
   ]
  },
  {
   "cell_type": "markdown",
   "id": "e65d51a1",
   "metadata": {},
   "source": [
    "OK, now I will generate the random number"
   ]
  },
  {
   "cell_type": "code",
   "execution_count": 90,
   "id": "706a5639",
   "metadata": {},
   "outputs": [
    {
     "name": "stdout",
     "output_type": "stream",
     "text": [
      "A random number between 1 and 100 has been generated, use the box below to guess the number!\n",
      "\n",
      "If you guess below the number the program will tell you to guess higher.\n",
      "If you guess above the number the program will tell you to guess lower.\n",
      "99\n"
     ]
    }
   ],
   "source": [
    "import random\n",
    "\n",
    "def main():\n",
    "    directions()\n",
    "    num = random.randint(1,100)\n",
    "    print(num)\n",
    "    \n",
    "def directions():\n",
    "    #I forgot to add that the number was between 1 and 100\n",
    "    print('A random number between 1 and 100 has been generated, use the box below to guess the number!')\n",
    "    print()\n",
    "    print('If you guess below the number the program will tell you to guess higher.')\n",
    "    print('If you guess above the number the program will tell you to guess lower.')\n",
    "\n",
    "main()"
   ]
  },
  {
   "cell_type": "markdown",
   "id": "7cea5a5a",
   "metadata": {},
   "source": [
    "Next I will add in the input function, some if-else statements and a loop."
   ]
  },
  {
   "cell_type": "code",
   "execution_count": 95,
   "id": "6ab4ae00",
   "metadata": {},
   "outputs": [
    {
     "name": "stdout",
     "output_type": "stream",
     "text": [
      "A random number between 1 and 100 has been generated, use the box below to guess the number!\n",
      "\n",
      "If you guess below the number the program will tell you to guess higher.\n",
      "If you guess above the number the program will tell you to guess lower.\n"
     ]
    },
    {
     "ename": "KeyboardInterrupt",
     "evalue": "Interrupted by user",
     "output_type": "error",
     "traceback": [
      "\u001b[1;31m---------------------------------------------------------------------------\u001b[0m",
      "\u001b[1;31mKeyboardInterrupt\u001b[0m                         Traceback (most recent call last)",
      "Cell \u001b[1;32mIn[95], line 25\u001b[0m\n\u001b[0;32m     22\u001b[0m     \u001b[38;5;28mprint\u001b[39m(\u001b[38;5;124m'\u001b[39m\u001b[38;5;124mIf you guess below the number the program will tell you to guess higher.\u001b[39m\u001b[38;5;124m'\u001b[39m)\n\u001b[0;32m     23\u001b[0m     \u001b[38;5;28mprint\u001b[39m(\u001b[38;5;124m'\u001b[39m\u001b[38;5;124mIf you guess above the number the program will tell you to guess lower.\u001b[39m\u001b[38;5;124m'\u001b[39m)\n\u001b[1;32m---> 25\u001b[0m main()\n",
      "Cell \u001b[1;32mIn[95], line 7\u001b[0m, in \u001b[0;36mmain\u001b[1;34m()\u001b[0m\n\u001b[0;32m      4\u001b[0m directions()\n\u001b[0;32m      5\u001b[0m num \u001b[38;5;241m=\u001b[39m random\u001b[38;5;241m.\u001b[39mrandint(\u001b[38;5;241m1\u001b[39m,\u001b[38;5;241m100\u001b[39m)\n\u001b[1;32m----> 7\u001b[0m guess \u001b[38;5;241m=\u001b[39m \u001b[38;5;28mint\u001b[39m(\u001b[38;5;28minput\u001b[39m())\n\u001b[0;32m      8\u001b[0m \u001b[38;5;28;01mwhile\u001b[39;00m guess \u001b[38;5;241m!=\u001b[39m num:\n\u001b[0;32m      9\u001b[0m     \u001b[38;5;28;01mif\u001b[39;00m guess \u001b[38;5;241m>\u001b[39m num:\n",
      "File \u001b[1;32m~\\anaconda3\\Lib\\site-packages\\ipykernel\\kernelbase.py:1202\u001b[0m, in \u001b[0;36mKernel.raw_input\u001b[1;34m(self, prompt)\u001b[0m\n\u001b[0;32m   1200\u001b[0m     msg \u001b[38;5;241m=\u001b[39m \u001b[38;5;124m\"\u001b[39m\u001b[38;5;124mraw_input was called, but this frontend does not support input requests.\u001b[39m\u001b[38;5;124m\"\u001b[39m\n\u001b[0;32m   1201\u001b[0m     \u001b[38;5;28;01mraise\u001b[39;00m StdinNotImplementedError(msg)\n\u001b[1;32m-> 1202\u001b[0m \u001b[38;5;28;01mreturn\u001b[39;00m \u001b[38;5;28mself\u001b[39m\u001b[38;5;241m.\u001b[39m_input_request(\n\u001b[0;32m   1203\u001b[0m     \u001b[38;5;28mstr\u001b[39m(prompt),\n\u001b[0;32m   1204\u001b[0m     \u001b[38;5;28mself\u001b[39m\u001b[38;5;241m.\u001b[39m_parent_ident[\u001b[38;5;124m\"\u001b[39m\u001b[38;5;124mshell\u001b[39m\u001b[38;5;124m\"\u001b[39m],\n\u001b[0;32m   1205\u001b[0m     \u001b[38;5;28mself\u001b[39m\u001b[38;5;241m.\u001b[39mget_parent(\u001b[38;5;124m\"\u001b[39m\u001b[38;5;124mshell\u001b[39m\u001b[38;5;124m\"\u001b[39m),\n\u001b[0;32m   1206\u001b[0m     password\u001b[38;5;241m=\u001b[39m\u001b[38;5;28;01mFalse\u001b[39;00m,\n\u001b[0;32m   1207\u001b[0m )\n",
      "File \u001b[1;32m~\\anaconda3\\Lib\\site-packages\\ipykernel\\kernelbase.py:1245\u001b[0m, in \u001b[0;36mKernel._input_request\u001b[1;34m(self, prompt, ident, parent, password)\u001b[0m\n\u001b[0;32m   1242\u001b[0m \u001b[38;5;28;01mexcept\u001b[39;00m \u001b[38;5;167;01mKeyboardInterrupt\u001b[39;00m:\n\u001b[0;32m   1243\u001b[0m     \u001b[38;5;66;03m# re-raise KeyboardInterrupt, to truncate traceback\u001b[39;00m\n\u001b[0;32m   1244\u001b[0m     msg \u001b[38;5;241m=\u001b[39m \u001b[38;5;124m\"\u001b[39m\u001b[38;5;124mInterrupted by user\u001b[39m\u001b[38;5;124m\"\u001b[39m\n\u001b[1;32m-> 1245\u001b[0m     \u001b[38;5;28;01mraise\u001b[39;00m \u001b[38;5;167;01mKeyboardInterrupt\u001b[39;00m(msg) \u001b[38;5;28;01mfrom\u001b[39;00m \u001b[38;5;28;01mNone\u001b[39;00m\n\u001b[0;32m   1246\u001b[0m \u001b[38;5;28;01mexcept\u001b[39;00m \u001b[38;5;167;01mException\u001b[39;00m:\n\u001b[0;32m   1247\u001b[0m     \u001b[38;5;28mself\u001b[39m\u001b[38;5;241m.\u001b[39mlog\u001b[38;5;241m.\u001b[39mwarning(\u001b[38;5;124m\"\u001b[39m\u001b[38;5;124mInvalid Message:\u001b[39m\u001b[38;5;124m\"\u001b[39m, exc_info\u001b[38;5;241m=\u001b[39m\u001b[38;5;28;01mTrue\u001b[39;00m)\n",
      "\u001b[1;31mKeyboardInterrupt\u001b[0m: Interrupted by user"
     ]
    }
   ],
   "source": [
    "import random\n",
    "\n",
    "def main():\n",
    "    directions()\n",
    "    num = random.randint(1,100)\n",
    "    \n",
    "    guess = int(input())\n",
    "    while guess != num:\n",
    "        if guess > num:\n",
    "            print('Too high, try again.')\n",
    "        elif guess < num:\n",
    "            print('Too low, try again.')\n",
    "    print('Congratulations you guessed right!')\n",
    "    \n",
    "    \n",
    "def directions():\n",
    "    #I forgot to add that the number was between 1 and 100\n",
    "    print('A random number between 1 and 100 has been generated, use the box below to guess the number!')\n",
    "    print()\n",
    "    print('If you guess below the number the program will tell you to guess higher.')\n",
    "    print('If you guess above the number the program will tell you to guess lower.')\n",
    "\n",
    "main()"
   ]
  },
  {
   "cell_type": "markdown",
   "id": "fd93aef3",
   "metadata": {},
   "source": [
    "I wont run the above code because it creates an infinite loop. Needless to say I am going to have to find a way to fix that."
   ]
  },
  {
   "cell_type": "code",
   "execution_count": 96,
   "id": "44be33f0",
   "metadata": {},
   "outputs": [
    {
     "name": "stdout",
     "output_type": "stream",
     "text": [
      "A random number between 1 and 100 has been generated, use the box below to guess the number!\n",
      "\n",
      "If you guess below the number the program will tell you to guess higher.\n",
      "If you guess above the number the program will tell you to guess lower.\n",
      "30\n",
      "Too low, try again.\n",
      "50\n",
      "Too low, try again.\n",
      "80\n",
      "Too low, try again.\n",
      "90\n",
      "Too high, try again.\n",
      "85\n",
      "Too high, try again.\n",
      "82\n",
      "Too low, try again.\n",
      "83\n",
      "Too low, try again.\n",
      "84\n",
      "Congratulations you guessed right!\n"
     ]
    }
   ],
   "source": [
    "import random\n",
    "\n",
    "def main():\n",
    "    directions()\n",
    "    num = random.randint(1,100)\n",
    "    \n",
    "    guess = int(input())\n",
    "    while guess != num:\n",
    "        if guess > num:\n",
    "            print('Too high, try again.')\n",
    "            #I think adding these input statements should fix it!\n",
    "            guess = int(input())\n",
    "        elif guess < num:\n",
    "            print('Too low, try again.')\n",
    "            #I think adding these input statements should fix it!\n",
    "            guess = int(input())\n",
    "    print('Congratulations you guessed right!')\n",
    "    \n",
    "    \n",
    "def directions():\n",
    "    #I forgot to add that the number was between 1 and 100\n",
    "    print('A random number between 1 and 100 has been generated, use the box below to guess the number!')\n",
    "    print()\n",
    "    print('If you guess below the number the program will tell you to guess higher.')\n",
    "    print('If you guess above the number the program will tell you to guess lower.')\n",
    "\n",
    "main()"
   ]
  },
  {
   "cell_type": "markdown",
   "id": "0310309e",
   "metadata": {},
   "source": [
    "That seems to be working very well so far! Now I am going to try to add in the counter that the optional section mentions. "
   ]
  },
  {
   "cell_type": "code",
   "execution_count": 97,
   "id": "909087a2",
   "metadata": {},
   "outputs": [
    {
     "name": "stdout",
     "output_type": "stream",
     "text": [
      "A random number between 1 and 100 has been generated, use the box below to guess the number!\n",
      "\n",
      "If you guess below the number the program will tell you to guess higher.\n",
      "If you guess above the number the program will tell you to guess lower.\n",
      "20\n"
     ]
    },
    {
     "ename": "UnboundLocalError",
     "evalue": "cannot access local variable 'count' where it is not associated with a value",
     "output_type": "error",
     "traceback": [
      "\u001b[1;31m---------------------------------------------------------------------------\u001b[0m",
      "\u001b[1;31mUnboundLocalError\u001b[0m                         Traceback (most recent call last)",
      "Cell \u001b[1;32mIn[97], line 26\u001b[0m\n\u001b[0;32m     23\u001b[0m     \u001b[38;5;28mprint\u001b[39m(\u001b[38;5;124m'\u001b[39m\u001b[38;5;124mIf you guess below the number the program will tell you to guess higher.\u001b[39m\u001b[38;5;124m'\u001b[39m)\n\u001b[0;32m     24\u001b[0m     \u001b[38;5;28mprint\u001b[39m(\u001b[38;5;124m'\u001b[39m\u001b[38;5;124mIf you guess above the number the program will tell you to guess lower.\u001b[39m\u001b[38;5;124m'\u001b[39m)\n\u001b[1;32m---> 26\u001b[0m main()\n",
      "Cell \u001b[1;32mIn[97], line 14\u001b[0m, in \u001b[0;36mmain\u001b[1;34m()\u001b[0m\n\u001b[0;32m     12\u001b[0m     guess \u001b[38;5;241m=\u001b[39m \u001b[38;5;28mint\u001b[39m(\u001b[38;5;28minput\u001b[39m())\n\u001b[0;32m     13\u001b[0m \u001b[38;5;28;01melif\u001b[39;00m guess \u001b[38;5;241m<\u001b[39m num:\n\u001b[1;32m---> 14\u001b[0m     count \u001b[38;5;241m+\u001b[39m\u001b[38;5;241m=\u001b[39m \u001b[38;5;241m1\u001b[39m\n\u001b[0;32m     15\u001b[0m     \u001b[38;5;28mprint\u001b[39m(\u001b[38;5;124m'\u001b[39m\u001b[38;5;124mToo low, try again.\u001b[39m\u001b[38;5;124m'\u001b[39m)\n\u001b[0;32m     16\u001b[0m     guess \u001b[38;5;241m=\u001b[39m \u001b[38;5;28mint\u001b[39m(\u001b[38;5;28minput\u001b[39m())\n",
      "\u001b[1;31mUnboundLocalError\u001b[0m: cannot access local variable 'count' where it is not associated with a value"
     ]
    }
   ],
   "source": [
    "import random\n",
    "\n",
    "def main():\n",
    "    directions()\n",
    "    num = random.randint(1,100)\n",
    "    \n",
    "    guess = int(input())\n",
    "    while guess != num:\n",
    "        if guess > num:\n",
    "            count += 1\n",
    "            print('Too high, try again.')\n",
    "            guess = int(input())\n",
    "        elif guess < num:\n",
    "            count += 1\n",
    "            print('Too low, try again.')\n",
    "            guess = int(input())\n",
    "    print(f'Congratulations you guessed the correct number in only {count} guesses!')\n",
    "    \n",
    "    \n",
    "def directions():\n",
    "    print('A random number between 1 and 100 has been generated, use the box below to guess the number!')\n",
    "    print()\n",
    "    print('If you guess below the number the program will tell you to guess higher.')\n",
    "    print('If you guess above the number the program will tell you to guess lower.')\n",
    "\n",
    "main()"
   ]
  },
  {
   "cell_type": "markdown",
   "id": "ee693341",
   "metadata": {},
   "source": [
    "Oops I forgot to assign 'count' a value "
   ]
  },
  {
   "cell_type": "code",
   "execution_count": 98,
   "id": "12d98bae",
   "metadata": {},
   "outputs": [
    {
     "name": "stdout",
     "output_type": "stream",
     "text": [
      "A random number between 1 and 100 has been generated, use the box below to guess the number!\n",
      "\n",
      "If you guess below the number the program will tell you to guess higher.\n",
      "If you guess above the number the program will tell you to guess lower.\n",
      "20\n",
      "Too low, try again.\n",
      "32\n",
      "Too low, try again.\n",
      "45\n",
      "Too low, try again.\n",
      "60\n",
      "Too high, try again.\n",
      "55\n",
      "Too high, try again.\n",
      "50\n",
      "Too high, try again.\n",
      "49\n",
      "Too high, try again.\n",
      "47\n",
      "Congratulations you guessed the correct number in only 7 guesses!\n"
     ]
    }
   ],
   "source": [
    "import random\n",
    "\n",
    "def main():\n",
    "    directions()\n",
    "    num = random.randint(1,100)\n",
    "    \n",
    "    guess = int(input())\n",
    "    \n",
    "    count=0\n",
    "    while guess != num:\n",
    "        if guess > num:\n",
    "            count += 1\n",
    "            print('Too high, try again.')\n",
    "            guess = int(input())\n",
    "        elif guess < num:\n",
    "            count += 1\n",
    "            print('Too low, try again.')\n",
    "            guess = int(input())\n",
    "    print(f'Congratulations you guessed the correct number in only {count} guesses!')\n",
    "    \n",
    "    \n",
    "def directions():\n",
    "    print('A random number between 1 and 100 has been generated, use the box below to guess the number!')\n",
    "    print()\n",
    "    print('If you guess below the number the program will tell you to guess higher.')\n",
    "    print('If you guess above the number the program will tell you to guess lower.')\n",
    "\n",
    "main()"
   ]
  },
  {
   "cell_type": "markdown",
   "id": "5603c6bf",
   "metadata": {},
   "source": [
    "Awesome! That seems to have worked great, but the count is off by 1 so I am going to assign the count variable 1 to start. "
   ]
  },
  {
   "cell_type": "code",
   "execution_count": 99,
   "id": "80644be3",
   "metadata": {},
   "outputs": [
    {
     "name": "stdout",
     "output_type": "stream",
     "text": [
      "A random number between 1 and 100 has been generated, use the box below to guess the number!\n",
      "\n",
      "If you guess below the number the program will tell you to guess higher.\n",
      "If you guess above the number the program will tell you to guess lower.\n",
      "90\n",
      "Too high, try again.\n",
      "50\n",
      "Too low, try again.\n",
      "7\n",
      "Too low, try again.\n",
      "75\n",
      "Too high, try again.\n",
      "60\n",
      "Too high, try again.\n",
      "55\n",
      "Too high, try again.\n",
      "52\n",
      "Too high, try again.\n",
      "51\n",
      "Congratulations you guessed the correct number in only 8 guesses!\n"
     ]
    }
   ],
   "source": [
    "import random\n",
    "\n",
    "def main():\n",
    "    directions()\n",
    "    num = random.randint(1,100)\n",
    "    \n",
    "    guess = int(input())\n",
    "    \n",
    "    count=1\n",
    "    while guess != num:\n",
    "        if guess > num:\n",
    "            count += 1\n",
    "            print('Too high, try again.')\n",
    "            guess = int(input())\n",
    "        elif guess < num:\n",
    "            count += 1\n",
    "            print('Too low, try again.')\n",
    "            guess = int(input())\n",
    "    print(f'Congratulations you guessed the correct number in only {count} guesses!')\n",
    "    \n",
    "    \n",
    "def directions():\n",
    "    print('A random number between 1 and 100 has been generated, use the box below to guess the number!')\n",
    "    print()\n",
    "    print('If you guess below the number the program will tell you to guess higher.')\n",
    "    print('If you guess above the number the program will tell you to guess lower.')\n",
    "\n",
    "main()"
   ]
  },
  {
   "cell_type": "markdown",
   "id": "459552a3",
   "metadata": {},
   "source": [
    "Pefect! Now I am going to try to clean up the code a bit if I can. "
   ]
  },
  {
   "cell_type": "code",
   "execution_count": 100,
   "id": "799fb964",
   "metadata": {},
   "outputs": [
    {
     "name": "stdout",
     "output_type": "stream",
     "text": [
      "A random number between 1 and 100 has been generated, use the box below to guess the number!\n",
      "\n",
      "If you guess below the number the program will tell you to guess higher.\n",
      "If you guess above the number the program will tell you to guess lower.\n",
      "50\n"
     ]
    },
    {
     "ename": "NameError",
     "evalue": "name 'num' is not defined",
     "output_type": "error",
     "traceback": [
      "\u001b[1;31m---------------------------------------------------------------------------\u001b[0m",
      "\u001b[1;31mNameError\u001b[0m                                 Traceback (most recent call last)",
      "Cell \u001b[1;32mIn[100], line 28\u001b[0m\n\u001b[0;32m     25\u001b[0m     \u001b[38;5;28mprint\u001b[39m(\u001b[38;5;124m'\u001b[39m\u001b[38;5;124mIf you guess below the number the program will tell you to guess higher.\u001b[39m\u001b[38;5;124m'\u001b[39m)\n\u001b[0;32m     26\u001b[0m     \u001b[38;5;28mprint\u001b[39m(\u001b[38;5;124m'\u001b[39m\u001b[38;5;124mIf you guess above the number the program will tell you to guess lower.\u001b[39m\u001b[38;5;124m'\u001b[39m)\n\u001b[1;32m---> 28\u001b[0m main()\n",
      "Cell \u001b[1;32mIn[100], line 7\u001b[0m, in \u001b[0;36mmain\u001b[1;34m()\u001b[0m\n\u001b[0;32m      5\u001b[0m num \u001b[38;5;241m=\u001b[39m random\u001b[38;5;241m.\u001b[39mrandint(\u001b[38;5;241m1\u001b[39m,\u001b[38;5;241m100\u001b[39m)\n\u001b[0;32m      6\u001b[0m user_guess \u001b[38;5;241m=\u001b[39m \u001b[38;5;28mint\u001b[39m(\u001b[38;5;28minput\u001b[39m())\n\u001b[1;32m----> 7\u001b[0m guess_checker(user_guess)\n",
      "Cell \u001b[1;32mIn[100], line 11\u001b[0m, in \u001b[0;36mguess_checker\u001b[1;34m(guess)\u001b[0m\n\u001b[0;32m      9\u001b[0m \u001b[38;5;28;01mdef\u001b[39;00m \u001b[38;5;21mguess_checker\u001b[39m(guess):\n\u001b[0;32m     10\u001b[0m     count\u001b[38;5;241m=\u001b[39m\u001b[38;5;241m1\u001b[39m\n\u001b[1;32m---> 11\u001b[0m     \u001b[38;5;28;01mwhile\u001b[39;00m guess \u001b[38;5;241m!=\u001b[39m num:\n\u001b[0;32m     12\u001b[0m         \u001b[38;5;28;01mif\u001b[39;00m guess \u001b[38;5;241m>\u001b[39m num:\n\u001b[0;32m     13\u001b[0m             count \u001b[38;5;241m+\u001b[39m\u001b[38;5;241m=\u001b[39m \u001b[38;5;241m1\u001b[39m\n",
      "\u001b[1;31mNameError\u001b[0m: name 'num' is not defined"
     ]
    }
   ],
   "source": [
    "import random\n",
    "\n",
    "def main():\n",
    "    directions()\n",
    "    num = random.randint(1,100)\n",
    "    user_guess = int(input())\n",
    "    guess_checker(user_guess)\n",
    "    \n",
    "def guess_checker(guess):\n",
    "    count=1\n",
    "    while guess != num:\n",
    "        if guess > num:\n",
    "            count += 1\n",
    "            print('Too high, try again.')\n",
    "            guess = int(input())\n",
    "        elif guess < num:\n",
    "            count += 1\n",
    "            print('Too low, try again.')\n",
    "            guess = int(input())\n",
    "    print(f'Congratulations you guessed the correct number in only {count} guesses!')\n",
    "\n",
    "def directions():\n",
    "    print('A random number between 1 and 100 has been generated, use the box below to guess the number!')\n",
    "    print()\n",
    "    print('If you guess below the number the program will tell you to guess higher.')\n",
    "    print('If you guess above the number the program will tell you to guess lower.')\n",
    "\n",
    "main()"
   ]
  },
  {
   "cell_type": "code",
   "execution_count": 101,
   "id": "439b7e53",
   "metadata": {},
   "outputs": [
    {
     "name": "stdout",
     "output_type": "stream",
     "text": [
      "A random number between 1 and 100 has been generated, use the box below to guess the number!\n",
      "\n",
      "If you guess below the number the program will tell you to guess higher.\n",
      "If you guess above the number the program will tell you to guess lower.\n",
      "20\n",
      "Too high, try again.\n",
      "7\n",
      "Too low, try again.\n",
      "12\n",
      "Too high, try again.\n",
      "10\n",
      "Too high, try again.\n",
      "9\n",
      "Too high, try again.\n",
      "8\n",
      "Congratulations you guessed the correct number in only 6 guesses!\n"
     ]
    }
   ],
   "source": [
    "import random\n",
    "\n",
    "def main():\n",
    "    directions()\n",
    "    num = random.randint(1,100)\n",
    "    user_guess = int(input())\n",
    "    guess_checker(user_guess,num)\n",
    "    \n",
    "def guess_checker(guess,num):\n",
    "    count=1\n",
    "    while guess != num:\n",
    "        if guess > num:\n",
    "            count += 1\n",
    "            print('Too high, try again.')\n",
    "            guess = int(input())\n",
    "        elif guess < num:\n",
    "            count += 1\n",
    "            print('Too low, try again.')\n",
    "            guess = int(input())\n",
    "    print(f'Congratulations you guessed the correct number in only {count} guesses!')\n",
    "\n",
    "def directions():\n",
    "    print('A random number between 1 and 100 has been generated, use the box below to guess the number!')\n",
    "    print()\n",
    "    print('If you guess below the number the program will tell you to guess higher.')\n",
    "    print('If you guess above the number the program will tell you to guess lower.')\n",
    "\n",
    "main()"
   ]
  },
  {
   "cell_type": "markdown",
   "id": "6695bfd5",
   "metadata": {},
   "source": [
    "I almost forgot that the game is supposed to restart when the player guesses correctly!"
   ]
  },
  {
   "cell_type": "markdown",
   "id": "bdcb3afb",
   "metadata": {},
   "source": [
    "I am going to need to create more functions and rework my code a bit to make that possible. "
   ]
  },
  {
   "cell_type": "code",
   "execution_count": 102,
   "id": "f1d0d99c",
   "metadata": {},
   "outputs": [
    {
     "name": "stdout",
     "output_type": "stream",
     "text": [
      "A random number between 1 and 100 has been generated, use the box below to guess the number!\n",
      "\n",
      "If you guess below the number the program will tell you to guess higher.\n",
      "If you guess above the number the program will tell you to guess lower.\n",
      "20\n",
      "Too high, try again.\n",
      "15\n",
      "Too high, try again.\n",
      "10\n",
      "Too low, try again.\n",
      "12\n",
      "Congratulations you guessed the correct number in only 4 guesses!\n"
     ]
    }
   ],
   "source": [
    "import random\n",
    "\n",
    "def main():\n",
    "    directions()\n",
    "    num = random_num()\n",
    "    user_guess = int(input())\n",
    "    guess_checker(user_guess,num)\n",
    "\n",
    "def random_num():\n",
    "    num = random.randint(1,100)\n",
    "    return num\n",
    "    \n",
    "def guess_checker(guess,num):\n",
    "    count=1\n",
    "    while guess != num:\n",
    "        if guess > num:\n",
    "            count += 1\n",
    "            print('Too high, try again.')\n",
    "            guess = int(input())\n",
    "        elif guess < num:\n",
    "            count += 1\n",
    "            print('Too low, try again.')\n",
    "            guess = int(input())\n",
    "    print(f'Congratulations you guessed the correct number in only {count} guesses!')\n",
    "\n",
    "def directions():\n",
    "    print('A random number between 1 and 100 has been generated, use the box below to guess the number!')\n",
    "    print()\n",
    "    print('If you guess below the number the program will tell you to guess higher.')\n",
    "    print('If you guess above the number the program will tell you to guess lower.')\n",
    "\n",
    "main()"
   ]
  },
  {
   "cell_type": "markdown",
   "id": "65dd2dfa",
   "metadata": {},
   "source": [
    "Great! Everything still works after that change, not I need to make a few changes to the guess checker so that it runs the main function again when the user has finished guessing."
   ]
  },
  {
   "cell_type": "code",
   "execution_count": 108,
   "id": "f59b25ff",
   "metadata": {},
   "outputs": [
    {
     "name": "stdout",
     "output_type": "stream",
     "text": [
      "A random number between 1 and 100 has been generated, use the box below to guess the number!\n",
      "\n",
      "If you guess below the number the program will tell you to guess higher.\n",
      "If you guess above the number the program will tell you to guess lower.\n",
      "50\n",
      "Too low, try again.\n",
      "80\n",
      "Too high, try again.\n",
      "75\n",
      "Too high, try again.\n",
      "70\n",
      "Congratulations you guessed the correct number in only 4 guesses!\n",
      "A random number between 1 and 100 has been generated, use the box below to guess the number!\n",
      "\n",
      "If you guess below the number the program will tell you to guess higher.\n",
      "If you guess above the number the program will tell you to guess lower.\n"
     ]
    },
    {
     "ename": "KeyboardInterrupt",
     "evalue": "Interrupted by user",
     "output_type": "error",
     "traceback": [
      "\u001b[1;31m---------------------------------------------------------------------------\u001b[0m",
      "\u001b[1;31mKeyboardInterrupt\u001b[0m                         Traceback (most recent call last)",
      "Cell \u001b[1;32mIn[108], line 33\u001b[0m\n\u001b[0;32m     30\u001b[0m     \u001b[38;5;28mprint\u001b[39m(\u001b[38;5;124m'\u001b[39m\u001b[38;5;124mIf you guess below the number the program will tell you to guess higher.\u001b[39m\u001b[38;5;124m'\u001b[39m)\n\u001b[0;32m     31\u001b[0m     \u001b[38;5;28mprint\u001b[39m(\u001b[38;5;124m'\u001b[39m\u001b[38;5;124mIf you guess above the number the program will tell you to guess lower.\u001b[39m\u001b[38;5;124m'\u001b[39m)\n\u001b[1;32m---> 33\u001b[0m main()\n",
      "Cell \u001b[1;32mIn[108], line 7\u001b[0m, in \u001b[0;36mmain\u001b[1;34m()\u001b[0m\n\u001b[0;32m      5\u001b[0m num \u001b[38;5;241m=\u001b[39m random_num()\n\u001b[0;32m      6\u001b[0m user_guess \u001b[38;5;241m=\u001b[39m \u001b[38;5;28mint\u001b[39m(\u001b[38;5;28minput\u001b[39m())\n\u001b[1;32m----> 7\u001b[0m guess_checker(user_guess,num)\n",
      "Cell \u001b[1;32mIn[108], line 25\u001b[0m, in \u001b[0;36mguess_checker\u001b[1;34m(guess, num)\u001b[0m\n\u001b[0;32m     23\u001b[0m         guess \u001b[38;5;241m=\u001b[39m \u001b[38;5;28mint\u001b[39m(\u001b[38;5;28minput\u001b[39m())\n\u001b[0;32m     24\u001b[0m \u001b[38;5;28mprint\u001b[39m(\u001b[38;5;124mf\u001b[39m\u001b[38;5;124m'\u001b[39m\u001b[38;5;124mCongratulations you guessed the correct number in only \u001b[39m\u001b[38;5;132;01m{\u001b[39;00mcount\u001b[38;5;132;01m}\u001b[39;00m\u001b[38;5;124m guesses!\u001b[39m\u001b[38;5;124m'\u001b[39m)\n\u001b[1;32m---> 25\u001b[0m main()\n",
      "Cell \u001b[1;32mIn[108], line 6\u001b[0m, in \u001b[0;36mmain\u001b[1;34m()\u001b[0m\n\u001b[0;32m      4\u001b[0m directions()\n\u001b[0;32m      5\u001b[0m num \u001b[38;5;241m=\u001b[39m random_num()\n\u001b[1;32m----> 6\u001b[0m user_guess \u001b[38;5;241m=\u001b[39m \u001b[38;5;28mint\u001b[39m(\u001b[38;5;28minput\u001b[39m())\n\u001b[0;32m      7\u001b[0m guess_checker(user_guess,num)\n",
      "File \u001b[1;32m~\\anaconda3\\Lib\\site-packages\\ipykernel\\kernelbase.py:1202\u001b[0m, in \u001b[0;36mKernel.raw_input\u001b[1;34m(self, prompt)\u001b[0m\n\u001b[0;32m   1200\u001b[0m     msg \u001b[38;5;241m=\u001b[39m \u001b[38;5;124m\"\u001b[39m\u001b[38;5;124mraw_input was called, but this frontend does not support input requests.\u001b[39m\u001b[38;5;124m\"\u001b[39m\n\u001b[0;32m   1201\u001b[0m     \u001b[38;5;28;01mraise\u001b[39;00m StdinNotImplementedError(msg)\n\u001b[1;32m-> 1202\u001b[0m \u001b[38;5;28;01mreturn\u001b[39;00m \u001b[38;5;28mself\u001b[39m\u001b[38;5;241m.\u001b[39m_input_request(\n\u001b[0;32m   1203\u001b[0m     \u001b[38;5;28mstr\u001b[39m(prompt),\n\u001b[0;32m   1204\u001b[0m     \u001b[38;5;28mself\u001b[39m\u001b[38;5;241m.\u001b[39m_parent_ident[\u001b[38;5;124m\"\u001b[39m\u001b[38;5;124mshell\u001b[39m\u001b[38;5;124m\"\u001b[39m],\n\u001b[0;32m   1205\u001b[0m     \u001b[38;5;28mself\u001b[39m\u001b[38;5;241m.\u001b[39mget_parent(\u001b[38;5;124m\"\u001b[39m\u001b[38;5;124mshell\u001b[39m\u001b[38;5;124m\"\u001b[39m),\n\u001b[0;32m   1206\u001b[0m     password\u001b[38;5;241m=\u001b[39m\u001b[38;5;28;01mFalse\u001b[39;00m,\n\u001b[0;32m   1207\u001b[0m )\n",
      "File \u001b[1;32m~\\anaconda3\\Lib\\site-packages\\ipykernel\\kernelbase.py:1245\u001b[0m, in \u001b[0;36mKernel._input_request\u001b[1;34m(self, prompt, ident, parent, password)\u001b[0m\n\u001b[0;32m   1242\u001b[0m \u001b[38;5;28;01mexcept\u001b[39;00m \u001b[38;5;167;01mKeyboardInterrupt\u001b[39;00m:\n\u001b[0;32m   1243\u001b[0m     \u001b[38;5;66;03m# re-raise KeyboardInterrupt, to truncate traceback\u001b[39;00m\n\u001b[0;32m   1244\u001b[0m     msg \u001b[38;5;241m=\u001b[39m \u001b[38;5;124m\"\u001b[39m\u001b[38;5;124mInterrupted by user\u001b[39m\u001b[38;5;124m\"\u001b[39m\n\u001b[1;32m-> 1245\u001b[0m     \u001b[38;5;28;01mraise\u001b[39;00m \u001b[38;5;167;01mKeyboardInterrupt\u001b[39;00m(msg) \u001b[38;5;28;01mfrom\u001b[39;00m \u001b[38;5;28;01mNone\u001b[39;00m\n\u001b[0;32m   1246\u001b[0m \u001b[38;5;28;01mexcept\u001b[39;00m \u001b[38;5;167;01mException\u001b[39;00m:\n\u001b[0;32m   1247\u001b[0m     \u001b[38;5;28mself\u001b[39m\u001b[38;5;241m.\u001b[39mlog\u001b[38;5;241m.\u001b[39mwarning(\u001b[38;5;124m\"\u001b[39m\u001b[38;5;124mInvalid Message:\u001b[39m\u001b[38;5;124m\"\u001b[39m, exc_info\u001b[38;5;241m=\u001b[39m\u001b[38;5;28;01mTrue\u001b[39;00m)\n",
      "\u001b[1;31mKeyboardInterrupt\u001b[0m: Interrupted by user"
     ]
    }
   ],
   "source": [
    "import random\n",
    "\n",
    "def main():\n",
    "    directions()\n",
    "    num = random_num()\n",
    "    user_guess = int(input())\n",
    "    guess_checker(user_guess,num)\n",
    "\n",
    "def random_num():\n",
    "    num = random.randint(1,100)\n",
    "    return num\n",
    "    \n",
    "def guess_checker(guess,num):\n",
    "    count=1\n",
    "    while guess != num:\n",
    "        if guess > num:\n",
    "            count += 1\n",
    "            print('Too high, try again.')\n",
    "            guess = int(input())\n",
    "        elif guess < num:\n",
    "            count += 1\n",
    "            print('Too low, try again.')\n",
    "            guess = int(input())\n",
    "    print(f'Congratulations you guessed the correct number in only {count} guesses!')\n",
    "    main() \n",
    "\n",
    "def directions():\n",
    "    print('A random number between 1 and 100 has been generated, use the box below to guess the number!')\n",
    "    print()\n",
    "    print('If you guess below the number the program will tell you to guess higher.')\n",
    "    print('If you guess above the number the program will tell you to guess lower.')\n",
    "\n",
    "main()"
   ]
  },
  {
   "cell_type": "markdown",
   "id": "624dcd61",
   "metadata": {},
   "source": [
    "That works but you have to play forever, so I am going to add in an input box that the user can use to stop the game or continue playing."
   ]
  },
  {
   "cell_type": "code",
   "execution_count": 109,
   "id": "c36aa32b",
   "metadata": {},
   "outputs": [
    {
     "name": "stdout",
     "output_type": "stream",
     "text": [
      "A random number between 1 and 100 has been generated, use the box below to guess the number!\n",
      "\n",
      "If you guess below the number the program will tell you to guess higher.\n",
      "If you guess above the number the program will tell you to guess lower.\n",
      "50\n",
      "Too low, try again.\n",
      "75\n",
      "Too high, try again.\n",
      "65\n",
      "Too high, try again.\n",
      "60\n",
      "Too high, try again.\n",
      "55\n",
      "Too low, try again.\n",
      "57\n",
      "Too low, try again.\n",
      "58\n",
      "Too low, try again.\n",
      "59\n",
      "Congratulations you guessed the correct number in only 8 guesses!\n",
      "Would you like to play again? (Y/N)y\n",
      "A random number between 1 and 100 has been generated, use the box below to guess the number!\n",
      "\n",
      "If you guess below the number the program will tell you to guess higher.\n",
      "If you guess above the number the program will tell you to guess lower.\n",
      "60\n",
      "Too low, try again.\n",
      "80\n",
      "Too low, try again.\n",
      "92\n",
      "Too low, try again.\n",
      "95\n",
      "Too low, try again.\n",
      "99\n",
      "Too high, try again.\n",
      "96\n",
      "Congratulations you guessed the correct number in only 6 guesses!\n",
      "Would you like to play again? (Y/N)N\n",
      "A random number between 1 and 100 has been generated, use the box below to guess the number!\n",
      "\n",
      "If you guess below the number the program will tell you to guess higher.\n",
      "If you guess above the number the program will tell you to guess lower.\n"
     ]
    },
    {
     "ename": "KeyboardInterrupt",
     "evalue": "Interrupted by user",
     "output_type": "error",
     "traceback": [
      "\u001b[1;31m---------------------------------------------------------------------------\u001b[0m",
      "\u001b[1;31mKeyboardInterrupt\u001b[0m                         Traceback (most recent call last)",
      "Cell \u001b[1;32mIn[109], line 40\u001b[0m\n\u001b[0;32m     37\u001b[0m     \u001b[38;5;28mprint\u001b[39m(\u001b[38;5;124m'\u001b[39m\u001b[38;5;124mIf you guess below the number the program will tell you to guess higher.\u001b[39m\u001b[38;5;124m'\u001b[39m)\n\u001b[0;32m     38\u001b[0m     \u001b[38;5;28mprint\u001b[39m(\u001b[38;5;124m'\u001b[39m\u001b[38;5;124mIf you guess above the number the program will tell you to guess lower.\u001b[39m\u001b[38;5;124m'\u001b[39m)\n\u001b[1;32m---> 40\u001b[0m main()\n",
      "Cell \u001b[1;32mIn[109], line 7\u001b[0m, in \u001b[0;36mmain\u001b[1;34m()\u001b[0m\n\u001b[0;32m      5\u001b[0m num \u001b[38;5;241m=\u001b[39m random_num()\n\u001b[0;32m      6\u001b[0m user_guess \u001b[38;5;241m=\u001b[39m \u001b[38;5;28mint\u001b[39m(\u001b[38;5;28minput\u001b[39m())\n\u001b[1;32m----> 7\u001b[0m guess_checker(user_guess,num)\n",
      "Cell \u001b[1;32mIn[109], line 25\u001b[0m, in \u001b[0;36mguess_checker\u001b[1;34m(guess, num)\u001b[0m\n\u001b[0;32m     23\u001b[0m         guess \u001b[38;5;241m=\u001b[39m \u001b[38;5;28mint\u001b[39m(\u001b[38;5;28minput\u001b[39m())\n\u001b[0;32m     24\u001b[0m \u001b[38;5;28mprint\u001b[39m(\u001b[38;5;124mf\u001b[39m\u001b[38;5;124m'\u001b[39m\u001b[38;5;124mCongratulations you guessed the correct number in only \u001b[39m\u001b[38;5;132;01m{\u001b[39;00mcount\u001b[38;5;132;01m}\u001b[39;00m\u001b[38;5;124m guesses!\u001b[39m\u001b[38;5;124m'\u001b[39m)\n\u001b[1;32m---> 25\u001b[0m keep_playing()\n",
      "Cell \u001b[1;32mIn[109], line 30\u001b[0m, in \u001b[0;36mkeep_playing\u001b[1;34m()\u001b[0m\n\u001b[0;32m     28\u001b[0m answer \u001b[38;5;241m=\u001b[39m \u001b[38;5;28minput\u001b[39m(\u001b[38;5;124m'\u001b[39m\u001b[38;5;124mWould you like to play again? (Y/N)\u001b[39m\u001b[38;5;124m'\u001b[39m)\n\u001b[0;32m     29\u001b[0m \u001b[38;5;28;01mif\u001b[39;00m answer \u001b[38;5;241m==\u001b[39m \u001b[38;5;124m'\u001b[39m\u001b[38;5;124my\u001b[39m\u001b[38;5;124m'\u001b[39m \u001b[38;5;129;01mor\u001b[39;00m \u001b[38;5;124m'\u001b[39m\u001b[38;5;124mY\u001b[39m\u001b[38;5;124m'\u001b[39m:\n\u001b[1;32m---> 30\u001b[0m     main()\n\u001b[0;32m     31\u001b[0m \u001b[38;5;28;01melse\u001b[39;00m:\n\u001b[0;32m     32\u001b[0m     \u001b[38;5;28mprint\u001b[39m(\u001b[38;5;124m'\u001b[39m\u001b[38;5;124mThanks for playing!\u001b[39m\u001b[38;5;124m'\u001b[39m)\n",
      "Cell \u001b[1;32mIn[109], line 7\u001b[0m, in \u001b[0;36mmain\u001b[1;34m()\u001b[0m\n\u001b[0;32m      5\u001b[0m num \u001b[38;5;241m=\u001b[39m random_num()\n\u001b[0;32m      6\u001b[0m user_guess \u001b[38;5;241m=\u001b[39m \u001b[38;5;28mint\u001b[39m(\u001b[38;5;28minput\u001b[39m())\n\u001b[1;32m----> 7\u001b[0m guess_checker(user_guess,num)\n",
      "Cell \u001b[1;32mIn[109], line 25\u001b[0m, in \u001b[0;36mguess_checker\u001b[1;34m(guess, num)\u001b[0m\n\u001b[0;32m     23\u001b[0m         guess \u001b[38;5;241m=\u001b[39m \u001b[38;5;28mint\u001b[39m(\u001b[38;5;28minput\u001b[39m())\n\u001b[0;32m     24\u001b[0m \u001b[38;5;28mprint\u001b[39m(\u001b[38;5;124mf\u001b[39m\u001b[38;5;124m'\u001b[39m\u001b[38;5;124mCongratulations you guessed the correct number in only \u001b[39m\u001b[38;5;132;01m{\u001b[39;00mcount\u001b[38;5;132;01m}\u001b[39;00m\u001b[38;5;124m guesses!\u001b[39m\u001b[38;5;124m'\u001b[39m)\n\u001b[1;32m---> 25\u001b[0m keep_playing()\n",
      "Cell \u001b[1;32mIn[109], line 30\u001b[0m, in \u001b[0;36mkeep_playing\u001b[1;34m()\u001b[0m\n\u001b[0;32m     28\u001b[0m answer \u001b[38;5;241m=\u001b[39m \u001b[38;5;28minput\u001b[39m(\u001b[38;5;124m'\u001b[39m\u001b[38;5;124mWould you like to play again? (Y/N)\u001b[39m\u001b[38;5;124m'\u001b[39m)\n\u001b[0;32m     29\u001b[0m \u001b[38;5;28;01mif\u001b[39;00m answer \u001b[38;5;241m==\u001b[39m \u001b[38;5;124m'\u001b[39m\u001b[38;5;124my\u001b[39m\u001b[38;5;124m'\u001b[39m \u001b[38;5;129;01mor\u001b[39;00m \u001b[38;5;124m'\u001b[39m\u001b[38;5;124mY\u001b[39m\u001b[38;5;124m'\u001b[39m:\n\u001b[1;32m---> 30\u001b[0m     main()\n\u001b[0;32m     31\u001b[0m \u001b[38;5;28;01melse\u001b[39;00m:\n\u001b[0;32m     32\u001b[0m     \u001b[38;5;28mprint\u001b[39m(\u001b[38;5;124m'\u001b[39m\u001b[38;5;124mThanks for playing!\u001b[39m\u001b[38;5;124m'\u001b[39m)\n",
      "Cell \u001b[1;32mIn[109], line 6\u001b[0m, in \u001b[0;36mmain\u001b[1;34m()\u001b[0m\n\u001b[0;32m      4\u001b[0m directions()\n\u001b[0;32m      5\u001b[0m num \u001b[38;5;241m=\u001b[39m random_num()\n\u001b[1;32m----> 6\u001b[0m user_guess \u001b[38;5;241m=\u001b[39m \u001b[38;5;28mint\u001b[39m(\u001b[38;5;28minput\u001b[39m())\n\u001b[0;32m      7\u001b[0m guess_checker(user_guess,num)\n",
      "File \u001b[1;32m~\\anaconda3\\Lib\\site-packages\\ipykernel\\kernelbase.py:1202\u001b[0m, in \u001b[0;36mKernel.raw_input\u001b[1;34m(self, prompt)\u001b[0m\n\u001b[0;32m   1200\u001b[0m     msg \u001b[38;5;241m=\u001b[39m \u001b[38;5;124m\"\u001b[39m\u001b[38;5;124mraw_input was called, but this frontend does not support input requests.\u001b[39m\u001b[38;5;124m\"\u001b[39m\n\u001b[0;32m   1201\u001b[0m     \u001b[38;5;28;01mraise\u001b[39;00m StdinNotImplementedError(msg)\n\u001b[1;32m-> 1202\u001b[0m \u001b[38;5;28;01mreturn\u001b[39;00m \u001b[38;5;28mself\u001b[39m\u001b[38;5;241m.\u001b[39m_input_request(\n\u001b[0;32m   1203\u001b[0m     \u001b[38;5;28mstr\u001b[39m(prompt),\n\u001b[0;32m   1204\u001b[0m     \u001b[38;5;28mself\u001b[39m\u001b[38;5;241m.\u001b[39m_parent_ident[\u001b[38;5;124m\"\u001b[39m\u001b[38;5;124mshell\u001b[39m\u001b[38;5;124m\"\u001b[39m],\n\u001b[0;32m   1205\u001b[0m     \u001b[38;5;28mself\u001b[39m\u001b[38;5;241m.\u001b[39mget_parent(\u001b[38;5;124m\"\u001b[39m\u001b[38;5;124mshell\u001b[39m\u001b[38;5;124m\"\u001b[39m),\n\u001b[0;32m   1206\u001b[0m     password\u001b[38;5;241m=\u001b[39m\u001b[38;5;28;01mFalse\u001b[39;00m,\n\u001b[0;32m   1207\u001b[0m )\n",
      "File \u001b[1;32m~\\anaconda3\\Lib\\site-packages\\ipykernel\\kernelbase.py:1245\u001b[0m, in \u001b[0;36mKernel._input_request\u001b[1;34m(self, prompt, ident, parent, password)\u001b[0m\n\u001b[0;32m   1242\u001b[0m \u001b[38;5;28;01mexcept\u001b[39;00m \u001b[38;5;167;01mKeyboardInterrupt\u001b[39;00m:\n\u001b[0;32m   1243\u001b[0m     \u001b[38;5;66;03m# re-raise KeyboardInterrupt, to truncate traceback\u001b[39;00m\n\u001b[0;32m   1244\u001b[0m     msg \u001b[38;5;241m=\u001b[39m \u001b[38;5;124m\"\u001b[39m\u001b[38;5;124mInterrupted by user\u001b[39m\u001b[38;5;124m\"\u001b[39m\n\u001b[1;32m-> 1245\u001b[0m     \u001b[38;5;28;01mraise\u001b[39;00m \u001b[38;5;167;01mKeyboardInterrupt\u001b[39;00m(msg) \u001b[38;5;28;01mfrom\u001b[39;00m \u001b[38;5;28;01mNone\u001b[39;00m\n\u001b[0;32m   1246\u001b[0m \u001b[38;5;28;01mexcept\u001b[39;00m \u001b[38;5;167;01mException\u001b[39;00m:\n\u001b[0;32m   1247\u001b[0m     \u001b[38;5;28mself\u001b[39m\u001b[38;5;241m.\u001b[39mlog\u001b[38;5;241m.\u001b[39mwarning(\u001b[38;5;124m\"\u001b[39m\u001b[38;5;124mInvalid Message:\u001b[39m\u001b[38;5;124m\"\u001b[39m, exc_info\u001b[38;5;241m=\u001b[39m\u001b[38;5;28;01mTrue\u001b[39;00m)\n",
      "\u001b[1;31mKeyboardInterrupt\u001b[0m: Interrupted by user"
     ]
    }
   ],
   "source": [
    "import random\n",
    "\n",
    "def main():\n",
    "    directions()\n",
    "    num = random_num()\n",
    "    user_guess = int(input())\n",
    "    guess_checker(user_guess,num)\n",
    "\n",
    "def random_num():\n",
    "    num = random.randint(1,100)\n",
    "    return num\n",
    "    \n",
    "def guess_checker(guess,num):\n",
    "    count=1\n",
    "    while guess != num:\n",
    "        if guess > num:\n",
    "            count += 1\n",
    "            print('Too high, try again.')\n",
    "            guess = int(input())\n",
    "        elif guess < num:\n",
    "            count += 1\n",
    "            print('Too low, try again.')\n",
    "            guess = int(input())\n",
    "    print(f'Congratulations you guessed the correct number in only {count} guesses!')\n",
    "    keep_playing()\n",
    "    \n",
    "def keep_playing():\n",
    "    answer = input('Would you like to play again? (Y/N)')\n",
    "    if answer == 'y' or 'Y':\n",
    "        main()\n",
    "    else:\n",
    "        print('Thanks for playing!')\n",
    "    \n",
    "def directions():\n",
    "    print('A random number between 1 and 100 has been generated, use the box below to guess the number!')\n",
    "    print()\n",
    "    print('If you guess below the number the program will tell you to guess higher.')\n",
    "    print('If you guess above the number the program will tell you to guess lower.')\n",
    "\n",
    "main()"
   ]
  },
  {
   "cell_type": "markdown",
   "id": "e5e2a013",
   "metadata": {},
   "source": [
    "For some reason it still wouldnt let me end the game, I am going to remove the or statement and see if that fixes it."
   ]
  },
  {
   "cell_type": "code",
   "execution_count": 117,
   "id": "99792d92",
   "metadata": {},
   "outputs": [
    {
     "name": "stdout",
     "output_type": "stream",
     "text": [
      "A random number between 1 and 100 has been generated, use the box below to guess the number!\n",
      "\n",
      "If you guess below the number the program will tell you to guess higher.\n",
      "If you guess above the number the program will tell you to guess lower.\n",
      "96\n",
      "96\n",
      "Congratulations you guessed the correct number in only 1 guesses!\n",
      "Would you like to play again? (Y/N)no\n",
      "Thanks for playing!\n"
     ]
    }
   ],
   "source": [
    "import random\n",
    "\n",
    "def main():\n",
    "    directions()\n",
    "    num = random_num()\n",
    "    \n",
    "    #Remove Later \n",
    "    print(num)\n",
    "    \n",
    "    user_guess = int(input())\n",
    "    guess_checker(user_guess,num)\n",
    "\n",
    "def random_num():\n",
    "    num = random.randint(1,100)\n",
    "    return num\n",
    "    \n",
    "def guess_checker(guess,num):\n",
    "    count=1\n",
    "    while guess != num:\n",
    "        if guess > num:\n",
    "            count += 1\n",
    "            print('Too high, try again.')\n",
    "            guess = int(input())\n",
    "        elif guess < num:\n",
    "            count += 1\n",
    "            print('Too low, try again.')\n",
    "            guess = int(input())\n",
    "    print(f'Congratulations you guessed the correct number in only {count} guesses!')\n",
    "    keep_playing()\n",
    "    \n",
    "def keep_playing():\n",
    "    answer = input('Would you like to play again? (Y/N)')\n",
    "    if answer == 'yes':\n",
    "        print('test')\n",
    "    if answer == 'no':\n",
    "        print('Thanks for playing!')\n",
    "    \n",
    "def directions():\n",
    "    print('A random number between 1 and 100 has been generated, use the box below to guess the number!')\n",
    "    print()\n",
    "    print('If you guess below the number the program will tell you to guess higher.')\n",
    "    print('If you guess above the number the program will tell you to guess lower.')\n",
    "\n",
    "main()"
   ]
  },
  {
   "cell_type": "markdown",
   "id": "efd8b4c5",
   "metadata": {},
   "source": [
    "That worked! now you can actually stop playing. "
   ]
  },
  {
   "cell_type": "code",
   "execution_count": 118,
   "id": "058459ae",
   "metadata": {},
   "outputs": [
    {
     "name": "stdout",
     "output_type": "stream",
     "text": [
      "A random number between 1 and 100 has been generated, use the box below to guess the number!\n",
      "\n",
      "If you guess below the number the program will tell you to guess higher.\n",
      "If you guess above the number the program will tell you to guess lower.\n",
      "36\n",
      "36\n",
      "Congratulations you guessed the correct number in only 1 guesses!\n",
      "Would you like to play again? (Y/N)yes\n",
      "test\n"
     ]
    }
   ],
   "source": [
    "import random\n",
    "\n",
    "def main():\n",
    "    directions()\n",
    "    num = random_num()\n",
    "    \n",
    "    #Remove Later \n",
    "    print(num)\n",
    "    \n",
    "    user_guess = int(input())\n",
    "    guess_checker(user_guess,num)\n",
    "\n",
    "def random_num():\n",
    "    num = random.randint(1,100)\n",
    "    return num\n",
    "    \n",
    "def guess_checker(guess,num):\n",
    "    count=1\n",
    "    while guess != num:\n",
    "        if guess > num:\n",
    "            count += 1\n",
    "            print('Too high, try again.')\n",
    "            guess = int(input())\n",
    "        elif guess < num:\n",
    "            count += 1\n",
    "            print('Too low, try again.')\n",
    "            guess = int(input())\n",
    "    print(f'Congratulations you guessed the correct number in only {count} guesses!')\n",
    "    keep_playing()\n",
    "    \n",
    "def keep_playing():\n",
    "    answer = input('Would you like to play again? (Y/N)')\n",
    "    if answer == 'yes':\n",
    "        print('test')\n",
    "    if answer == 'no':\n",
    "        print('Thanks for playing!')\n",
    "    \n",
    "def directions():\n",
    "    print('A random number between 1 and 100 has been generated, use the box below to guess the number!')\n",
    "    print()\n",
    "    print('If you guess below the number the program will tell you to guess higher.')\n",
    "    print('If you guess above the number the program will tell you to guess lower.')\n",
    "\n",
    "main()"
   ]
  },
  {
   "cell_type": "markdown",
   "id": "8e39097b",
   "metadata": {},
   "source": [
    "Now I am going to add in a check for invalid inputs"
   ]
  },
  {
   "cell_type": "code",
   "execution_count": 121,
   "id": "11568263",
   "metadata": {},
   "outputs": [
    {
     "name": "stdout",
     "output_type": "stream",
     "text": [
      "A random number between 1 and 100 has been generated, use the box below to guess the number!\n",
      "\n",
      "If you guess below the number the program will tell you to guess higher.\n",
      "If you guess above the number the program will tell you to guess lower.\n",
      "62\n",
      "62\n",
      "Congratulations you guessed the correct number in only 1 guesses!\n",
      "Would you like to play again? (Y/N)dawdwa\n",
      "invalid input.\n",
      "Would you like to play again? (Y/N)wadawd\n",
      "invalid input.\n",
      "Would you like to play again? (Y/N)awdawda\n",
      "invalid input.\n",
      "Would you like to play again? (Y/N)awdawda\n",
      "invalid input.\n",
      "Would you like to play again? (Y/N)wda\n",
      "invalid input.\n",
      "Would you like to play again? (Y/N)wd\n",
      "invalid input.\n",
      "Would you like to play again? (Y/N)d\n",
      "invalid input.\n",
      "Would you like to play again? (Y/N)aw\n",
      "invalid input.\n",
      "Would you like to play again? (Y/N)a\n",
      "invalid input.\n",
      "Would you like to play again? (Y/N)Y\n",
      "A random number between 1 and 100 has been generated, use the box below to guess the number!\n",
      "\n",
      "If you guess below the number the program will tell you to guess higher.\n",
      "If you guess above the number the program will tell you to guess lower.\n",
      "19\n",
      "19\n",
      "Congratulations you guessed the correct number in only 1 guesses!\n",
      "Would you like to play again? (Y/N)N\n",
      "Thanks for playing!\n"
     ]
    }
   ],
   "source": [
    "import random\n",
    "\n",
    "def main():\n",
    "    directions()\n",
    "    num = random_num()\n",
    "    \n",
    "    #Remove Later \n",
    "    print(num)\n",
    "    \n",
    "    user_guess = int(input())\n",
    "    guess_checker(user_guess,num)\n",
    "\n",
    "def random_num():\n",
    "    num = random.randint(1,100)\n",
    "    return num\n",
    "    \n",
    "def guess_checker(guess,num):\n",
    "    count=1\n",
    "    while guess != num:\n",
    "        if guess > num:\n",
    "            count += 1\n",
    "            print('Too high, try again.')\n",
    "            guess = int(input())\n",
    "        elif guess < num:\n",
    "            count += 1\n",
    "            print('Too low, try again.')\n",
    "            guess = int(input())\n",
    "    print(f'Congratulations you guessed the correct number in only {count} guesses!')\n",
    "    keep_playing()\n",
    "    \n",
    "def keep_playing():\n",
    "    answer = input('Would you like to play again? (Y/N)')\n",
    "    if answer == 'Y':\n",
    "        main()\n",
    "    elif answer == 'N':\n",
    "        print('Thanks for playing!')\n",
    "    else:\n",
    "        print('invalid input.')\n",
    "        keep_playing()\n",
    "    \n",
    "def directions():\n",
    "    print('A random number between 1 and 100 has been generated, use the box below to guess the number!')\n",
    "    print()\n",
    "    print('If you guess below the number the program will tell you to guess higher.')\n",
    "    print('If you guess above the number the program will tell you to guess lower.')\n",
    "\n",
    "main()"
   ]
  },
  {
   "cell_type": "markdown",
   "id": "e17d6db7",
   "metadata": {},
   "source": [
    "That seems to work well! Now for some more testing"
   ]
  },
  {
   "cell_type": "code",
   "execution_count": 122,
   "id": "4e482248",
   "metadata": {},
   "outputs": [
    {
     "name": "stdout",
     "output_type": "stream",
     "text": [
      "A random number between 1 and 100 has been generated, use the box below to guess the number!\n",
      "\n",
      "If you guess below the number the program will tell you to guess higher.\n",
      "If you guess above the number the program will tell you to guess lower.\n",
      "50\n",
      "Too high, try again.\n",
      "25\n",
      "Too high, try again.\n",
      "12\n",
      "Too high, try again.\n",
      "7\n",
      "Too low, try again.\n",
      "9\n",
      "Too low, try again.\n",
      "10\n",
      "Too low, try again.\n",
      "11\n",
      "Congratulations you guessed the correct number in only 7 guesses!\n",
      "Would you like to play again? (Y/N)Y\n",
      "A random number between 1 and 100 has been generated, use the box below to guess the number!\n",
      "\n",
      "If you guess below the number the program will tell you to guess higher.\n",
      "If you guess above the number the program will tell you to guess lower.\n",
      "50\n",
      "Too high, try again.\n",
      "20\n",
      "Too low, try again.\n",
      "30\n",
      "Too low, try again.\n",
      "40\n",
      "Too high, try again.\n",
      "35\n",
      "Too high, try again.\n",
      "32\n",
      "Congratulations you guessed the correct number in only 6 guesses!\n",
      "Would you like to play again? (Y/N)N\n",
      "Thanks for playing!\n"
     ]
    }
   ],
   "source": [
    "import random\n",
    "\n",
    "def main():\n",
    "    directions()\n",
    "    num = random_num()\n",
    "    user_guess = int(input())\n",
    "    guess_checker(user_guess,num)\n",
    "\n",
    "def random_num():\n",
    "    num = random.randint(1,100)\n",
    "    return num\n",
    "    \n",
    "def guess_checker(guess,num):\n",
    "    count=1\n",
    "    while guess != num:\n",
    "        if guess > num:\n",
    "            count += 1\n",
    "            print('Too high, try again.')\n",
    "            guess = int(input())\n",
    "        elif guess < num:\n",
    "            count += 1\n",
    "            print('Too low, try again.')\n",
    "            guess = int(input())\n",
    "    print(f'Congratulations you guessed the correct number in only {count} guesses!')\n",
    "    keep_playing()\n",
    "    \n",
    "def keep_playing():\n",
    "    answer = input('Would you like to play again? (Y/N)')\n",
    "    if answer == 'Y':\n",
    "        main()\n",
    "    elif answer == 'N':\n",
    "        print('Thanks for playing!')\n",
    "    else:\n",
    "        print('invalid input.')\n",
    "        keep_playing()\n",
    "    \n",
    "def directions():\n",
    "    print('A random number between 1 and 100 has been generated, use the box below to guess the number!')\n",
    "    print()\n",
    "    print('If you guess below the number the program will tell you to guess higher.')\n",
    "    print('If you guess above the number the program will tell you to guess lower.')\n",
    "\n",
    "main()"
   ]
  },
  {
   "cell_type": "markdown",
   "id": "235875eb",
   "metadata": {},
   "source": [
    "I am going to remove the directions from the main function because I dont like it showing up every time. I am also going to add in a line that tells the use that a new number has been generated when they want to play again. "
   ]
  },
  {
   "cell_type": "code",
   "execution_count": 124,
   "id": "d08432b1",
   "metadata": {},
   "outputs": [
    {
     "name": "stdout",
     "output_type": "stream",
     "text": [
      "A random number between 1 and 100 has been generated, use the box below to guess the number!\n",
      "\n",
      "If you guess below the number the program will tell you to guess higher.\n",
      "If you guess above the number the program will tell you to guess lower.\n",
      "50\n",
      "Too high, try again.\n",
      "20\n",
      "Too high, try again.\n",
      "15\n",
      "Too low, try again.\n",
      "17\n",
      "Too high, try again.\n",
      "16\n",
      "Congratulations you guessed the correct number in only 5 guesses!\n",
      "Would you like to play again? (Y/N)Y\n",
      "OK! A new number has been generated.\n",
      "60\n",
      "Too low, try again.\n",
      "90\n",
      "Too high, try again.\n",
      "80\n",
      "Too low, try again.\n",
      "85\n",
      "Too low, try again.\n",
      "87\n",
      "Too low, try again.\n",
      "88\n",
      "Too low, try again.\n",
      "89\n",
      "Congratulations you guessed the correct number in only 7 guesses!\n",
      "Would you like to play again? (Y/N)N\n",
      "Thanks for playing!\n"
     ]
    }
   ],
   "source": [
    "#This imports the random module\n",
    "import random\n",
    "#This line calls the 'directions' function\n",
    "directions()\n",
    "\n",
    "#This line defines the 'main' function\n",
    "def main():\n",
    "    #This assignment calls apon the 'random-num' function and assigns the variable 'num' the returned value\n",
    "    num = random_num()\n",
    "    #This assignment assigns the variable 'user_guess' the users input\n",
    "    user_guess = int(input())\n",
    "    #This line calls apon the 'guess_checker' function and assigns the arguements the values of the 'user_guess' and 'num' variables\n",
    "    guess_checker(user_guess,num)\n",
    "\n",
    "#This line defines the 'random_num' function\n",
    "def random_num():\n",
    "    #This assignment assigns the variable 'num' a random num between 1 and 100\n",
    "    num = random.randint(1,100)\n",
    "    #This line tells the function to return the 'num' variable\n",
    "    return num\n",
    "   \n",
    "#This line defines the 'guess_checker' function    \n",
    "def guess_checker(guess,num):\n",
    "    #This assignment assigns the 'count' variable a value of 1\n",
    "    count=1\n",
    "    #This while loop will repeat when the value of 'guess' does not equal the value of 'num'\n",
    "    while guess != num:\n",
    "        #if the value of 'guess' is greater than 'num' then the code below will execute\n",
    "        if guess > num:\n",
    "            #This assignment takes the value of 'count' and adds 1 to it\n",
    "            count += 1\n",
    "            #This displays the \"too high\" message\n",
    "            print('Too high, try again.')\n",
    "            #This assignment sets 'guess' to the users new input\n",
    "            guess = int(input())\n",
    "        #if the value of 'guess' is less than 'num' then the code below will execute   \n",
    "        elif guess < num:\n",
    "            #This assignment takes the value of 'count' and adds 1 to it\n",
    "            count += 1\n",
    "            #This displays the \"too low\" message\n",
    "            print('Too low, try again.')\n",
    "            #This assignment sets 'guess' to the users new input\n",
    "            guess = int(input())\n",
    "    #This print statement displays the congratulations message with the amount of guesses it took inside of it\n",
    "    print(f'Congratulations you guessed the correct number in only {count} guesses!')\n",
    "    #This line calls apon the 'keep_playing' function\n",
    "    keep_playing()\n",
    "\n",
    "#This line defines the 'keep_playing' function\n",
    "def keep_playing():\n",
    "    #This assignment assigns the variable 'answer' the users input\n",
    "    answer = input('Would you like to play again? (Y/N)')\n",
    "    #If the variable 'answer' equals the string 'Y' then the following code executes\n",
    "    if answer == 'Y':\n",
    "        #This displays a message saying that a new number has been generated\n",
    "        print('OK! A new number has been generated.')\n",
    "        #This line calls apon the 'main' function again\n",
    "        main()\n",
    "    #If the variable 'answer' equals the string 'N' then the following code executes\n",
    "    elif answer == 'N':\n",
    "        #This displays a message saying \"thanks for playing!\"\n",
    "        print('Thanks for playing!')\n",
    "    #If the variable 'answer' does not equals the strings 'Y' or 'N' then the following code executes\n",
    "    else:\n",
    "        #This prints an invalid input error message\n",
    "        print('invalid input.')\n",
    "        #This calls apon the 'keep_playing' function so it can repeat again if the input was invalid\n",
    "        keep_playing()\n",
    "\n",
    "#This line defines the 'directions' function\n",
    "def directions():\n",
    "    #This displays an explination of the program\n",
    "    print('A random number between 1 and 100 has been generated, use the box below to guess the number!')\n",
    "    #This diplays a return\n",
    "    print()\n",
    "    #This displays how the \"guess higher\" clue works\n",
    "    print('If you guess below the number the program will tell you to guess higher.')\n",
    "    #This displays how the \"guess lower\" clue works\n",
    "    print('If you guess above the number the program will tell you to guess lower.')\n",
    "    \n",
    "#This line calls apon the main function\n",
    "main()"
   ]
  },
  {
   "cell_type": "markdown",
   "id": "6841d670",
   "metadata": {},
   "source": [
    "OK, I think I am finally happy with this code! "
   ]
  },
  {
   "cell_type": "code",
   "execution_count": null,
   "id": "eb61e5d4",
   "metadata": {},
   "outputs": [],
   "source": []
  }
 ],
 "metadata": {
  "kernelspec": {
   "display_name": "Python 3 (ipykernel)",
   "language": "python",
   "name": "python3"
  },
  "language_info": {
   "codemirror_mode": {
    "name": "ipython",
    "version": 3
   },
   "file_extension": ".py",
   "mimetype": "text/x-python",
   "name": "python",
   "nbconvert_exporter": "python",
   "pygments_lexer": "ipython3",
   "version": "3.11.5"
  }
 },
 "nbformat": 4,
 "nbformat_minor": 5
}
