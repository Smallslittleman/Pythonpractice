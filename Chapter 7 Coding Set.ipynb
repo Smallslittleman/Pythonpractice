{
 "cells": [
  {
   "cell_type": "markdown",
   "id": "58061ce7",
   "metadata": {},
   "source": [
    "# Chapter 7 Coding Set - Zavier Christians"
   ]
  },
  {
   "cell_type": "markdown",
   "id": "ab5745e0",
   "metadata": {},
   "source": [
    "## Algorithm Workbench - Number 8"
   ]
  },
  {
   "cell_type": "markdown",
   "id": "25881cd5",
   "metadata": {},
   "source": [
    "This problem asks us to, \n",
    "\n",
    "Assume list1 is a list of integers. Write a statement that uses a list comprehension to create a second list containing the squares of the elements of list1."
   ]
  },
  {
   "cell_type": "markdown",
   "id": "826efde9",
   "metadata": {},
   "source": [
    "To complete this problem I am going to have to first create a list that contains some random integers. Then I am going to have to use some list comprehension to create a new list using the existing items in list1 that are squared. "
   ]
  },
  {
   "cell_type": "code",
   "execution_count": 7,
   "id": "e466d511",
   "metadata": {},
   "outputs": [],
   "source": [
    "#Making a list called 'list1' with a bunch or random integers. \n",
    "list1 = [1,14,98,7,27,42,2,53]"
   ]
  },
  {
   "cell_type": "markdown",
   "id": "e3b61bc4",
   "metadata": {},
   "source": [
    "Now that I created the test list I am going to make sure that it worked"
   ]
  },
  {
   "cell_type": "code",
   "execution_count": 8,
   "id": "fad1cc9a",
   "metadata": {},
   "outputs": [
    {
     "data": {
      "text/plain": [
       "[1, 14, 98, 7, 27, 42, 2, 53]"
      ]
     },
     "execution_count": 8,
     "metadata": {},
     "output_type": "execute_result"
    }
   ],
   "source": [
    "#calling on 'list1' to be displayed \n",
    "list1"
   ]
  },
  {
   "cell_type": "markdown",
   "id": "7baeaa3f",
   "metadata": {},
   "source": [
    "It did! So now I am going to make the second list using list comprehention. "
   ]
  },
  {
   "cell_type": "code",
   "execution_count": 9,
   "id": "34586fff",
   "metadata": {},
   "outputs": [],
   "source": [
    "#Making a list called 'list2' which items are each item from 'list1' squared\n",
    "list2 = [item**2 for item in list1]"
   ]
  },
  {
   "cell_type": "code",
   "execution_count": 10,
   "id": "e84d2081",
   "metadata": {},
   "outputs": [
    {
     "data": {
      "text/plain": [
       "[1, 196, 9604, 49, 729, 1764, 4, 2809]"
      ]
     },
     "execution_count": 10,
     "metadata": {},
     "output_type": "execute_result"
    }
   ],
   "source": [
    "#call on 'list2' to be displayed \n",
    "list2 "
   ]
  },
  {
   "cell_type": "markdown",
   "id": "8a4af4e6",
   "metadata": {},
   "source": [
    "That worked! \n",
    "\n",
    "I'm curios if I can have all of that code in one block, so I am going to try that too. "
   ]
  },
  {
   "cell_type": "code",
   "execution_count": 11,
   "id": "24f3c897",
   "metadata": {},
   "outputs": [
    {
     "data": {
      "text/plain": [
       "[1, 196, 9604, 49, 729, 1764, 4, 2809]"
      ]
     },
     "execution_count": 11,
     "metadata": {},
     "output_type": "execute_result"
    }
   ],
   "source": [
    "#Making a list called 'list1' with a bunch or random integers. \n",
    "list1 = [1,14,98,7,27,42,2,53]\n",
    "\n",
    "#Making a list called 'list2' which items are each item from 'list1' squared\n",
    "list2 = [item**2 for item in list1]\n",
    "\n",
    "#calling on 'list1' to be displayed \n",
    "list1\n",
    "\n",
    "#call on 'list2' to be displayed \n",
    "list2 "
   ]
  },
  {
   "cell_type": "code",
   "execution_count": 12,
   "id": "e870c2db",
   "metadata": {},
   "outputs": [
    {
     "data": {
      "text/plain": [
       "[1, 14, 98, 7, 27, 42, 2, 53]"
      ]
     },
     "execution_count": 12,
     "metadata": {},
     "output_type": "execute_result"
    }
   ],
   "source": [
    "#Making a list called 'list1' with a bunch or random integers. \n",
    "list1 = [1,14,98,7,27,42,2,53]\n",
    "\n",
    "#Making a list called 'list2' which items are each item from 'list1' squared\n",
    "list2 = [item**2 for item in list1]\n",
    "\n",
    "#calling on 'list1' to be displayed \n",
    "list1"
   ]
  },
  {
   "cell_type": "code",
   "execution_count": 13,
   "id": "2e5d87fe",
   "metadata": {},
   "outputs": [
    {
     "name": "stdout",
     "output_type": "stream",
     "text": [
      "[1, 14, 98, 7, 27, 42, 2, 53]\n",
      "[1, 196, 9604, 49, 729, 1764, 4, 2809]\n"
     ]
    }
   ],
   "source": [
    "#Making a list called 'list1' with a bunch or random integers. \n",
    "list1 = [1,14,98,7,27,42,2,53]\n",
    "\n",
    "#Making a list called 'list2' which items are each item from 'list1' squared\n",
    "list2 = [item**2 for item in list1]\n",
    "\n",
    "#Display 'list1'\n",
    "print(list1)\n",
    "\n",
    "#Display 'list2'\n",
    "print(list2)"
   ]
  },
  {
   "cell_type": "markdown",
   "id": "c29fd39a",
   "metadata": {},
   "source": [
    "Ok so after some testing it appears that only the last call for a list will be displayed as an output, but you can get around this by calling on the print function to display the lists instead. Good to know!"
   ]
  },
  {
   "cell_type": "markdown",
   "id": "fb112723",
   "metadata": {},
   "source": [
    "## Algorithm Workbench - Number 9"
   ]
  },
  {
   "cell_type": "markdown",
   "id": "e40f3919",
   "metadata": {},
   "source": [
    "This problem asks us to, \n",
    "\n",
    "Assume list1 is a list of integers. Write a statement that uses a list comprehension to create a second list containing the elements of list1 that are greater than 100."
   ]
  },
  {
   "cell_type": "markdown",
   "id": "0d718f51",
   "metadata": {},
   "source": [
    "To complete this problem I am going to have to use a list with some random integers again. I will also have to use list comprehension to again to create a new list that shows the values over 100 in the first list.  \n",
    "\n",
    "For the initial list I am going to use my squared list from problem 8 because it has many values less than and greater than 100 so it should be a good test for my code."
   ]
  },
  {
   "cell_type": "code",
   "execution_count": 15,
   "id": "ef8c49ad",
   "metadata": {},
   "outputs": [
    {
     "data": {
      "text/plain": [
       "[1, 196, 9604, 49, 729, 1764, 4, 2809]"
      ]
     },
     "execution_count": 15,
     "metadata": {},
     "output_type": "execute_result"
    }
   ],
   "source": [
    "#testing to see if 'list2' can be called apon again\n",
    "list2"
   ]
  },
  {
   "cell_type": "markdown",
   "id": "cf8654c7",
   "metadata": {},
   "source": [
    "Good so now that I know that can still be called apon I am going to create a new list that only contains its values greater than 100."
   ]
  },
  {
   "cell_type": "code",
   "execution_count": 16,
   "id": "90d087ab",
   "metadata": {},
   "outputs": [
    {
     "ename": "SyntaxError",
     "evalue": "expected 'else' after 'if' expression (797315494.py, line 1)",
     "output_type": "error",
     "traceback": [
      "\u001b[1;36m  Cell \u001b[1;32mIn[16], line 1\u001b[1;36m\u001b[0m\n\u001b[1;33m    list3 = [item in list2 if item>100]\u001b[0m\n\u001b[1;37m             ^\u001b[0m\n\u001b[1;31mSyntaxError\u001b[0m\u001b[1;31m:\u001b[0m expected 'else' after 'if' expression\n"
     ]
    }
   ],
   "source": [
    "#Create a list called 'list3' that contains all of the items in 'list2' that are over 100\n",
    "list3 = [item in list2 if item>100]"
   ]
  },
  {
   "cell_type": "markdown",
   "id": "636dd1a6",
   "metadata": {},
   "source": [
    "I forgot the for in the comprehension statement."
   ]
  },
  {
   "cell_type": "code",
   "execution_count": 19,
   "id": "61d5d5ea",
   "metadata": {},
   "outputs": [],
   "source": [
    "#Create a list called 'list3' that contains all of the items in 'list2' that are over 100\n",
    "list3 = [item for item in list2 if item>100]"
   ]
  },
  {
   "cell_type": "code",
   "execution_count": 20,
   "id": "71f3e5bf",
   "metadata": {},
   "outputs": [
    {
     "data": {
      "text/plain": [
       "[196, 9604, 729, 1764, 2809]"
      ]
     },
     "execution_count": 20,
     "metadata": {},
     "output_type": "execute_result"
    }
   ],
   "source": [
    "#Call 'list3' to be displayed as an output\n",
    "list3"
   ]
  },
  {
   "cell_type": "markdown",
   "id": "eb8d0f24",
   "metadata": {},
   "source": [
    "Great! I think this problem is done. "
   ]
  },
  {
   "cell_type": "markdown",
   "id": "3e7d97e3",
   "metadata": {},
   "source": [
    "## Programming Exercises - Number 1"
   ]
  },
  {
   "cell_type": "markdown",
   "id": "5d2b2da1",
   "metadata": {},
   "source": [
    "This problem asks us to, \n",
    "\n",
    "Design a program that asks the user to enter a store’s sales for each day of the week. The amounts should be stored in a list. Use a loop to calculate the total sales for the week and display the result."
   ]
  },
  {
   "cell_type": "markdown",
   "id": "0896ae57",
   "metadata": {},
   "source": [
    "To complete this problem I am going to have to use lists and loops to design the logic of the program as well as the input function to get the users input for each day. "
   ]
  },
  {
   "cell_type": "markdown",
   "id": "45fbbbc2",
   "metadata": {},
   "source": [
    "To start I am going to define and main function and a directions function with directions inside to let the user know how to use the program. "
   ]
  },
  {
   "cell_type": "code",
   "execution_count": 35,
   "id": "00141477",
   "metadata": {},
   "outputs": [
    {
     "name": "stdout",
     "output_type": "stream",
     "text": [
      "Input your sales for each day in the boxes below.\n",
      "After they have been entered a weekly sales total will be displayed.\n"
     ]
    }
   ],
   "source": [
    "def main():\n",
    "    directions()\n",
    "\n",
    "\n",
    "\n",
    "def directions():\n",
    "    print('Input your sales for each day in the boxes below.')\n",
    "    print('After they have been entered a weekly sales total will be displayed.')\n",
    "\n",
    "if __name__ == '__main__':\n",
    "    main()   "
   ]
  },
  {
   "cell_type": "markdown",
   "id": "e857c130",
   "metadata": {},
   "source": [
    "That looks good so far, now I will define a function that takes the users input for each week and adds it to a list. "
   ]
  },
  {
   "cell_type": "code",
   "execution_count": 36,
   "id": "85cd7b81",
   "metadata": {},
   "outputs": [
    {
     "name": "stdout",
     "output_type": "stream",
     "text": [
      "Input your sales for each day in the boxes below.\n",
      "After they have been entered a weekly sales total will be displayed.\n",
      "('Monday', 'Tuesday', 'Wednesday', 'Thursday', 'Friday', 'Saturday', 'Sunday')\n"
     ]
    }
   ],
   "source": [
    "def main():\n",
    "    directions()\n",
    "    userinputs()\n",
    "\n",
    "def userinputs():\n",
    "    \n",
    "    days_of_week = ('Monday','Tuesday','Wednesday','Thursday','Friday','Saturday','Sunday')\n",
    "    #testing if the tuple worked.\n",
    "    print(days_of_week)\n",
    "    \n",
    "    \n",
    "def directions():\n",
    "    print('Input your sales for each day in the boxes below.')\n",
    "    print('After they have been entered a weekly sales total will be displayed.')\n",
    "\n",
    "if __name__ == '__main__':\n",
    "    main()   "
   ]
  },
  {
   "cell_type": "markdown",
   "id": "ff41e765",
   "metadata": {},
   "source": [
    "I am going to try to create a loop that uses the days_of_week list to display the day of the week each time the use inputs a value, and then adds that value to another list. "
   ]
  },
  {
   "cell_type": "code",
   "execution_count": 37,
   "id": "c818ccf2",
   "metadata": {},
   "outputs": [
    {
     "name": "stdout",
     "output_type": "stream",
     "text": [
      "Input your sales for each day in the boxes below.\n",
      "After they have been entered a weekly sales total will be displayed.\n"
     ]
    },
    {
     "ename": "UnboundLocalError",
     "evalue": "cannot access local variable 'sales' where it is not associated with a value",
     "output_type": "error",
     "traceback": [
      "\u001b[1;31m---------------------------------------------------------------------------\u001b[0m",
      "\u001b[1;31mUnboundLocalError\u001b[0m                         Traceback (most recent call last)",
      "Cell \u001b[1;32mIn[37], line 18\u001b[0m\n\u001b[0;32m     15\u001b[0m     \u001b[38;5;28mprint\u001b[39m(\u001b[38;5;124m'\u001b[39m\u001b[38;5;124mAfter they have been entered a weekly sales total will be displayed.\u001b[39m\u001b[38;5;124m'\u001b[39m)\n\u001b[0;32m     17\u001b[0m \u001b[38;5;28;01mif\u001b[39;00m \u001b[38;5;18m__name__\u001b[39m \u001b[38;5;241m==\u001b[39m \u001b[38;5;124m'\u001b[39m\u001b[38;5;124m__main__\u001b[39m\u001b[38;5;124m'\u001b[39m:\n\u001b[1;32m---> 18\u001b[0m     main()\n",
      "Cell \u001b[1;32mIn[37], line 3\u001b[0m, in \u001b[0;36mmain\u001b[1;34m()\u001b[0m\n\u001b[0;32m      1\u001b[0m \u001b[38;5;28;01mdef\u001b[39;00m \u001b[38;5;21mmain\u001b[39m():\n\u001b[0;32m      2\u001b[0m     directions()\n\u001b[1;32m----> 3\u001b[0m     userinputs()\n",
      "Cell \u001b[1;32mIn[37], line 10\u001b[0m, in \u001b[0;36muserinputs\u001b[1;34m()\u001b[0m\n\u001b[0;32m      7\u001b[0m days_of_week \u001b[38;5;241m=\u001b[39m (\u001b[38;5;124m'\u001b[39m\u001b[38;5;124mMonday\u001b[39m\u001b[38;5;124m'\u001b[39m,\u001b[38;5;124m'\u001b[39m\u001b[38;5;124mTuesday\u001b[39m\u001b[38;5;124m'\u001b[39m,\u001b[38;5;124m'\u001b[39m\u001b[38;5;124mWednesday\u001b[39m\u001b[38;5;124m'\u001b[39m,\u001b[38;5;124m'\u001b[39m\u001b[38;5;124mThursday\u001b[39m\u001b[38;5;124m'\u001b[39m,\u001b[38;5;124m'\u001b[39m\u001b[38;5;124mFriday\u001b[39m\u001b[38;5;124m'\u001b[39m,\u001b[38;5;124m'\u001b[39m\u001b[38;5;124mSaturday\u001b[39m\u001b[38;5;124m'\u001b[39m,\u001b[38;5;124m'\u001b[39m\u001b[38;5;124mSunday\u001b[39m\u001b[38;5;124m'\u001b[39m)\n\u001b[0;32m      9\u001b[0m \u001b[38;5;28;01mfor\u001b[39;00m item \u001b[38;5;129;01min\u001b[39;00m days_of_week:\n\u001b[1;32m---> 10\u001b[0m     sales \u001b[38;5;241m=\u001b[39m sales\u001b[38;5;241m.\u001b[39mappend(\u001b[38;5;28minput\u001b[39m(\u001b[38;5;124mf\u001b[39m\u001b[38;5;124m'''\u001b[39m\u001b[38;5;132;01m{\u001b[39;00mitem\u001b[38;5;132;01m}\u001b[39;00m\u001b[38;5;124m'\u001b[39m\u001b[38;5;124ms sales: \u001b[39m\u001b[38;5;124m'''\u001b[39m))\n",
      "\u001b[1;31mUnboundLocalError\u001b[0m: cannot access local variable 'sales' where it is not associated with a value"
     ]
    }
   ],
   "source": [
    "def main():\n",
    "    directions()\n",
    "    userinputs()\n",
    "\n",
    "def userinputs():\n",
    "    \n",
    "    days_of_week = ('Monday','Tuesday','Wednesday','Thursday','Friday','Saturday','Sunday')\n",
    "    \n",
    "    for item in days_of_week:\n",
    "        sales = sales.append(input(f'''{item}'s sales: '''))\n",
    "    \n",
    "    \n",
    "def directions():\n",
    "    print('Input your sales for each day in the boxes below.')\n",
    "    print('After they have been entered a weekly sales total will be displayed.')\n",
    "\n",
    "if __name__ == '__main__':\n",
    "    main()   "
   ]
  },
  {
   "cell_type": "markdown",
   "id": "00054528",
   "metadata": {},
   "source": [
    "I think this is saying that I have to define the sales list as a list before I can append values to it. "
   ]
  },
  {
   "cell_type": "code",
   "execution_count": 38,
   "id": "01b61f27",
   "metadata": {},
   "outputs": [
    {
     "name": "stdout",
     "output_type": "stream",
     "text": [
      "Input your sales for each day in the boxes below.\n",
      "After they have been entered a weekly sales total will be displayed.\n"
     ]
    },
    {
     "ename": "AttributeError",
     "evalue": "'tuple' object has no attribute 'append'",
     "output_type": "error",
     "traceback": [
      "\u001b[1;31m---------------------------------------------------------------------------\u001b[0m",
      "\u001b[1;31mAttributeError\u001b[0m                            Traceback (most recent call last)",
      "Cell \u001b[1;32mIn[38], line 19\u001b[0m\n\u001b[0;32m     16\u001b[0m     \u001b[38;5;28mprint\u001b[39m(\u001b[38;5;124m'\u001b[39m\u001b[38;5;124mAfter they have been entered a weekly sales total will be displayed.\u001b[39m\u001b[38;5;124m'\u001b[39m)\n\u001b[0;32m     18\u001b[0m \u001b[38;5;28;01mif\u001b[39;00m \u001b[38;5;18m__name__\u001b[39m \u001b[38;5;241m==\u001b[39m \u001b[38;5;124m'\u001b[39m\u001b[38;5;124m__main__\u001b[39m\u001b[38;5;124m'\u001b[39m:\n\u001b[1;32m---> 19\u001b[0m     main()\n",
      "Cell \u001b[1;32mIn[38], line 3\u001b[0m, in \u001b[0;36mmain\u001b[1;34m()\u001b[0m\n\u001b[0;32m      1\u001b[0m \u001b[38;5;28;01mdef\u001b[39;00m \u001b[38;5;21mmain\u001b[39m():\n\u001b[0;32m      2\u001b[0m     directions()\n\u001b[1;32m----> 3\u001b[0m     userinputs()\n",
      "Cell \u001b[1;32mIn[38], line 11\u001b[0m, in \u001b[0;36muserinputs\u001b[1;34m()\u001b[0m\n\u001b[0;32m      8\u001b[0m sales \u001b[38;5;241m=\u001b[39m (\u001b[38;5;124m'\u001b[39m\u001b[38;5;124mtest\u001b[39m\u001b[38;5;124m'\u001b[39m,)\n\u001b[0;32m     10\u001b[0m \u001b[38;5;28;01mfor\u001b[39;00m item \u001b[38;5;129;01min\u001b[39;00m days_of_week:\n\u001b[1;32m---> 11\u001b[0m     sales \u001b[38;5;241m=\u001b[39m sales\u001b[38;5;241m.\u001b[39mappend(\u001b[38;5;28minput\u001b[39m(\u001b[38;5;124mf\u001b[39m\u001b[38;5;124m'''\u001b[39m\u001b[38;5;132;01m{\u001b[39;00mitem\u001b[38;5;132;01m}\u001b[39;00m\u001b[38;5;124m'\u001b[39m\u001b[38;5;124ms sales: \u001b[39m\u001b[38;5;124m'''\u001b[39m))\n",
      "\u001b[1;31mAttributeError\u001b[0m: 'tuple' object has no attribute 'append'"
     ]
    }
   ],
   "source": [
    "def main():\n",
    "    directions()\n",
    "    userinputs()\n",
    "\n",
    "def userinputs():\n",
    "    \n",
    "    days_of_week = ('Monday','Tuesday','Wednesday','Thursday','Friday','Saturday','Sunday')\n",
    "    sales = ('test',)\n",
    "\n",
    "    for item in days_of_week:\n",
    "        sales = sales.append(input(f'''{item}'s sales: '''))\n",
    "    \n",
    "    \n",
    "def directions():\n",
    "    print('Input your sales for each day in the boxes below.')\n",
    "    print('After they have been entered a weekly sales total will be displayed.')\n",
    "\n",
    "if __name__ == '__main__':\n",
    "    main()   "
   ]
  },
  {
   "cell_type": "markdown",
   "id": "c9a75652",
   "metadata": {},
   "source": [
    "Whoops! I make my list a tuple instead of a list. "
   ]
  },
  {
   "cell_type": "code",
   "execution_count": 39,
   "id": "dcda1902",
   "metadata": {},
   "outputs": [
    {
     "name": "stdout",
     "output_type": "stream",
     "text": [
      "Input your sales for each day in the boxes below.\n",
      "After they have been entered a weekly sales total will be displayed.\n",
      "Monday's sales: 51.00\n"
     ]
    },
    {
     "ename": "TypeError",
     "evalue": "'builtin_function_or_method' object is not subscriptable",
     "output_type": "error",
     "traceback": [
      "\u001b[1;31m---------------------------------------------------------------------------\u001b[0m",
      "\u001b[1;31mTypeError\u001b[0m                                 Traceback (most recent call last)",
      "Cell \u001b[1;32mIn[39], line 19\u001b[0m\n\u001b[0;32m     16\u001b[0m     \u001b[38;5;28mprint\u001b[39m(\u001b[38;5;124m'\u001b[39m\u001b[38;5;124mAfter they have been entered a weekly sales total will be displayed.\u001b[39m\u001b[38;5;124m'\u001b[39m)\n\u001b[0;32m     18\u001b[0m \u001b[38;5;28;01mif\u001b[39;00m \u001b[38;5;18m__name__\u001b[39m \u001b[38;5;241m==\u001b[39m \u001b[38;5;124m'\u001b[39m\u001b[38;5;124m__main__\u001b[39m\u001b[38;5;124m'\u001b[39m:\n\u001b[1;32m---> 19\u001b[0m     main()\n",
      "Cell \u001b[1;32mIn[39], line 3\u001b[0m, in \u001b[0;36mmain\u001b[1;34m()\u001b[0m\n\u001b[0;32m      1\u001b[0m \u001b[38;5;28;01mdef\u001b[39;00m \u001b[38;5;21mmain\u001b[39m():\n\u001b[0;32m      2\u001b[0m     directions()\n\u001b[1;32m----> 3\u001b[0m     userinputs()\n",
      "Cell \u001b[1;32mIn[39], line 11\u001b[0m, in \u001b[0;36muserinputs\u001b[1;34m()\u001b[0m\n\u001b[0;32m      8\u001b[0m sales \u001b[38;5;241m=\u001b[39m [\u001b[38;5;124m'\u001b[39m\u001b[38;5;124mtest\u001b[39m\u001b[38;5;124m'\u001b[39m,]\n\u001b[0;32m     10\u001b[0m \u001b[38;5;28;01mfor\u001b[39;00m item \u001b[38;5;129;01min\u001b[39;00m days_of_week:\n\u001b[1;32m---> 11\u001b[0m     sales \u001b[38;5;241m=\u001b[39m sales\u001b[38;5;241m.\u001b[39mappend[\u001b[38;5;28minput\u001b[39m(\u001b[38;5;124mf\u001b[39m\u001b[38;5;124m'''\u001b[39m\u001b[38;5;132;01m{\u001b[39;00mitem\u001b[38;5;132;01m}\u001b[39;00m\u001b[38;5;124m'\u001b[39m\u001b[38;5;124ms sales: \u001b[39m\u001b[38;5;124m'''\u001b[39m)]\n",
      "\u001b[1;31mTypeError\u001b[0m: 'builtin_function_or_method' object is not subscriptable"
     ]
    }
   ],
   "source": [
    "def main():\n",
    "    directions()\n",
    "    userinputs()\n",
    "\n",
    "def userinputs():\n",
    "    \n",
    "    days_of_week = ('Monday','Tuesday','Wednesday','Thursday','Friday','Saturday','Sunday')\n",
    "    sales = ['test',]\n",
    "\n",
    "    for item in days_of_week:\n",
    "        sales = sales.append[input(f'''{item}'s sales: ''')]\n",
    "    \n",
    "    \n",
    "def directions():\n",
    "    print('Input your sales for each day in the boxes below.')\n",
    "    print('After they have been entered a weekly sales total will be displayed.')\n",
    "\n",
    "if __name__ == '__main__':\n",
    "    main()   "
   ]
  },
  {
   "cell_type": "markdown",
   "id": "fcc8ae1e",
   "metadata": {},
   "source": [
    "OK, so my loop does display the name of the week in the input function which makes me very happy! However, something has gone wrong with the list I think. "
   ]
  },
  {
   "cell_type": "code",
   "execution_count": 40,
   "id": "01d00bd3",
   "metadata": {},
   "outputs": [
    {
     "name": "stdout",
     "output_type": "stream",
     "text": [
      "Input your sales for each day in the boxes below.\n",
      "After they have been entered a weekly sales total will be displayed.\n",
      "Monday's sales: 5\n"
     ]
    },
    {
     "ename": "TypeError",
     "evalue": "'builtin_function_or_method' object is not subscriptable",
     "output_type": "error",
     "traceback": [
      "\u001b[1;31m---------------------------------------------------------------------------\u001b[0m",
      "\u001b[1;31mTypeError\u001b[0m                                 Traceback (most recent call last)",
      "Cell \u001b[1;32mIn[40], line 19\u001b[0m\n\u001b[0;32m     16\u001b[0m     \u001b[38;5;28mprint\u001b[39m(\u001b[38;5;124m'\u001b[39m\u001b[38;5;124mAfter they have been entered a weekly sales total will be displayed.\u001b[39m\u001b[38;5;124m'\u001b[39m)\n\u001b[0;32m     18\u001b[0m \u001b[38;5;28;01mif\u001b[39;00m \u001b[38;5;18m__name__\u001b[39m \u001b[38;5;241m==\u001b[39m \u001b[38;5;124m'\u001b[39m\u001b[38;5;124m__main__\u001b[39m\u001b[38;5;124m'\u001b[39m:\n\u001b[1;32m---> 19\u001b[0m     main()\n",
      "Cell \u001b[1;32mIn[40], line 3\u001b[0m, in \u001b[0;36mmain\u001b[1;34m()\u001b[0m\n\u001b[0;32m      1\u001b[0m \u001b[38;5;28;01mdef\u001b[39;00m \u001b[38;5;21mmain\u001b[39m():\n\u001b[0;32m      2\u001b[0m     directions()\n\u001b[1;32m----> 3\u001b[0m     userinputs()\n",
      "Cell \u001b[1;32mIn[40], line 11\u001b[0m, in \u001b[0;36muserinputs\u001b[1;34m()\u001b[0m\n\u001b[0;32m      8\u001b[0m sales \u001b[38;5;241m=\u001b[39m [\u001b[38;5;124m'\u001b[39m\u001b[38;5;124mtest\u001b[39m\u001b[38;5;124m'\u001b[39m,]\n\u001b[0;32m     10\u001b[0m \u001b[38;5;28;01mfor\u001b[39;00m item \u001b[38;5;129;01min\u001b[39;00m days_of_week:\n\u001b[1;32m---> 11\u001b[0m     sales \u001b[38;5;241m=\u001b[39m sales\u001b[38;5;241m.\u001b[39mappend[\u001b[38;5;28minput\u001b[39m(\u001b[38;5;124mf\u001b[39m\u001b[38;5;124m'''\u001b[39m\u001b[38;5;132;01m{\u001b[39;00mitem\u001b[38;5;132;01m}\u001b[39;00m\u001b[38;5;124m'\u001b[39m\u001b[38;5;124ms sales: \u001b[39m\u001b[38;5;124m'''\u001b[39m)]\n",
      "\u001b[1;31mTypeError\u001b[0m: 'builtin_function_or_method' object is not subscriptable"
     ]
    }
   ],
   "source": [
    "def main():\n",
    "    directions()\n",
    "    userinputs()\n",
    "\n",
    "def userinputs():\n",
    "    \n",
    "    days_of_week = ('Monday','Tuesday','Wednesday','Thursday','Friday','Saturday','Sunday')\n",
    "    sales = ['test',]\n",
    "\n",
    "    for item in days_of_week:\n",
    "        sales = sales.append[input(f'''{item}'s sales: ''')]\n",
    "    \n",
    "    \n",
    "def directions():\n",
    "    print('Input your sales for each day in the boxes below.')\n",
    "    print('After they have been entered a weekly sales total will be displayed.')\n",
    "\n",
    "if __name__ == '__main__':\n",
    "    main()   "
   ]
  },
  {
   "cell_type": "markdown",
   "id": "ccf5866d",
   "metadata": {},
   "source": [
    "I consulted ChatGPT to try and see what the problem was and it was very helpful. \n",
    "\n",
    "It said that the reason my code is not working is because the append function cannot be used with square brackets, which is what I was trying to do. It said that if I switch those square brackets to parentheses my code should work correctly. I think where I got confused is I thought that by using square brackets it would create a tuple, but it sounds like that is not the case.\n",
    "\n",
    "Anyways, with all that being said, lets implement that change and see if it works!"
   ]
  },
  {
   "cell_type": "code",
   "execution_count": 41,
   "id": "6bc4c144",
   "metadata": {},
   "outputs": [
    {
     "name": "stdout",
     "output_type": "stream",
     "text": [
      "Input your sales for each day in the boxes below.\n",
      "After they have been entered a weekly sales total will be displayed.\n",
      "Monday's sales: 5\n"
     ]
    },
    {
     "ename": "AttributeError",
     "evalue": "'NoneType' object has no attribute 'append'",
     "output_type": "error",
     "traceback": [
      "\u001b[1;31m---------------------------------------------------------------------------\u001b[0m",
      "\u001b[1;31mAttributeError\u001b[0m                            Traceback (most recent call last)",
      "Cell \u001b[1;32mIn[41], line 20\u001b[0m\n\u001b[0;32m     17\u001b[0m     \u001b[38;5;28mprint\u001b[39m(\u001b[38;5;124m'\u001b[39m\u001b[38;5;124mAfter they have been entered a weekly sales total will be displayed.\u001b[39m\u001b[38;5;124m'\u001b[39m)\n\u001b[0;32m     19\u001b[0m \u001b[38;5;28;01mif\u001b[39;00m \u001b[38;5;18m__name__\u001b[39m \u001b[38;5;241m==\u001b[39m \u001b[38;5;124m'\u001b[39m\u001b[38;5;124m__main__\u001b[39m\u001b[38;5;124m'\u001b[39m:\n\u001b[1;32m---> 20\u001b[0m     main()\n",
      "Cell \u001b[1;32mIn[41], line 3\u001b[0m, in \u001b[0;36mmain\u001b[1;34m()\u001b[0m\n\u001b[0;32m      1\u001b[0m \u001b[38;5;28;01mdef\u001b[39;00m \u001b[38;5;21mmain\u001b[39m():\n\u001b[0;32m      2\u001b[0m     directions()\n\u001b[1;32m----> 3\u001b[0m     userinputs()\n",
      "Cell \u001b[1;32mIn[41], line 12\u001b[0m, in \u001b[0;36muserinputs\u001b[1;34m()\u001b[0m\n\u001b[0;32m      8\u001b[0m sales \u001b[38;5;241m=\u001b[39m [\u001b[38;5;124m'\u001b[39m\u001b[38;5;124mtest\u001b[39m\u001b[38;5;124m'\u001b[39m,]\n\u001b[0;32m     10\u001b[0m \u001b[38;5;28;01mfor\u001b[39;00m item \u001b[38;5;129;01min\u001b[39;00m days_of_week:\n\u001b[0;32m     11\u001b[0m     \u001b[38;5;66;03m#This is where I replaced those square brackets with parentheses.\u001b[39;00m\n\u001b[1;32m---> 12\u001b[0m     sales \u001b[38;5;241m=\u001b[39m sales\u001b[38;5;241m.\u001b[39mappend(\u001b[38;5;28minput\u001b[39m(\u001b[38;5;124mf\u001b[39m\u001b[38;5;124m'''\u001b[39m\u001b[38;5;132;01m{\u001b[39;00mitem\u001b[38;5;132;01m}\u001b[39;00m\u001b[38;5;124m'\u001b[39m\u001b[38;5;124ms sales: \u001b[39m\u001b[38;5;124m'''\u001b[39m))\n",
      "\u001b[1;31mAttributeError\u001b[0m: 'NoneType' object has no attribute 'append'"
     ]
    }
   ],
   "source": [
    "def main():\n",
    "    directions()\n",
    "    userinputs()\n",
    "\n",
    "def userinputs():\n",
    "    \n",
    "    days_of_week = ('Monday','Tuesday','Wednesday','Thursday','Friday','Saturday','Sunday')\n",
    "    sales = ['test',]\n",
    "\n",
    "    for item in days_of_week:\n",
    "        #This is where I replaced those square brackets with parentheses.\n",
    "        sales = sales.append(input(f'''{item}'s sales: '''))\n",
    "    \n",
    "    \n",
    "def directions():\n",
    "    print('Input your sales for each day in the boxes below.')\n",
    "    print('After they have been entered a weekly sales total will be displayed.')\n",
    "\n",
    "if __name__ == '__main__':\n",
    "    main()   "
   ]
  },
  {
   "cell_type": "markdown",
   "id": "721e1655",
   "metadata": {},
   "source": [
    "So the last error has been fixes but now a new one has appreared! \n",
    "\n",
    "Time to find out what this one means."
   ]
  },
  {
   "cell_type": "markdown",
   "id": "22758c05",
   "metadata": {},
   "source": [
    "OK, so this time it said that I am returning a none value to the sales list due to me trying to reassign its value. \n",
    "\n",
    "ChatGPT said to instead just call apon the append function without the reassignment. I didnt know you could do that!\n",
    "\n",
    "Once again lets try that out and see what happens!"
   ]
  },
  {
   "cell_type": "code",
   "execution_count": 42,
   "id": "6a1fb86a",
   "metadata": {},
   "outputs": [
    {
     "name": "stdout",
     "output_type": "stream",
     "text": [
      "Input your sales for each day in the boxes below.\n",
      "After they have been entered a weekly sales total will be displayed.\n",
      "Monday's sales: 5\n",
      "Tuesday's sales: 15\n",
      "Wednesday's sales: 62.00\n",
      "Thursday's sales: 48.00\n",
      "Friday's sales: 25.00\n",
      "Saturday's sales: 8.00\n",
      "Sunday's sales: 7.00\n"
     ]
    }
   ],
   "source": [
    "def main():\n",
    "    directions()\n",
    "    userinputs()\n",
    "\n",
    "def userinputs():\n",
    "    \n",
    "    days_of_week = ('Monday','Tuesday','Wednesday','Thursday','Friday','Saturday','Sunday')\n",
    "    sales = ['test',]\n",
    "\n",
    "    for item in days_of_week:\n",
    "        #Removed the assignment to sales at the beggining of this line\n",
    "        sales.append(input(f'''{item}'s sales: '''))\n",
    "    \n",
    "    \n",
    "def directions():\n",
    "    print('Input your sales for each day in the boxes below.')\n",
    "    print('After they have been entered a weekly sales total will be displayed.')\n",
    "\n",
    "if __name__ == '__main__':\n",
    "    main()   "
   ]
  },
  {
   "cell_type": "markdown",
   "id": "283ee1c5",
   "metadata": {},
   "source": [
    "Hey, that looks like it worked great!\n",
    "\n",
    "Now it would be great to see what is in that list. "
   ]
  },
  {
   "cell_type": "code",
   "execution_count": 44,
   "id": "076fe0fe",
   "metadata": {},
   "outputs": [
    {
     "name": "stdout",
     "output_type": "stream",
     "text": [
      "Input your sales for each day in the boxes below.\n",
      "After they have been entered a weekly sales total will be displayed.\n",
      "Monday's sales: 5\n",
      "Tuesday's sales: 51\n",
      "Wednesday's sales: 5\n",
      "Thursday's sales: 95\n",
      "Friday's sales: 62\n",
      "Saturday's sales: 3\n",
      "Sunday's sales: 1\n",
      "['test', '5', '51', '5', '95', '62', '3', '1']\n"
     ]
    }
   ],
   "source": [
    "def main():\n",
    "    directions()\n",
    "    userinputs()\n",
    "\n",
    "def userinputs():\n",
    "    \n",
    "    days_of_week = ('Monday','Tuesday','Wednesday','Thursday','Friday','Saturday','Sunday')\n",
    "    sales = ['test',]\n",
    "\n",
    "    for item in days_of_week:\n",
    "        \n",
    "        sales.append(input(f'''{item}'s sales: '''))\n",
    "    #Testing what is in the list after the code runs    \n",
    "    print(sales)\n",
    "    \n",
    "def directions():\n",
    "    print('Input your sales for each day in the boxes below.')\n",
    "    print('After they have been entered a weekly sales total will be displayed.')\n",
    "\n",
    "if __name__ == '__main__':\n",
    "    main()   "
   ]
  },
  {
   "cell_type": "markdown",
   "id": "69ea9774",
   "metadata": {},
   "source": [
    "OK, so everything seems to be working correct so far, not I need to add in the function that adds all of the values in the list together. "
   ]
  },
  {
   "cell_type": "code",
   "execution_count": 45,
   "id": "f7972d22",
   "metadata": {},
   "outputs": [
    {
     "name": "stdout",
     "output_type": "stream",
     "text": [
      "Input your sales for each day in the boxes below.\n",
      "After they have been entered a weekly sales total will be displayed.\n",
      "Monday's sales: 5\n",
      "Tuesday's sales: 51\n",
      "Wednesday's sales: 613\n",
      "Thursday's sales: 24523\n",
      "Friday's sales: 45\n",
      "Saturday's sales: 3453\n",
      "Sunday's sales: 4\n",
      "['5', '51', '613', '24523', '45', '3453', '4']\n"
     ]
    }
   ],
   "source": [
    "def main():\n",
    "    directions()\n",
    "    #testing return function with lists\n",
    "    print(userinputs())\n",
    "\n",
    "def userinputs():\n",
    "    \n",
    "    days_of_week = ('Monday','Tuesday','Wednesday','Thursday','Friday','Saturday','Sunday')\n",
    "    sales = []\n",
    "\n",
    "    for item in days_of_week:\n",
    "        \n",
    "        sales.append(input(f'''{item}'s sales: '''))\n",
    "        \n",
    "    #testing the return function with lists\n",
    "    return sales\n",
    "def directions():\n",
    "    print('Input your sales for each day in the boxes below.')\n",
    "    print('After they have been entered a weekly sales total will be displayed.')\n",
    "\n",
    "if __name__ == '__main__':\n",
    "    main()   "
   ]
  },
  {
   "cell_type": "markdown",
   "id": "ff43d597",
   "metadata": {},
   "source": [
    "Now I know that I can use a return function to return a list. "
   ]
  },
  {
   "cell_type": "code",
   "execution_count": 50,
   "id": "2d4258a3",
   "metadata": {},
   "outputs": [
    {
     "name": "stdout",
     "output_type": "stream",
     "text": [
      "Input your sales for each day in the boxes below.\n",
      "After they have been entered a weekly sales total will be displayed.\n",
      "Monday's sales: 5\n",
      "Tuesday's sales: 5\n",
      "Wednesday's sales: 5\n",
      "Thursday's sales: 5\n",
      "Friday's sales: 5\n",
      "Saturday's sales: 5\n",
      "Sunday's sales: 5\n",
      "5.0\n"
     ]
    }
   ],
   "source": [
    "def main():\n",
    "    directions()\n",
    "    print(calc_total())\n",
    "\n",
    "def calc_total():\n",
    "    \n",
    "    total = 0 \n",
    "    \n",
    "    for item in userinputs():\n",
    "        total =+ float(item)\n",
    "     \n",
    "    return total\n",
    "\n",
    "def userinputs():\n",
    "    \n",
    "    days_of_week = ('Monday','Tuesday','Wednesday','Thursday','Friday','Saturday','Sunday')\n",
    "    sales = []\n",
    "\n",
    "    for item in days_of_week:\n",
    "        \n",
    "        sales.append(input(f'''{item}'s sales: '''))\n",
    "        \n",
    "    return sales\n",
    "def directions():\n",
    "    print('Input your sales for each day in the boxes below.')\n",
    "    print('After they have been entered a weekly sales total will be displayed.')\n",
    "\n",
    "if __name__ == '__main__':\n",
    "    main()   "
   ]
  },
  {
   "cell_type": "markdown",
   "id": "ca20cd8d",
   "metadata": {},
   "source": [
    "I'm not sure why that returned a 5 instead of 35, I will have to test further."
   ]
  },
  {
   "cell_type": "code",
   "execution_count": 56,
   "id": "9461b1ca",
   "metadata": {},
   "outputs": [
    {
     "name": "stdout",
     "output_type": "stream",
     "text": [
      "Input your sales for each day in the boxes below.\n",
      "After they have been entered a weekly sales total will be displayed.\n",
      "Monday's sales: 5\n",
      "Tuesday's sales: 58\n",
      "Wednesday's sales: 5\n",
      "Thursday's sales: 5\n",
      "Friday's sales: 5\n",
      "Saturday's sales: 5\n",
      "Sunday's sales: 5\n",
      "88.0\n"
     ]
    }
   ],
   "source": [
    "def main():\n",
    "    directions()\n",
    "    print(calc_total())\n",
    "\n",
    "def calc_total():\n",
    "    \n",
    "    total = 0 \n",
    "    \n",
    "    for item in userinputs():\n",
    "        total += float(item)\n",
    "     \n",
    "    return total\n",
    "\n",
    "def userinputs():\n",
    "    \n",
    "    days_of_week = ('Monday','Tuesday','Wednesday','Thursday','Friday','Saturday','Sunday')\n",
    "    sales = []\n",
    "\n",
    "    for item in days_of_week:\n",
    "        \n",
    "        sales.append(input(f'''{item}'s sales: '''))\n",
    "        \n",
    "    return sales\n",
    "def directions():\n",
    "    print('Input your sales for each day in the boxes below.')\n",
    "    print('After they have been entered a weekly sales total will be displayed.')\n",
    "\n",
    "if __name__ == '__main__':\n",
    "    main()   "
   ]
  },
  {
   "cell_type": "markdown",
   "id": "0fbf8b5d",
   "metadata": {},
   "source": [
    "I think I had my accumulator backwards."
   ]
  },
  {
   "cell_type": "markdown",
   "id": "dbfc0c0b",
   "metadata": {},
   "source": [
    "Well now that the code seems to work properly I am going to try and pretty up the result and make the directions a little more complete. "
   ]
  },
  {
   "cell_type": "code",
   "execution_count": 61,
   "id": "6a81eb93",
   "metadata": {},
   "outputs": [
    {
     "name": "stdout",
     "output_type": "stream",
     "text": [
      "Input your sales for each day in the boxes below.\n",
      "After they have been entered a weekly sales total will be displayed.\n",
      "Monday's sales: 5\n",
      "Tuesday's sales: 5\n",
      "Wednesday's sales: 5\n",
      "Thursday's sales: 5\n",
      "Friday's sales: 5\n",
      "Saturday's sales: 5\n",
      "Sunday's sales: 5\n",
      "\n",
      "Your total sales for the week: $35.00\n"
     ]
    }
   ],
   "source": [
    "def main():\n",
    "    directions()\n",
    "    print(f\"\\nYour total sales for the week: ${calc_total():.2f}\")\n",
    "\n",
    "def calc_total():\n",
    "    \n",
    "    total = 0 \n",
    "    \n",
    "    for item in userinputs():\n",
    "        total += float(item)\n",
    "     \n",
    "    return total\n",
    "\n",
    "def userinputs():\n",
    "    \n",
    "    days_of_week = ('Monday','Tuesday','Wednesday','Thursday','Friday','Saturday','Sunday')\n",
    "    sales = []\n",
    "\n",
    "    for item in days_of_week:\n",
    "        \n",
    "        sales.append(input(f'''{item}'s sales: '''))\n",
    "        \n",
    "    return sales\n",
    "def directions():\n",
    "    print('Input your sales for each day in the boxes below.')\n",
    "    print('After they have been entered a weekly sales total will be displayed.')\n",
    "\n",
    "if __name__ == '__main__':\n",
    "    main()   "
   ]
  },
  {
   "cell_type": "code",
   "execution_count": 62,
   "id": "b6a75e29",
   "metadata": {},
   "outputs": [
    {
     "name": "stdout",
     "output_type": "stream",
     "text": [
      "Input your sales for each day in the boxes below.\n",
      "After they have been entered a weekly sales total will be displayed.\n",
      "Please do not use \"$\" in front of your sales values.\n",
      "\n",
      "Monday's sales: $52.25\n",
      "Tuesday's sales: $62.90\n",
      "Wednesday's sales: $6250.00\n",
      "Thursday's sales: $84.25\n",
      "Friday's sales: $3628.32\n",
      "Saturday's sales: $32.84\n",
      "Sunday's sales: $54.92\n",
      "\n",
      "Your total sales for the week: $10165.48\n"
     ]
    }
   ],
   "source": [
    "#Define the main function\n",
    "def main():\n",
    "    #call the directions function\n",
    "    directions()\n",
    "    #print the sales for the week by calling the 'calc_total' function to return its value to two decimal places\n",
    "    print(f\"\\nYour total sales for the week: ${calc_total():.2f}\")\n",
    "\n",
    "#Define the 'calc_total' function\n",
    "def calc_total():\n",
    "    \n",
    "    #Assign the 'total' variable a value of 0 to start\n",
    "    total = 0 \n",
    "    \n",
    "    #Repeat the code below for each item in the list returned by the 'userinputs' function. \n",
    "    for item in userinputs():\n",
    "        #Assign the variable 'total' its original value plus the value of the current item in the list conveted to a float\n",
    "        total += float(item)\n",
    "     \n",
    "    #Return the value of the variable 'total' when this function is called\n",
    "    return total\n",
    "\n",
    "#define the function 'userinputs'\n",
    "def userinputs():\n",
    "    \n",
    "    #Assign the list 'days_of_week' the days of the week\n",
    "    days_of_week = ('Monday','Tuesday','Wednesday','Thursday','Friday','Saturday','Sunday')\n",
    "    #Create a new list called sales\n",
    "    sales = []\n",
    "    \n",
    "    #repeat the code below for each day of the week\n",
    "    for item in days_of_week:\n",
    "        \n",
    "        #Append the users input to the 'sales' list\n",
    "        sales.append(input(f'''{item}'s sales: $'''))\n",
    "    \n",
    "    #Return the 'sales' list when this function is called apon\n",
    "    return sales\n",
    "\n",
    "#Define the 'directions' function\n",
    "def directions():\n",
    "    #Display the directions line below\n",
    "    print('Input your sales for each day in the boxes below.')\n",
    "    #Display the directions line below\n",
    "    print('After they have been entered a weekly sales total will be displayed.')\n",
    "    #Display the directions line below\n",
    "    print('Please do not use \"$\" in front of your sales values.\\n')\n",
    "\n",
    "#if the file name contains '__main__' run the 'main' function    \n",
    "if __name__ == '__main__':\n",
    "    #Call the main function\n",
    "    main()   "
   ]
  },
  {
   "cell_type": "markdown",
   "id": "c0d15732",
   "metadata": {},
   "source": [
    "I think that looks really good! \n",
    "\n",
    "As I said above I did use ChatGTP a number of times to get me out of ruts, and learned a ton from it.\n",
    "\n",
    "On to the next problem!"
   ]
  },
  {
   "cell_type": "markdown",
   "id": "1ee44439",
   "metadata": {},
   "source": [
    "## Programming Exercises - Number 3"
   ]
  },
  {
   "cell_type": "markdown",
   "id": "7536c00b",
   "metadata": {},
   "source": [
    "This problem asks us to, \n",
    "\n",
    "Design a program that lets the user enter the total rainfall for each of 12 months into a list. The program should calculate and display the total rainfall for the year, the average monthly rainfall, the months with the highest and lowest amounts."
   ]
  },
  {
   "cell_type": "markdown",
   "id": "021ea975",
   "metadata": {},
   "source": [
    "To complete this problem I am going to have to use lists and input functions to get the users inputs. I am also going to have to user functions to make the code more readable and loops to define some of the logic in the program. "
   ]
  },
  {
   "cell_type": "markdown",
   "id": "f0adda1b",
   "metadata": {},
   "source": [
    "To start I am going to define a main and definition function again to give the user some directions. "
   ]
  },
  {
   "cell_type": "code",
   "execution_count": 65,
   "id": "47f1d241",
   "metadata": {},
   "outputs": [
    {
     "name": "stdout",
     "output_type": "stream",
     "text": [
      "Enter the total rainfall for each month in the boxes below (in inches).\n",
      "Once all information has been entered the following will be calculated:\n",
      "\n",
      "Total yearly rainfall.\n",
      "Average monthly rainfall.\n",
      "Months with highest and lowest rainfall.\n"
     ]
    }
   ],
   "source": [
    "def main():\n",
    "    directions()\n",
    "    \n",
    "def directions():\n",
    "    print('Enter the total rainfall for each month in the boxes below (in inches).')\n",
    "    print('Once all information has been entered the following will be calculated:\\n')\n",
    "    print('Total yearly rainfall.\\nAverage monthly rainfall.\\nMonths with highest and lowest rainfall.')\n",
    "\n",
    "if __name__ == '__main__':\n",
    "    main()   "
   ]
  },
  {
   "cell_type": "markdown",
   "id": "3bad2eb4",
   "metadata": {},
   "source": [
    "That looks good so far, now to add in the function that gets the users inputs. \n",
    "\n",
    "It should be quite similar to the code from the previous question."
   ]
  },
  {
   "cell_type": "code",
   "execution_count": 68,
   "id": "2f0c919a",
   "metadata": {},
   "outputs": [
    {
     "name": "stdout",
     "output_type": "stream",
     "text": [
      "Enter the total rainfall for each month in the boxes below (in inches).\n",
      "Once all information has been entered the following will be calculated:\n",
      "\n",
      "Total yearly rainfall.\n",
      "Average monthly rainfall.\n",
      "Months with highest and lowest rainfall.\n",
      "Total monthly rainfall in January: 12\n",
      "Total monthly rainfall in February: 4\n",
      "Total monthly rainfall in March: 44\n",
      "Total monthly rainfall in April: 1\n",
      "Total monthly rainfall in May: 2\n",
      "Total monthly rainfall in June: 274\n",
      "Total monthly rainfall in July: 2\n",
      "Total monthly rainfall in August: 5\n",
      "Total monthly rainfall in September: 7\n",
      "Total monthly rainfall in October: 2\n",
      "Total monthly rainfall in November: 24\n",
      "Total monthly rainfall in December: 2\n",
      "['12', '4', '44', '1', '2', '274', '2', '5', '7', '2', '24', '2']\n"
     ]
    }
   ],
   "source": [
    "def main():\n",
    "    directions()\n",
    "    print(user_inputs())\n",
    "    \n",
    "def user_inputs():\n",
    "    \n",
    "    months = ('January','February','March','April','May','June','July','August','September','October','November','December')\n",
    "    inputs = []\n",
    "\n",
    "    for month in months:\n",
    "        inputs.append(input(f'Total monthly rainfall in {month}: '))\n",
    "                            \n",
    "    return inputs\n",
    "                            \n",
    "def directions():\n",
    "    print('Enter the total rainfall for each month in the boxes below (in inches).')\n",
    "    print('Once all information has been entered the following will be calculated:\\n')\n",
    "    print('Total yearly rainfall.\\nAverage monthly rainfall.\\nMonths with highest and lowest rainfall.')\n",
    "\n",
    "if __name__ == '__main__':\n",
    "    main()   "
   ]
  },
  {
   "cell_type": "markdown",
   "id": "cb045d71",
   "metadata": {},
   "source": [
    "Everything seems to be working properly so far!\n",
    "\n",
    "Now I need to create the functions that will do all of the other calculations. "
   ]
  },
  {
   "cell_type": "markdown",
   "id": "a34a6b40",
   "metadata": {},
   "source": [
    "Lets start with the total rainfall function."
   ]
  },
  {
   "cell_type": "code",
   "execution_count": 75,
   "id": "6d90f536",
   "metadata": {},
   "outputs": [
    {
     "name": "stdout",
     "output_type": "stream",
     "text": [
      "Enter the total rainfall for each month in the boxes below (in inches).\n",
      "Once all information has been entered the following will be calculated:\n",
      "\n",
      "Total yearly rainfall.\n",
      "Average monthly rainfall.\n",
      "Months with highest and lowest rainfall.\n",
      "\n",
      "Total monthly rainfall in January: 10\n",
      "Total monthly rainfall in February: 12\n",
      "Total monthly rainfall in March: 224\n",
      "Total monthly rainfall in April: 2\n",
      "Total monthly rainfall in May: 2\n",
      "Total monthly rainfall in June: 2\n",
      "Total monthly rainfall in July: 4\n",
      "Total monthly rainfall in August: 2\n",
      "Total monthly rainfall in September: 75\n",
      "Total monthly rainfall in October: 5\n",
      "Total monthly rainfall in November: 6\n",
      "Total monthly rainfall in December: 24\n",
      "The total rainfall for the year was 368.0\n"
     ]
    }
   ],
   "source": [
    "user_inputs = []\n",
    "\n",
    "def main():\n",
    "    directions()\n",
    "    \n",
    "    user_inputs()\n",
    "    \n",
    "    print((f'The total rainfall for the year was {total_rainfall():.1f}'))\n",
    "    \n",
    "def user_inputs():\n",
    "    \n",
    "    months = ('January','February','March','April','May','June','July','August','September','October','November','December')\n",
    "    inputs = []\n",
    "\n",
    "    for month in months:\n",
    "        inputs.append(input(f'Total monthly rainfall in {month}: '))\n",
    "                            \n",
    "    global user_inputs \n",
    "    user_inputs = inputs\n",
    "\n",
    "\n",
    "def total_rainfall():\n",
    "    \n",
    "    total_rainfall = 0\n",
    "    \n",
    "    for month in user_inputs:\n",
    "        total_rainfall += float(month)\n",
    "        \n",
    "    return total_rainfall\n",
    "    \n",
    "def directions():\n",
    "    print('Enter the total rainfall for each month in the boxes below (in inches).')\n",
    "    print('Once all information has been entered the following will be calculated:\\n')\n",
    "    print('Total yearly rainfall.\\nAverage monthly rainfall.\\nMonths with highest and lowest rainfall.\\n')\n",
    "\n",
    "if __name__ == '__main__':\n",
    "    main()   "
   ]
  },
  {
   "cell_type": "markdown",
   "id": "37b016f8",
   "metadata": {},
   "source": [
    "\n"
   ]
  },
  {
   "cell_type": "markdown",
   "id": "b529eb76",
   "metadata": {},
   "source": [
    "That looks like that function works right! Now onto the average rainfall function. "
   ]
  },
  {
   "cell_type": "code",
   "execution_count": 76,
   "id": "cf4713e6",
   "metadata": {},
   "outputs": [
    {
     "name": "stdout",
     "output_type": "stream",
     "text": [
      "Enter the total rainfall for each month in the boxes below (in inches).\n",
      "Once all information has been entered the following will be calculated:\n",
      "\n",
      "Total yearly rainfall.\n",
      "Average monthly rainfall.\n",
      "Months with highest and lowest rainfall.\n",
      "\n",
      "Total monthly rainfall in January: 1\n",
      "Total monthly rainfall in February: 1\n",
      "Total monthly rainfall in March: 1\n",
      "Total monthly rainfall in April: 1\n",
      "Total monthly rainfall in May: 1\n",
      "Total monthly rainfall in June: 1\n",
      "Total monthly rainfall in July: 1\n",
      "Total monthly rainfall in August: 1\n",
      "Total monthly rainfall in September: 1\n",
      "Total monthly rainfall in October: 1\n",
      "Total monthly rainfall in November: 1\n",
      "Total monthly rainfall in December: 1\n",
      "The total rainfall for the year was 12.0 inches\n",
      "The average rainfall for the year was 1.00 inches\n"
     ]
    }
   ],
   "source": [
    "user_inputs = []\n",
    "\n",
    "def main():\n",
    "    directions()\n",
    "    \n",
    "    user_inputs()\n",
    "    \n",
    "    print((f'The total rainfall for the year was {total_rainfall():.1f} inches'))\n",
    "    print((f'The average rainfall for the year was {average_rainfall():.2f} inches'))\n",
    "    \n",
    "def user_inputs():\n",
    "    \n",
    "    months = ('January','February','March','April','May','June','July','August','September','October','November','December')\n",
    "    inputs = []\n",
    "\n",
    "    for month in months:\n",
    "        inputs.append(input(f'Total monthly rainfall in {month}: '))\n",
    "                            \n",
    "    global user_inputs \n",
    "    user_inputs = inputs\n",
    "\n",
    "\n",
    "def total_rainfall():\n",
    "    \n",
    "    total_rainfall = 0\n",
    "    \n",
    "    for month in user_inputs:\n",
    "        total_rainfall += float(month)\n",
    "        \n",
    "    return total_rainfall\n",
    "\n",
    "def average_rainfall():\n",
    "    \n",
    "    average = (total_rainfall())/12\n",
    "    \n",
    "    return average\n",
    "\n",
    "def directions():\n",
    "    print('Enter the total rainfall for each month in the boxes below (in inches).')\n",
    "    print('Once all information has been entered the following will be calculated:\\n')\n",
    "    print('Total yearly rainfall.\\nAverage monthly rainfall.\\nMonths with highest and lowest rainfall.\\n')\n",
    "\n",
    "if __name__ == '__main__':\n",
    "    main()   "
   ]
  },
  {
   "cell_type": "markdown",
   "id": "0712dfeb",
   "metadata": {},
   "source": [
    "Ok that function seems to be working properly as well. \n",
    "\n",
    "Now onto the last two functions, the minimum and maximum rainfall months. "
   ]
  },
  {
   "cell_type": "code",
   "execution_count": 78,
   "id": "8cba76ec",
   "metadata": {},
   "outputs": [
    {
     "name": "stdout",
     "output_type": "stream",
     "text": [
      "Enter the total rainfall for each month in the boxes below (in inches).\n",
      "Once all information has been entered the following will be calculated:\n",
      "\n",
      "Total yearly rainfall.\n",
      "Average monthly rainfall.\n",
      "Months with highest and lowest rainfall.\n",
      "\n",
      "Total monthly rainfall in January: 7\n",
      "Total monthly rainfall in February: 1\n",
      "Total monthly rainfall in March: 1\n",
      "Total monthly rainfall in April: 1\n",
      "Total monthly rainfall in May: 1\n",
      "Total monthly rainfall in June: 1\n",
      "Total monthly rainfall in July: .5\n",
      "Total monthly rainfall in August: 1\n",
      "Total monthly rainfall in September: 1\n",
      "Total monthly rainfall in October: 1\n",
      "Total monthly rainfall in November: 1\n",
      "Total monthly rainfall in December: 1\n",
      "The total rainfall for the year was 17.5 inches\n",
      "The average rainfall for the year was 1.46 inches\n",
      "('.5', '1')\n",
      "('7', 0)\n"
     ]
    }
   ],
   "source": [
    "user_inputs = []\n",
    "\n",
    "def main():\n",
    "    directions()\n",
    "    \n",
    "    user_inputs()\n",
    "    \n",
    "    print((f'The total rainfall for the year was {total_rainfall():.1f} inches'))\n",
    "    print((f'The average rainfall for the year was {average_rainfall():.2f} inches'))\n",
    "    \n",
    "    #Testing the outputs of max an min functions\n",
    "    print(min_rainfall())\n",
    "    print(max_rainfall())\n",
    "    \n",
    "def user_inputs():\n",
    "    \n",
    "    months = ('January','February','March','April','May','June','July','August','September','October','November','December')\n",
    "    inputs = []\n",
    "\n",
    "    for month in months:\n",
    "        inputs.append(input(f'Total monthly rainfall in {month}: '))\n",
    "                            \n",
    "    global user_inputs \n",
    "    user_inputs = inputs\n",
    "\n",
    "\n",
    "def total_rainfall():\n",
    "    \n",
    "    total_rainfall = 0\n",
    "    \n",
    "    for month in user_inputs:\n",
    "        total_rainfall += float(month)\n",
    "        \n",
    "    return total_rainfall\n",
    "\n",
    "def average_rainfall():\n",
    "    \n",
    "    average = (total_rainfall())/12\n",
    "    \n",
    "    return average\n",
    "\n",
    "def min_rainfall():\n",
    "    \n",
    "    index = 0\n",
    "    minimum = min(user_inputs)\n",
    "    \n",
    "    for count in user_inputs:\n",
    "        if minimum in user_inputs:\n",
    "            index = count\n",
    "    \n",
    "    return minimum, index\n",
    "\n",
    "def max_rainfall():\n",
    "    \n",
    "    index = 0\n",
    "    maximum = max(user_inputs)\n",
    "    \n",
    "    for count in user_inputs:\n",
    "        if maximum is user_inputs:\n",
    "            index = count\n",
    "            \n",
    "    return maximum, index\n",
    "    \n",
    "    \n",
    "def directions():\n",
    "    print('Enter the total rainfall for each month in the boxes below (in inches).')\n",
    "    print('Once all information has been entered the following will be calculated:\\n')\n",
    "    print('Total yearly rainfall.\\nAverage monthly rainfall.\\nMonths with highest and lowest rainfall.\\n')\n",
    "\n",
    "if __name__ == '__main__':\n",
    "    main()   "
   ]
  },
  {
   "cell_type": "markdown",
   "id": "f88e4d85",
   "metadata": {},
   "source": [
    "So I am trying to get the index of the maximum and minimum values in the list so that the code can display the month that each happened in as well. Something seems to have gone slightly wrong though so I am going to try to add in a count accumulator. "
   ]
  },
  {
   "cell_type": "code",
   "execution_count": 79,
   "id": "f6697431",
   "metadata": {},
   "outputs": [
    {
     "name": "stdout",
     "output_type": "stream",
     "text": [
      "Enter the total rainfall for each month in the boxes below (in inches).\n",
      "Once all information has been entered the following will be calculated:\n",
      "\n",
      "Total yearly rainfall.\n",
      "Average monthly rainfall.\n",
      "Months with highest and lowest rainfall.\n",
      "\n",
      "Total monthly rainfall in January: 1\n",
      "Total monthly rainfall in February: 1\n",
      "Total monthly rainfall in March: 7\n",
      "Total monthly rainfall in April: 1\n",
      "Total monthly rainfall in May: 1\n",
      "Total monthly rainfall in June: .5\n",
      "Total monthly rainfall in July: 1\n",
      "Total monthly rainfall in August: 1\n",
      "Total monthly rainfall in September: 1\n",
      "Total monthly rainfall in October: 1\n",
      "Total monthly rainfall in November: 1\n",
      "Total monthly rainfall in December: 1\n",
      "The total rainfall for the year was 17.5 inches\n",
      "The average rainfall for the year was 1.46 inches\n",
      "('.5', '1')\n"
     ]
    },
    {
     "ename": "TypeError",
     "evalue": "can only concatenate str (not \"int\") to str",
     "output_type": "error",
     "traceback": [
      "\u001b[1;31m---------------------------------------------------------------------------\u001b[0m",
      "\u001b[1;31mTypeError\u001b[0m                                 Traceback (most recent call last)",
      "Cell \u001b[1;32mIn[79], line 77\u001b[0m\n\u001b[0;32m     74\u001b[0m     \u001b[38;5;28mprint\u001b[39m(\u001b[38;5;124m'\u001b[39m\u001b[38;5;124mTotal yearly rainfall.\u001b[39m\u001b[38;5;130;01m\\n\u001b[39;00m\u001b[38;5;124mAverage monthly rainfall.\u001b[39m\u001b[38;5;130;01m\\n\u001b[39;00m\u001b[38;5;124mMonths with highest and lowest rainfall.\u001b[39m\u001b[38;5;130;01m\\n\u001b[39;00m\u001b[38;5;124m'\u001b[39m)\n\u001b[0;32m     76\u001b[0m \u001b[38;5;28;01mif\u001b[39;00m \u001b[38;5;18m__name__\u001b[39m \u001b[38;5;241m==\u001b[39m \u001b[38;5;124m'\u001b[39m\u001b[38;5;124m__main__\u001b[39m\u001b[38;5;124m'\u001b[39m:\n\u001b[1;32m---> 77\u001b[0m     main()\n",
      "Cell \u001b[1;32mIn[79], line 13\u001b[0m, in \u001b[0;36mmain\u001b[1;34m()\u001b[0m\n\u001b[0;32m     11\u001b[0m \u001b[38;5;66;03m#Testing the outputs of max an min functions\u001b[39;00m\n\u001b[0;32m     12\u001b[0m \u001b[38;5;28mprint\u001b[39m(min_rainfall())\n\u001b[1;32m---> 13\u001b[0m \u001b[38;5;28mprint\u001b[39m(max_rainfall())\n",
      "Cell \u001b[1;32mIn[79], line 66\u001b[0m, in \u001b[0;36mmax_rainfall\u001b[1;34m()\u001b[0m\n\u001b[0;32m     64\u001b[0m         index \u001b[38;5;241m=\u001b[39m count\n\u001b[0;32m     65\u001b[0m     \u001b[38;5;28;01melse\u001b[39;00m:\n\u001b[1;32m---> 66\u001b[0m         count \u001b[38;5;241m+\u001b[39m\u001b[38;5;241m=\u001b[39m \u001b[38;5;241m1\u001b[39m\n\u001b[0;32m     68\u001b[0m \u001b[38;5;28;01mreturn\u001b[39;00m maximum, index\n",
      "\u001b[1;31mTypeError\u001b[0m: can only concatenate str (not \"int\") to str"
     ]
    }
   ],
   "source": [
    "user_inputs = []\n",
    "\n",
    "def main():\n",
    "    directions()\n",
    "    \n",
    "    user_inputs()\n",
    "    \n",
    "    print((f'The total rainfall for the year was {total_rainfall():.1f} inches'))\n",
    "    print((f'The average rainfall for the year was {average_rainfall():.2f} inches'))\n",
    "    \n",
    "    #Testing the outputs of max an min functions\n",
    "    print(min_rainfall())\n",
    "    print(max_rainfall())\n",
    "    \n",
    "def user_inputs():\n",
    "    \n",
    "    months = ('January','February','March','April','May','June','July','August','September','October','November','December')\n",
    "    inputs = []\n",
    "\n",
    "    for month in months:\n",
    "        inputs.append(input(f'Total monthly rainfall in {month}: '))\n",
    "                            \n",
    "    global user_inputs \n",
    "    user_inputs = inputs\n",
    "\n",
    "\n",
    "def total_rainfall():\n",
    "    \n",
    "    total_rainfall = 0\n",
    "    \n",
    "    for month in user_inputs:\n",
    "        total_rainfall += float(month)\n",
    "        \n",
    "    return total_rainfall\n",
    "\n",
    "def average_rainfall():\n",
    "    \n",
    "    average = (total_rainfall())/12\n",
    "    \n",
    "    return average\n",
    "\n",
    "def min_rainfall():\n",
    "    \n",
    "    count = 0\n",
    "    index = 0\n",
    "    minimum = min(user_inputs)\n",
    "    \n",
    "    for count in user_inputs:\n",
    "        if minimum in user_inputs:\n",
    "            index = count\n",
    "        else:\n",
    "            count += 1\n",
    "    \n",
    "    return minimum, index\n",
    "\n",
    "def max_rainfall():\n",
    "    \n",
    "    count = 0 \n",
    "    index = 0\n",
    "    maximum = max(user_inputs)\n",
    "    \n",
    "    for count in user_inputs:\n",
    "        if maximum is user_inputs:\n",
    "            index = count\n",
    "        else:\n",
    "            count += 1\n",
    "            \n",
    "    return maximum, index\n",
    "    \n",
    "    \n",
    "def directions():\n",
    "    print('Enter the total rainfall for each month in the boxes below (in inches).')\n",
    "    print('Once all information has been entered the following will be calculated:\\n')\n",
    "    print('Total yearly rainfall.\\nAverage monthly rainfall.\\nMonths with highest and lowest rainfall.\\n')\n",
    "\n",
    "if __name__ == '__main__':\n",
    "    main()   "
   ]
  },
  {
   "cell_type": "markdown",
   "id": "e482e479",
   "metadata": {},
   "source": [
    "I just realized I can probably just use the index function to do this opperation."
   ]
  },
  {
   "cell_type": "code",
   "execution_count": 80,
   "id": "16325b84",
   "metadata": {},
   "outputs": [
    {
     "name": "stdout",
     "output_type": "stream",
     "text": [
      "Enter the total rainfall for each month in the boxes below (in inches).\n",
      "Once all information has been entered the following will be calculated:\n",
      "\n",
      "Total yearly rainfall.\n",
      "Average monthly rainfall.\n",
      "Months with highest and lowest rainfall.\n",
      "\n",
      "Total monthly rainfall in January: 7\n",
      "Total monthly rainfall in February: 1\n",
      "Total monthly rainfall in March: 1\n",
      "Total monthly rainfall in April: 1\n",
      "Total monthly rainfall in May: 1\n",
      "Total monthly rainfall in June: 1\n",
      "Total monthly rainfall in July: .5\n",
      "Total monthly rainfall in August: 1\n",
      "Total monthly rainfall in September: 1\n",
      "Total monthly rainfall in October: 1\n",
      "Total monthly rainfall in November: 1\n",
      "Total monthly rainfall in December: 1\n",
      "The total rainfall for the year was 17.5 inches\n",
      "The average rainfall for the year was 1.46 inches\n",
      "('.5', 6)\n",
      "('7', 0)\n"
     ]
    }
   ],
   "source": [
    "user_inputs = []\n",
    "\n",
    "def main():\n",
    "    directions()\n",
    "    \n",
    "    user_inputs()\n",
    "    \n",
    "    print((f'The total rainfall for the year was {total_rainfall():.1f} inches'))\n",
    "    print((f'The average rainfall for the year was {average_rainfall():.2f} inches'))\n",
    "    \n",
    "    #Testing the outputs of max an min functions\n",
    "    print(min_rainfall())\n",
    "    print(max_rainfall())\n",
    "    \n",
    "def user_inputs():\n",
    "    \n",
    "    months = ('January','February','March','April','May','June','July','August','September','October','November','December')\n",
    "    inputs = []\n",
    "\n",
    "    for month in months:\n",
    "        inputs.append(input(f'Total monthly rainfall in {month}: '))\n",
    "                            \n",
    "    global user_inputs \n",
    "    user_inputs = inputs\n",
    "\n",
    "\n",
    "def total_rainfall():\n",
    "    \n",
    "    total_rainfall = 0\n",
    "    \n",
    "    for month in user_inputs:\n",
    "        total_rainfall += float(month)\n",
    "        \n",
    "    return total_rainfall\n",
    "\n",
    "def average_rainfall():\n",
    "    \n",
    "    average = (total_rainfall())/12\n",
    "    \n",
    "    return average\n",
    "\n",
    "def min_rainfall():\n",
    "    \n",
    "    index = 0\n",
    "    minimum = min(user_inputs)\n",
    "    index = user_inputs.index(minimum)\n",
    "    \n",
    "    return minimum, index\n",
    "\n",
    "def max_rainfall():\n",
    "    \n",
    "    index = 0\n",
    "    maximum = max(user_inputs)\n",
    "    index = user_inputs.index(maximum)\n",
    "            \n",
    "    return maximum, index\n",
    "    \n",
    "    \n",
    "def directions():\n",
    "    print('Enter the total rainfall for each month in the boxes below (in inches).')\n",
    "    print('Once all information has been entered the following will be calculated:\\n')\n",
    "    print('Total yearly rainfall.\\nAverage monthly rainfall.\\nMonths with highest and lowest rainfall.\\n')\n",
    "\n",
    "if __name__ == '__main__':\n",
    "    main()   "
   ]
  },
  {
   "cell_type": "markdown",
   "id": "f97a1055",
   "metadata": {},
   "source": [
    "Perfect! That seems to have worked! Now I just need to add in the code that searches for the month with that index. "
   ]
  },
  {
   "cell_type": "code",
   "execution_count": 84,
   "id": "76418796",
   "metadata": {},
   "outputs": [
    {
     "name": "stdout",
     "output_type": "stream",
     "text": [
      "Enter the total rainfall for each month in the boxes below (in inches).\n",
      "Once all information has been entered the following will be calculated:\n",
      "\n",
      "Total yearly rainfall.\n",
      "Average monthly rainfall.\n",
      "Months with highest and lowest rainfall.\n",
      "\n",
      "Total monthly rainfall in January: 1\n",
      "Total monthly rainfall in February: 7\n",
      "Total monthly rainfall in March: 1\n",
      "Total monthly rainfall in April: 1\n",
      "Total monthly rainfall in May: 1\n",
      "Total monthly rainfall in June: .5\n",
      "Total monthly rainfall in July: 1\n",
      "Total monthly rainfall in August: 1\n",
      "Total monthly rainfall in September: 1\n",
      "Total monthly rainfall in October: 1\n",
      "Total monthly rainfall in November: 1\n",
      "Total monthly rainfall in December: 1\n",
      "The total rainfall for the year was 17.5 inches\n",
      "The average rainfall for the year was 1.46 inches\n",
      "('.5', 'June')\n",
      "('7', 'February')\n"
     ]
    }
   ],
   "source": [
    "user_inputs = []\n",
    "#Moved this variable list so that its a global constant\n",
    "months = ('January','February','March','April','May','June','July','August','September','October','November','December')\n",
    "\n",
    "def main():\n",
    "    directions()\n",
    "    \n",
    "    user_inputs()\n",
    "    \n",
    "    print((f'The total rainfall for the year was {total_rainfall():.1f} inches'))\n",
    "    print((f'The average rainfall for the year was {average_rainfall():.2f} inches'))\n",
    "    \n",
    "    #Testing the outputs of max an min functions\n",
    "    print(min_rainfall())\n",
    "    print(max_rainfall())\n",
    "    \n",
    "def user_inputs():\n",
    "    \n",
    "    inputs = []\n",
    "\n",
    "    for month in months:\n",
    "        inputs.append(input(f'Total monthly rainfall in {month}: '))\n",
    "                            \n",
    "    global user_inputs \n",
    "    user_inputs = inputs\n",
    "\n",
    "\n",
    "def total_rainfall():\n",
    "    \n",
    "    total_rainfall = 0\n",
    "    \n",
    "    for month in user_inputs:\n",
    "        total_rainfall += float(month)\n",
    "        \n",
    "    return total_rainfall\n",
    "\n",
    "def average_rainfall():\n",
    "    \n",
    "    average = (total_rainfall())/12\n",
    "    \n",
    "    return average\n",
    "\n",
    "def min_rainfall():\n",
    "    \n",
    "    index = 0\n",
    "    minimum = min(user_inputs)\n",
    "    index = user_inputs.index(minimum)\n",
    "    \n",
    "    return minimum, months[index]\n",
    "\n",
    "def max_rainfall():\n",
    "    \n",
    "    index = 0\n",
    "    maximum = max(user_inputs)\n",
    "    index = user_inputs.index(maximum)\n",
    "            \n",
    "    return maximum, months[index]\n",
    "    \n",
    "    \n",
    "def directions():\n",
    "    print('Enter the total rainfall for each month in the boxes below (in inches).')\n",
    "    print('Once all information has been entered the following will be calculated:\\n')\n",
    "    print('Total yearly rainfall.\\nAverage monthly rainfall.\\nMonths with highest and lowest rainfall.\\n')\n",
    "\n",
    "if __name__ == '__main__':\n",
    "    main()   "
   ]
  },
  {
   "cell_type": "markdown",
   "id": "81d324d0",
   "metadata": {},
   "source": [
    "IT WORKS!"
   ]
  },
  {
   "cell_type": "markdown",
   "id": "03d76106",
   "metadata": {},
   "source": [
    "Ok, I got a little over excited there, now I think I just need to neaten the code and make the output look better!"
   ]
  },
  {
   "cell_type": "code",
   "execution_count": 85,
   "id": "6614dc34",
   "metadata": {},
   "outputs": [
    {
     "name": "stdout",
     "output_type": "stream",
     "text": [
      "Enter the total rainfall for each month in the boxes below (in inches).\n",
      "Once all information has been entered the following will be calculated:\n",
      "\n",
      "Total yearly rainfall.\n",
      "Average monthly rainfall.\n",
      "Months with highest and lowest rainfall.\n",
      "\n",
      "Total monthly rainfall in January: 1\n",
      "Total monthly rainfall in February: 7\n",
      "Total monthly rainfall in March: 1\n",
      "Total monthly rainfall in April: 1\n",
      "Total monthly rainfall in May: 1\n",
      "Total monthly rainfall in June: .5\n",
      "Total monthly rainfall in July: 1\n",
      "Total monthly rainfall in August: 1\n",
      "Total monthly rainfall in September: 1\n",
      "Total monthly rainfall in October: 1\n",
      "Total monthly rainfall in November: 1\n",
      "Total monthly rainfall in December: 1\n",
      "The total rainfall for the year was 17.5 inches\n",
      "The average rainfall for the year was 1.46 inches\n"
     ]
    },
    {
     "ename": "NameError",
     "evalue": "name 'minimum' is not defined",
     "output_type": "error",
     "traceback": [
      "\u001b[1;31m---------------------------------------------------------------------------\u001b[0m",
      "\u001b[1;31mNameError\u001b[0m                                 Traceback (most recent call last)",
      "Cell \u001b[1;32mIn[85], line 68\u001b[0m\n\u001b[0;32m     65\u001b[0m     \u001b[38;5;28mprint\u001b[39m(\u001b[38;5;124m'\u001b[39m\u001b[38;5;124mTotal yearly rainfall.\u001b[39m\u001b[38;5;130;01m\\n\u001b[39;00m\u001b[38;5;124mAverage monthly rainfall.\u001b[39m\u001b[38;5;130;01m\\n\u001b[39;00m\u001b[38;5;124mMonths with highest and lowest rainfall.\u001b[39m\u001b[38;5;130;01m\\n\u001b[39;00m\u001b[38;5;124m'\u001b[39m)\n\u001b[0;32m     67\u001b[0m \u001b[38;5;28;01mif\u001b[39;00m \u001b[38;5;18m__name__\u001b[39m \u001b[38;5;241m==\u001b[39m \u001b[38;5;124m'\u001b[39m\u001b[38;5;124m__main__\u001b[39m\u001b[38;5;124m'\u001b[39m:\n\u001b[1;32m---> 68\u001b[0m     main()\n",
      "Cell \u001b[1;32mIn[85], line 13\u001b[0m, in \u001b[0;36mmain\u001b[1;34m()\u001b[0m\n\u001b[0;32m     10\u001b[0m \u001b[38;5;28mprint\u001b[39m((\u001b[38;5;124mf\u001b[39m\u001b[38;5;124m'\u001b[39m\u001b[38;5;124mThe total rainfall for the year was \u001b[39m\u001b[38;5;132;01m{\u001b[39;00mtotal_rainfall()\u001b[38;5;132;01m:\u001b[39;00m\u001b[38;5;124m.1f\u001b[39m\u001b[38;5;132;01m}\u001b[39;00m\u001b[38;5;124m inches\u001b[39m\u001b[38;5;124m'\u001b[39m))\n\u001b[0;32m     11\u001b[0m \u001b[38;5;28mprint\u001b[39m((\u001b[38;5;124mf\u001b[39m\u001b[38;5;124m'\u001b[39m\u001b[38;5;124mThe average rainfall for the year was \u001b[39m\u001b[38;5;132;01m{\u001b[39;00maverage_rainfall()\u001b[38;5;132;01m:\u001b[39;00m\u001b[38;5;124m.2f\u001b[39m\u001b[38;5;132;01m}\u001b[39;00m\u001b[38;5;124m inches\u001b[39m\u001b[38;5;124m'\u001b[39m))\n\u001b[1;32m---> 13\u001b[0m \u001b[38;5;28mprint\u001b[39m(\u001b[38;5;124mf\u001b[39m\u001b[38;5;124m'\u001b[39m\u001b[38;5;124mThe minimum rainfall that fell during the year was \u001b[39m\u001b[38;5;132;01m{\u001b[39;00mmin_rainfall(minimum)\u001b[38;5;132;01m}\u001b[39;00m\u001b[38;5;124m inches,\u001b[39m\u001b[38;5;130;01m\\\u001b[39;00m\n\u001b[0;32m     14\u001b[0m \u001b[38;5;124mwhich occured in \u001b[39m\u001b[38;5;132;01m{\u001b[39;00mmin_rainfall(months)\u001b[38;5;132;01m}\u001b[39;00m\u001b[38;5;124m.\u001b[39m\u001b[38;5;124m'\u001b[39m)\n\u001b[0;32m     15\u001b[0m \u001b[38;5;28mprint\u001b[39m(\u001b[38;5;124mf\u001b[39m\u001b[38;5;124m'\u001b[39m\u001b[38;5;124mThe maximum rainfall that fell during the year was \u001b[39m\u001b[38;5;132;01m{\u001b[39;00mmax_rainfall(maximum)\u001b[38;5;132;01m}\u001b[39;00m\u001b[38;5;124m inches,\u001b[39m\u001b[38;5;130;01m\\\u001b[39;00m\n\u001b[0;32m     16\u001b[0m \u001b[38;5;124mwhich occured in \u001b[39m\u001b[38;5;132;01m{\u001b[39;00mmax_rainfall(months)\u001b[38;5;132;01m}\u001b[39;00m\u001b[38;5;124m.\u001b[39m\u001b[38;5;124m'\u001b[39m)\n",
      "\u001b[1;31mNameError\u001b[0m: name 'minimum' is not defined"
     ]
    }
   ],
   "source": [
    "user_inputs = []\n",
    "#Moved this variable list so that its a global constant\n",
    "months = ('January','February','March','April','May','June','July','August','September','October','November','December')\n",
    "\n",
    "def main():\n",
    "    directions()\n",
    "    \n",
    "    user_inputs()\n",
    "    \n",
    "    print((f'The total rainfall for the year was {total_rainfall():.1f} inches'))\n",
    "    print((f'The average rainfall for the year was {average_rainfall():.2f} inches'))\n",
    "    \n",
    "    print(f'The minimum rainfall that fell during the year was {min_rainfall(minimum)} inches,\\\n",
    "    which occured in {min_rainfall(months)}.')\n",
    "    print(f'The maximum rainfall that fell during the year was {max_rainfall(maximum)} inches,\\\n",
    "    which occured in {max_rainfall(months)}.')\n",
    "def user_inputs():\n",
    "    \n",
    "    inputs = []\n",
    "\n",
    "    for month in months:\n",
    "        inputs.append(input(f'Total monthly rainfall in {month}: '))\n",
    "                            \n",
    "    global user_inputs \n",
    "    user_inputs = inputs\n",
    "\n",
    "\n",
    "def total_rainfall():\n",
    "    \n",
    "    total_rainfall = 0\n",
    "    \n",
    "    for month in user_inputs:\n",
    "        total_rainfall += float(month)\n",
    "        \n",
    "    return total_rainfall\n",
    "\n",
    "def average_rainfall():\n",
    "    \n",
    "    average = (total_rainfall())/12\n",
    "    \n",
    "    return average\n",
    "\n",
    "def min_rainfall():\n",
    "    \n",
    "    index = 0\n",
    "    minimum = min(user_inputs)\n",
    "    index = user_inputs.index(minimum)\n",
    "    \n",
    "    \n",
    "    \n",
    "    return minimum, months[index]\n",
    "\n",
    "def max_rainfall():\n",
    "    \n",
    "    index = 0\n",
    "    maximum = max(user_inputs)\n",
    "    index = user_inputs.index(maximum)\n",
    "            \n",
    "    return maximum, months[index]\n",
    "    \n",
    "    \n",
    "def directions():\n",
    "    print('Enter the total rainfall for each month in the boxes below (in inches).')\n",
    "    print('Once all information has been entered the following will be calculated:\\n')\n",
    "    print('Total yearly rainfall.\\nAverage monthly rainfall.\\nMonths with highest and lowest rainfall.\\n')\n",
    "\n",
    "if __name__ == '__main__':\n",
    "    main()   "
   ]
  },
  {
   "cell_type": "markdown",
   "id": "b3fe839f",
   "metadata": {},
   "source": [
    "I need to add another function to redefine variables in."
   ]
  },
  {
   "cell_type": "code",
   "execution_count": 93,
   "id": "feeb9945",
   "metadata": {},
   "outputs": [
    {
     "name": "stdout",
     "output_type": "stream",
     "text": [
      "Enter the total rainfall for each month in the boxes below (in inches).\n",
      "Once all information has been entered the following will be calculated:\n",
      "\n",
      "Total yearly rainfall.\n",
      "Average monthly rainfall.\n",
      "Months with highest and lowest rainfall.\n",
      "\n",
      "Total monthly rainfall in January: 1\n",
      "Total monthly rainfall in February: .5\n",
      "Total monthly rainfall in March: 7\n",
      "Total monthly rainfall in April: 1\n",
      "Total monthly rainfall in May: 1\n",
      "Total monthly rainfall in June: 1\n",
      "Total monthly rainfall in July: 1\n",
      "Total monthly rainfall in August: 1\n",
      "Total monthly rainfall in September: 1\n",
      "Total monthly rainfall in October: 1\n",
      "Total monthly rainfall in November: 1\n",
      "Total monthly rainfall in December: 1\n",
      "The total rainfall for the year was 17.5 inches\n",
      "The average rainfall for the year was 1.46 inches\n",
      "The minimum rainfall that fell during the year was .5 inches,    which occured in February.\n",
      "The maximum rainfall that fell during the year was 7 inches,    which occured in March.\n"
     ]
    }
   ],
   "source": [
    "user_inputs = []\n",
    "#Moved this variable list so that its a global constant\n",
    "months = ('January','February','March','April','May','June','July','August','September','October','November','December')\n",
    "\n",
    "def main():\n",
    "    directions()\n",
    "    \n",
    "    user_inputs()\n",
    "    \n",
    "    calculations()\n",
    "\n",
    "def user_inputs():\n",
    "    \n",
    "    inputs = []\n",
    "\n",
    "    for month in months:\n",
    "        inputs.append(input(f'Total monthly rainfall in {month}: '))\n",
    "                            \n",
    "    global user_inputs \n",
    "    user_inputs = inputs\n",
    "\n",
    "def calculations():\n",
    "    \n",
    "    print((f'The total rainfall for the year was {total_rainfall():.1f} inches'))\n",
    "    print((f'The average rainfall for the year was {average_rainfall():.2f} inches'))\n",
    "    \n",
    "    min_rain, min_month = min_rainfall()\n",
    "    print(f'The minimum rainfall that fell during the year was {min_rain} inches,\\\n",
    "    which occured in {min_month}.')\n",
    "    \n",
    "    max_rain, max_month = max_rainfall()\n",
    "    print(f'The maximum rainfall that fell during the year was {max_rain} inches,\\\n",
    "    which occured in {max_month}.')\n",
    "\n",
    "def total_rainfall():\n",
    "    \n",
    "    total_rainfall = 0\n",
    "    \n",
    "    for month in user_inputs:\n",
    "        total_rainfall += float(month)\n",
    "        \n",
    "    return total_rainfall\n",
    "\n",
    "def average_rainfall():\n",
    "    \n",
    "    average = (total_rainfall())/12\n",
    "    \n",
    "    return average\n",
    "\n",
    "def min_rainfall():\n",
    "    \n",
    "    index = 0\n",
    "    minimum = min(user_inputs)\n",
    "    index = user_inputs.index(minimum)\n",
    "    \n",
    "    return minimum, months[index]\n",
    "\n",
    "def max_rainfall():\n",
    "    \n",
    "    index = 0\n",
    "    maximum = max(user_inputs)\n",
    "    index = user_inputs.index(maximum)\n",
    "            \n",
    "    return maximum, months[index]\n",
    "    \n",
    "    \n",
    "def directions():\n",
    "    print('Enter the total rainfall for each month in the boxes below (in inches).')\n",
    "    print('Once all information has been entered the following will be calculated:\\n')\n",
    "    print('Total yearly rainfall.\\nAverage monthly rainfall.\\nMonths with highest and lowest rainfall.\\n')\n",
    "\n",
    "if __name__ == '__main__':\n",
    "    main()   "
   ]
  },
  {
   "cell_type": "code",
   "execution_count": 102,
   "id": "f91fb6ce",
   "metadata": {},
   "outputs": [
    {
     "name": "stdout",
     "output_type": "stream",
     "text": [
      "Enter the total rainfall for each month in the boxes below (in inches).\n",
      "Once all information has been entered the following will be calculated:\n",
      "\n",
      "Total yearly rainfall.\n",
      "Average monthly rainfall.\n",
      "Months with highest and lowest rainfall.\n",
      "\n",
      "Total monthly rainfall in January: 5\n",
      "Total monthly rainfall in February: 6.5\n",
      "Total monthly rainfall in March: 10\n",
      "Total monthly rainfall in April: 25\n",
      "Total monthly rainfall in May: 1\n",
      "Total monthly rainfall in June: 2.5\n",
      "Total monthly rainfall in July: 15\n",
      "Total monthly rainfall in August: 14\n",
      "Total monthly rainfall in September: 32\n",
      "Total monthly rainfall in October: 8.5\n",
      "Total monthly rainfall in November: 7.8\n",
      "Total monthly rainfall in December: 7\n",
      "\n",
      "\n",
      "The total rainfall for the year was 134.3 inches\n",
      "The average rainfall for the year was 11.19 inches\n",
      "The minimum rainfall that fell during the year was 1 inches, which occured in May.\n",
      "The maximum rainfall that fell during the year was 8.5 inches, which occured in October.\n"
     ]
    }
   ],
   "source": [
    "user_inputs = []\n",
    "#Moved this variable list so that its a global constant\n",
    "months = ('January','February','March','April','May','June','July','August','September','October','November','December')\n",
    "\n",
    "def main():\n",
    "    directions()\n",
    "    \n",
    "    user_inputs()\n",
    "    \n",
    "    calculations()\n",
    "\n",
    "def user_inputs():\n",
    "    \n",
    "    inputs = []\n",
    "\n",
    "    for month in months:\n",
    "        inputs.append(input(f'Total monthly rainfall in {month}: '))\n",
    "                            \n",
    "    global user_inputs \n",
    "    user_inputs = inputs\n",
    "\n",
    "def calculations():\n",
    "    print('\\n')\n",
    "    print((f'The total rainfall for the year was {total_rainfall():.1f} inches'))\n",
    "    print((f'The average rainfall for the year was {average_rainfall():.2f} inches'))\n",
    "    \n",
    "    min_rain, min_month = min_rainfall()\n",
    "    print(f'The minimum rainfall that fell during the year was {min_rain} inches, which occured in {min_month}.')\n",
    "    \n",
    "    max_rain, max_month = max_rainfall()\n",
    "    print(f'The maximum rainfall that fell during the year was {max_rain} inches, which occured in {max_month}.')\n",
    "\n",
    "def total_rainfall():\n",
    "    \n",
    "    total_rainfall = 0\n",
    "    \n",
    "    for month in user_inputs:\n",
    "        total_rainfall += float(month)\n",
    "        \n",
    "    return total_rainfall\n",
    "\n",
    "def average_rainfall():\n",
    "    \n",
    "    average = (total_rainfall())/12\n",
    "    \n",
    "    return average\n",
    "\n",
    "def min_rainfall():\n",
    "    \n",
    "    index = 0\n",
    "    minimum = min(user_inputs)\n",
    "    index = user_inputs.index(minimum)\n",
    "    \n",
    "    return minimum, months[index]\n",
    "\n",
    "def max_rainfall():\n",
    "    \n",
    "    index = 0\n",
    "    maximum = max(user_inputs)\n",
    "    index = user_inputs.index(maximum)\n",
    "            \n",
    "    return maximum, months[index]\n",
    "    \n",
    "    \n",
    "def directions():\n",
    "    print('Enter the total rainfall for each month in the boxes below (in inches).')\n",
    "    print('Once all information has been entered the following will be calculated:\\n')\n",
    "    print('Total yearly rainfall.\\nAverage monthly rainfall.\\nMonths with highest and lowest rainfall.\\n')\n",
    "\n",
    "if __name__ == '__main__':\n",
    "    main()   "
   ]
  },
  {
   "cell_type": "markdown",
   "id": "70355748",
   "metadata": {},
   "source": [
    "The maximum is not right.\n",
    "\n",
    "I consulted ChatGPT and it is because the users inputs are being put in as strings rather than floats which is messing with the max and min functions. This does make a lot of sense because I think that the code is counting the number of characters in the string rather than the actual number value.\n",
    "\n",
    "This means that in my code a value of 1.2 would be bigger than 85 because it has 3 characters instead of 2.\n",
    "Similarly a value of 8 would be the lowers in a list of .2, .5, .8 because it has the fewest characters. \n",
    "\n",
    "I am going to implement the float function into my code and see if that fixes it."
   ]
  },
  {
   "cell_type": "code",
   "execution_count": 103,
   "id": "27828cec",
   "metadata": {},
   "outputs": [
    {
     "name": "stdout",
     "output_type": "stream",
     "text": [
      "Enter the total rainfall for each month in the boxes below (in inches).\n",
      "Once all information has been entered the following will be calculated:\n",
      "\n",
      "Total yearly rainfall.\n",
      "Average monthly rainfall.\n",
      "Months with highest and lowest rainfall.\n",
      "\n",
      "Total monthly rainfall in January: 15.\n",
      "Total monthly rainfall in February: 8.5\n",
      "Total monthly rainfall in March: 7\n",
      "Total monthly rainfall in April: 1.2\n",
      "Total monthly rainfall in May: 5.6\n",
      "Total monthly rainfall in June: 3\n",
      "Total monthly rainfall in July: 25\n",
      "Total monthly rainfall in August: 4.6\n",
      "Total monthly rainfall in September: 8.9\n",
      "Total monthly rainfall in October: 10\n",
      "Total monthly rainfall in November: 12\n",
      "Total monthly rainfall in December: 3.5\n",
      "\n",
      "\n",
      "The total rainfall for the year was 104.3 inches\n",
      "The average rainfall for the year was 8.69 inches\n",
      "The minimum rainfall that fell during the year was 1.2 inches, which occured in April.\n",
      "The maximum rainfall that fell during the year was 25.0 inches, which occured in July.\n"
     ]
    }
   ],
   "source": [
    "#set the variable 'user_inputs' as an empty list\n",
    "user_inputs = []\n",
    "#Assign the variable 'months' a list of the months in the year\n",
    "months = ('January','February','March','April','May','June','July','August','September','October','November','December')\n",
    "\n",
    "#define the main function\n",
    "def main():\n",
    "    #call the directions function \n",
    "    directions()\n",
    "    #call the user_inputs function\n",
    "    user_inputs()\n",
    "    #call the calculations function \n",
    "    calculations()\n",
    "\n",
    "#Define the user_inputs function\n",
    "def user_inputs():\n",
    "    #set the variable 'inputs' as an empty list \n",
    "    inputs = []\n",
    "    \n",
    "    #repeat the code below for each month in the list months \n",
    "    for month in months:\n",
    "        #append the users input as a float to the inputs list \n",
    "        inputs.append(float(input(f'Total monthly rainfall in {month}: ')))\n",
    "    \n",
    "    #define the variable 'user_inputs' as a global variable\n",
    "    global user_inputs \n",
    "    #Assign the user_inputs variable the values of the inputs list\n",
    "    user_inputs = inputs\n",
    "\n",
    "#Define the calculations function\n",
    "def calculations():\n",
    "    #display a blank line\n",
    "    print('\\n')\n",
    "    #display the total rainfall for the year \n",
    "    print((f'The total rainfall for the year was {total_rainfall():.1f} inches'))\n",
    "    #display the average rainfall for the year\n",
    "    print((f'The average rainfall for the year was {average_rainfall():.2f} inches'))\n",
    "    \n",
    "    #set the variables 'min_rain' and 'min_month', to the values returned by the 'min_rainfall' function\n",
    "    min_rain, min_month = min_rainfall()\n",
    "    #display the minimum rainfall and what month it occured in\n",
    "    print(f'The minimum rainfall that fell during the year was {min_rain} inches, which occured in {min_month}.')\n",
    "    \n",
    "    #set the variables 'max_rain' and 'max_month', to the values returned by the 'max_rainfall' function\n",
    "    max_rain, max_month = max_rainfall()\n",
    "    #display the maximum rainfall and what month it occured in\n",
    "    print(f'The maximum rainfall that fell during the year was {max_rain} inches, which occured in {max_month}.')\n",
    "\n",
    "#define the total_rainfall function\n",
    "def total_rainfall():\n",
    "    #set total_rainfall to 0 \n",
    "    total_rainfall = 0\n",
    "    \n",
    "    #repeat the code below for each item in the user_inputs list\n",
    "    for month in user_inputs:\n",
    "        #add the months rainfall to the total_rainfall variable \n",
    "        total_rainfall += float(month)\n",
    "    \n",
    "    #return the total_rainfall variable \n",
    "    return total_rainfall\n",
    "\n",
    "#define the average_rainfall function\n",
    "def average_rainfall():\n",
    "    #assign the average variable the value of total_rainfall divided by 12\n",
    "    average = (total_rainfall())/12\n",
    "    \n",
    "    #return the average variable \n",
    "    return average\n",
    "\n",
    "#Define the min_rainfall function\n",
    "def min_rainfall():\n",
    "    \n",
    "    #assign the index variable the value of 0\n",
    "    index = 0\n",
    "    #assign the minimum variable the minimum value in the 'user_inputs' list\n",
    "    minimum = min(user_inputs)\n",
    "    #set index to the index value of the minimum within the 'user_inputs' list\n",
    "    index = user_inputs.index(minimum)\n",
    "    \n",
    "    #return the minimum variable and the month that the minimum occured in\n",
    "    return minimum, months[index]\n",
    "\n",
    "#define the max_rainfall function\n",
    "def max_rainfall():\n",
    "    \n",
    "    #assign the index variable the value of 0\n",
    "    index = 0\n",
    "    #assign the 'maximum' variable the maximum value in the 'user_inputs' list \n",
    "    maximum = max(user_inputs)\n",
    "    #set the index variable to the index of the maximum value in the 'user_inputs' list\n",
    "    index = user_inputs.index(maximum)\n",
    "    #return the maximum variable and the month it occured in\n",
    "    return maximum, months[index]\n",
    "    \n",
    "#define the directions function \n",
    "def directions():\n",
    "    #display the line of directions below\n",
    "    print('Enter the total rainfall for each month in the boxes below (in inches).')\n",
    "    #display the line of directions below\n",
    "    print('Once all information has been entered the following will be calculated:\\n')\n",
    "    #display the line of directions below\n",
    "    print('Total yearly rainfall.\\nAverage monthly rainfall.\\nMonths with highest and lowest rainfall.\\n')\n",
    "\n",
    "#if the file name contains '__main__' run the 'main' function    \n",
    "if __name__ == '__main__':\n",
    "    #Call the main function\n",
    "    main()   "
   ]
  },
  {
   "cell_type": "markdown",
   "id": "d804f92f",
   "metadata": {},
   "source": [
    "There we go! I think that is this code finally done. \n",
    "As I often do I got a little carried away with uneeded features, but I learned a lot implementing them!"
   ]
  },
  {
   "cell_type": "markdown",
   "id": "7f4b2013",
   "metadata": {},
   "source": [
    "## Programming Exercises - Number 4"
   ]
  },
  {
   "attachments": {
    "image.png": {
     "image/png": "[encoded data removed]"
    }
   },
   "cell_type": "markdown",
   "id": "ccd42daa",
   "metadata": {},
   "source": [
    "This problem asks us to, \n",
    "![image.png](attachment:image.png)"
   ]
  },
  {
   "cell_type": "markdown",
   "id": "2f2a3fcb",
   "metadata": {},
   "source": [
    "To complete this problem I am going to need to use a list as well as a input function to get the users enteries. I will also need to use functions to orginize the code as well as functions to calculate the needed information. "
   ]
  },
  {
   "cell_type": "markdown",
   "id": "68c13846",
   "metadata": {},
   "source": [
    "I will start with defining a main function and directions function once again. "
   ]
  },
  {
   "cell_type": "code",
   "execution_count": 104,
   "id": "91238721",
   "metadata": {},
   "outputs": [
    {
     "name": "stdout",
     "output_type": "stream",
     "text": [
      "Enter 20 random numbers and the program will display the following:\n",
      "\n",
      "The highest number in the list.\n",
      "The lowest number in the list.\n",
      "The total of all the numbers in the list.\n",
      "The average of all the numbers in the list.\n"
     ]
    }
   ],
   "source": [
    "def main():\n",
    "    directions()\n",
    "    \n",
    "def directions():\n",
    "    print('Enter 20 random numbers and the program will display the following:\\n')\n",
    "    print('The highest number in the list.')\n",
    "    print('The lowest number in the list.')\n",
    "    print('The total of all the numbers in the list.')\n",
    "    print('The average of all the numbers in the list.')\n",
    "    \n",
    "if __name__ == '__main__':\n",
    "    main()  "
   ]
  },
  {
   "cell_type": "markdown",
   "id": "06557609",
   "metadata": {},
   "source": [
    "That looks good! \n",
    "\n",
    "Now to add in the function that gets the users inputs"
   ]
  },
  {
   "cell_type": "code",
   "execution_count": 107,
   "id": "fdfac148",
   "metadata": {},
   "outputs": [
    {
     "name": "stdout",
     "output_type": "stream",
     "text": [
      "Enter 20 random numbers and the program will display the following:\n",
      "\n",
      "The highest number in the list.\n",
      "The lowest number in the list.\n",
      "The total of all the numbers in the list.\n",
      "The average of all the numbers in the list.\n",
      "Enter 0 number: 1\n",
      "Enter 1 number: 25\n",
      "Enter 2 number: 24\n",
      "Enter 3 number: 24\n",
      "Enter 4 number: 5\n",
      "Enter 5 number: 456\n",
      "Enter 6 number: 345\n",
      "Enter 7 number: 324\n",
      "Enter 8 number: 5345\n",
      "Enter 9 number: 34\n",
      "Enter 10 number: 534534\n",
      "Enter 11 number: 45\n",
      "Enter 12 number: 53\n",
      "Enter 13 number: 532\n",
      "Enter 14 number: 45\n",
      "Enter 15 number: 2\n",
      "Enter 16 number: 345\n",
      "Enter 17 number: 34\n",
      "Enter 18 number: 534\n",
      "Enter 19 number: 534\n",
      "[1.0, 25.0, 24.0, 24.0, 5.0, 456.0, 345.0, 324.0, 5345.0, 34.0, 534534.0, 45.0, 53.0, 532.0, 45.0, 2.0, 345.0, 34.0, 534.0, 534.0]\n"
     ]
    }
   ],
   "source": [
    "def main():\n",
    "    directions()\n",
    "    user_inputs()\n",
    "    \n",
    "    print(user_inputs)\n",
    "    \n",
    "def user_inputs():\n",
    "    \n",
    "    global user_inputs \n",
    "    user_inputs = []\n",
    "    \n",
    "    for count in range(20):\n",
    "        user_inputs.append(float(input(f'Enter {count} number: ')))\n",
    "        \n",
    "def directions():\n",
    "    print('Enter 20 random numbers and the program will display the following:\\n')\n",
    "    print('The highest number in the list.')\n",
    "    print('The lowest number in the list.')\n",
    "    print('The total of all the numbers in the list.')\n",
    "    print('The average of all the numbers in the list.')\n",
    "    \n",
    "if __name__ == '__main__':\n",
    "    main()  "
   ]
  },
  {
   "cell_type": "markdown",
   "id": "a1a50cab",
   "metadata": {},
   "source": [
    "That looks like it works well so far, but I do see that its count is off so I am going to fix that. \n",
    "\n",
    "I am also going to get started on the max in list function. "
   ]
  },
  {
   "cell_type": "code",
   "execution_count": 109,
   "id": "1c13c933",
   "metadata": {},
   "outputs": [
    {
     "name": "stdout",
     "output_type": "stream",
     "text": [
      "Enter 20 random numbers and the program will display the following:\n",
      "\n",
      "The highest number in the list.\n",
      "The lowest number in the list.\n",
      "The total of all the numbers in the list.\n",
      "The average of all the numbers in the list.\n",
      "Enter 1 number: 534\n",
      "Enter 2 number: 523\n",
      "Enter 3 number: 45\n",
      "Enter 4 number: 34\n",
      "Enter 5 number: 53\n",
      "Enter 6 number: 453\n",
      "Enter 7 number: 45\n",
      "Enter 8 number: 34\n",
      "Enter 9 number: 53\n",
      "Enter 10 number: 45\n",
      "Enter 11 number: 34\n",
      "Enter 12 number: 3\n",
      "Enter 13 number: 453\n",
      "Enter 14 number: 45\n",
      "Enter 15 number: 34\n",
      "Enter 16 number: 53\n",
      "Enter 17 number: 453\n",
      "Enter 18 number: 45\n",
      "Enter 19 number: 34\n",
      "Enter 20 number: 53\n",
      "534.0\n"
     ]
    }
   ],
   "source": [
    "def main():\n",
    "    directions()\n",
    "    user_inputs()\n",
    "    print(max_in_list())\n",
    "    \n",
    "def user_inputs():\n",
    "    \n",
    "    global user_inputs \n",
    "    user_inputs = []\n",
    "    \n",
    "    for count in range(20):\n",
    "        user_inputs.append(float(input(f'Enter {count+1} number: ')))\n",
    "\n",
    "def max_in_list():\n",
    "    return max(user_inputs)\n",
    "    \n",
    "def directions():\n",
    "    print('Enter 20 random numbers and the program will display the following:\\n')\n",
    "    print('The highest number in the list.')\n",
    "    print('The lowest number in the list.')\n",
    "    print('The total of all the numbers in the list.')\n",
    "    print('The average of all the numbers in the list.')\n",
    "    \n",
    "if __name__ == '__main__':\n",
    "    main()  "
   ]
  },
  {
   "cell_type": "markdown",
   "id": "656060c6",
   "metadata": {},
   "source": [
    "OK, that seems to work too, now onto the other functions. "
   ]
  },
  {
   "cell_type": "code",
   "execution_count": 110,
   "id": "fc0aa8ef",
   "metadata": {},
   "outputs": [
    {
     "name": "stdout",
     "output_type": "stream",
     "text": [
      "Enter 20 random numbers and the program will display the following:\n",
      "\n",
      "The highest number in the list.\n",
      "The lowest number in the list.\n",
      "The total of all the numbers in the list.\n",
      "The average of all the numbers in the list.\n",
      "Enter 1 number: 54\n",
      "Enter 2 number: 52\n",
      "Enter 3 number: 45\n",
      "Enter 4 number: 45\n",
      "Enter 5 number: 4\n",
      "Enter 6 number: 5\n",
      "Enter 7 number: 54\n",
      "Enter 8 number: 54\n",
      "Enter 9 number: 45\n",
      "Enter 10 number: 453453\n",
      "Enter 11 number: 45345\n",
      "Enter 12 number: 34\n",
      "Enter 13 number: 534\n",
      "Enter 14 number: 53\n",
      "Enter 15 number: 453\n",
      "Enter 16 number: 453\n",
      "Enter 17 number: 45345\n",
      "Enter 18 number: 453\n",
      "Enter 19 number: 4\n",
      "Enter 20 number: 53453\n",
      "453453.0\n",
      "4.0\n",
      "599938.0\n",
      "29996.9\n"
     ]
    }
   ],
   "source": [
    "def main():\n",
    "    directions()\n",
    "    user_inputs()\n",
    "    print(max_in_list())\n",
    "    print(min_in_list())\n",
    "    print(total())\n",
    "    print(average())\n",
    "    \n",
    "def user_inputs():\n",
    "    \n",
    "    global user_inputs \n",
    "    user_inputs = []\n",
    "    \n",
    "    for count in range(20):\n",
    "        user_inputs.append(float(input(f'Enter {count+1} number: ')))\n",
    "\n",
    "def max_in_list():\n",
    "    return max(user_inputs)\n",
    "def min_in_list():\n",
    "    return min(user_inputs)\n",
    "def total():\n",
    "    return sum(user_inputs)\n",
    "def average():\n",
    "    return total() / len(user_inputs)\n",
    "    \n",
    "def directions():\n",
    "    print('Enter 20 random numbers and the program will display the following:\\n')\n",
    "    print('The highest number in the list.')\n",
    "    print('The lowest number in the list.')\n",
    "    print('The total of all the numbers in the list.')\n",
    "    print('The average of all the numbers in the list.')\n",
    "    \n",
    "if __name__ == '__main__':\n",
    "    main()  "
   ]
  },
  {
   "cell_type": "markdown",
   "id": "6ecb38e9",
   "metadata": {},
   "source": [
    "I think this is all working so far, now I am going to make it look better!"
   ]
  },
  {
   "cell_type": "code",
   "execution_count": 111,
   "id": "481631f0",
   "metadata": {},
   "outputs": [
    {
     "name": "stdout",
     "output_type": "stream",
     "text": [
      "Enter 20 random numbers and the program will display the following:\n",
      "\n",
      "The highest number in the list.\n",
      "The lowest number in the list.\n",
      "The total of all the numbers in the list.\n",
      "The average of all the numbers in the list.\n",
      "Enter 1 number: 1\n",
      "Enter 2 number: 2\n",
      "Enter 3 number: 3\n",
      "Enter 4 number: 4\n",
      "Enter 5 number: 5\n",
      "Enter 6 number: 6\n",
      "Enter 7 number: 7\n",
      "Enter 8 number: 8\n",
      "Enter 9 number: 9\n",
      "Enter 10 number: 10\n",
      "Enter 11 number: 11\n",
      "Enter 12 number: 12\n",
      "Enter 13 number: 13\n",
      "Enter 14 number: 14\n",
      "Enter 15 number: 15\n",
      "Enter 16 number: 16\n",
      "Enter 17 number: 17\n",
      "Enter 18 number: 18\n",
      "Enter 19 number: 19\n",
      "Enter 20 number: 20\n",
      "The maximum value in the list is 20.0\n",
      "The minimum value in the list is 1.0\n",
      "The total of all values in the list is 210.0\n",
      "The average of the values in the list is 10.5\n"
     ]
    }
   ],
   "source": [
    "#Define the main function\n",
    "def main():\n",
    "    #call the directions function\n",
    "    directions()\n",
    "    #call the user_inputs function\n",
    "    user_inputs()\n",
    "    #display the max\n",
    "    print(f'The maximum value in the list is {max_in_list()}')\n",
    "    #display the min\n",
    "    print(f'The minimum value in the list is {min_in_list()}')\n",
    "    #display the total\n",
    "    print(f'The total of all values in the list is {total()}')\n",
    "    #display the average\n",
    "    print(f'The average of the values in the list is {average()}')\n",
    "\n",
    "#define the user_input function\n",
    "def user_inputs():\n",
    "    #define the user_inputs variable as a global variable\n",
    "    global user_inputs \n",
    "    #set the 'user_inputs' variable to a blank list\n",
    "    user_inputs = []\n",
    "    \n",
    "    #repeat the code below 20 times\n",
    "    for count in range(20):\n",
    "        #append the users number as a float to the 'user_inputs' list\n",
    "        user_inputs.append(float(input(f'Enter {count+1} number: ')))\n",
    "\n",
    "#define the 'max_in_list' function\n",
    "def max_in_list():\n",
    "    #return the max value of the \"user_inputs\" list \n",
    "    return max(user_inputs)\n",
    "#define the 'min_in_list' function\n",
    "def min_in_list():\n",
    "    #return the min value of the \"user_inputs\" list\n",
    "    return min(user_inputs)\n",
    "#define the \"total\" function\n",
    "def total():\n",
    "    #return the total of the 'user_inputs' list\n",
    "    return sum(user_inputs)\n",
    "#define the \"average\" function\n",
    "def average():\n",
    "    #return the average of the 'user_inputs' list\n",
    "    return total() / len(user_inputs)\n",
    "\n",
    "#define the 'directions' function\n",
    "def directions():\n",
    "    #print this line of the directions\n",
    "    print('Enter 20 random numbers and the program will display the following:\\n')\n",
    "    #print this line of the directions\n",
    "    print('The highest number in the list.')\n",
    "    #print this line of the directions\n",
    "    print('The lowest number in the list.')\n",
    "    #print this line of the directions\n",
    "    print('The total of all the numbers in the list.')\n",
    "    #print this line of the directions\n",
    "    print('The average of all the numbers in the list.')\n",
    "    \n",
    "#if the file name contains '__main__' run the 'main' function    \n",
    "if __name__ == '__main__':\n",
    "    #Call the main function\n",
    "    main() "
   ]
  },
  {
   "cell_type": "markdown",
   "id": "e37192c0",
   "metadata": {},
   "source": [
    "I think this code is all done!"
   ]
  },
  {
   "cell_type": "markdown",
   "id": "c2743509",
   "metadata": {},
   "source": [
    "## Programming Exercises - Number 14"
   ]
  },
  {
   "attachments": {
    "image.png": {
     "image/png": "[encoded data removed]"
    }
   },
   "cell_type": "markdown",
   "id": "d19faf9a",
   "metadata": {},
   "source": [
    "This problem asks us to, \n",
    "![image.png](attachment:image.png)"
   ]
  },
  {
   "cell_type": "markdown",
   "id": "40567048",
   "metadata": {},
   "source": [
    "To complete this problem I am going to have to use the 'with' function to open a file and write the users data to it in conjunction with the input function and loop functions. I am also going to have to use the matplotlib library to create the pie chart."
   ]
  },
  {
   "cell_type": "markdown",
   "id": "7d10e1e3",
   "metadata": {},
   "source": [
    "To start I am going to define a main and directions function as I often do. "
   ]
  },
  {
   "cell_type": "code",
   "execution_count": 2,
   "id": "e1cad8f5",
   "metadata": {},
   "outputs": [
    {
     "name": "stdout",
     "output_type": "stream",
     "text": [
      "Enter your expenses in the boxes below.\n"
     ]
    }
   ],
   "source": [
    "def main():\n",
    "    directions()\n",
    "    \n",
    "def directions():\n",
    "    print('Enter your expenses in the boxes below.')\n",
    "        \n",
    "if __name__ == '__main__':\n",
    "    main()  "
   ]
  },
  {
   "cell_type": "markdown",
   "id": "fcf9137a",
   "metadata": {},
   "source": [
    "That looks good so far.\n",
    "\n",
    "Now I am going to write the function that puts the users data into the file. "
   ]
  },
  {
   "cell_type": "code",
   "execution_count": 4,
   "id": "433436c4",
   "metadata": {},
   "outputs": [
    {
     "name": "stdout",
     "output_type": "stream",
     "text": [
      "Enter your expenses in the boxes below.\n"
     ]
    }
   ],
   "source": [
    "catagories = (\"Rent\",\"Gas\",\"Food\",\"Clothing\",\"Car Payment\",\"Misc\")\n",
    "\n",
    "\n",
    "def main():\n",
    "    directions()\n",
    "    \n",
    "def users_inputs():\n",
    "    with open(Expenses.txt,'w') as expenses:\n",
    "        for item in catagories:\n",
    "            expenses.write(float(input(f'{item} expense: \\n')))\n",
    "    \n",
    "def directions():\n",
    "    print('Enter your expenses in the boxes below.')\n",
    "        \n",
    "if __name__ == '__main__':\n",
    "    main()  "
   ]
  },
  {
   "cell_type": "markdown",
   "id": "809e0d9c",
   "metadata": {},
   "source": [
    "Whoops, I forgot to call on the function."
   ]
  },
  {
   "cell_type": "code",
   "execution_count": 6,
   "id": "862f5933",
   "metadata": {},
   "outputs": [
    {
     "name": "stdout",
     "output_type": "stream",
     "text": [
      "Enter your expenses in the boxes below.\n"
     ]
    },
    {
     "ename": "NameError",
     "evalue": "name 'Expenses' is not defined",
     "output_type": "error",
     "traceback": [
      "\u001b[1;31m---------------------------------------------------------------------------\u001b[0m",
      "\u001b[1;31mNameError\u001b[0m                                 Traceback (most recent call last)",
      "Cell \u001b[1;32mIn[6], line 17\u001b[0m\n\u001b[0;32m     14\u001b[0m     \u001b[38;5;28mprint\u001b[39m(\u001b[38;5;124m'\u001b[39m\u001b[38;5;124mEnter your expenses in the boxes below.\u001b[39m\u001b[38;5;124m'\u001b[39m)\n\u001b[0;32m     16\u001b[0m \u001b[38;5;28;01mif\u001b[39;00m \u001b[38;5;18m__name__\u001b[39m \u001b[38;5;241m==\u001b[39m \u001b[38;5;124m'\u001b[39m\u001b[38;5;124m__main__\u001b[39m\u001b[38;5;124m'\u001b[39m:\n\u001b[1;32m---> 17\u001b[0m     main()\n",
      "Cell \u001b[1;32mIn[6], line 6\u001b[0m, in \u001b[0;36mmain\u001b[1;34m()\u001b[0m\n\u001b[0;32m      4\u001b[0m \u001b[38;5;28;01mdef\u001b[39;00m \u001b[38;5;21mmain\u001b[39m():\n\u001b[0;32m      5\u001b[0m     directions()\n\u001b[1;32m----> 6\u001b[0m     user_inputs()\n",
      "Cell \u001b[1;32mIn[6], line 9\u001b[0m, in \u001b[0;36muser_inputs\u001b[1;34m()\u001b[0m\n\u001b[0;32m      8\u001b[0m \u001b[38;5;28;01mdef\u001b[39;00m \u001b[38;5;21muser_inputs\u001b[39m():\n\u001b[1;32m----> 9\u001b[0m     \u001b[38;5;28;01mwith\u001b[39;00m \u001b[38;5;28mopen\u001b[39m(Expenses\u001b[38;5;241m.\u001b[39mtxt,\u001b[38;5;124m'\u001b[39m\u001b[38;5;124mw\u001b[39m\u001b[38;5;124m'\u001b[39m) \u001b[38;5;28;01mas\u001b[39;00m expenses:\n\u001b[0;32m     10\u001b[0m         \u001b[38;5;28;01mfor\u001b[39;00m item \u001b[38;5;129;01min\u001b[39;00m catagories:\n\u001b[0;32m     11\u001b[0m             expenses\u001b[38;5;241m.\u001b[39mwrite(\u001b[38;5;28mfloat\u001b[39m(\u001b[38;5;28minput\u001b[39m(\u001b[38;5;124mf\u001b[39m\u001b[38;5;124m'\u001b[39m\u001b[38;5;132;01m{\u001b[39;00mitem\u001b[38;5;132;01m}\u001b[39;00m\u001b[38;5;124m expense: \u001b[39m\u001b[38;5;130;01m\\n\u001b[39;00m\u001b[38;5;124m'\u001b[39m)))\n",
      "\u001b[1;31mNameError\u001b[0m: name 'Expenses' is not defined"
     ]
    }
   ],
   "source": [
    "categories = (\"Rent\",\"Gas\",\"Food\",\"Clothing\",\"Car Payment\",\"Misc\")\n",
    "\n",
    "\n",
    "def main():\n",
    "    directions()\n",
    "    user_inputs()\n",
    "    \n",
    "def user_inputs():\n",
    "    with open(Expenses.txt,'w') as expenses:\n",
    "        for item in categories:\n",
    "            expenses.write(float(input(f'{item} expense: \\n')))\n",
    "    \n",
    "def directions():\n",
    "    print('Enter your expenses in the boxes below.')\n",
    "        \n",
    "if __name__ == '__main__':\n",
    "    main()  "
   ]
  },
  {
   "cell_type": "markdown",
   "id": "0e15bf9a",
   "metadata": {},
   "source": [
    "And I forgot to put the name of the file in quotes. \n",
    "\n",
    "Hopefully that fixes everything!"
   ]
  },
  {
   "cell_type": "code",
   "execution_count": 7,
   "id": "05854800",
   "metadata": {},
   "outputs": [
    {
     "name": "stdout",
     "output_type": "stream",
     "text": [
      "Enter your expenses in the boxes below.\n",
      "Rent expense: \n",
      "150.00\n"
     ]
    },
    {
     "ename": "TypeError",
     "evalue": "write() argument must be str, not float",
     "output_type": "error",
     "traceback": [
      "\u001b[1;31m---------------------------------------------------------------------------\u001b[0m",
      "\u001b[1;31mTypeError\u001b[0m                                 Traceback (most recent call last)",
      "Cell \u001b[1;32mIn[7], line 17\u001b[0m\n\u001b[0;32m     14\u001b[0m     \u001b[38;5;28mprint\u001b[39m(\u001b[38;5;124m'\u001b[39m\u001b[38;5;124mEnter your expenses in the boxes below.\u001b[39m\u001b[38;5;124m'\u001b[39m)\n\u001b[0;32m     16\u001b[0m \u001b[38;5;28;01mif\u001b[39;00m \u001b[38;5;18m__name__\u001b[39m \u001b[38;5;241m==\u001b[39m \u001b[38;5;124m'\u001b[39m\u001b[38;5;124m__main__\u001b[39m\u001b[38;5;124m'\u001b[39m:\n\u001b[1;32m---> 17\u001b[0m     main()\n",
      "Cell \u001b[1;32mIn[7], line 6\u001b[0m, in \u001b[0;36mmain\u001b[1;34m()\u001b[0m\n\u001b[0;32m      4\u001b[0m \u001b[38;5;28;01mdef\u001b[39;00m \u001b[38;5;21mmain\u001b[39m():\n\u001b[0;32m      5\u001b[0m     directions()\n\u001b[1;32m----> 6\u001b[0m     user_inputs()\n",
      "Cell \u001b[1;32mIn[7], line 11\u001b[0m, in \u001b[0;36muser_inputs\u001b[1;34m()\u001b[0m\n\u001b[0;32m      9\u001b[0m \u001b[38;5;28;01mwith\u001b[39;00m \u001b[38;5;28mopen\u001b[39m(\u001b[38;5;124m'\u001b[39m\u001b[38;5;124mExpenses.txt\u001b[39m\u001b[38;5;124m'\u001b[39m,\u001b[38;5;124m'\u001b[39m\u001b[38;5;124mw\u001b[39m\u001b[38;5;124m'\u001b[39m) \u001b[38;5;28;01mas\u001b[39;00m expenses:\n\u001b[0;32m     10\u001b[0m     \u001b[38;5;28;01mfor\u001b[39;00m item \u001b[38;5;129;01min\u001b[39;00m categories:\n\u001b[1;32m---> 11\u001b[0m         expenses\u001b[38;5;241m.\u001b[39mwrite(\u001b[38;5;28mfloat\u001b[39m(\u001b[38;5;28minput\u001b[39m(\u001b[38;5;124mf\u001b[39m\u001b[38;5;124m'\u001b[39m\u001b[38;5;132;01m{\u001b[39;00mitem\u001b[38;5;132;01m}\u001b[39;00m\u001b[38;5;124m expense: \u001b[39m\u001b[38;5;130;01m\\n\u001b[39;00m\u001b[38;5;124m'\u001b[39m)))\n",
      "\u001b[1;31mTypeError\u001b[0m: write() argument must be str, not float"
     ]
    }
   ],
   "source": [
    "categories = (\"Rent\",\"Gas\",\"Food\",\"Clothing\",\"Car Payment\",\"Misc\")\n",
    "\n",
    "\n",
    "def main():\n",
    "    directions()\n",
    "    user_inputs()\n",
    "    \n",
    "def user_inputs():\n",
    "    with open('Expenses.txt','w') as expenses:\n",
    "        for item in categories:\n",
    "            expenses.write(float(input(f'{item} expense: \\n')))\n",
    "    \n",
    "def directions():\n",
    "    print('Enter your expenses in the boxes below.')\n",
    "        \n",
    "if __name__ == '__main__':\n",
    "    main()  "
   ]
  },
  {
   "cell_type": "markdown",
   "id": "b56a765e",
   "metadata": {},
   "source": [
    "I forgot that to write to a file it must be a string. Lets change that quick and continue. "
   ]
  },
  {
   "cell_type": "code",
   "execution_count": 9,
   "id": "66a7cfe7",
   "metadata": {},
   "outputs": [
    {
     "name": "stdout",
     "output_type": "stream",
     "text": [
      "Enter your expenses in the boxes below.\n",
      "Rent expense: \n",
      "15.00\n",
      "Gas expense: \n",
      "50.00\n",
      "Food expense: \n",
      "25.00\n",
      "Clothing expense: \n",
      "35.55\n",
      "Car Payment expense: \n",
      "350.00\n",
      "Misc expense: \n",
      "17.00\n"
     ]
    }
   ],
   "source": [
    "categories = (\"Rent\",\"Gas\",\"Food\",\"Clothing\",\"Car Payment\",\"Misc\")\n",
    "\n",
    "\n",
    "def main():\n",
    "    directions()\n",
    "    user_inputs()\n",
    "    \n",
    "def user_inputs():\n",
    "    with open('Expenses.txt','w') as expenses:\n",
    "        for item in categories:\n",
    "            expenses.write(input(f'{item} expense: \\n'))\n",
    "    \n",
    "def directions():\n",
    "    print('Enter your expenses in the boxes below.')\n",
    "        \n",
    "if __name__ == '__main__':\n",
    "    main()  "
   ]
  },
  {
   "attachments": {
    "image.png": {
     "image/png": "[encoded data removed]"
    }
   },
   "cell_type": "markdown",
   "id": "11300e58",
   "metadata": {},
   "source": [
    "Lets see what got written in the file!\n",
    "\n",
    "![image.png](attachment:image.png)"
   ]
  },
  {
   "cell_type": "markdown",
   "id": "22afccd4",
   "metadata": {},
   "source": [
    "So this is what was written to the file, but I need to add in a '\\n' so that it puts the data on a new line each time. "
   ]
  },
  {
   "cell_type": "code",
   "execution_count": 1,
   "id": "868e715e",
   "metadata": {},
   "outputs": [
    {
     "name": "stdout",
     "output_type": "stream",
     "text": [
      "Enter your expenses in the boxes below.\n",
      "Rent expense: 55.00\n",
      "Gas expense: 52.00\n",
      "Food expense: 25.55\n",
      "Clothing expense: 17.90\n",
      "Car Payment expense: 350.65\n",
      "Misc expense: 25.30\n"
     ]
    }
   ],
   "source": [
    "categories = (\"Rent\",\"Gas\",\"Food\",\"Clothing\",\"Car Payment\",\"Misc\")\n",
    "\n",
    "\n",
    "def main():\n",
    "    directions()\n",
    "    user_inputs()\n",
    "    \n",
    "def user_inputs():\n",
    "    with open('Expenses.txt','w') as expenses:\n",
    "        for item in categories:\n",
    "            #testing to see if the \"+'\\n'\" will make the input appear on a new line in the file\n",
    "            expenses.write(input(f'{item} expense: ')+'\\n')\n",
    "    \n",
    "def directions():\n",
    "    print('Enter your expenses in the boxes below.')\n",
    "        \n",
    "if __name__ == '__main__':\n",
    "    main()  "
   ]
  },
  {
   "attachments": {
    "image.png": {
     "image/png": "[encoded data removed]"
    }
   },
   "cell_type": "markdown",
   "id": "3cb7b3fc",
   "metadata": {},
   "source": [
    "Lets see if that addition fixed the new line issue. \n",
    "\n",
    "![image.png](attachment:image.png)\n",
    "\n",
    "It did!"
   ]
  },
  {
   "cell_type": "markdown",
   "id": "4e6eddc9",
   "metadata": {},
   "source": [
    "Now that we have the users data in a file, I now need to create a new function that reads that file and adds its values to a list. "
   ]
  },
  {
   "cell_type": "code",
   "execution_count": 2,
   "id": "cdfd4fbb",
   "metadata": {},
   "outputs": [
    {
     "name": "stdout",
     "output_type": "stream",
     "text": [
      "Enter your expenses in the boxes below.\n",
      "Rent expense: 15\n",
      "Gas expense: 4\n",
      "Food expense: 1\n",
      "Clothing expense: 2\n",
      "Car Payment expense: 545\n",
      "Misc expense: 5\n",
      "[15.0, 4.0, 1.0, 2.0, 545.0, 5.0]\n"
     ]
    }
   ],
   "source": [
    "categories = (\"Rent\",\"Gas\",\"Food\",\"Clothing\",\"Car Payment\",\"Misc\")\n",
    "\n",
    "\n",
    "def main():\n",
    "    directions()\n",
    "    user_inputs()\n",
    "    #testing the new function by printing its result. \n",
    "    print(read())\n",
    "    \n",
    "def user_inputs():\n",
    "    with open('Expenses.txt','w') as expenses:\n",
    "        for item in categories:\n",
    "            expenses.write(input(f'{item} expense: ')+'\\n')\n",
    "\n",
    "            \n",
    "def read():\n",
    "    expenses_list = []\n",
    "    \n",
    "    with open('Expenses.txt','r') as expenses_file:\n",
    "        for line in expenses_file:\n",
    "            line_value = float(line)\n",
    "            \n",
    "            expenses_list.append(line_value)\n",
    "            \n",
    "    return expenses_list\n",
    "    \n",
    "def directions():\n",
    "    print('Enter your expenses in the boxes below.')\n",
    "        \n",
    "if __name__ == '__main__':\n",
    "    main()  "
   ]
  },
  {
   "cell_type": "markdown",
   "id": "19eeaf7a",
   "metadata": {},
   "source": [
    "Wow, I am very surprised that worked so well on the first try!\n",
    "\n",
    "Now I think I only need to add a function which uses this list to create a pie chart. "
   ]
  },
  {
   "cell_type": "code",
   "execution_count": 3,
   "id": "bbd578ce",
   "metadata": {},
   "outputs": [
    {
     "name": "stdout",
     "output_type": "stream",
     "text": [
      "Enter your expenses in the boxes below.\n",
      "Rent expense: 15.00\n",
      "Gas expense: 25.00\n",
      "Food expense: 105.55\n",
      "Clothing expense: 60.25\n",
      "Car Payment expense: 350.60\n",
      "Misc expense: 15.65\n"
     ]
    },
    {
     "data": {
      "image/png": "[encoded data removed]",
      "text/plain": [
       "<Figure size 640x480 with 1 Axes>"
      ]
     },
     "metadata": {},
     "output_type": "display_data"
    }
   ],
   "source": [
    "import matplotlib.pyplot as plt\n",
    "\n",
    "categories = (\"Rent\",\"Gas\",\"Food\",\"Clothing\",\"Car Payment\",\"Misc\")\n",
    "\n",
    "def main():\n",
    "    directions()\n",
    "    user_inputs()\n",
    "    pie_chart()\n",
    "    \n",
    "def user_inputs():\n",
    "    with open('Expenses.txt','w') as expenses:\n",
    "        for item in categories:\n",
    "            expenses.write(input(f'{item} expense: ')+'\\n')\n",
    "\n",
    "            \n",
    "def read():\n",
    "    expenses_list = []\n",
    "    \n",
    "    with open('Expenses.txt','r') as expenses_file:\n",
    "        for line in expenses_file:\n",
    "            line_value = float(line)\n",
    "            \n",
    "            expenses_list.append(line_value)\n",
    "            \n",
    "    return expenses_list\n",
    "    \n",
    "def pie_chart():\n",
    "    plt.pie(read())\n",
    "    plt.show()\n",
    "    \n",
    "def directions():\n",
    "    print('Enter your expenses in the boxes below.')\n",
    "        \n",
    "if __name__ == '__main__':\n",
    "    main()  "
   ]
  },
  {
   "cell_type": "markdown",
   "id": "735cc843",
   "metadata": {},
   "source": [
    "That looks very good, but it has no labels. I am going to try to add the original 'categories' list to the function to add labels. "
   ]
  },
  {
   "cell_type": "code",
   "execution_count": 1,
   "id": "4cc23ee4",
   "metadata": {},
   "outputs": [
    {
     "name": "stdout",
     "output_type": "stream",
     "text": [
      "Enter your expenses in the boxes below.\n",
      "Rent expense: 450.65\n",
      "Gas expense: 85.65\n",
      "Food expense: 105.76\n",
      "Clothing expense: 50.32\n",
      "Car Payment expense: 350.85\n",
      "Misc expense: 14.12\n"
     ]
    },
    {
     "ename": "TypeError",
     "evalue": "can't multiply sequence by non-int of type 'float'",
     "output_type": "error",
     "traceback": [
      "\u001b[1;31m---------------------------------------------------------------------------\u001b[0m",
      "\u001b[1;31mTypeError\u001b[0m                                 Traceback (most recent call last)",
      "Cell \u001b[1;32mIn[1], line 36\u001b[0m\n\u001b[0;32m     33\u001b[0m     \u001b[38;5;28mprint\u001b[39m(\u001b[38;5;124m'\u001b[39m\u001b[38;5;124mEnter your expenses in the boxes below.\u001b[39m\u001b[38;5;124m'\u001b[39m)\n\u001b[0;32m     35\u001b[0m \u001b[38;5;28;01mif\u001b[39;00m \u001b[38;5;18m__name__\u001b[39m \u001b[38;5;241m==\u001b[39m \u001b[38;5;124m'\u001b[39m\u001b[38;5;124m__main__\u001b[39m\u001b[38;5;124m'\u001b[39m:\n\u001b[1;32m---> 36\u001b[0m     main()\n",
      "Cell \u001b[1;32mIn[1], line 8\u001b[0m, in \u001b[0;36mmain\u001b[1;34m()\u001b[0m\n\u001b[0;32m      6\u001b[0m directions()\n\u001b[0;32m      7\u001b[0m user_inputs()\n\u001b[1;32m----> 8\u001b[0m pie_chart()\n",
      "Cell \u001b[1;32mIn[1], line 29\u001b[0m, in \u001b[0;36mpie_chart\u001b[1;34m()\u001b[0m\n\u001b[0;32m     27\u001b[0m \u001b[38;5;28;01mdef\u001b[39;00m \u001b[38;5;21mpie_chart\u001b[39m():\n\u001b[0;32m     28\u001b[0m     \u001b[38;5;66;03m#adding labels to the chart\u001b[39;00m\n\u001b[1;32m---> 29\u001b[0m     plt\u001b[38;5;241m.\u001b[39mpie(read(), categories)\n\u001b[0;32m     30\u001b[0m     plt\u001b[38;5;241m.\u001b[39mshow()\n",
      "File \u001b[1;32m~\\anaconda3\\Lib\\site-packages\\matplotlib\\pyplot.py:2799\u001b[0m, in \u001b[0;36mpie\u001b[1;34m(x, explode, labels, colors, autopct, pctdistance, shadow, labeldistance, startangle, radius, counterclock, wedgeprops, textprops, center, frame, rotatelabels, normalize, hatch, data)\u001b[0m\n\u001b[0;32m   2792\u001b[0m \u001b[38;5;129m@_copy_docstring_and_deprecators\u001b[39m(Axes\u001b[38;5;241m.\u001b[39mpie)\n\u001b[0;32m   2793\u001b[0m \u001b[38;5;28;01mdef\u001b[39;00m \u001b[38;5;21mpie\u001b[39m(\n\u001b[0;32m   2794\u001b[0m         x, explode\u001b[38;5;241m=\u001b[39m\u001b[38;5;28;01mNone\u001b[39;00m, labels\u001b[38;5;241m=\u001b[39m\u001b[38;5;28;01mNone\u001b[39;00m, colors\u001b[38;5;241m=\u001b[39m\u001b[38;5;28;01mNone\u001b[39;00m, autopct\u001b[38;5;241m=\u001b[39m\u001b[38;5;28;01mNone\u001b[39;00m,\n\u001b[1;32m   (...)\u001b[0m\n\u001b[0;32m   2797\u001b[0m         textprops\u001b[38;5;241m=\u001b[39m\u001b[38;5;28;01mNone\u001b[39;00m, center\u001b[38;5;241m=\u001b[39m(\u001b[38;5;241m0\u001b[39m, \u001b[38;5;241m0\u001b[39m), frame\u001b[38;5;241m=\u001b[39m\u001b[38;5;28;01mFalse\u001b[39;00m,\n\u001b[0;32m   2798\u001b[0m         rotatelabels\u001b[38;5;241m=\u001b[39m\u001b[38;5;28;01mFalse\u001b[39;00m, \u001b[38;5;241m*\u001b[39m, normalize\u001b[38;5;241m=\u001b[39m\u001b[38;5;28;01mTrue\u001b[39;00m, hatch\u001b[38;5;241m=\u001b[39m\u001b[38;5;28;01mNone\u001b[39;00m, data\u001b[38;5;241m=\u001b[39m\u001b[38;5;28;01mNone\u001b[39;00m):\n\u001b[1;32m-> 2799\u001b[0m     \u001b[38;5;28;01mreturn\u001b[39;00m gca()\u001b[38;5;241m.\u001b[39mpie(\n\u001b[0;32m   2800\u001b[0m         x, explode\u001b[38;5;241m=\u001b[39mexplode, labels\u001b[38;5;241m=\u001b[39mlabels, colors\u001b[38;5;241m=\u001b[39mcolors,\n\u001b[0;32m   2801\u001b[0m         autopct\u001b[38;5;241m=\u001b[39mautopct, pctdistance\u001b[38;5;241m=\u001b[39mpctdistance, shadow\u001b[38;5;241m=\u001b[39mshadow,\n\u001b[0;32m   2802\u001b[0m         labeldistance\u001b[38;5;241m=\u001b[39mlabeldistance, startangle\u001b[38;5;241m=\u001b[39mstartangle,\n\u001b[0;32m   2803\u001b[0m         radius\u001b[38;5;241m=\u001b[39mradius, counterclock\u001b[38;5;241m=\u001b[39mcounterclock,\n\u001b[0;32m   2804\u001b[0m         wedgeprops\u001b[38;5;241m=\u001b[39mwedgeprops, textprops\u001b[38;5;241m=\u001b[39mtextprops, center\u001b[38;5;241m=\u001b[39mcenter,\n\u001b[0;32m   2805\u001b[0m         frame\u001b[38;5;241m=\u001b[39mframe, rotatelabels\u001b[38;5;241m=\u001b[39mrotatelabels, normalize\u001b[38;5;241m=\u001b[39mnormalize,\n\u001b[0;32m   2806\u001b[0m         hatch\u001b[38;5;241m=\u001b[39mhatch, \u001b[38;5;241m*\u001b[39m\u001b[38;5;241m*\u001b[39m({\u001b[38;5;124m\"\u001b[39m\u001b[38;5;124mdata\u001b[39m\u001b[38;5;124m\"\u001b[39m: data} \u001b[38;5;28;01mif\u001b[39;00m data \u001b[38;5;129;01mis\u001b[39;00m \u001b[38;5;129;01mnot\u001b[39;00m \u001b[38;5;28;01mNone\u001b[39;00m \u001b[38;5;28;01melse\u001b[39;00m {}))\n",
      "File \u001b[1;32m~\\anaconda3\\Lib\\site-packages\\matplotlib\\__init__.py:1446\u001b[0m, in \u001b[0;36m_preprocess_data.<locals>.inner\u001b[1;34m(ax, data, *args, **kwargs)\u001b[0m\n\u001b[0;32m   1443\u001b[0m \u001b[38;5;129m@functools\u001b[39m\u001b[38;5;241m.\u001b[39mwraps(func)\n\u001b[0;32m   1444\u001b[0m \u001b[38;5;28;01mdef\u001b[39;00m \u001b[38;5;21minner\u001b[39m(ax, \u001b[38;5;241m*\u001b[39margs, data\u001b[38;5;241m=\u001b[39m\u001b[38;5;28;01mNone\u001b[39;00m, \u001b[38;5;241m*\u001b[39m\u001b[38;5;241m*\u001b[39mkwargs):\n\u001b[0;32m   1445\u001b[0m     \u001b[38;5;28;01mif\u001b[39;00m data \u001b[38;5;129;01mis\u001b[39;00m \u001b[38;5;28;01mNone\u001b[39;00m:\n\u001b[1;32m-> 1446\u001b[0m         \u001b[38;5;28;01mreturn\u001b[39;00m func(ax, \u001b[38;5;241m*\u001b[39m\u001b[38;5;28mmap\u001b[39m(sanitize_sequence, args), \u001b[38;5;241m*\u001b[39m\u001b[38;5;241m*\u001b[39mkwargs)\n\u001b[0;32m   1448\u001b[0m     bound \u001b[38;5;241m=\u001b[39m new_sig\u001b[38;5;241m.\u001b[39mbind(ax, \u001b[38;5;241m*\u001b[39margs, \u001b[38;5;241m*\u001b[39m\u001b[38;5;241m*\u001b[39mkwargs)\n\u001b[0;32m   1449\u001b[0m     auto_label \u001b[38;5;241m=\u001b[39m (bound\u001b[38;5;241m.\u001b[39marguments\u001b[38;5;241m.\u001b[39mget(label_namer)\n\u001b[0;32m   1450\u001b[0m                   \u001b[38;5;129;01mor\u001b[39;00m bound\u001b[38;5;241m.\u001b[39mkwargs\u001b[38;5;241m.\u001b[39mget(label_namer))\n",
      "File \u001b[1;32m~\\anaconda3\\Lib\\site-packages\\matplotlib\\axes\\_axes.py:3234\u001b[0m, in \u001b[0;36mAxes.pie\u001b[1;34m(self, x, explode, labels, colors, autopct, pctdistance, shadow, labeldistance, startangle, radius, counterclock, wedgeprops, textprops, center, frame, rotatelabels, normalize, hatch)\u001b[0m\n\u001b[0;32m   3232\u001b[0m theta2 \u001b[38;5;241m=\u001b[39m (theta1 \u001b[38;5;241m+\u001b[39m frac) \u001b[38;5;28;01mif\u001b[39;00m counterclock \u001b[38;5;28;01melse\u001b[39;00m (theta1 \u001b[38;5;241m-\u001b[39m frac)\n\u001b[0;32m   3233\u001b[0m thetam \u001b[38;5;241m=\u001b[39m \u001b[38;5;241m2\u001b[39m \u001b[38;5;241m*\u001b[39m np\u001b[38;5;241m.\u001b[39mpi \u001b[38;5;241m*\u001b[39m \u001b[38;5;241m0.5\u001b[39m \u001b[38;5;241m*\u001b[39m (theta1 \u001b[38;5;241m+\u001b[39m theta2)\n\u001b[1;32m-> 3234\u001b[0m x \u001b[38;5;241m+\u001b[39m\u001b[38;5;241m=\u001b[39m expl \u001b[38;5;241m*\u001b[39m math\u001b[38;5;241m.\u001b[39mcos(thetam)\n\u001b[0;32m   3235\u001b[0m y \u001b[38;5;241m+\u001b[39m\u001b[38;5;241m=\u001b[39m expl \u001b[38;5;241m*\u001b[39m math\u001b[38;5;241m.\u001b[39msin(thetam)\n\u001b[0;32m   3237\u001b[0m w \u001b[38;5;241m=\u001b[39m mpatches\u001b[38;5;241m.\u001b[39mWedge((x, y), radius, \u001b[38;5;241m360.\u001b[39m \u001b[38;5;241m*\u001b[39m \u001b[38;5;28mmin\u001b[39m(theta1, theta2),\n\u001b[0;32m   3238\u001b[0m                    \u001b[38;5;241m360.\u001b[39m \u001b[38;5;241m*\u001b[39m \u001b[38;5;28mmax\u001b[39m(theta1, theta2),\n\u001b[0;32m   3239\u001b[0m                    facecolor\u001b[38;5;241m=\u001b[39mget_next_color(),\n\u001b[0;32m   3240\u001b[0m                    hatch\u001b[38;5;241m=\u001b[39m\u001b[38;5;28mnext\u001b[39m(hatch_cycle),\n\u001b[0;32m   3241\u001b[0m                    clip_on\u001b[38;5;241m=\u001b[39m\u001b[38;5;28;01mFalse\u001b[39;00m,\n\u001b[0;32m   3242\u001b[0m                    label\u001b[38;5;241m=\u001b[39mlabel)\n",
      "\u001b[1;31mTypeError\u001b[0m: can't multiply sequence by non-int of type 'float'"
     ]
    },
    {
     "data": {
      "image/png": "[encoded data removed]",
      "text/plain": [
       "<Figure size 640x480 with 1 Axes>"
      ]
     },
     "metadata": {},
     "output_type": "display_data"
    }
   ],
   "source": [
    "import matplotlib.pyplot as plt\n",
    "\n",
    "categories = (\"Rent\",\"Gas\",\"Food\",\"Clothing\",\"Car Payment\",\"Misc\")\n",
    "\n",
    "def main():\n",
    "    directions()\n",
    "    user_inputs()\n",
    "    pie_chart()\n",
    "    \n",
    "def user_inputs():\n",
    "    with open('Expenses.txt','w') as expenses:\n",
    "        for item in categories:\n",
    "            expenses.write(input(f'{item} expense: ')+'\\n')\n",
    "\n",
    "            \n",
    "def read():\n",
    "    expenses_list = []\n",
    "    \n",
    "    with open('Expenses.txt','r') as expenses_file:\n",
    "        for line in expenses_file:\n",
    "            line_value = float(line)\n",
    "            \n",
    "            expenses_list.append(line_value)\n",
    "            \n",
    "    return expenses_list\n",
    "    \n",
    "def pie_chart():\n",
    "    #adding labels to the chart\n",
    "    plt.pie(read(), categories)\n",
    "    plt.show()\n",
    "    \n",
    "def directions():\n",
    "    print('Enter your expenses in the boxes below.')\n",
    "        \n",
    "if __name__ == '__main__':\n",
    "    main()  "
   ]
  },
  {
   "cell_type": "markdown",
   "id": "ecc83b7c",
   "metadata": {},
   "source": [
    "I think I need to add a 'labels =' to the pie chart function to make it work. "
   ]
  },
  {
   "cell_type": "code",
   "execution_count": 2,
   "id": "bd504bbd",
   "metadata": {},
   "outputs": [
    {
     "name": "stdout",
     "output_type": "stream",
     "text": [
      "Enter your expenses in the boxes below.\n",
      "Rent expense: 750.95\n",
      "Gas expense: 85.60\n",
      "Food expense: 50.12\n",
      "Clothing expense: 65.45\n",
      "Car Payment expense: 350.75\n",
      "Misc expense: 32.63\n"
     ]
    },
    {
     "data": {
      "image/png": "[encoded data removed]",
      "text/plain": [
       "<Figure size 640x480 with 1 Axes>"
      ]
     },
     "metadata": {},
     "output_type": "display_data"
    }
   ],
   "source": [
    "import matplotlib.pyplot as plt\n",
    "\n",
    "categories = (\"Rent\",\"Gas\",\"Food\",\"Clothing\",\"Car Payment\",\"Misc\")\n",
    "\n",
    "def main():\n",
    "    directions()\n",
    "    user_inputs()\n",
    "    pie_chart()\n",
    "    \n",
    "def user_inputs():\n",
    "    with open('Expenses.txt','w') as expenses:\n",
    "        for item in categories:\n",
    "            expenses.write(input(f'{item} expense: ')+'\\n')\n",
    "\n",
    "            \n",
    "def read():\n",
    "    expenses_list = []\n",
    "    \n",
    "    with open('Expenses.txt','r') as expenses_file:\n",
    "        for line in expenses_file:\n",
    "            line_value = float(line)\n",
    "            \n",
    "            expenses_list.append(line_value)\n",
    "            \n",
    "    return expenses_list\n",
    "    \n",
    "def pie_chart():\n",
    "    #adding labels to the chart\n",
    "    plt.pie(read(), labels=categories)\n",
    "    plt.show()\n",
    "    \n",
    "def directions():\n",
    "    print('Enter your expenses in the boxes below.')\n",
    "        \n",
    "if __name__ == '__main__':\n",
    "    main()  "
   ]
  },
  {
   "cell_type": "markdown",
   "id": "9cf9c02e",
   "metadata": {},
   "source": [
    "There we go! \n",
    "\n",
    "Now I am going to put on some finishing touches and this problem will be done!"
   ]
  },
  {
   "cell_type": "code",
   "execution_count": 3,
   "id": "0f97888d",
   "metadata": {},
   "outputs": [
    {
     "name": "stdout",
     "output_type": "stream",
     "text": [
      "Enter your expenses in the boxes below.\n",
      "Rent expense: $750.32\n",
      "Gas expense: $95.21\n",
      "Food expense: $52.74\n",
      "Clothing expense: $70.00\n",
      "Car Payment expense: $423.90\n",
      "Misc expense: $29.42\n"
     ]
    },
    {
     "data": {
      "image/png": "[encoded data removed]",
      "text/plain": [
       "<Figure size 640x480 with 1 Axes>"
      ]
     },
     "metadata": {},
     "output_type": "display_data"
    }
   ],
   "source": [
    "#Import the matplotlib library\n",
    "import matplotlib.pyplot as plt\n",
    "#Assign the variable 'categories' the tuple of expense categories\n",
    "categories = (\"Rent\",\"Gas\",\"Food\",\"Clothing\",\"Car Payment\",\"Misc\")\n",
    "\n",
    "#define the main function\n",
    "def main():\n",
    "    #Call the directions function\n",
    "    directions()\n",
    "    #call the user_inputs function\n",
    "    user_inputs()\n",
    "    #call the pie_chart function\n",
    "    pie_chart()\n",
    "\n",
    "#Define the 'user_inputs' function\n",
    "def user_inputs():\n",
    "    #Open the file 'Expenses.txt' in write mode as 'expenses'\n",
    "    with open('Expenses.txt','w') as expenses:\n",
    "        #repeat code below for every item in the categories list\n",
    "        for item in categories:\n",
    "            #write the users input to the expenses file as a new line\n",
    "            expenses.write(input(f'{item} expense: $')+'\\n')\n",
    "\n",
    "#Define the 'read' function            \n",
    "def read():\n",
    "    #Set the 'expenses_list' variable as a blank list\n",
    "    expenses_list = []\n",
    "    \n",
    "    #Open the \"Expenses.txt\" file in read mode as 'expenses_file'\n",
    "    with open('Expenses.txt','r') as expenses_file:\n",
    "        #repeat the code below for every line in the file \"expenses_file\"\n",
    "        for line in expenses_file:\n",
    "            #Assign 'line_value' the value of the current line being read in the file as a float\n",
    "            line_value = float(line)\n",
    "            \n",
    "            #Append the 'line_value' variabel to the end of the expenses_list\n",
    "            expenses_list.append(line_value)\n",
    "    \n",
    "    #return the 'expenses_list' when the function has finished\n",
    "    return expenses_list\n",
    "\n",
    "#define the pie_chart function \n",
    "def pie_chart():\n",
    "    #create a pie chart using the 'read' function as the data and the 'categories' tuple as the labels\n",
    "    plt.pie(read(), labels=categories)\n",
    "    #show the pie chart\n",
    "    plt.show()\n",
    "\n",
    "#define the directions function\n",
    "def directions():\n",
    "    #display the directions\n",
    "    print('Enter your expenses in the boxes below.')\n",
    "        \n",
    "#if the file name contains '__main__' run the 'main' function    \n",
    "if __name__ == '__main__':\n",
    "    #Call the main function\n",
    "    main() "
   ]
  },
  {
   "cell_type": "code",
   "execution_count": null,
   "id": "e71b59fa",
   "metadata": {},
   "outputs": [],
   "source": []
  }
 ],
 "metadata": {
  "kernelspec": {
   "display_name": "Python 3 (ipykernel)",
   "language": "python",
   "name": "python3"
  },
  "language_info": {
   "codemirror_mode": {
    "name": "ipython",
    "version": 3
   },
   "file_extension": ".py",
   "mimetype": "text/x-python",
   "name": "python",
   "nbconvert_exporter": "python",
   "pygments_lexer": "ipython3",
   "version": "3.11.5"
  }
 },
 "nbformat": 4,
 "nbformat_minor": 5
}
