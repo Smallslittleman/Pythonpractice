{
 "cells": [
  {
   "cell_type": "markdown",
   "id": "10b78df3",
   "metadata": {},
   "source": [
    "# Chapter 2 Coding Set - Zavier Christians "
   ]
  },
  {
   "cell_type": "markdown",
   "id": "18553e64",
   "metadata": {},
   "source": [
    "## Algorithm Workbench - Number 2\n",
    "In problem 2 of the algorithm workbench we are asked to \"Write Python code that prompts the user to enter his or her favorite color and assigns the user’s input to a variable named 'Color'.\""
   ]
  },
  {
   "cell_type": "code",
   "execution_count": 10,
   "id": "2f24d44a",
   "metadata": {},
   "outputs": [],
   "source": [
    "#to do this problem I am going to use the input function. "
   ]
  },
  {
   "cell_type": "code",
   "execution_count": 2,
   "id": "4f77bf82",
   "metadata": {},
   "outputs": [
    {
     "ename": "SyntaxError",
     "evalue": "invalid syntax. Perhaps you forgot a comma? (155936354.py, line 1)",
     "output_type": "error",
     "traceback": [
      "\u001b[1;36m  Cell \u001b[1;32mIn[2], line 1\u001b[1;36m\u001b[0m\n\u001b[1;33m    Color = input(Enter favorite color here!)\u001b[0m\n\u001b[1;37m                  ^\u001b[0m\n\u001b[1;31mSyntaxError\u001b[0m\u001b[1;31m:\u001b[0m invalid syntax. Perhaps you forgot a comma?\n"
     ]
    }
   ],
   "source": [
    "Color = input(Enter favorite color here!)"
   ]
  },
  {
   "cell_type": "code",
   "execution_count": 3,
   "id": "366a3e36",
   "metadata": {},
   "outputs": [
    {
     "ename": "SyntaxError",
     "evalue": "invalid syntax. Perhaps you forgot a comma? (1685515881.py, line 1)",
     "output_type": "error",
     "traceback": [
      "\u001b[1;36m  Cell \u001b[1;32mIn[3], line 1\u001b[1;36m\u001b[0m\n\u001b[1;33m    Color = input,(Enter favorite color here!)\u001b[0m\n\u001b[1;37m                   ^\u001b[0m\n\u001b[1;31mSyntaxError\u001b[0m\u001b[1;31m:\u001b[0m invalid syntax. Perhaps you forgot a comma?\n"
     ]
    }
   ],
   "source": [
    "Color = input,(Enter favorite color here!)"
   ]
  },
  {
   "cell_type": "code",
   "execution_count": 4,
   "id": "efef0489",
   "metadata": {},
   "outputs": [
    {
     "ename": "SyntaxError",
     "evalue": "unterminated string literal (detected at line 1) (3044981785.py, line 1)",
     "output_type": "error",
     "traceback": [
      "\u001b[1;36m  Cell \u001b[1;32mIn[4], line 1\u001b[1;36m\u001b[0m\n\u001b[1;33m    Color = input(\"Enter favorite color here!)\u001b[0m\n\u001b[1;37m                  ^\u001b[0m\n\u001b[1;31mSyntaxError\u001b[0m\u001b[1;31m:\u001b[0m unterminated string literal (detected at line 1)\n"
     ]
    }
   ],
   "source": [
    "Color = input(\"Enter favorite color here!)"
   ]
  },
  {
   "cell_type": "code",
   "execution_count": 6,
   "id": "756445da",
   "metadata": {},
   "outputs": [],
   "source": [
    "#I was having some troubles getting the syntax right, but I finally got there!"
   ]
  },
  {
   "cell_type": "code",
   "execution_count": 5,
   "id": "9923efa1",
   "metadata": {
    "scrolled": false
   },
   "outputs": [
    {
     "name": "stdout",
     "output_type": "stream",
     "text": [
      "Enter favorite color here!Green\n"
     ]
    }
   ],
   "source": [
    "Color = input('Enter favorite color here!')"
   ]
  },
  {
   "cell_type": "code",
   "execution_count": 7,
   "id": "3a163d8d",
   "metadata": {},
   "outputs": [
    {
     "name": "stdout",
     "output_type": "stream",
     "text": [
      "Enter favorite color here! Blue\n"
     ]
    }
   ],
   "source": [
    "Color = input('Enter favorite color here!')"
   ]
  },
  {
   "cell_type": "code",
   "execution_count": 8,
   "id": "0c65e64d",
   "metadata": {},
   "outputs": [
    {
     "name": "stdout",
     "output_type": "stream",
     "text": [
      " Blue\n"
     ]
    }
   ],
   "source": [
    "print(Color)"
   ]
  },
  {
   "cell_type": "code",
   "execution_count": 9,
   "id": "a928ae1a",
   "metadata": {},
   "outputs": [],
   "source": [
    "#As seen in the code above the variable \"Color\" has successfully been assigned the string \"Blue\"!"
   ]
  },
  {
   "cell_type": "markdown",
   "id": "2ea6470a",
   "metadata": {},
   "source": [
    "## Programming Exercises - Number 4\n",
    "in problem 4 of the programming exercises we are asked to \"A customer in a store is purchasing five items. Write a program that asks for the price of each item, then displays the subtotal of the sale, the amount of sales tax, and the total. Assume the sales tax is 7 percent.\""
   ]
  },
  {
   "cell_type": "code",
   "execution_count": 12,
   "id": "cdbb36e1",
   "metadata": {},
   "outputs": [],
   "source": [
    "#to do this problem I am going to use a combination of math functions, input functions and variables."
   ]
  },
  {
   "cell_type": "markdown",
   "id": "1b9d3eac",
   "metadata": {},
   "source": [
    "I start by putting in some input functions which set each item variable to thier respective values.\n",
    "\n",
    "Next those values are added together and assigned to the \"Items_subtotals\" variable\n",
    "\n",
    "The \"Sales_tax\" variable then takes the \"Items_subtotals\" variable and multiplies it by 7% or 0.07.\n",
    "\n",
    "The \"Items_total\" variable then takes the \"Items_subtotals\" variable and adds it to the \"Sales_tax\" Variable."
   ]
  },
  {
   "cell_type": "code",
   "execution_count": 3,
   "id": "6e7491a0",
   "metadata": {},
   "outputs": [
    {
     "name": "stdout",
     "output_type": "stream",
     "text": [
      "Item 1 Price 41.52\n",
      "Item 2 Price 5.25\n",
      "Item 3 Price 65.55\n",
      "Item 4 Price 95.60\n",
      "Item 5 Price 3.99\n"
     ]
    },
    {
     "ename": "ValueError",
     "evalue": "could not convert string to float: '41.525.2565.5595.603.99'",
     "output_type": "error",
     "traceback": [
      "\u001b[1;31m---------------------------------------------------------------------------\u001b[0m",
      "\u001b[1;31mValueError\u001b[0m                                Traceback (most recent call last)",
      "Cell \u001b[1;32mIn[3], line 7\u001b[0m\n\u001b[0;32m      4\u001b[0m Item4 \u001b[38;5;241m=\u001b[39m \u001b[38;5;28minput\u001b[39m(\u001b[38;5;124m'\u001b[39m\u001b[38;5;124mItem 4 Price \u001b[39m\u001b[38;5;124m'\u001b[39m)\n\u001b[0;32m      5\u001b[0m Item5 \u001b[38;5;241m=\u001b[39m \u001b[38;5;28minput\u001b[39m(\u001b[38;5;124m'\u001b[39m\u001b[38;5;124mItem 5 Price \u001b[39m\u001b[38;5;124m'\u001b[39m)\n\u001b[1;32m----> 7\u001b[0m Items_subtotals \u001b[38;5;241m=\u001b[39m \u001b[38;5;28mfloat\u001b[39m((Item1\u001b[38;5;241m+\u001b[39mItem2\u001b[38;5;241m+\u001b[39mItem3\u001b[38;5;241m+\u001b[39mItem4\u001b[38;5;241m+\u001b[39mItem5))\n\u001b[0;32m      9\u001b[0m Sales_tax \u001b[38;5;241m=\u001b[39m \u001b[38;5;28mfloat\u001b[39m((Items_subtotals\u001b[38;5;241m*\u001b[39m\u001b[38;5;241m.07\u001b[39m))\n\u001b[0;32m     11\u001b[0m Items_total \u001b[38;5;241m=\u001b[39m \u001b[38;5;28mfloat\u001b[39m((Items_subtotals\u001b[38;5;241m+\u001b[39mSales_tax))\n",
      "\u001b[1;31mValueError\u001b[0m: could not convert string to float: '41.525.2565.5595.603.99'"
     ]
    }
   ],
   "source": [
    "Item1 = input('Item 1 Price ')\n",
    "Item2 = input('Item 2 Price ')\n",
    "Item3 = input('Item 3 Price ')\n",
    "Item4 = input('Item 4 Price ')\n",
    "Item5 = input('Item 5 Price ')\n",
    "\n",
    "Items_subtotals = float((Item1+Item2+Item3+Item4+Item5))\n",
    "\n",
    "Sales_tax = float((Items_subtotals*.07))\n",
    "\n",
    "Items_total = float((Items_subtotals+Sales_tax))"
   ]
  },
  {
   "cell_type": "code",
   "execution_count": 4,
   "id": "a656b865",
   "metadata": {},
   "outputs": [],
   "source": [
    "#This is my attempting to fix my syntax mistakes by converting my strings to floats."
   ]
  },
  {
   "cell_type": "code",
   "execution_count": 5,
   "id": "ad059070",
   "metadata": {},
   "outputs": [
    {
     "name": "stdout",
     "output_type": "stream",
     "text": [
      "Item 1 Price 5.66\n",
      "Item 2 Price 6.95\n",
      "Item 3 Price 8.25\n",
      "Item 4 Price 15.39\n",
      "Item 5 Price 3.85\n"
     ]
    }
   ],
   "source": [
    "Item1 = float(input('Item 1 Price '))\n",
    "Item2 = float(input('Item 2 Price '))\n",
    "Item3 = float(input('Item 3 Price '))\n",
    "Item4 = float(input('Item 4 Price '))\n",
    "Item5 = float(input('Item 5 Price '))\n",
    "\n",
    "Items_subtotals = (Item1+Item2+Item3+Item4+Item5)\n",
    "\n",
    "Sales_tax = (Items_subtotals*.07)\n",
    "\n",
    "Items_total = (Items_subtotals+Sales_tax)"
   ]
  },
  {
   "cell_type": "code",
   "execution_count": 14,
   "id": "4b68d485",
   "metadata": {},
   "outputs": [],
   "source": [
    "#here I add in some print functions to that I can see my variable values."
   ]
  },
  {
   "cell_type": "code",
   "execution_count": 6,
   "id": "67de6d93",
   "metadata": {},
   "outputs": [
    {
     "name": "stdout",
     "output_type": "stream",
     "text": [
      "40.1\n",
      "2.8070000000000004\n",
      "42.907000000000004\n"
     ]
    }
   ],
   "source": [
    "print(Items_subtotals)\n",
    "print(Sales_tax)\n",
    "print(Items_total)"
   ]
  },
  {
   "cell_type": "code",
   "execution_count": 8,
   "id": "41815308",
   "metadata": {},
   "outputs": [],
   "source": [
    "#at this point I realize I should add in some rounding functions to my code using F-strings"
   ]
  },
  {
   "cell_type": "code",
   "execution_count": 9,
   "id": "547ac8ff",
   "metadata": {},
   "outputs": [
    {
     "name": "stdout",
     "output_type": "stream",
     "text": [
      "Item 1 Price 5.99\n",
      "Item 2 Price 6.25\n",
      "Item 3 Price 15.85\n",
      "Item 4 Price 4.99\n",
      "Item 5 Price 75.36\n",
      "Subtotal, {Items_subtotals:.2f}\n",
      "Sales Tax, {Sales_tax:.2f}\n",
      "Your total is, {Items_total:.2f}\n"
     ]
    }
   ],
   "source": [
    "Item1 = float(input('Item 1 Price '))\n",
    "Item2 = float(input('Item 2 Price '))\n",
    "Item3 = float(input('Item 3 Price '))\n",
    "Item4 = float(input('Item 4 Price '))\n",
    "Item5 = float(input('Item 5 Price '))\n",
    "\n",
    "Items_subtotals = (Item1+Item2+Item3+Item4+Item5)\n",
    "\n",
    "Sales_tax = (Items_subtotals*.07)\n",
    "\n",
    "Items_total = (Items_subtotals+Sales_tax)\n",
    "\n",
    "print('Subtotal, {Items_subtotals:.2f}')\n",
    "print('Sales Tax, {Sales_tax:.2f}')\n",
    "print('Your total is, {Items_total:.2f}')"
   ]
  },
  {
   "cell_type": "code",
   "execution_count": 10,
   "id": "e6a3d42f",
   "metadata": {},
   "outputs": [
    {
     "name": "stdout",
     "output_type": "stream",
     "text": [
      "Item 1 Price 4.99\n",
      "Item 2 Price 65.39\n",
      "Item 3 Price 9.99\n",
      "Item 4 Price 10.25\n",
      "Item 5 Price 7.55\n",
      "Subtotal, 98.17\n",
      "Sales Tax, 6.87\n",
      "Your total is, 105.04\n"
     ]
    }
   ],
   "source": [
    "Item1 = float(input('Item 1 Price '))\n",
    "Item2 = float(input('Item 2 Price '))\n",
    "Item3 = float(input('Item 3 Price '))\n",
    "Item4 = float(input('Item 4 Price '))\n",
    "Item5 = float(input('Item 5 Price '))\n",
    "\n",
    "Items_subtotals = (Item1+Item2+Item3+Item4+Item5)\n",
    "\n",
    "Sales_tax = (Items_subtotals*.07)\n",
    "\n",
    "Items_total = (Items_subtotals+Sales_tax)\n",
    "\n",
    "print(f'Subtotal, {Items_subtotals:.2f}')\n",
    "print(f'Sales Tax, {Sales_tax:.2f}')\n",
    "print(f'Your total is, {Items_total:.2f}')"
   ]
  },
  {
   "cell_type": "code",
   "execution_count": 11,
   "id": "0c72eb79",
   "metadata": {},
   "outputs": [],
   "source": [
    "#to finish this problem off I am going to add a dollar sign to the prices."
   ]
  },
  {
   "cell_type": "code",
   "execution_count": 12,
   "id": "dffcceef",
   "metadata": {},
   "outputs": [
    {
     "name": "stdout",
     "output_type": "stream",
     "text": [
      "Item 1 Price 1.99\n",
      "Item 2 Price 15.25\n",
      "Item 3 Price 9.99\n",
      "Item 4 Price 65.39\n",
      "Item 5 Price 7.59\n",
      "Subtotal, $100.21\n",
      "Sales Tax, $7.01\n",
      "Your total is, $107.22\n"
     ]
    }
   ],
   "source": [
    "Item1 = float(input('Item 1 Price '))\n",
    "Item2 = float(input('Item 2 Price '))\n",
    "Item3 = float(input('Item 3 Price '))\n",
    "Item4 = float(input('Item 4 Price '))\n",
    "Item5 = float(input('Item 5 Price '))\n",
    "\n",
    "Items_subtotals = (Item1+Item2+Item3+Item4+Item5)\n",
    "\n",
    "Sales_tax = (Items_subtotals*.07)\n",
    "\n",
    "Items_total = (Items_subtotals+Sales_tax)\n",
    "\n",
    "print(f'Subtotal, ${Items_subtotals:.2f}')\n",
    "print(f'Sales Tax, ${Sales_tax:.2f}')\n",
    "print(f'Your total is, ${Items_total:.2f}')"
   ]
  },
  {
   "cell_type": "markdown",
   "id": "ac28fc95",
   "metadata": {},
   "source": [
    "## Programming Exercises - Number 13\n",
    "In problem 4 of the programming exercises we are asked to: \n",
    "\n",
    "\"Write a program that makes the calculation for the vineyard owner. The program should ask the user to input the following: \n",
    "\n",
    "The length of the row, in feet\n",
    "The amount of space used by an end-post assembly, in feet\n",
    "The amount of space between the vines, in feet\n",
    "\n",
    "Once the input data has been entered, the program should calculate and display the number of grapevines that will fit in the row.\""
   ]
  },
  {
   "cell_type": "markdown",
   "id": "cde5e453",
   "metadata": {},
   "source": [
    "The formula given to us to solve for this is, V = (R-2E)/S"
   ]
  },
  {
   "cell_type": "markdown",
   "id": "56f443ff",
   "metadata": {},
   "source": [
    "V = The number of grapvines. R = The length of each row, in feet. E = the amount of space, in feet, used by an end-post assembly. Finally S = the space between vines, in feet."
   ]
  },
  {
   "cell_type": "code",
   "execution_count": 15,
   "id": "cd2ad184",
   "metadata": {},
   "outputs": [],
   "source": [
    "#I will need to use math functions, the print function, as well as the input funtion to do this problem."
   ]
  },
  {
   "cell_type": "code",
   "execution_count": 19,
   "id": "5795aae2",
   "metadata": {},
   "outputs": [
    {
     "name": "stdout",
     "output_type": "stream",
     "text": [
      "Enter the row length, the amount of space, used by an end-post assembly, and the space between vines\n",
      "Length of row in feet 12\n",
      "End-post assembly length in feet 5\n",
      "Vine spacing in feet 3\n"
     ]
    }
   ],
   "source": [
    "#use input functions to get all the needed variables for the vineyard function.\n",
    "#additionally, print something to let the user know what they need to do. \n",
    "\n",
    "print('Enter the row length, the amount of space, used by an end-post assembly, and the space between vines')\n",
    "\n",
    "Row_length = float(input('Length of row in feet '))\n",
    "Endpost_space = float(input('End-post assembly length in feet '))\n",
    "Vine_space = float(input('Vine spacing in feet '))"
   ]
  },
  {
   "cell_type": "code",
   "execution_count": 20,
   "id": "da7c321f",
   "metadata": {},
   "outputs": [],
   "source": [
    "#now that I know that my input functions work I can start adding some math functions!"
   ]
  },
  {
   "cell_type": "code",
   "execution_count": 21,
   "id": "f7659260",
   "metadata": {},
   "outputs": [
    {
     "name": "stdout",
     "output_type": "stream",
     "text": [
      "Enter the row length, the amount of space, used by an end-post assembly, and the space between vines\n",
      "Length of row in feet 90\n",
      "End-post assembly length in feet 5\n",
      "Vine spacing in feet 3\n"
     ]
    }
   ],
   "source": [
    "#REMEMBER, the formula is V = (R-2E)/S\n",
    "\n",
    "print('Enter the row length, the amount of space, used by an end-post assembly, and the space between vines')\n",
    "\n",
    "Row_length = float(input('Length of row in feet '))\n",
    "Endpost_space = float(input('End-post assembly length in feet '))\n",
    "Vine_space = float(input('Vine spacing in feet '))\n",
    "\n",
    "Vines = (Row_length-(2*Endpost_space))/Vine_space"
   ]
  },
  {
   "cell_type": "code",
   "execution_count": 22,
   "id": "cd98b7fe",
   "metadata": {},
   "outputs": [],
   "source": [
    "#now I will add a print function to see the value of my variable "
   ]
  },
  {
   "cell_type": "code",
   "execution_count": 23,
   "id": "5dee92be",
   "metadata": {},
   "outputs": [
    {
     "name": "stdout",
     "output_type": "stream",
     "text": [
      "26.666666666666668\n"
     ]
    }
   ],
   "source": [
    "print(Vines)"
   ]
  },
  {
   "cell_type": "code",
   "execution_count": 24,
   "id": "7474e678",
   "metadata": {},
   "outputs": [],
   "source": [
    "#a quick check with my calculator lets me know that the math is correct!\n",
    "#however, the number is not very useful because it is not whole. I should add some F-stings to make the output more usable."
   ]
  },
  {
   "cell_type": "code",
   "execution_count": 25,
   "id": "1e5edb73",
   "metadata": {},
   "outputs": [
    {
     "name": "stdout",
     "output_type": "stream",
     "text": [
      "Enter the row length, the amount of space, used by an end-post assembly, and the space between vines\n",
      "Length of row in feet 90\n",
      "End-post assembly length in feet 5\n",
      "Vine spacing in feet 3\n",
      "26.0\n"
     ]
    }
   ],
   "source": [
    "print('Enter the row length, the amount of space, used by an end-post assembly, and the space between vines')\n",
    "\n",
    "Row_length = float(input('Length of row in feet '))\n",
    "Endpost_space = float(input('End-post assembly length in feet '))\n",
    "Vine_space = float(input('Vine spacing in feet '))\n",
    "\n",
    "Vines = (Row_length-(2*Endpost_space))//Vine_space\n",
    "\n",
    "print(Vines)"
   ]
  },
  {
   "cell_type": "code",
   "execution_count": 26,
   "id": "defe7771",
   "metadata": {},
   "outputs": [],
   "source": [
    "#I realized that I could just use the integer division function to truncate the result so that I wouldnt have to use a F-string to round down."
   ]
  },
  {
   "cell_type": "code",
   "execution_count": 32,
   "id": "a9016248",
   "metadata": {},
   "outputs": [
    {
     "name": "stdout",
     "output_type": "stream",
     "text": [
      "Enter the row length, the amount of space, used by an end-post assembly, and the space between vines\n",
      "Length of row, in feet 90\n",
      "End-post assembly length, in feet 5\n",
      "Vine spacing, in feet 3\n",
      "You can fit 26 Vines\n"
     ]
    }
   ],
   "source": [
    "#now to pretty everything up a bit.\n",
    "\n",
    "print('Enter the row length, the amount of space, used by an end-post assembly, and the space between vines')\n",
    "\n",
    "Row_length = float(input('Length of row, in feet '))\n",
    "Endpost_space = float(input('End-post assembly length, in feet '))\n",
    "Vine_space = float(input('Vine spacing, in feet '))\n",
    "\n",
    "Vines = (Row_length-(2*Endpost_space))//Vine_space\n",
    "\n",
    "print(f'You can fit {Vines:.0f} Vines')"
   ]
  },
  {
   "cell_type": "code",
   "execution_count": 28,
   "id": "6bc12963",
   "metadata": {},
   "outputs": [],
   "source": [
    "#I am going to test a bit more to make sure it is not rounding up odd numbers."
   ]
  },
  {
   "cell_type": "code",
   "execution_count": 29,
   "id": "07b7f607",
   "metadata": {},
   "outputs": [
    {
     "name": "stdout",
     "output_type": "stream",
     "text": [
      "Enter the row length, the amount of space, used by an end-post assembly, and the space between vines\n",
      "Length of row, in feet 37\n",
      "End-post assembly length, in feet 5.5\n",
      "Vine spacing, in feet 8\n",
      "You can fit 3 Vines\n"
     ]
    }
   ],
   "source": [
    "print('Enter the row length, the amount of space, used by an end-post assembly, and the space between vines')\n",
    "\n",
    "Row_length = float(input('Length of row, in feet '))\n",
    "Endpost_space = float(input('End-post assembly length, in feet '))\n",
    "Vine_space = float(input('Vine spacing, in feet '))\n",
    "\n",
    "Vines = (Row_length-(2*Endpost_space))//Vine_space\n",
    "\n",
    "print(f'You can fit {Vines:.0f} Vines')"
   ]
  },
  {
   "cell_type": "code",
   "execution_count": 30,
   "id": "518154a9",
   "metadata": {},
   "outputs": [
    {
     "name": "stdout",
     "output_type": "stream",
     "text": [
      "Enter the row length, the amount of space, used by an end-post assembly, and the space between vines\n",
      "Length of row, in feet 150\n",
      "End-post assembly length, in feet 7\n",
      "Vine spacing, in feet 4\n",
      "You can fit 34 Vines\n"
     ]
    }
   ],
   "source": [
    "print('Enter the row length, the amount of space, used by an end-post assembly, and the space between vines')\n",
    "\n",
    "Row_length = float(input('Length of row, in feet '))\n",
    "Endpost_space = float(input('End-post assembly length, in feet '))\n",
    "Vine_space = float(input('Vine spacing, in feet '))\n",
    "\n",
    "Vines = (Row_length-(2*Endpost_space))//Vine_space\n",
    "\n",
    "print(f'You can fit {Vines:.0f} Vines')"
   ]
  },
  {
   "cell_type": "code",
   "execution_count": 33,
   "id": "45ebd51c",
   "metadata": {},
   "outputs": [],
   "source": [
    "#The code seems to work well!"
   ]
  },
  {
   "cell_type": "code",
   "execution_count": null,
   "id": "caec9d09",
   "metadata": {},
   "outputs": [],
   "source": []
  }
 ],
 "metadata": {
  "kernelspec": {
   "display_name": "Python 3 (ipykernel)",
   "language": "python",
   "name": "python3"
  },
  "language_info": {
   "codemirror_mode": {
    "name": "ipython",
    "version": 3
   },
   "file_extension": ".py",
   "mimetype": "text/x-python",
   "name": "python",
   "nbconvert_exporter": "python",
   "pygments_lexer": "ipython3",
   "version": "3.11.5"
  }
 },
 "nbformat": 4,
 "nbformat_minor": 5
}
