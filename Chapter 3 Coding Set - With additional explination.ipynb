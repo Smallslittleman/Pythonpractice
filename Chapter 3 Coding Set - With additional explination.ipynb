{
 "cells": [
  {
   "cell_type": "markdown",
   "id": "343e42c6",
   "metadata": {},
   "source": [
    "# Chapter 3 Coding Set - Zavier Christians"
   ]
  },
  {
   "cell_type": "markdown",
   "id": "67b717c0",
   "metadata": {},
   "source": [
    "## Algorithm Workbench - Number 4"
   ]
  },
  {
   "cell_type": "markdown",
   "id": "ea98b8a1",
   "metadata": {},
   "source": [
    "#### In question number 4 we are asked to \"The following code contains several nested  statements. Unfortunately, it was written without proper alignment and indentation. Rewrite the code and use the proper conventions of alignment and indentation.\""
   ]
  },
  {
   "cell_type": "code",
   "execution_count": 1,
   "id": "c9d26319",
   "metadata": {},
   "outputs": [],
   "source": [
    "# in the example the programmer does not indent any of their statements, to fix this I will indent properly.\n",
    "\n",
    "#To do this I will make sure that each of the \"if\" statements are indented the same as their corresponding \"else\" statement.\n",
    "#if done properly the statements should for a little reverse staircase to the left of the screen."
   ]
  },
  {
   "cell_type": "code",
   "execution_count": 3,
   "id": "1030ef35",
   "metadata": {},
   "outputs": [
    {
     "ename": "NameError",
     "evalue": "name 'score' is not defined",
     "output_type": "error",
     "traceback": [
      "\u001b[1;31m---------------------------------------------------------------------------\u001b[0m",
      "\u001b[1;31mNameError\u001b[0m                                 Traceback (most recent call last)",
      "Cell \u001b[1;32mIn[3], line 1\u001b[0m\n\u001b[1;32m----> 1\u001b[0m \u001b[38;5;28;01mif\u001b[39;00m score \u001b[38;5;241m>\u001b[39m\u001b[38;5;241m=\u001b[39m A_score:\n\u001b[0;32m      2\u001b[0m     \u001b[38;5;28mprint\u001b[39m(\u001b[38;5;124m'\u001b[39m\u001b[38;5;124mYour grade is A.\u001b[39m\u001b[38;5;124m'\u001b[39m)\n\u001b[0;32m      3\u001b[0m \u001b[38;5;28;01melse\u001b[39;00m:\n",
      "\u001b[1;31mNameError\u001b[0m: name 'score' is not defined"
     ]
    }
   ],
   "source": [
    "if score >= A_score:\n",
    "    print('Your grade is A.')\n",
    "else:\n",
    "    if score >= B_score:\n",
    "        print('Your grade is B.')\n",
    "    else:\n",
    "        if score >= C_score:\n",
    "            print('Your grade is C.')\n",
    "        else:\n",
    "            if score >= D_score:\n",
    "                print('Your grade is D.')\n",
    "            else:\n",
    "                print('Your grade is F.')"
   ]
  },
  {
   "cell_type": "code",
   "execution_count": 9,
   "id": "5298e3c7",
   "metadata": {},
   "outputs": [],
   "source": [
    "#here I assign some values to the variables so that I can test the code."
   ]
  },
  {
   "cell_type": "code",
   "execution_count": 4,
   "id": "38af8c4a",
   "metadata": {},
   "outputs": [],
   "source": [
    "A_score = 90\n",
    "B_score = 80\n",
    "C_score = 70\n",
    "D_score = 60\n",
    "\n",
    "score = 75 "
   ]
  },
  {
   "cell_type": "code",
   "execution_count": 5,
   "id": "c641152a",
   "metadata": {},
   "outputs": [
    {
     "name": "stdout",
     "output_type": "stream",
     "text": [
      "Your grade is C.\n"
     ]
    }
   ],
   "source": [
    "if score >= A_score:\n",
    "    print('Your grade is A.')\n",
    "else:\n",
    "    if score >= B_score:\n",
    "        print('Your grade is B.')\n",
    "    else:\n",
    "        if score >= C_score:\n",
    "            print('Your grade is C.')\n",
    "        else:\n",
    "            if score >= D_score:\n",
    "                print('Your grade is D.')\n",
    "            else:\n",
    "                print('Your grade is F.')"
   ]
  },
  {
   "cell_type": "code",
   "execution_count": 6,
   "id": "53cdbae3",
   "metadata": {},
   "outputs": [],
   "source": [
    "score = 40"
   ]
  },
  {
   "cell_type": "code",
   "execution_count": 7,
   "id": "bb58d7da",
   "metadata": {},
   "outputs": [
    {
     "name": "stdout",
     "output_type": "stream",
     "text": [
      "Your grade is F.\n"
     ]
    }
   ],
   "source": [
    "if score >= A_score:\n",
    "    print('Your grade is A.')\n",
    "else:\n",
    "    if score >= B_score:\n",
    "        print('Your grade is B.')\n",
    "    else:\n",
    "        if score >= C_score:\n",
    "            print('Your grade is C.')\n",
    "        else:\n",
    "            if score >= D_score:\n",
    "                print('Your grade is D.')\n",
    "            else:\n",
    "                print('Your grade is F.')"
   ]
  },
  {
   "cell_type": "code",
   "execution_count": 8,
   "id": "759f382b",
   "metadata": {},
   "outputs": [],
   "source": [
    "#The new indentation worked!"
   ]
  },
  {
   "cell_type": "markdown",
   "id": "028b8c28",
   "metadata": {},
   "source": [
    "## Algorithm Workbench - Number 5"
   ]
  },
  {
   "cell_type": "markdown",
   "id": "773d45b5",
   "metadata": {},
   "source": [
    "Question number 5 asks us to:\n",
    "\n",
    "\"Write nested decision structures that perform the following: If amount1 is greater than 10 and amount2 is less than 100, display the greater of amount1 and amount2.\""
   ]
  },
  {
   "cell_type": "code",
   "execution_count": 11,
   "id": "f0278e7a",
   "metadata": {},
   "outputs": [],
   "source": [
    "#to complete this problem I am going to have to use the print function, and logic functions that are nested."
   ]
  },
  {
   "cell_type": "code",
   "execution_count": 13,
   "id": "5d525a0a",
   "metadata": {},
   "outputs": [
    {
     "ename": "NameError",
     "evalue": "name 'amount1' is not defined",
     "output_type": "error",
     "traceback": [
      "\u001b[1;31m---------------------------------------------------------------------------\u001b[0m",
      "\u001b[1;31mNameError\u001b[0m                                 Traceback (most recent call last)",
      "Cell \u001b[1;32mIn[13], line 1\u001b[0m\n\u001b[1;32m----> 1\u001b[0m \u001b[38;5;28;01mif\u001b[39;00m amount1 \u001b[38;5;241m>\u001b[39m \u001b[38;5;241m10\u001b[39m \u001b[38;5;129;01mand\u001b[39;00m amount2 \u001b[38;5;241m<\u001b[39m \u001b[38;5;241m100\u001b[39m:\n\u001b[0;32m      2\u001b[0m     \u001b[38;5;28;01mif\u001b[39;00m(amount1\u001b[38;5;241m>\u001b[39mamount2):\n\u001b[0;32m      3\u001b[0m         \u001b[38;5;28mprint\u001b[39m(amount1)\n",
      "\u001b[1;31mNameError\u001b[0m: name 'amount1' is not defined"
     ]
    }
   ],
   "source": [
    "#I have to use an \"and\" statement to start so because two perameters must be met before the code can be run.\n",
    "#if statments must then me used to establish the logic of the code. \n",
    "if amount1 > 10 and amount2 < 100:\n",
    "    if(amount1>amount2):\n",
    "        print(amount1)\n",
    "    else:\n",
    "        if amoun1<amount2:\n",
    "            print(amount2)"
   ]
  },
  {
   "cell_type": "code",
   "execution_count": 19,
   "id": "d38c0461",
   "metadata": {},
   "outputs": [],
   "source": [
    "#here I define variables to test the code.\n",
    "amount1 = 25\n",
    "amount2 = 35"
   ]
  },
  {
   "cell_type": "code",
   "execution_count": 16,
   "id": "42d13a80",
   "metadata": {},
   "outputs": [
    {
     "name": "stdout",
     "output_type": "stream",
     "text": [
      "35\n"
     ]
    }
   ],
   "source": [
    "if amount1 > 10 and amount2 < 100:\n",
    "    if(amount1>amount2):\n",
    "        print(amount1)\n",
    "    else:\n",
    "        if amount1<amount2:\n",
    "            print(amount2)"
   ]
  },
  {
   "cell_type": "code",
   "execution_count": 17,
   "id": "5ddf8442",
   "metadata": {},
   "outputs": [],
   "source": [
    "amount1 = 45"
   ]
  },
  {
   "cell_type": "code",
   "execution_count": 18,
   "id": "fbccc677",
   "metadata": {},
   "outputs": [
    {
     "name": "stdout",
     "output_type": "stream",
     "text": [
      "45\n"
     ]
    }
   ],
   "source": [
    "if amount1 > 10 and amount2 < 100:\n",
    "    if(amount1>amount2):\n",
    "        print(amount1)\n",
    "    else:\n",
    "        if amoun1<amount2:\n",
    "            print(amount2)"
   ]
  },
  {
   "cell_type": "code",
   "execution_count": 20,
   "id": "a564762a",
   "metadata": {},
   "outputs": [],
   "source": [
    "amount2 = 200"
   ]
  },
  {
   "cell_type": "code",
   "execution_count": 21,
   "id": "7a0858ae",
   "metadata": {},
   "outputs": [],
   "source": [
    "if amount1 > 10 and amount2 < 100:\n",
    "    if(amount1>amount2):\n",
    "        print(amount1)\n",
    "    else:\n",
    "        if amoun1<amount2:\n",
    "            print(amount2)"
   ]
  },
  {
   "cell_type": "code",
   "execution_count": 22,
   "id": "61b00ed8",
   "metadata": {},
   "outputs": [],
   "source": [
    "#The code appears to be working perfectly!"
   ]
  },
  {
   "cell_type": "markdown",
   "id": "9f8f97ff",
   "metadata": {},
   "source": [
    "## Programming Exercises - Number 1"
   ]
  },
  {
   "cell_type": "markdown",
   "id": "7de31c0f",
   "metadata": {},
   "source": [
    "Question number 1 asks us to: \n",
    "\n",
    "\"Write a program that asks the user for a number in the range of 1 through 7. The program should display the corresponding day of the week, where 1 = Monday, 2 = Tuesday, 3 = Wednesday, 4 = Thursday, 5 = Friday, 6 = Saturday, and 7 = Sunday. The program should display an error message if the user enters a number that is outside the range of 1 through 7.\""
   ]
  },
  {
   "cell_type": "code",
   "execution_count": 23,
   "id": "c2732e95",
   "metadata": {},
   "outputs": [],
   "source": [
    "#to complete this question I am going to attempt to use the if-elif-else statement in conjuntion with the print statement,\n",
    "#and the input statement."
   ]
  },
  {
   "cell_type": "code",
   "execution_count": 24,
   "id": "5b43093a",
   "metadata": {},
   "outputs": [
    {
     "name": "stdout",
     "output_type": "stream",
     "text": [
      "Enter a number in the box below to learn what its corresponding day is!\n",
      "Enter your number here! 1\n"
     ]
    }
   ],
   "source": [
    "#to start I will add a print statement letting the user know what to do.\n",
    "#Next I will need a input statement so that they can type their response.\n",
    "\n",
    "print(\"Enter a number in the box below to learn what its corresponding day is!\")\n",
    "num = input(\"Enter your number here! \")"
   ]
  },
  {
   "cell_type": "code",
   "execution_count": 26,
   "id": "7b0afa5f",
   "metadata": {},
   "outputs": [
    {
     "name": "stdout",
     "output_type": "stream",
     "text": [
      "Enter a number in the box below to learn what its corresponding day is!\n",
      "Enter your number here! 9\n"
     ]
    },
    {
     "ename": "TypeError",
     "evalue": "'>' not supported between instances of 'str' and 'int'",
     "output_type": "error",
     "traceback": [
      "\u001b[1;31m---------------------------------------------------------------------------\u001b[0m",
      "\u001b[1;31mTypeError\u001b[0m                                 Traceback (most recent call last)",
      "Cell \u001b[1;32mIn[26], line 7\u001b[0m\n\u001b[0;32m      4\u001b[0m num \u001b[38;5;241m=\u001b[39m \u001b[38;5;28minput\u001b[39m(\u001b[38;5;124m\"\u001b[39m\u001b[38;5;124mEnter your number here! \u001b[39m\u001b[38;5;124m\"\u001b[39m)\n\u001b[0;32m      6\u001b[0m \u001b[38;5;66;03m#I am going to create a variable called \"response\" which will be input into a print function at the end\u001b[39;00m\n\u001b[1;32m----> 7\u001b[0m \u001b[38;5;28;01mif\u001b[39;00m num \u001b[38;5;241m>\u001b[39m \u001b[38;5;241m7\u001b[39m \u001b[38;5;129;01mor\u001b[39;00m num \u001b[38;5;241m<\u001b[39m \u001b[38;5;241m1\u001b[39m:\n\u001b[0;32m      8\u001b[0m     \u001b[38;5;28mprint\u001b[39m(\u001b[38;5;124m\"\u001b[39m\u001b[38;5;124mERROR: number must be between 1 and 7\u001b[39m\u001b[38;5;124m\"\u001b[39m)\n\u001b[0;32m      9\u001b[0m \u001b[38;5;28;01melif\u001b[39;00m num \u001b[38;5;241m==\u001b[39m \u001b[38;5;241m1\u001b[39m:\n",
      "\u001b[1;31mTypeError\u001b[0m: '>' not supported between instances of 'str' and 'int'"
     ]
    }
   ],
   "source": [
    "#next I will work on the logic of the code using if-elif-else statements.\n",
    "\n",
    "print(\"Enter a number in the box below to learn what its corresponding day is!\")\n",
    "num = input(\"Enter your number here! \")\n",
    "\n",
    "#I am going to create a variable called \"response\" which will be input into a print function at the end\n",
    "if num > 7 or num < 1:\n",
    "    print(\"ERROR: number must be between 1 and 7\")\n",
    "elif num == 1:\n",
    "    response=\"monday\""
   ]
  },
  {
   "cell_type": "code",
   "execution_count": 28,
   "id": "9f57befe",
   "metadata": {},
   "outputs": [
    {
     "name": "stdout",
     "output_type": "stream",
     "text": [
      "Enter a number in the box below to learn what its corresponding day is!\n",
      "Enter your number here! 8\n",
      "ERROR: number must be between 1 and 7\n"
     ]
    }
   ],
   "source": [
    "print(\"Enter a number in the box below to learn what its corresponding day is!\")\n",
    "#I had to add an int function here because the logic couldnt compare the string to a int. \n",
    "num = int(input(\"Enter your number here! \"))\n",
    "\n",
    "if num > 7 or num < 1:\n",
    "    print(\"ERROR: number must be between 1 and 7\")\n",
    "elif num == 1:\n",
    "    response=\"monday\""
   ]
  },
  {
   "cell_type": "code",
   "execution_count": 29,
   "id": "2d6fbc87",
   "metadata": {},
   "outputs": [
    {
     "name": "stdout",
     "output_type": "stream",
     "text": [
      "Enter a number in the box below to learn what its corresponding day is!\n",
      "Enter your number here! 5\n"
     ]
    }
   ],
   "source": [
    "print(\"Enter a number in the box below to learn what its corresponding day is!\")\n",
    "num = int(input(\"Enter your number here! \"))\n",
    "\n",
    "if num > 7 or num < 1:\n",
    "    print(\"ERROR: number must be between 1 and 7\")\n",
    "elif num == 1:\n",
    "    response=\"Monday\"\n",
    "elif num == 2:\n",
    "    response=\"Tuesday\"\n",
    "elif num == 3:\n",
    "    response=\"Wednesday\"\n",
    "elif num == 4:\n",
    "    response=\"Thursday\"\n",
    "elif num == 5:\n",
    "    response=\"Friday\"\n",
    "elif num == 6:\n",
    "    response=\"Saturday\"\n",
    "elif num == 7:\n",
    "    response=\"Sunday\"\n",
    "    \n",
    "    if num <= 7 and num >= 1:\n",
    "        print(f\"The day of the week you entered is {response}\")"
   ]
  },
  {
   "cell_type": "code",
   "execution_count": 30,
   "id": "3f64c2b1",
   "metadata": {},
   "outputs": [],
   "source": [
    "#something has gone wrong I am going to try to change how my if statements work."
   ]
  },
  {
   "cell_type": "code",
   "execution_count": 31,
   "id": "a2771a51",
   "metadata": {},
   "outputs": [
    {
     "ename": "SyntaxError",
     "evalue": "invalid syntax (4247564897.py, line 9)",
     "output_type": "error",
     "traceback": [
      "\u001b[1;36m  Cell \u001b[1;32mIn[31], line 9\u001b[1;36m\u001b[0m\n\u001b[1;33m    elif num == 1:\u001b[0m\n\u001b[1;37m    ^\u001b[0m\n\u001b[1;31mSyntaxError\u001b[0m\u001b[1;31m:\u001b[0m invalid syntax\n"
     ]
    }
   ],
   "source": [
    "print(\"Enter a number in the box below to learn what its corresponding day is!\")\n",
    "num = int(input(\"Enter your number here! \"))\n",
    "\n",
    "if num > 7 or num < 1:\n",
    "    print(\"ERROR: number must be between 1 and 7\")\n",
    "else:\n",
    "    if num <= 7 and num >= 1:\n",
    "        print(f\"The day of the week you entered is {response}\")\n",
    "elif num == 1:\n",
    "    response=\"Monday\"\n",
    "elif num == 2:\n",
    "    response=\"Tuesday\"\n",
    "elif num == 3:\n",
    "    response=\"Wednesday\"\n",
    "elif num == 4:\n",
    "    response=\"Thursday\"\n",
    "elif num == 5:\n",
    "    response=\"Friday\"\n",
    "elif num == 6:\n",
    "    response=\"Saturday\"\n",
    "elif num == 7:\n",
    "    response=\"Sunday\""
   ]
  },
  {
   "cell_type": "code",
   "execution_count": 37,
   "id": "5d2395bb",
   "metadata": {},
   "outputs": [
    {
     "name": "stdout",
     "output_type": "stream",
     "text": [
      "Enter a number in the box below to learn what its corresponding day is!\n",
      "Enter your number here! 5\n",
      "The day of the week you entered is Friday\n"
     ]
    }
   ],
   "source": [
    "print(\"Enter a number in the box below to learn what its corresponding day is!\")\n",
    "num = int(input(\"Enter your number here! \"))\n",
    "\n",
    "if num > 7 or num < 1:\n",
    "    print(\"ERROR: number must be between 1 and 7\")\n",
    "else:\n",
    "    if num <= 7 and num >= 1:\n",
    "        print(f\"The day of the week you entered is {response}\")\n",
    "        if num == 1:\n",
    "            response=\"Monday\"\n",
    "        elif num == 2:\n",
    "            response=\"Tuesday\"\n",
    "        elif num == 3:\n",
    "            response=\"Wednesday\"\n",
    "        elif num == 4:\n",
    "            response=\"Thursday\"\n",
    "        elif num == 5:\n",
    "            response=\"Friday\"\n",
    "        elif num == 6:\n",
    "            response=\"Saturday\"\n",
    "        elif num == 7:\n",
    "            response=\"Sunday\""
   ]
  },
  {
   "cell_type": "code",
   "execution_count": 38,
   "id": "3787c592",
   "metadata": {},
   "outputs": [],
   "source": [
    "#yay I got it working!!!"
   ]
  },
  {
   "cell_type": "code",
   "execution_count": 39,
   "id": "3ba934bf",
   "metadata": {},
   "outputs": [],
   "source": [
    "#Time for a bit of testing to make sure everything works as it should."
   ]
  },
  {
   "cell_type": "code",
   "execution_count": 40,
   "id": "33a0d986",
   "metadata": {},
   "outputs": [
    {
     "name": "stdout",
     "output_type": "stream",
     "text": [
      "Enter a number in the box below to learn what its corresponding day is!\n",
      "Enter your number here! 15\n",
      "ERROR: number must be between 1 and 7\n"
     ]
    }
   ],
   "source": [
    "print(\"Enter a number in the box below to learn what its corresponding day is!\")\n",
    "num = int(input(\"Enter your number here! \"))\n",
    "\n",
    "if num > 7 or num < 1:\n",
    "    print(\"ERROR: number must be between 1 and 7\")\n",
    "else:\n",
    "    if num <= 7 and num >= 1:\n",
    "        print(f\"The day of the week you entered is {response}\")\n",
    "        if num == 1:\n",
    "            response=\"Monday\"\n",
    "        elif num == 2:\n",
    "            response=\"Tuesday\"\n",
    "        elif num == 3:\n",
    "            response=\"Wednesday\"\n",
    "        elif num == 4:\n",
    "            response=\"Thursday\"\n",
    "        elif num == 5:\n",
    "            response=\"Friday\"\n",
    "        elif num == 6:\n",
    "            response=\"Saturday\"\n",
    "        elif num == 7:\n",
    "            response=\"Sunday\""
   ]
  },
  {
   "cell_type": "code",
   "execution_count": 41,
   "id": "4d61968e",
   "metadata": {},
   "outputs": [
    {
     "name": "stdout",
     "output_type": "stream",
     "text": [
      "Enter a number in the box below to learn what its corresponding day is!\n",
      "Enter your number here! 7\n",
      "The day of the week you entered is Friday\n"
     ]
    }
   ],
   "source": [
    "print(\"Enter a number in the box below to learn what its corresponding day is!\")\n",
    "num = int(input(\"Enter your number here! \"))\n",
    "\n",
    "if num > 7 or num < 1:\n",
    "    print(\"ERROR: number must be between 1 and 7\")\n",
    "else:\n",
    "    if num <= 7 and num >= 1:\n",
    "        print(f\"The day of the week you entered is {response}\")\n",
    "        if num == 1:\n",
    "            response=\"Monday\"\n",
    "        elif num == 2:\n",
    "            response=\"Tuesday\"\n",
    "        elif num == 3:\n",
    "            response=\"Wednesday\"\n",
    "        elif num == 4:\n",
    "            response=\"Thursday\"\n",
    "        elif num == 5:\n",
    "            response=\"Friday\"\n",
    "        elif num == 6:\n",
    "            response=\"Saturday\"\n",
    "        elif num == 7:\n",
    "            response=\"Sunday\""
   ]
  },
  {
   "cell_type": "code",
   "execution_count": 42,
   "id": "ceb76891",
   "metadata": {},
   "outputs": [
    {
     "name": "stdout",
     "output_type": "stream",
     "text": [
      "Enter a number in the box below to learn what its corresponding day is!\n",
      "Enter your number here! 3\n",
      "The day of the week you entered is Sunday\n"
     ]
    }
   ],
   "source": [
    "print(\"Enter a number in the box below to learn what its corresponding day is!\")\n",
    "num = int(input(\"Enter your number here! \"))\n",
    "\n",
    "if num > 7 or num < 1:\n",
    "    print(\"ERROR: number must be between 1 and 7\")\n",
    "else:\n",
    "    if num <= 7 and num >= 1:\n",
    "        print(f\"The day of the week you entered is {response}\")\n",
    "        if num == 1:\n",
    "            response=\"Monday\"\n",
    "        elif num == 2:\n",
    "            response=\"Tuesday\"\n",
    "        elif num == 3:\n",
    "            response=\"Wednesday\"\n",
    "        elif num == 4:\n",
    "            response=\"Thursday\"\n",
    "        elif num == 5:\n",
    "            response=\"Friday\"\n",
    "        elif num == 6:\n",
    "            response=\"Saturday\"\n",
    "        elif num == 7:\n",
    "            response=\"Sunday\""
   ]
  },
  {
   "cell_type": "code",
   "execution_count": 43,
   "id": "ef59efd9",
   "metadata": {},
   "outputs": [],
   "source": [
    "#something seems to be off still, I am going to try to move the print function to the end to see if that fixed things."
   ]
  },
  {
   "cell_type": "code",
   "execution_count": 46,
   "id": "8cda8e18",
   "metadata": {},
   "outputs": [
    {
     "name": "stdout",
     "output_type": "stream",
     "text": [
      "Enter a number in the box below to learn what its corresponding day is!\n",
      "Enter your number here! 3\n"
     ]
    }
   ],
   "source": [
    "print(\"Enter a number in the box below to learn what its corresponding day is!\")\n",
    "num = int(input(\"Enter your number here! \"))\n",
    "\n",
    "if num > 7 or num < 1:\n",
    "    print(\"ERROR: number must be between 1 and 7\")\n",
    "else:\n",
    "    if num == 1:\n",
    "        response=\"Monday\"\n",
    "    elif num == 2:\n",
    "        response=\"Tuesday\"\n",
    "    elif num == 3:\n",
    "        response=\"Wednesday\"\n",
    "    elif num == 4:\n",
    "        response=\"Thursday\"\n",
    "    elif num == 5:\n",
    "        response=\"Friday\"\n",
    "    elif num == 6:\n",
    "        response=\"Saturday\"\n",
    "    elif num == 7:\n",
    "        response=\"Sunday\"\n",
    "        if num <= 7 and num >= 1:\n",
    "            print(f\"The day of the week you entered is {response}\")"
   ]
  },
  {
   "cell_type": "code",
   "execution_count": 47,
   "id": "7f0cc864",
   "metadata": {},
   "outputs": [],
   "source": [
    "#that did not work, time to try something else."
   ]
  },
  {
   "cell_type": "code",
   "execution_count": 49,
   "id": "730a9386",
   "metadata": {},
   "outputs": [
    {
     "name": "stdout",
     "output_type": "stream",
     "text": [
      "Enter a number in the box below to learn what its corresponding day is!\n",
      "Enter your number here! 5\n",
      "The day of the week you entered is Friday\n"
     ]
    }
   ],
   "source": [
    "print(\"Enter a number in the box below to learn what its corresponding day is!\")\n",
    "num = int(input(\"Enter your number here! \"))\n",
    "\n",
    "if num > 7 or num < 1:\n",
    "    print(\"ERROR: number must be between 1 and 7\")\n",
    "else:\n",
    "    if num == 1:\n",
    "        response=\"Monday\"\n",
    "    elif num == 2:\n",
    "        response=\"Tuesday\"\n",
    "    elif num == 3:\n",
    "        response=\"Wednesday\"\n",
    "    elif num == 4:\n",
    "        response=\"Thursday\"\n",
    "    elif num == 5:\n",
    "        response=\"Friday\"\n",
    "    elif num == 6:\n",
    "        response=\"Saturday\"\n",
    "    elif num == 7:\n",
    "        response=\"Sunday\"\n",
    "        \n",
    "if num <= 7 and num >= 1:\n",
    "        print(f\"The day of the week you entered is {response}\")"
   ]
  },
  {
   "cell_type": "code",
   "execution_count": 51,
   "id": "4bbe4f77",
   "metadata": {},
   "outputs": [
    {
     "name": "stdout",
     "output_type": "stream",
     "text": [
      "Enter a number in the box below to learn what its corresponding day is!\n",
      "Enter your number here! 3\n",
      "The day of the week you entered is Wednesday\n"
     ]
    }
   ],
   "source": [
    "print(\"Enter a number in the box below to learn what its corresponding day is!\")\n",
    "num = int(input(\"Enter your number here! \"))\n",
    "\n",
    "if num > 7 or num < 1:\n",
    "    print(\"ERROR: number must be between 1 and 7\")\n",
    "else:\n",
    "    if num == 1:\n",
    "        response=\"Monday\"\n",
    "    elif num == 2:\n",
    "        response=\"Tuesday\"\n",
    "    elif num == 3:\n",
    "        response=\"Wednesday\"\n",
    "    elif num == 4:\n",
    "        response=\"Thursday\"\n",
    "    elif num == 5:\n",
    "        response=\"Friday\"\n",
    "    elif num == 6:\n",
    "        response=\"Saturday\"\n",
    "    elif num == 7:\n",
    "        response=\"Sunday\"\n",
    "        \n",
    "if num <= 7 and num >= 1:\n",
    "        print(f\"The day of the week you entered is {response}\")"
   ]
  },
  {
   "cell_type": "code",
   "execution_count": 52,
   "id": "bc562efd",
   "metadata": {},
   "outputs": [
    {
     "name": "stdout",
     "output_type": "stream",
     "text": [
      "Enter a number in the box below to learn what its corresponding day is!\n",
      "Enter your number here! 8\n",
      "ERROR: number must be between 1 and 7\n"
     ]
    }
   ],
   "source": [
    "print(\"Enter a number in the box below to learn what its corresponding day is!\")\n",
    "num = int(input(\"Enter your number here! \"))\n",
    "\n",
    "if num > 7 or num < 1:\n",
    "    print(\"ERROR: number must be between 1 and 7\")\n",
    "else:\n",
    "    if num == 1:\n",
    "        response=\"Monday\"\n",
    "    elif num == 2:\n",
    "        response=\"Tuesday\"\n",
    "    elif num == 3:\n",
    "        response=\"Wednesday\"\n",
    "    elif num == 4:\n",
    "        response=\"Thursday\"\n",
    "    elif num == 5:\n",
    "        response=\"Friday\"\n",
    "    elif num == 6:\n",
    "        response=\"Saturday\"\n",
    "    elif num == 7:\n",
    "        response=\"Sunday\"\n",
    "        \n",
    "if num <= 7 and num >= 1:\n",
    "        print(f\"The day of the week you entered is {response}\")"
   ]
  },
  {
   "cell_type": "code",
   "execution_count": 53,
   "id": "853e4d49",
   "metadata": {},
   "outputs": [],
   "source": [
    "#that appears to have done it! It seems to work great now!"
   ]
  },
  {
   "cell_type": "markdown",
   "id": "e0ef83ce",
   "metadata": {},
   "source": [
    "## Programming Exercises - Number 5"
   ]
  },
  {
   "cell_type": "markdown",
   "id": "f6cd2873",
   "metadata": {},
   "source": [
    "Problem number 5 asks us to, \n",
    "\n",
    "Write a program that asks the user to enter an object’s mass, then calculates its weight. If the object weighs more than 500 newtons, display a message indicating that it is too heavy. If the object weighs less than 100 newtons, display a message indicating that it is too light."
   ]
  },
  {
   "cell_type": "markdown",
   "id": "917ba4ed",
   "metadata": {},
   "source": [
    "The problem gives us the formula \"weight = mass x 9.8\" to solve for newtons "
   ]
  },
  {
   "cell_type": "code",
   "execution_count": 54,
   "id": "07014cd2",
   "metadata": {},
   "outputs": [],
   "source": [
    "#To do this problem I will once again have to use the print function as well as logic functions and input functions."
   ]
  },
  {
   "cell_type": "code",
   "execution_count": 55,
   "id": "35652aef",
   "metadata": {},
   "outputs": [
    {
     "name": "stdout",
     "output_type": "stream",
     "text": [
      "Input the mass of an object below (in kilograms) to learn if it is too light or too heavy.\n",
      "The objects mass is, 51\n"
     ]
    }
   ],
   "source": [
    "#To start I am going to add a print function to let the user know what they need to do.\n",
    "#I am also going to add an input function so that we can get the mass of the object. \n",
    "\n",
    "print('Input the mass of an object below (in kilograms) to learn if it is too light or too heavy.')\n",
    "mass = float(input('The objects mass is, '))\n"
   ]
  },
  {
   "cell_type": "code",
   "execution_count": 57,
   "id": "ca3189f6",
   "metadata": {},
   "outputs": [],
   "source": [
    "#Perfect! Now to add some math and logic."
   ]
  },
  {
   "cell_type": "code",
   "execution_count": 58,
   "id": "8481f153",
   "metadata": {},
   "outputs": [
    {
     "name": "stdout",
     "output_type": "stream",
     "text": [
      "Input the mass of an object below (in kilograms) to learn if it is too light or too heavy.\n",
      "The object's mass is, 50\n"
     ]
    }
   ],
   "source": [
    "print('Input the mass of an object below (in kilograms) to learn if it is too light or too heavy.')\n",
    "mass = float(input('''The object's mass is, '''))\n",
    "\n",
    "#this variable assignment uses the weight formula to calculate the weight. \n",
    "weight = (mass * 9.8)\n",
    "\n",
    "#the below logic statements will determane if the object is too light or too heavy, or display the result. \n",
    "\n",
    "if weight > 500:\n",
    "    print(\"The object is too heavy\")\n",
    "    if weight < 100:\n",
    "        print(\"The object is too light\")\n",
    "        if weight < 500 and weight > 100:\n",
    "            print(f\"The objects weight is, {weight} newtons\")"
   ]
  },
  {
   "cell_type": "code",
   "execution_count": 59,
   "id": "2d065dac",
   "metadata": {},
   "outputs": [],
   "source": [
    "#Something went wrong, I think it is because I have nested if statements that should just be separated."
   ]
  },
  {
   "cell_type": "code",
   "execution_count": 60,
   "id": "dcd9305f",
   "metadata": {},
   "outputs": [
    {
     "name": "stdout",
     "output_type": "stream",
     "text": [
      "Input the mass of an object below (in kilograms) to learn if it is too light or too heavy.\n",
      "The object's mass is, 50\n",
      "The objects weight is, 490.00000000000006 newtons\n"
     ]
    }
   ],
   "source": [
    "print('Input the mass of an object below (in kilograms) to learn if it is too light or too heavy.')\n",
    "mass = float(input('''The object's mass is, '''))\n",
    "\n",
    "weight = (mass * 9.8)\n",
    "\n",
    "if weight > 500:\n",
    "    print(\"The object is too heavy\")\n",
    "    \n",
    "if weight < 100:\n",
    "    print(\"The object is too light\")\n",
    "    \n",
    "if weight < 500 and weight > 100:\n",
    "    print(f\"The objects weight is, {weight} newtons\")"
   ]
  },
  {
   "cell_type": "code",
   "execution_count": 61,
   "id": "f9d888d1",
   "metadata": {},
   "outputs": [],
   "source": [
    "#before I test further I need to add a rounding function to my f statement. "
   ]
  },
  {
   "cell_type": "code",
   "execution_count": 63,
   "id": "40e34731",
   "metadata": {},
   "outputs": [
    {
     "name": "stdout",
     "output_type": "stream",
     "text": [
      "Input the mass of an object below (in kilograms) to learn if it is too light or too heavy.\n",
      "The object's mass is, 50\n",
      "The objects weight is, 490.0 newtons\n"
     ]
    }
   ],
   "source": [
    "print('Input the mass of an object below (in kilograms) to learn if it is too light or too heavy.')\n",
    "mass = float(input('''The object's mass is, '''))\n",
    "\n",
    "weight = (mass * 9.8)\n",
    "\n",
    "if weight > 500:\n",
    "    print(\"The object is too heavy\")\n",
    "    \n",
    "if weight < 100:\n",
    "    print(\"The object is too light\")\n",
    "    \n",
    "if weight < 500 and weight > 100:\n",
    "    print(f\"The objects weight is, {weight:.1f} newtons\")"
   ]
  },
  {
   "cell_type": "code",
   "execution_count": 64,
   "id": "0537f83b",
   "metadata": {},
   "outputs": [],
   "source": [
    "#much better! Now to test further."
   ]
  },
  {
   "cell_type": "code",
   "execution_count": 68,
   "id": "afa7ca1a",
   "metadata": {},
   "outputs": [
    {
     "name": "stdout",
     "output_type": "stream",
     "text": [
      "Input the mass of an object below (in kilograms) to learn if it is too light or too heavy.\n",
      "The object's mass is, 1\n",
      "The object is too light\n"
     ]
    }
   ],
   "source": [
    "print('Input the mass of an object below (in kilograms) to learn if it is too light or too heavy.')\n",
    "mass = float(input('''The object's mass is, '''))\n",
    "\n",
    "weight = (mass * 9.8)\n",
    "\n",
    "if weight > 500:\n",
    "    print(\"The object is too heavy\")\n",
    "    \n",
    "if weight < 100:\n",
    "    print(\"The object is too light\")\n",
    "    \n",
    "if weight < 500 and weight > 100:\n",
    "    print(f\"The objects weight is, {weight:.1f} newtons\")"
   ]
  },
  {
   "cell_type": "code",
   "execution_count": 69,
   "id": "62f85578",
   "metadata": {},
   "outputs": [
    {
     "name": "stdout",
     "output_type": "stream",
     "text": [
      "Input the mass of an object below (in kilograms) to learn if it is too light or too heavy.\n",
      "The object's mass is, 4000\n",
      "The object is too heavy\n"
     ]
    }
   ],
   "source": [
    "print('Input the mass of an object below (in kilograms) to learn if it is too light or too heavy.')\n",
    "mass = float(input('''The object's mass is, '''))\n",
    "\n",
    "weight = (mass * 9.8)\n",
    "\n",
    "if weight > 500:\n",
    "    print(\"The object is too heavy\")\n",
    "    \n",
    "if weight < 100:\n",
    "    print(\"The object is too light\")\n",
    "    \n",
    "if weight < 500 and weight > 100:\n",
    "    print(f\"The objects weight is, {weight:.1f} newtons\")"
   ]
  },
  {
   "cell_type": "code",
   "execution_count": 70,
   "id": "deb30892",
   "metadata": {},
   "outputs": [
    {
     "name": "stdout",
     "output_type": "stream",
     "text": [
      "Input the mass of an object below (in kilograms) to learn if it is too light or too heavy.\n",
      "The object's mass is, 25\n",
      "The objects weight is, 245.0 newtons\n"
     ]
    }
   ],
   "source": [
    "print('Input the mass of an object below (in kilograms) to learn if it is too light or too heavy.')\n",
    "mass = float(input('''The object's mass is, '''))\n",
    "\n",
    "weight = (mass * 9.8)\n",
    "\n",
    "if weight > 500:\n",
    "    print(\"The object is too heavy\")\n",
    "    \n",
    "if weight < 100:\n",
    "    print(\"The object is too light\")\n",
    "    \n",
    "if weight < 500 and weight > 100:\n",
    "    print(f\"The objects weight is, {weight:.1f} newtons\")"
   ]
  },
  {
   "cell_type": "code",
   "execution_count": 71,
   "id": "e15a3180",
   "metadata": {},
   "outputs": [
    {
     "name": "stdout",
     "output_type": "stream",
     "text": [
      "Input the mass of an object below (in kilograms) to learn if it is too light or too heavy.\n",
      "The object's mass is, 19.5\n",
      "The objects weight is, 191.1 newtons\n"
     ]
    }
   ],
   "source": [
    "print('Input the mass of an object below (in kilograms) to learn if it is too light or too heavy.')\n",
    "mass = float(input('''The object's mass is, '''))\n",
    "\n",
    "weight = (mass * 9.8)\n",
    "\n",
    "if weight > 500:\n",
    "    print(\"The object is too heavy\")\n",
    "    \n",
    "if weight < 100:\n",
    "    print(\"The object is too light\")\n",
    "    \n",
    "if weight < 500 and weight > 100:\n",
    "    print(f\"The objects weight is, {weight:.1f} newtons\")"
   ]
  },
  {
   "cell_type": "code",
   "execution_count": 72,
   "id": "4a21acd6",
   "metadata": {},
   "outputs": [],
   "source": [
    "#It looks like the code works great!"
   ]
  },
  {
   "cell_type": "markdown",
   "id": "51e4432c",
   "metadata": {},
   "source": [
    "## Programming Exercises - Number 16"
   ]
  },
  {
   "cell_type": "markdown",
   "id": "bab3f54e",
   "metadata": {},
   "source": [
    "Problem number 16 asks us to: \n",
    "\n",
    "Use the flowchart to create a program that leads a person through the steps of fixing a bad Wi-Fi connection."
   ]
  },
  {
   "cell_type": "code",
   "execution_count": 73,
   "id": "6532f7f3",
   "metadata": {},
   "outputs": [],
   "source": [
    "#I am going to need to use the logic functions, input functions, and print function to complete this problem. "
   ]
  },
  {
   "cell_type": "code",
   "execution_count": 74,
   "id": "f22aeb39",
   "metadata": {},
   "outputs": [
    {
     "name": "stdout",
     "output_type": "stream",
     "text": [
      "Having issues with your internet? Answer the questions below to troubleshoot your problem.\n"
     ]
    }
   ],
   "source": [
    "#to start, I am going to once again add a prompt at the beginning that tells the user what to do.\n",
    "\n",
    "print('''Having issues with your internet? Answer the questions below to troubleshoot your problem.''')"
   ]
  },
  {
   "cell_type": "code",
   "execution_count": 77,
   "id": "8dfa62ea",
   "metadata": {},
   "outputs": [
    {
     "name": "stdout",
     "output_type": "stream",
     "text": [
      "Having issues with your internet? Answer the questions below to troubleshoot your problem.\n",
      "Reboot the router and try to connect\n",
      "Did  that fix the problem? no\n",
      "test\n"
     ]
    }
   ],
   "source": [
    "#now I am going to start adding input and logic functions to the code.\n",
    "\n",
    "print('''Having issues with your internet? Answer the questions below to troubleshoot your problem.''')\n",
    "print('Reboot the router and try to connect')\n",
    "Q1=input('Did  that fix the problem? ')\n",
    "#I am going to add some nested if statements here to establish the logic\n",
    "\n",
    "if Q1==\"no\":\n",
    "    print('test')"
   ]
  },
  {
   "cell_type": "code",
   "execution_count": 78,
   "id": "9ddbe81f",
   "metadata": {},
   "outputs": [],
   "source": [
    "#Here I was testing if you had to have a string in quotes for the \"==\" to work."
   ]
  },
  {
   "cell_type": "code",
   "execution_count": 82,
   "id": "3905571f",
   "metadata": {},
   "outputs": [
    {
     "name": "stdout",
     "output_type": "stream",
     "text": [
      "Having issues with your internet? Answer the questions below to troubleshoot your problem.\n",
      "Reboot the router and try to connect.\n",
      "Did  that fix the problem? no\n",
      "Make sure the cables between the router & modem are plugged in firmly.\n",
      "Did  that fix the problem? no\n",
      "Move the router to a new location and try to connect.\n"
     ]
    }
   ],
   "source": [
    "print('''Having issues with your internet? Answer the questions below to troubleshoot your problem.''')\n",
    "print('Reboot the router and try to connect.')\n",
    "Q1=input('Did  that fix the problem? ')\n",
    "#I am going to add some nested if statements here to establish the logic\n",
    "\n",
    "if Q1==\"no\":\n",
    "    print(\"Make sure the cables between the router & modem are plugged in firmly.\")\n",
    "    Q2=input('Did  that fix the problem? ')\n",
    "    if Q2==\"no\":\n",
    "        print(\"Move the router to a new location and try to connect.\")"
   ]
  },
  {
   "cell_type": "code",
   "execution_count": 83,
   "id": "bfe32bb1",
   "metadata": {},
   "outputs": [],
   "source": [
    "#everything seems to be working so far, I am going to continue to add more questions."
   ]
  },
  {
   "cell_type": "code",
   "execution_count": 85,
   "id": "12accc74",
   "metadata": {},
   "outputs": [
    {
     "name": "stdout",
     "output_type": "stream",
     "text": [
      "Having issues with your internet? Answer the questions below to troubleshoot your problem.\n",
      "Reboot the router and try to connect.\n",
      "Did  that fix the problem? no\n",
      "Make sure the cables between the router & modem are plugged in firmly.\n",
      "Did  that fix the problem? no\n",
      "Move the router to a new location and try to connect.\n",
      "Did  that fix the problem? no\n",
      "Get a new router\n"
     ]
    }
   ],
   "source": [
    "print('''Having issues with your internet? Answer the questions below to troubleshoot your problem.''')\n",
    "print('Reboot the router and try to connect.')\n",
    "Q1=input('Did  that fix the problem? ')\n",
    "#I am going to add some nested if statements here to establish the logic\n",
    "\n",
    "if Q1==\"no\":\n",
    "    print(\"Make sure the cables between the router & modem are plugged in firmly.\")\n",
    "    Q2=input('Did  that fix the problem? ')\n",
    "    if Q2==\"no\":\n",
    "        print(\"Move the router to a new location and try to connect.\")\n",
    "        Q3=input('Did  that fix the problem? ')\n",
    "        if Q3==\"no\":\n",
    "            print(\"Get a new router\")"
   ]
  },
  {
   "cell_type": "code",
   "execution_count": 86,
   "id": "76d8eec4",
   "metadata": {},
   "outputs": [],
   "source": [
    "#Here is where I realized I missed the first question."
   ]
  },
  {
   "cell_type": "code",
   "execution_count": 87,
   "id": "f553592c",
   "metadata": {},
   "outputs": [
    {
     "ename": "SyntaxError",
     "evalue": "expected ':' (537371375.py, line 5)",
     "output_type": "error",
     "traceback": [
      "\u001b[1;36m  Cell \u001b[1;32mIn[87], line 5\u001b[1;36m\u001b[0m\n\u001b[1;33m    if Q1==\"no\"\u001b[0m\n\u001b[1;37m               ^\u001b[0m\n\u001b[1;31mSyntaxError\u001b[0m\u001b[1;31m:\u001b[0m expected ':'\n"
     ]
    }
   ],
   "source": [
    "print('''Having issues with your internet? Answer the questions below to troubleshoot your problem.''')\n",
    "print('Reboot the computer and try to connect.')\n",
    "Q1=input('Did  that fix the problem? ')\n",
    "#I am going to add some nested if statements here to establish the logic\n",
    "if Q1==\"no\"\n",
    "    print(\"Reboot the router and try to connect.\")\n",
    "    if Q2==\"no\":\n",
    "        print(\"Make sure the cables between the router & modem are plugged in firmly.\")\n",
    "        Q3=input('Did  that fix the problem? ')\n",
    "        if Q3==\"no\":\n",
    "            print(\"Move the router to a new location and try to connect.\")\n",
    "            Q4=input('Did  that fix the problem? ')\n",
    "            if Q4==\"no\":\n",
    "                print(\"Get a new router.\")"
   ]
  },
  {
   "cell_type": "code",
   "execution_count": 88,
   "id": "b27863ac",
   "metadata": {},
   "outputs": [
    {
     "name": "stdout",
     "output_type": "stream",
     "text": [
      "Having issues with your internet? Answer the questions below to troubleshoot your problem.\n",
      "Reboot the computer and try to connect.\n",
      "Did  that fix the problem? no\n",
      "Reboot the router and try to connect.\n",
      "Make sure the cables between the router & modem are plugged in firmly.\n",
      "Did  that fix the problem? no\n",
      "Move the router to a new location and try to connect.\n",
      "Did  that fix the problem? no\n",
      "Get a new router.\n"
     ]
    }
   ],
   "source": [
    "print('''Having issues with your internet? Answer the questions below to troubleshoot your problem.''')\n",
    "print('Reboot the computer and try to connect.')\n",
    "Q1=input('Did  that fix the problem? ')\n",
    "#I am going to add some nested if statements here to establish the logic\n",
    "if Q1==\"no\":\n",
    "    print(\"Reboot the router and try to connect.\")\n",
    "    if Q2==\"no\":\n",
    "        print(\"Make sure the cables between the router & modem are plugged in firmly.\")\n",
    "        Q3=input('Did  that fix the problem? ')\n",
    "        if Q3==\"no\":\n",
    "            print(\"Move the router to a new location and try to connect.\")\n",
    "            Q4=input('Did  that fix the problem? ')\n",
    "            if Q4==\"no\":\n",
    "                print(\"Get a new router.\")"
   ]
  },
  {
   "cell_type": "code",
   "execution_count": 89,
   "id": "7109a853",
   "metadata": {},
   "outputs": [],
   "source": [
    "#Something appears to have gone wrong, I must have some logical error on question 2"
   ]
  },
  {
   "cell_type": "code",
   "execution_count": 90,
   "id": "9a1231df",
   "metadata": {},
   "outputs": [
    {
     "name": "stdout",
     "output_type": "stream",
     "text": [
      "Having issues with your internet? Answer the questions below to troubleshoot your problem.\n",
      "Reboot the computer and try to connect.\n",
      "Did  that fix the problem? no\n",
      "Reboot the router and try to connect.\n",
      "Did  that fix the problem? no\n",
      "Make sure the cables between the router & modem are plugged in firmly.\n",
      "Did  that fix the problem? no\n",
      "Move the router to a new location and try to connect.\n",
      "Did  that fix the problem? no\n",
      "Get a new router.\n"
     ]
    }
   ],
   "source": [
    "print('''Having issues with your internet? Answer the questions below to troubleshoot your problem.''')\n",
    "print('Reboot the computer and try to connect.')\n",
    "Q1=input('Did  that fix the problem? ')\n",
    "#I am going to add some nested if statements here to establish the logic\n",
    "\n",
    "if Q1==\"no\":\n",
    "    print(\"Reboot the router and try to connect.\")\n",
    "    #I forgot to include the input statement below in my last iteration.\n",
    "    Q2=input('Did  that fix the problem? ')\n",
    "    if Q2==\"no\":\n",
    "        print(\"Make sure the cables between the router & modem are plugged in firmly.\")\n",
    "        Q3=input('Did  that fix the problem? ')\n",
    "        if Q3==\"no\":\n",
    "            print(\"Move the router to a new location and try to connect.\")\n",
    "            Q4=input('Did  that fix the problem? ')\n",
    "            if Q4==\"no\":\n",
    "                print(\"Get a new router.\")"
   ]
  },
  {
   "cell_type": "code",
   "execution_count": 91,
   "id": "9befebb2",
   "metadata": {},
   "outputs": [],
   "source": [
    "#now to test!"
   ]
  },
  {
   "cell_type": "code",
   "execution_count": 92,
   "id": "98e514cf",
   "metadata": {},
   "outputs": [
    {
     "name": "stdout",
     "output_type": "stream",
     "text": [
      "Having issues with your internet? Answer the questions below to troubleshoot your problem.\n",
      "Reboot the computer and try to connect.\n",
      "Did  that fix the problem? yes\n"
     ]
    }
   ],
   "source": [
    "print('''Having issues with your internet? Answer the questions below to troubleshoot your problem.''')\n",
    "print('Reboot the computer and try to connect.')\n",
    "Q1=input('Did  that fix the problem? ')\n",
    "#I am going to add some nested if statements here to establish the logic\n",
    "\n",
    "if Q1==\"no\":\n",
    "    print(\"Reboot the router and try to connect.\")\n",
    "    Q2=input('Did  that fix the problem? ')\n",
    "    if Q2==\"no\":\n",
    "        print(\"Make sure the cables between the router & modem are plugged in firmly.\")\n",
    "        Q3=input('Did  that fix the problem? ')\n",
    "        if Q3==\"no\":\n",
    "            print(\"Move the router to a new location and try to connect.\")\n",
    "            Q4=input('Did  that fix the problem? ')\n",
    "            if Q4==\"no\":\n",
    "                print(\"Get a new router.\")"
   ]
  },
  {
   "cell_type": "code",
   "execution_count": 93,
   "id": "925ca46f",
   "metadata": {},
   "outputs": [
    {
     "name": "stdout",
     "output_type": "stream",
     "text": [
      "Having issues with your internet? Answer the questions below to troubleshoot your problem.\n",
      "Reboot the computer and try to connect.\n",
      "Did  that fix the problem? no\n",
      "Reboot the router and try to connect.\n",
      "Did  that fix the problem? no\n",
      "Make sure the cables between the router & modem are plugged in firmly.\n",
      "Did  that fix the problem? yes\n"
     ]
    }
   ],
   "source": [
    "print('''Having issues with your internet? Answer the questions below to troubleshoot your problem.''')\n",
    "print('Reboot the computer and try to connect.')\n",
    "Q1=input('Did  that fix the problem? ')\n",
    "#I am going to add some nested if statements here to establish the logic\n",
    "\n",
    "if Q1==\"no\":\n",
    "    print(\"Reboot the router and try to connect.\")\n",
    "    Q2=input('Did  that fix the problem? ')\n",
    "    if Q2==\"no\":\n",
    "        print(\"Make sure the cables between the router & modem are plugged in firmly.\")\n",
    "        Q3=input('Did  that fix the problem? ')\n",
    "        if Q3==\"no\":\n",
    "            print(\"Move the router to a new location and try to connect.\")\n",
    "            Q4=input('Did  that fix the problem? ')\n",
    "            if Q4==\"no\":\n",
    "                print(\"Get a new router.\")"
   ]
  },
  {
   "cell_type": "code",
   "execution_count": 94,
   "id": "b0677f14",
   "metadata": {},
   "outputs": [],
   "source": [
    "#Everything seems to work well! I think this problem is done."
   ]
  },
  {
   "cell_type": "markdown",
   "id": "23f64d7b",
   "metadata": {},
   "source": [
    "## Programming Exercises - Number 17"
   ]
  },
  {
   "cell_type": "markdown",
   "id": "640785f1",
   "metadata": {},
   "source": [
    "Question 17 asks us to:\n",
    "\n",
    "Write a program that asks whether any members of your party are vegetarian, vegan, or gluten-free, to which then displays only the restaurants to which you may take the group."
   ]
  },
  {
   "cell_type": "code",
   "execution_count": 95,
   "id": "4f7a083b",
   "metadata": {},
   "outputs": [
    {
     "name": "stdout",
     "output_type": "stream",
     "text": [
      "Answer \"yes\" or \"no\" to the questions below to determine what restaurants you can go to.\n"
     ]
    }
   ],
   "source": [
    "#to start this problem I am going to once again start by adding a prompt to let the user know what to do.\n",
    "\n",
    "print('''Answer \"yes\" or \"no\" to the questions below to determine what restaurants you can go to.''')"
   ]
  },
  {
   "cell_type": "code",
   "execution_count": 96,
   "id": "ef86a1b1",
   "metadata": {},
   "outputs": [
    {
     "name": "stdout",
     "output_type": "stream",
     "text": [
      "Answer \"yes\" or \"no\" to the questions below to determine what restaurants you can go to.\n",
      "is anyone at your party a vegetarian? yes\n",
      "is anyone at your party a vegan? yes\n",
      "is anyone at your party a gluten-free? yes\n"
     ]
    }
   ],
   "source": [
    "#Next I will add in some input statements so that we can get the users responses.\n",
    "\n",
    "print('''Answer \"yes\" or \"no\" to the questions below to determine what restaurants you can go to.''')\n",
    "\n",
    "veg=input(\"is anyone at your party a vegetarian? \")\n",
    "vegan=input(\"is anyone at your party a vegan? \")\n",
    "gf=input(\"is anyone at your party a gluten-free? \")"
   ]
  },
  {
   "cell_type": "code",
   "execution_count": 97,
   "id": "688836b9",
   "metadata": {},
   "outputs": [],
   "source": [
    "#everything so far seems to work, now I need to add in some logic."
   ]
  },
  {
   "cell_type": "code",
   "execution_count": 98,
   "id": "fb0490c2",
   "metadata": {},
   "outputs": [
    {
     "name": "stdout",
     "output_type": "stream",
     "text": [
      "Answer \"yes\" or \"no\" to the questions below to determine what restaurants you can go to.\n",
      "Is anyone at your party a vegetarian? yes\n",
      "Is anyone at your party a vegan? yes\n",
      "Is anyone at your party a gluten-free? yes\n",
      "Here are your restaurant choices:\n",
      "The Chef's Kitchen\n",
      "Corner Cafe\n"
     ]
    }
   ],
   "source": [
    "print('''Answer \"yes\" or \"no\" to the questions below to determine what restaurants you can go to.''')\n",
    "\n",
    "veg=input(\"Is anyone at your party a vegetarian? \")\n",
    "vegan=input(\"Is anyone at your party a vegan? \")\n",
    "gf=input(\"Is anyone at your party a gluten-free? \")\n",
    "print('Here are your restaurant choices:')\n",
    "\n",
    "#I am going to break each restaurant into its own if statement and use the and function to establish the logic.\n",
    "\n",
    "#sense \"The Chef's Kitchen\" is the most inclusive I am going to start with that because it will be displayed no matter what.\n",
    "\n",
    "print('''The Chef's Kitchen''')\n",
    "print('Corner Cafe')"
   ]
  },
  {
   "cell_type": "code",
   "execution_count": 99,
   "id": "1adb5c9c",
   "metadata": {},
   "outputs": [
    {
     "name": "stdout",
     "output_type": "stream",
     "text": [
      "Answer \"yes\" or \"no\" to the questions below to determine what restaurants you can go to.\n",
      "Is anyone at your party a vegetarian? yes\n",
      "Is anyone at your party a vegan? no\n",
      "Is anyone at your party a gluten-free? yes\n",
      "Here are your restaurant choices:\n",
      "The Chef's Kitchen\n",
      "Corner Cafe\n",
      "Main Street Pizza Company\n"
     ]
    }
   ],
   "source": [
    "print('''Answer \"yes\" or \"no\" to the questions below to determine what restaurants you can go to.''')\n",
    "\n",
    "veg=input(\"Is anyone at your party a vegetarian? \")\n",
    "vegan=input(\"Is anyone at your party a vegan? \")\n",
    "gf=input(\"Is anyone at your party a gluten-free? \")\n",
    "print('Here are your restaurant choices:')\n",
    "\n",
    "print('''The Chef's Kitchen''')\n",
    "print('Corner Cafe')\n",
    "\n",
    "#The next two restaurants will require some logic.\n",
    "\n",
    "if veg=='yes' and gf=='yes':\n",
    "    print('Main Street Pizza Company')"
   ]
  },
  {
   "cell_type": "code",
   "execution_count": 100,
   "id": "8a0dcd5e",
   "metadata": {},
   "outputs": [
    {
     "name": "stdout",
     "output_type": "stream",
     "text": [
      "Answer \"yes\" or \"no\" to the questions below to determine what restaurants you can go to.\n",
      "Is anyone at your party a vegetarian? no\n",
      "Is anyone at your party a vegan? no\n",
      "Is anyone at your party a gluten-free? no\n",
      "Here are your restaurant choices:\n",
      "The Chef's Kitchen\n",
      "Corner Cafe\n",
      "Main Street Pizza Company\n"
     ]
    }
   ],
   "source": [
    "print('''Answer \"yes\" or \"no\" to the questions below to determine what restaurants you can go to.''')\n",
    "\n",
    "veg=input(\"Is anyone at your party a vegetarian? \")\n",
    "vegan=input(\"Is anyone at your party a vegan? \")\n",
    "gf=input(\"Is anyone at your party a gluten-free? \")\n",
    "print('Here are your restaurant choices:')\n",
    "\n",
    "print('''The Chef's Kitchen''')\n",
    "print('Corner Cafe')\n",
    "\n",
    "#I had to change the logic here because I realized that evaluating the \"no\" answers lead to a simpler outcome than the \"yes\" answers\n",
    "\n",
    "if vegan=='no':\n",
    "    print('Main Street Pizza Company')"
   ]
  },
  {
   "cell_type": "code",
   "execution_count": 102,
   "id": "9074a218",
   "metadata": {},
   "outputs": [
    {
     "name": "stdout",
     "output_type": "stream",
     "text": [
      "Answer \"yes\" or \"no\" to the questions below to determine what restaurants you can go to.\n",
      "Is anyone at your party a vegetarian? yes\n",
      "Is anyone at your party a vegan? yes\n",
      "Is anyone at your party a gluten-free? yes\n",
      "Here are your restaurant choices:\n",
      "The Chef's Kitchen\n",
      "Corner Cafe\n"
     ]
    }
   ],
   "source": [
    "print('''Answer \"yes\" or \"no\" to the questions below to determine what restaurants you can go to.''')\n",
    "\n",
    "veg=input(\"Is anyone at your party a vegetarian? \")\n",
    "vegan=input(\"Is anyone at your party a vegan? \")\n",
    "gf=input(\"Is anyone at your party a gluten-free? \")\n",
    "print('Here are your restaurant choices:')\n",
    "\n",
    "print('''The Chef's Kitchen''')\n",
    "print('Corner Cafe')\n",
    "\n",
    "if vegan=='no':\n",
    "    print('Main Street Pizza Company')"
   ]
  },
  {
   "cell_type": "code",
   "execution_count": 103,
   "id": "7809b599",
   "metadata": {},
   "outputs": [],
   "source": [
    "#It looks like everything is working good so far! Time to add the last two restaurants."
   ]
  },
  {
   "cell_type": "code",
   "execution_count": 104,
   "id": "186739b7",
   "metadata": {},
   "outputs": [
    {
     "name": "stdout",
     "output_type": "stream",
     "text": [
      "Answer \"yes\" or \"no\" to the questions below to determine what restaurants you can go to.\n",
      "Is anyone at your party a vegetarian? no\n",
      "Is anyone at your party a vegan? no\n",
      "Is anyone at your party a gluten-free? no\n",
      "Here are your restaurant choices:\n",
      "The Chef's Kitchen\n",
      "Corner Cafe\n",
      "Main Street Pizza Company\n",
      "Mama's Fine Italian\n",
      "Joe's Gourmet Burgers\n"
     ]
    }
   ],
   "source": [
    "print('''Answer \"yes\" or \"no\" to the questions below to determine what restaurants you can go to.''')\n",
    "\n",
    "veg=input(\"Is anyone at your party a vegetarian? \")\n",
    "vegan=input(\"Is anyone at your party a vegan? \")\n",
    "gf=input(\"Is anyone at your party a gluten-free? \")\n",
    "print('Here are your restaurant choices:')\n",
    "\n",
    "print('''The Chef's Kitchen''')\n",
    "print('Corner Cafe')\n",
    "\n",
    "if vegan=='no':\n",
    "    print('Main Street Pizza Company')\n",
    "\n",
    "if vegan=='no' and gf=='no':\n",
    "    print('''Mama's Fine Italian''')\n",
    "    \n",
    "if vegan=='no' and veg=='no' and gf=='no':\n",
    "    print('''Joe's Gourmet Burgers''')"
   ]
  },
  {
   "cell_type": "code",
   "execution_count": 105,
   "id": "912a9e32",
   "metadata": {},
   "outputs": [
    {
     "name": "stdout",
     "output_type": "stream",
     "text": [
      "Answer \"yes\" or \"no\" to the questions below to determine what restaurants you can go to.\n",
      "Is anyone at your party a vegetarian? yes \n",
      "Is anyone at your party a vegan? no\n",
      "Is anyone at your party a gluten-free? yes\n",
      "Here are your restaurant choices:\n",
      "The Chef's Kitchen\n",
      "Corner Cafe\n",
      "Main Street Pizza Company\n"
     ]
    }
   ],
   "source": [
    "print('''Answer \"yes\" or \"no\" to the questions below to determine what restaurants you can go to.''')\n",
    "\n",
    "veg=input(\"Is anyone at your party a vegetarian? \")\n",
    "vegan=input(\"Is anyone at your party a vegan? \")\n",
    "gf=input(\"Is anyone at your party a gluten-free? \")\n",
    "print('Here are your restaurant choices:')\n",
    "\n",
    "print('''The Chef's Kitchen''')\n",
    "print('Corner Cafe')\n",
    "\n",
    "if vegan=='no':\n",
    "    print('Main Street Pizza Company')\n",
    "\n",
    "if vegan=='no' and gf=='no':\n",
    "    print('''Mama's Fine Italian''')\n",
    "    \n",
    "if vegan=='no' and veg=='no' and gf=='no':\n",
    "    print('''Joe's Gourmet Burgers''')"
   ]
  },
  {
   "cell_type": "code",
   "execution_count": 106,
   "id": "26ff66ba",
   "metadata": {},
   "outputs": [
    {
     "name": "stdout",
     "output_type": "stream",
     "text": [
      "Answer \"yes\" or \"no\" to the questions below to determine what restaurants you can go to.\n",
      "Is anyone at your party a vegetarian? yes\n",
      "Is anyone at your party a vegan? no\n",
      "Is anyone at your party a gluten-free? no\n",
      "Here are your restaurant choices:\n",
      "The Chef's Kitchen\n",
      "Corner Cafe\n",
      "Main Street Pizza Company\n",
      "Mama's Fine Italian\n"
     ]
    }
   ],
   "source": [
    "print('''Answer \"yes\" or \"no\" to the questions below to determine what restaurants you can go to.''')\n",
    "\n",
    "veg=input(\"Is anyone at your party a vegetarian? \")\n",
    "vegan=input(\"Is anyone at your party a vegan? \")\n",
    "gf=input(\"Is anyone at your party a gluten-free? \")\n",
    "print('Here are your restaurant choices:')\n",
    "\n",
    "print('''The Chef's Kitchen''')\n",
    "print('Corner Cafe')\n",
    "\n",
    "if vegan=='no':\n",
    "    print('Main Street Pizza Company')\n",
    "\n",
    "if vegan=='no' and gf=='no':\n",
    "    print('''Mama's Fine Italian''')\n",
    "    \n",
    "if vegan=='no' and veg=='no' and gf=='no':\n",
    "    print('''Joe's Gourmet Burgers''')"
   ]
  },
  {
   "cell_type": "code",
   "execution_count": 107,
   "id": "fd407716",
   "metadata": {},
   "outputs": [],
   "source": [
    "#The code seems to be working great!"
   ]
  },
  {
   "cell_type": "code",
   "execution_count": null,
   "id": "12ab5e7e",
   "metadata": {},
   "outputs": [],
   "source": []
  }
 ],
 "metadata": {
  "kernelspec": {
   "display_name": "Python 3 (ipykernel)",
   "language": "python",
   "name": "python3"
  },
  "language_info": {
   "codemirror_mode": {
    "name": "ipython",
    "version": 3
   },
   "file_extension": ".py",
   "mimetype": "text/x-python",
   "name": "python",
   "nbconvert_exporter": "python",
   "pygments_lexer": "ipython3",
   "version": "3.11.5"
  }
 },
 "nbformat": 4,
 "nbformat_minor": 5
}
