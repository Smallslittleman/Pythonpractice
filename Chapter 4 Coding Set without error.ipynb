{
 "cells": [
  {
   "cell_type": "markdown",
   "id": "df6a51f9",
   "metadata": {},
   "source": [
    "# Chapter 4 Coding Set - Zavier Christians "
   ]
  },
  {
   "cell_type": "markdown",
   "id": "250f3301",
   "metadata": {},
   "source": [
    "## Algorithm Workbench - Number 3"
   ]
  },
  {
   "cell_type": "markdown",
   "id": "11b4b58b",
   "metadata": {},
   "source": [
    "The problem asks us to, \n",
    "\n",
    "Write a FOR loop that displays the following set of numbers: (0, 10, 20, 30, 40, 50 ... 1000)"
   ]
  },
  {
   "cell_type": "markdown",
   "id": "1fef1b93",
   "metadata": {},
   "source": [
    "For this problem I am going to use the for loop as well as the range function to display the proper function."
   ]
  },
  {
   "cell_type": "code",
   "execution_count": 1,
   "id": "a1ffb831",
   "metadata": {},
   "outputs": [
    {
     "ename": "SyntaxError",
     "evalue": "expected ':' (3426466953.py, line 1)",
     "output_type": "error",
     "traceback": [
      "\u001b[1;36m  Cell \u001b[1;32mIn[1], line 1\u001b[1;36m\u001b[0m\n\u001b[1;33m    for num in (0,10,20)\u001b[0m\n\u001b[1;37m                        ^\u001b[0m\n\u001b[1;31mSyntaxError\u001b[0m\u001b[1;31m:\u001b[0m expected ':'\n"
     ]
    }
   ],
   "source": [
    "for num in (0,10,20)"
   ]
  },
  {
   "cell_type": "code",
   "execution_count": 2,
   "id": "93dbf5a6",
   "metadata": {},
   "outputs": [
    {
     "ename": "SyntaxError",
     "evalue": "incomplete input (1667393827.py, line 1)",
     "output_type": "error",
     "traceback": [
      "\u001b[1;36m  Cell \u001b[1;32mIn[2], line 1\u001b[1;36m\u001b[0m\n\u001b[1;33m    for num in (0,10,20):\u001b[0m\n\u001b[1;37m                         ^\u001b[0m\n\u001b[1;31mSyntaxError\u001b[0m\u001b[1;31m:\u001b[0m incomplete input\n"
     ]
    }
   ],
   "source": [
    "for num in (0,10,20):"
   ]
  },
  {
   "cell_type": "markdown",
   "id": "a6d9e74b",
   "metadata": {},
   "source": [
    "Here I am trying to figure out how the FOR loop works. "
   ]
  },
  {
   "cell_type": "code",
   "execution_count": 3,
   "id": "b3504efc",
   "metadata": {},
   "outputs": [
    {
     "name": "stdout",
     "output_type": "stream",
     "text": [
      "0\n",
      "10\n",
      "20\n"
     ]
    }
   ],
   "source": [
    "num = 0\n",
    "for num in (0,10,20):\n",
    "    print(num)"
   ]
  },
  {
   "cell_type": "markdown",
   "id": "535f9cf6",
   "metadata": {},
   "source": [
    "Now I will intigrate the RANGE function to make the for loop continue until it displays 1000. "
   ]
  },
  {
   "cell_type": "code",
   "execution_count": 4,
   "id": "27ff5730",
   "metadata": {},
   "outputs": [
    {
     "name": "stdout",
     "output_type": "stream",
     "text": [
      "0\n",
      "10\n",
      "20\n",
      "30\n",
      "40\n",
      "50\n",
      "60\n",
      "70\n",
      "80\n",
      "90\n",
      "100\n",
      "110\n",
      "120\n",
      "130\n",
      "140\n",
      "150\n",
      "160\n",
      "170\n",
      "180\n",
      "190\n",
      "200\n",
      "210\n",
      "220\n",
      "230\n",
      "240\n",
      "250\n",
      "260\n",
      "270\n",
      "280\n",
      "290\n",
      "300\n",
      "310\n",
      "320\n",
      "330\n",
      "340\n",
      "350\n",
      "360\n",
      "370\n",
      "380\n",
      "390\n",
      "400\n",
      "410\n",
      "420\n",
      "430\n",
      "440\n",
      "450\n",
      "460\n",
      "470\n",
      "480\n",
      "490\n",
      "500\n",
      "510\n",
      "520\n",
      "530\n",
      "540\n",
      "550\n",
      "560\n",
      "570\n",
      "580\n",
      "590\n",
      "600\n",
      "610\n",
      "620\n",
      "630\n",
      "640\n",
      "650\n",
      "660\n",
      "670\n",
      "680\n",
      "690\n",
      "700\n",
      "710\n",
      "720\n",
      "730\n",
      "740\n",
      "750\n",
      "760\n",
      "770\n",
      "780\n",
      "790\n",
      "800\n",
      "810\n",
      "820\n",
      "830\n",
      "840\n",
      "850\n",
      "860\n",
      "870\n",
      "880\n",
      "890\n",
      "900\n",
      "910\n",
      "920\n",
      "930\n",
      "940\n",
      "950\n",
      "960\n",
      "970\n",
      "980\n",
      "990\n"
     ]
    }
   ],
   "source": [
    "#The variable assignment below assigns the value '0' to the variable 'num'\n",
    "num = 0\n",
    "#The FOR loop below will assign 'num' its value plus 10 until 'num' reaches 1000\n",
    "for num in range(0,1000,10):\n",
    "    #The below print function will print the 'num' variable every time the FOR loop repeats\n",
    "    print(num)"
   ]
  },
  {
   "cell_type": "code",
   "execution_count": 5,
   "id": "15b72268",
   "metadata": {},
   "outputs": [
    {
     "name": "stdout",
     "output_type": "stream",
     "text": [
      "0\n",
      "10\n",
      "20\n",
      "30\n",
      "40\n",
      "50\n",
      "60\n",
      "70\n",
      "80\n",
      "90\n",
      "100\n",
      "110\n",
      "120\n",
      "130\n",
      "140\n",
      "150\n",
      "160\n",
      "170\n",
      "180\n",
      "190\n",
      "200\n",
      "210\n",
      "220\n",
      "230\n",
      "240\n",
      "250\n",
      "260\n",
      "270\n",
      "280\n",
      "290\n",
      "300\n",
      "310\n",
      "320\n",
      "330\n",
      "340\n",
      "350\n",
      "360\n",
      "370\n",
      "380\n",
      "390\n",
      "400\n",
      "410\n",
      "420\n",
      "430\n",
      "440\n",
      "450\n",
      "460\n",
      "470\n",
      "480\n",
      "490\n",
      "500\n",
      "510\n",
      "520\n",
      "530\n",
      "540\n",
      "550\n",
      "560\n",
      "570\n",
      "580\n",
      "590\n",
      "600\n",
      "610\n",
      "620\n",
      "630\n",
      "640\n",
      "650\n",
      "660\n",
      "670\n",
      "680\n",
      "690\n",
      "700\n",
      "710\n",
      "720\n",
      "730\n",
      "740\n",
      "750\n",
      "760\n",
      "770\n",
      "780\n",
      "790\n",
      "800\n",
      "810\n",
      "820\n",
      "830\n",
      "840\n",
      "850\n",
      "860\n",
      "870\n",
      "880\n",
      "890\n",
      "900\n",
      "910\n",
      "920\n",
      "930\n",
      "940\n",
      "950\n",
      "960\n",
      "970\n",
      "980\n",
      "990\n",
      "1000\n"
     ]
    }
   ],
   "source": [
    "#The variable assignment below assigns the value '0' to the variable 'num'\n",
    "num = 0\n",
    "#The FOR loop below will assign 'num' its value plus 10 until 'num' reaches 1000\n",
    "for num in range(0,1001,10):\n",
    "    #The below print function will print the 'num' variable every time the FOR loop repeats\n",
    "    print(num)"
   ]
  },
  {
   "cell_type": "markdown",
   "id": "c80eb12c",
   "metadata": {},
   "source": [
    "I did not know that the limit for the RANGE function will not be included, so I changed the limit to 1001 to fix this issue."
   ]
  },
  {
   "cell_type": "markdown",
   "id": "f42fe98a",
   "metadata": {},
   "source": [
    "## Algorithm Workbench - Number 5"
   ]
  },
  {
   "cell_type": "markdown",
   "id": "f5f6437a",
   "metadata": {},
   "source": [
    "The problem asks us to, \n",
    "\n",
    "Write a loop that calculates the total of the following series of numbers: \n",
    "\n",
    "1/30 + 2/29 + 3/28 + ... 30/1"
   ]
  },
  {
   "cell_type": "markdown",
   "id": "ffde351c",
   "metadata": {},
   "source": [
    "To complete this problem I will use the WHILE loop function, as well as the print function and math functions. "
   ]
  },
  {
   "cell_type": "code",
   "execution_count": 7,
   "id": "ad68c9dd",
   "metadata": {},
   "outputs": [
    {
     "name": "stdout",
     "output_type": "stream",
     "text": [
      "0.06896551724137931\n",
      "0.10714285714285714\n",
      "0.14814814814814814\n",
      "0.19230769230769232\n",
      "0.24\n",
      "0.2916666666666667\n",
      "0.34782608695652173\n",
      "0.4090909090909091\n",
      "0.47619047619047616\n",
      "0.55\n",
      "0.631578947368421\n",
      "0.7222222222222222\n",
      "0.8235294117647058\n",
      "0.9375\n",
      "1.0666666666666667\n",
      "1.2142857142857142\n",
      "1.3846153846153846\n",
      "1.5833333333333333\n",
      "1.8181818181818181\n",
      "2.1\n",
      "2.4444444444444446\n",
      "2.875\n",
      "3.4285714285714284\n",
      "4.166666666666667\n",
      "5.2\n",
      "6.75\n",
      "9.333333333333334\n",
      "14.5\n",
      "30.0\n"
     ]
    }
   ],
   "source": [
    "#No Idea if what is going on below will work but we are going to try it!\n",
    "num = 1\n",
    "dem = 30\n",
    "while num < 30 and dem > 1:\n",
    "    num += 1\n",
    "    dem -= 1 \n",
    "    print(num/dem)"
   ]
  },
  {
   "cell_type": "code",
   "execution_count": 81,
   "id": "b0043335",
   "metadata": {},
   "outputs": [
    {
     "name": "stdout",
     "output_type": "stream",
     "text": [
      "146.81126772519877\n"
     ]
    }
   ],
   "source": [
    "num = 1\n",
    "dem = 30\n",
    "while num < 30 and dem > 1:\n",
    "    num += 1\n",
    "    dem -= 1\n",
    "    subtotal = num/dem\n",
    "    total += subtotal\n",
    "\n",
    "print(total)\n"
   ]
  },
  {
   "cell_type": "markdown",
   "id": "d61090f6",
   "metadata": {},
   "source": [
    "That total seems like it is quite a bit too high. \n",
    "\n",
    "I am going to add some print statements to try and see what math it is doing. "
   ]
  },
  {
   "cell_type": "code",
   "execution_count": 83,
   "id": "46f44007",
   "metadata": {},
   "outputs": [
    {
     "name": "stdout",
     "output_type": "stream",
     "text": [
      "total, 146.88023324244014 and subtotal, 0.06896551724137931\n",
      "total, 146.987376099583 and subtotal, 0.10714285714285714\n",
      "total, 147.13552424773115 and subtotal, 0.14814814814814814\n",
      "total, 147.32783194003883 and subtotal, 0.19230769230769232\n",
      "total, 147.56783194003884 and subtotal, 0.24\n",
      "total, 147.8594986067055 and subtotal, 0.2916666666666667\n",
      "total, 148.20732469366203 and subtotal, 0.34782608695652173\n",
      "total, 148.61641560275294 and subtotal, 0.4090909090909091\n",
      "total, 149.09260607894342 and subtotal, 0.47619047619047616\n",
      "total, 149.64260607894343 and subtotal, 0.55\n",
      "total, 150.27418502631184 and subtotal, 0.631578947368421\n",
      "total, 150.99640724853407 and subtotal, 0.7222222222222222\n",
      "total, 151.81993666029877 and subtotal, 0.8235294117647058\n",
      "total, 152.75743666029877 and subtotal, 0.9375\n",
      "total, 153.82410332696543 and subtotal, 1.0666666666666667\n",
      "total, 155.03838904125115 and subtotal, 1.2142857142857142\n",
      "total, 156.42300442586654 and subtotal, 1.3846153846153846\n",
      "total, 158.00633775919988 and subtotal, 1.5833333333333333\n",
      "total, 159.8245195773817 and subtotal, 1.8181818181818181\n",
      "total, 161.9245195773817 and subtotal, 2.1\n",
      "total, 164.36896402182614 and subtotal, 2.4444444444444446\n",
      "total, 167.24396402182614 and subtotal, 2.875\n",
      "total, 170.67253545039756 and subtotal, 3.4285714285714284\n",
      "total, 174.83920211706422 and subtotal, 4.166666666666667\n",
      "total, 180.0392021170642 and subtotal, 5.2\n",
      "total, 186.7892021170642 and subtotal, 6.75\n",
      "total, 196.12253545039755 and subtotal, 9.333333333333334\n",
      "total, 210.62253545039755 and subtotal, 14.5\n",
      "total, 240.62253545039755 and subtotal, 30.0\n",
      "240.62253545039755\n"
     ]
    }
   ],
   "source": [
    "num = 1\n",
    "dem = 30\n",
    "while num < 30 and dem > 1:\n",
    "    num += 1\n",
    "    dem -= 1\n",
    "    subtotal = num/dem\n",
    "    total += subtotal\n",
    "    print(f'total, {total} and subtotal, {subtotal}')\n",
    "\n",
    "print(total)\n"
   ]
  },
  {
   "cell_type": "markdown",
   "id": "0ed36030",
   "metadata": {},
   "source": [
    "Well thats quite overwhelming, I need some rounding functions in there!"
   ]
  },
  {
   "cell_type": "code",
   "execution_count": 116,
   "id": "bd21a987",
   "metadata": {},
   "outputs": [
    {
     "name": "stdout",
     "output_type": "stream",
     "text": [
      "total, 0.069 and subtotal, 0.069\n",
      "total, 0.176 and subtotal, 0.107\n",
      "total, 0.324 and subtotal, 0.148\n",
      "total, 0.517 and subtotal, 0.192\n",
      "total, 0.757 and subtotal, 0.240\n",
      "total, 1.048 and subtotal, 0.292\n",
      "total, 1.396 and subtotal, 0.348\n",
      "total, 1.805 and subtotal, 0.409\n",
      "total, 2.281 and subtotal, 0.476\n",
      "total, 2.831 and subtotal, 0.550\n",
      "total, 3.463 and subtotal, 0.632\n",
      "total, 4.185 and subtotal, 0.722\n",
      "total, 5.009 and subtotal, 0.824\n",
      "total, 5.946 and subtotal, 0.938\n",
      "total, 7.013 and subtotal, 1.067\n",
      "total, 8.227 and subtotal, 1.214\n",
      "total, 9.612 and subtotal, 1.385\n",
      "total, 11.195 and subtotal, 1.583\n",
      "total, 13.013 and subtotal, 1.818\n",
      "total, 15.113 and subtotal, 2.100\n",
      "total, 17.558 and subtotal, 2.444\n",
      "total, 20.433 and subtotal, 2.875\n",
      "total, 23.861 and subtotal, 3.429\n",
      "total, 28.028 and subtotal, 4.167\n",
      "total, 33.228 and subtotal, 5.200\n",
      "total, 39.978 and subtotal, 6.750\n",
      "total, 49.311 and subtotal, 9.333\n",
      "total, 63.811 and subtotal, 14.500\n",
      "total, 93.811 and subtotal, 30.000\n",
      "93.81\n"
     ]
    }
   ],
   "source": [
    "num = 1\n",
    "dem = 30\n",
    "#I was running into problems where this variable was sticking around from the last time I ran the code.\n",
    "#So not it gets set to zero every time it runs. \n",
    "subtotal = 0\n",
    "total = 0\n",
    "while num < 30 and dem > 1:\n",
    "    num += 1\n",
    "    dem -= 1\n",
    "    subtotal = num/dem\n",
    "    total += subtotal\n",
    "    print(f'total, {total:.3f} and subtotal, {subtotal:.3f}')\n",
    "\n",
    "print(f'{total:.2f}')\n"
   ]
  },
  {
   "cell_type": "markdown",
   "id": "e74c0b8d",
   "metadata": {},
   "source": [
    "That is much better! \n",
    "\n",
    "Now I am going to clean it up with some print functions. "
   ]
  },
  {
   "cell_type": "code",
   "execution_count": 125,
   "id": "54cbd206",
   "metadata": {},
   "outputs": [
    {
     "name": "stdout",
     "output_type": "stream",
     "text": [
      "0.033 +\n",
      "0.069 +\n",
      "0.107 +\n",
      "0.148 +\n",
      "0.192 +\n",
      "0.240 +\n",
      "0.292 +\n",
      "0.348 +\n",
      "0.409 +\n",
      "0.476 +\n",
      "0.550 +\n",
      "0.632 +\n",
      "0.722 +\n",
      "0.824 +\n",
      "0.938 +\n",
      "1.067 +\n",
      "1.214 +\n",
      "1.385 +\n",
      "1.583 +\n",
      "1.818 +\n",
      "2.100 +\n",
      "2.444 +\n",
      "2.875 +\n",
      "3.429 +\n",
      "4.167 +\n",
      "5.200 +\n",
      "6.750 +\n",
      "9.333 +\n",
      "14.500 +\n",
      "30.000 +\n",
      "The total of all of the fractions is, \n",
      "93.84\n"
     ]
    }
   ],
   "source": [
    "#I realized that the for loop was not starting at 1/30 but was instead starting at 2/29; \n",
    "#To fix this I changed the 'num' variable from 1 to 0, and the 'den' variable from 30 to 31\n",
    "\n",
    "#This assignment assigns the variable 'num' the value 0\n",
    "num = 0\n",
    "#This assignment assigns the variable 'den' the value 31\n",
    "den = 31\n",
    "#This assignment assigns the variable 'subtotal' the value 0\n",
    "subtotal = 0\n",
    "#This assignment assigns the variable 'total' the value 0\n",
    "total = 0\n",
    "\n",
    "#This WHILE loop will repeat when the variable 'num' has a value less than 30 and when the variable 'den' has a value greater than 1\n",
    "while num < 30 and den > 1:\n",
    "    #This assignment assigns the variable 'num' the value of 'num' +1\n",
    "    num += 1\n",
    "    #This assignment assigns the variable 'den' the value of 'den' -1\n",
    "    den -= 1\n",
    "    #This assignment assigns the variable 'subtotal' the value of the variable 'num' divided by the variable 'den'\n",
    "    subtotal = num/den\n",
    "    #This assignment assigns the variable 'total' the value of the sum of the variable 'total' plus the variable 'subtotal'\n",
    "    total += subtotal\n",
    "    #This print function displays the subtotal \n",
    "    print(f'{subtotal:.3f} +')\n",
    "\n",
    "#This print function prints \"The total of all of the fractions is, \"\n",
    "print('The total of all of the fractions is, ')\n",
    "#This print function displays the value of the variable 'total' rounded to two decimal places\n",
    "print(f'{total:.2f}')"
   ]
  },
  {
   "cell_type": "markdown",
   "id": "737f483f",
   "metadata": {},
   "source": [
    "Excellent! I think this problem is done!"
   ]
  },
  {
   "cell_type": "markdown",
   "id": "963ac8ff",
   "metadata": {},
   "source": [
    "## Programming Exercises - Number 1"
   ]
  },
  {
   "cell_type": "markdown",
   "id": "f29ee269",
   "metadata": {},
   "source": [
    "Problem number 1 asks us to,\n",
    "\n",
    "A bug collector collects bugs every day for five days. Write a program that keeps a running total of the number of bugs collected during the five days. The loop should ask for the number of bugs collected for each day, and when the loop is finished, the program should display the total number of bugs collected."
   ]
  },
  {
   "cell_type": "markdown",
   "id": "a7bf80e3",
   "metadata": {},
   "source": [
    "To do this problem I am going to use the FOR loop function in addition to the input function, print function, and math functions."
   ]
  },
  {
   "cell_type": "code",
   "execution_count": 16,
   "id": "03b39dd3",
   "metadata": {},
   "outputs": [
    {
     "name": "stdout",
     "output_type": "stream",
     "text": [
      "Input the amount of bugs that you caught today!\n"
     ]
    }
   ],
   "source": [
    "#To start I am going to add a print statement which tell the user what to do.\n",
    "print('Input the amount of bugs that you caught today!')"
   ]
  },
  {
   "cell_type": "markdown",
   "id": "d3c211db",
   "metadata": {},
   "source": [
    "Next I will create a FOR loop, and some variables."
   ]
  },
  {
   "cell_type": "code",
   "execution_count": 22,
   "id": "9208f0e6",
   "metadata": {},
   "outputs": [
    {
     "name": "stdout",
     "output_type": "stream",
     "text": [
      "Input the amount of bugs that you caught today!\n",
      "test\n",
      "test\n",
      "test\n",
      "test\n",
      "test\n"
     ]
    }
   ],
   "source": [
    "print('Input the amount of bugs that you caught today!')\n",
    "\n",
    "day=1 \n",
    "for day in(1, 2, 3, 4, 5):\n",
    "    #This is to test what the FOR loop will do\n",
    "    print(\"test\")"
   ]
  },
  {
   "cell_type": "code",
   "execution_count": 23,
   "id": "b15c17aa",
   "metadata": {},
   "outputs": [
    {
     "name": "stdout",
     "output_type": "stream",
     "text": [
      "Input the amount of bugs that you caught today!\n",
      "Write number caught here!1\n",
      "Write number caught here!1\n",
      "Write number caught here!1\n",
      "Write number caught here!1\n",
      "Write number caught here!1\n"
     ]
    }
   ],
   "source": [
    "print('Input the amount of bugs that you caught today!')\n",
    "\n",
    "day=1 \n",
    "for day in(1, 2, 3, 4, 5):\n",
    "    #I switched out the print function for a input to see what that would do\n",
    "    int(input('Write number caught here!'))"
   ]
  },
  {
   "cell_type": "markdown",
   "id": "a02440d8",
   "metadata": {},
   "source": [
    "OK, everything seems to work so far!"
   ]
  },
  {
   "cell_type": "code",
   "execution_count": 24,
   "id": "037ed565",
   "metadata": {},
   "outputs": [
    {
     "name": "stdout",
     "output_type": "stream",
     "text": [
      "Input the amount of bugs that you caught today!\n",
      "Write number caught here!2\n",
      "Total so far, 2!\n",
      "Write number caught here!6\n",
      "Total so far, 8!\n",
      "Write number caught here!10\n",
      "Total so far, 18!\n",
      "Write number caught here!50\n",
      "Total so far, 68!\n",
      "Write number caught here!1\n",
      "Total so far, 69!\n"
     ]
    }
   ],
   "source": [
    "print('Input the amount of bugs that you caught today!')\n",
    "\n",
    "day=1\n",
    "#added 'total' variable to keep track of total. \n",
    "total=0 \n",
    "for day in(1, 2, 3, 4, 5):\n",
    "    bugs = int(input('Write number caught here!'))\n",
    "    #hopefully the below statement will add the users input to the total each time the loop repeats!\n",
    "    total += bugs\n",
    "    print(f'Total so far, {total}!')"
   ]
  },
  {
   "cell_type": "markdown",
   "id": "256d9a69",
   "metadata": {},
   "source": [
    "This all seems to work fine but I think that my instuctions and outputs need different wording. "
   ]
  },
  {
   "cell_type": "code",
   "execution_count": 26,
   "id": "cdcc3022",
   "metadata": {},
   "outputs": [
    {
     "name": "stdout",
     "output_type": "stream",
     "text": [
      "Input the amount of bugs that you caught each day!\n",
      "Write number caught on day 1! 7\n",
      "Total so far, 7!\n",
      "Write number caught on day 2! 12\n",
      "Total so far, 19!\n",
      "Write number caught on day 3! 11\n",
      "Total so far, 30!\n",
      "Write number caught on day 4! 15\n",
      "Total so far, 45!\n",
      "Write number caught on day 5! 8\n",
      "Total so far, 53!\n",
      "You caught 53 bugs in the last 5 days!\n"
     ]
    }
   ],
   "source": [
    "#The print function below displays the directions for the user. \n",
    "print('Input the amount of bugs that you caught each day!')\n",
    "\n",
    "#The assignment below assigns the variable 'day' the value 1\n",
    "day=1 \n",
    "#The assignment below assigns the variable 'total' the value 0\n",
    "total=0 \n",
    "#The FOR loop below repeates the loop 5 times\n",
    "for day in(1, 2, 3, 4, 5):\n",
    "    #The statement below assigns the variable 'bugs' the users input as an integer\n",
    "    bugs = int(input(f'Write number caught on day {day}! '))\n",
    "    #The assignment below assigns the variable 'total' the value of the sum of the variables 'total' and 'bugs'\n",
    "    total += bugs\n",
    "    #The print statement below displays the running total\n",
    "    print(f'Total so far, {total}!')\n",
    "\n",
    "#The print function below displays the total bugs caught for the 5 days\n",
    "print(f'You caught {total} bugs in the last 5 days!')"
   ]
  },
  {
   "cell_type": "markdown",
   "id": "1d27c693",
   "metadata": {},
   "source": [
    "I think this problem is all done!"
   ]
  },
  {
   "cell_type": "markdown",
   "id": "f115da49",
   "metadata": {},
   "source": [
    "## Programming Exercises - Number 4"
   ]
  },
  {
   "attachments": {
    "image-2.png": {
     "image/png": "[encoded data removed]"
    }
   },
   "cell_type": "markdown",
   "id": "9fbe5092",
   "metadata": {},
   "source": [
    "The question asks us to, \n",
    "\n",
    "The distance a vehicle travels can be calculated as follows:\n",
    "\n",
    "## distance = speed x time\n",
    "\n",
    "For example, if a train travels 40 miles per hour for three hours, the distance traveled is 120 miles. Write a program that asks the user for the speed of a vehicle (in miles per hour) and the number of hours it has traveled. It should then use a loop to display the distance the vehicle has traveled for each hour of that time period. Here is an example of the desired output:\n",
    "\n",
    "![image-2.png](attachment:image-2.png)"
   ]
  },
  {
   "cell_type": "markdown",
   "id": "e491b200",
   "metadata": {},
   "source": [
    "For this problem I am going to have to use a WHILE or FOR loop as well as the input function, print function, and math functions."
   ]
  },
  {
   "cell_type": "code",
   "execution_count": 27,
   "id": "e94bd167",
   "metadata": {},
   "outputs": [
    {
     "name": "stdout",
     "output_type": "stream",
     "text": [
      "Below you can input a vehicles speed (in mph) and the time traveled to learn how far it has traveled.\n",
      "The vehicles speed is, 65\n",
      "Number of hours the vehicle traveled for, 4\n"
     ]
    }
   ],
   "source": [
    "#To start I will once again give the user some directions\n",
    "print('Below you can input a vehicles speed (in mph) and the time traveled to learn how far it has traveled.')\n",
    "\n",
    "#I will also add some input functions so the user has somewhere to put their information.\n",
    "speed = float(input(\"The vehicles speed is, \"))\n",
    "time = float(input(\"Number of hours the vehicle traveled for, \"))"
   ]
  },
  {
   "cell_type": "markdown",
   "id": "fe6da35e",
   "metadata": {},
   "source": [
    "I now need to add a loop to the code that repeats for every hour traveled. "
   ]
  },
  {
   "cell_type": "code",
   "execution_count": 28,
   "id": "f5752e6a",
   "metadata": {},
   "outputs": [
    {
     "name": "stdout",
     "output_type": "stream",
     "text": [
      "Below you can input a vehicles speed (in mph) and the time traveled to learn how far it has traveled.\n",
      "The vehicles speed is, 50\n",
      "Number of hours the vehicle traveled for, 5\n"
     ]
    },
    {
     "ename": "TypeError",
     "evalue": "'float' object cannot be interpreted as an integer",
     "output_type": "error",
     "traceback": [
      "\u001b[1;31m---------------------------------------------------------------------------\u001b[0m",
      "\u001b[1;31mTypeError\u001b[0m                                 Traceback (most recent call last)",
      "Cell \u001b[1;32mIn[28], line 7\u001b[0m\n\u001b[0;32m      4\u001b[0m time \u001b[38;5;241m=\u001b[39m \u001b[38;5;28mfloat\u001b[39m(\u001b[38;5;28minput\u001b[39m(\u001b[38;5;124m\"\u001b[39m\u001b[38;5;124mNumber of hours the vehicle traveled for, \u001b[39m\u001b[38;5;124m\"\u001b[39m))\n\u001b[0;32m      6\u001b[0m \u001b[38;5;66;03m#further testing how the range function works\u001b[39;00m\n\u001b[1;32m----> 7\u001b[0m \u001b[38;5;28;01mfor\u001b[39;00m time \u001b[38;5;129;01min\u001b[39;00m \u001b[38;5;28mrange\u001b[39m(time):\n\u001b[0;32m      8\u001b[0m     \u001b[38;5;28mprint\u001b[39m(\u001b[38;5;124m'\u001b[39m\u001b[38;5;124mtest\u001b[39m\u001b[38;5;124m'\u001b[39m)\n",
      "\u001b[1;31mTypeError\u001b[0m: 'float' object cannot be interpreted as an integer"
     ]
    }
   ],
   "source": [
    "print('Below you can input a vehicles speed (in mph) and the time traveled to learn how far it has traveled.')\n",
    "\n",
    "speed = float(input(\"The vehicles speed is, \"))\n",
    "time = float(input(\"Number of hours the vehicle traveled for, \"))\n",
    "\n",
    "#further testing how the range function works\n",
    "for time in range(time):\n",
    "    print('test')\n"
   ]
  },
  {
   "cell_type": "markdown",
   "id": "98abb5c6",
   "metadata": {},
   "source": [
    "That makes sense, I need to change the float values to integers for the FOR loop because it cant work with demicals. However, I still want to keep the original variable as a float in case somebody inputs a decimal for the time. "
   ]
  },
  {
   "cell_type": "code",
   "execution_count": 29,
   "id": "0fe9b7a5",
   "metadata": {},
   "outputs": [
    {
     "ename": "SyntaxError",
     "evalue": "cannot assign to function call (1315639211.py, line 7)",
     "output_type": "error",
     "traceback": [
      "\u001b[1;36m  Cell \u001b[1;32mIn[29], line 7\u001b[1;36m\u001b[0m\n\u001b[1;33m    for int(time) in range(int(time)):\u001b[0m\n\u001b[1;37m        ^\u001b[0m\n\u001b[1;31mSyntaxError\u001b[0m\u001b[1;31m:\u001b[0m cannot assign to function call\n"
     ]
    }
   ],
   "source": [
    "print('Below you can input a vehicles speed (in mph) and the time traveled to learn how far it has traveled.')\n",
    "\n",
    "speed = float(input(\"The vehicles speed is, \"))\n",
    "time = float(input(\"Number of hours the vehicle traveled for, \"))\n",
    "\n",
    "#further testing how the range function works\n",
    "for int(time) in range(int(time)):\n",
    "    print(time)\n"
   ]
  },
  {
   "cell_type": "code",
   "execution_count": 31,
   "id": "d94318e8",
   "metadata": {},
   "outputs": [
    {
     "name": "stdout",
     "output_type": "stream",
     "text": [
      "3\n"
     ]
    }
   ],
   "source": [
    "#testing \n",
    "\n",
    "x=3.6\n",
    "\n",
    "print(f\"{int(x)}\")"
   ]
  },
  {
   "cell_type": "code",
   "execution_count": 38,
   "id": "bf5544b8",
   "metadata": {},
   "outputs": [
    {
     "name": "stdout",
     "output_type": "stream",
     "text": [
      "3\n"
     ]
    }
   ],
   "source": [
    "#testing \n",
    "\n",
    "x=3.6\n",
    "\n",
    "print(f\"{int(x//1)}\")"
   ]
  },
  {
   "cell_type": "code",
   "execution_count": 39,
   "id": "6519a85b",
   "metadata": {},
   "outputs": [
    {
     "name": "stdout",
     "output_type": "stream",
     "text": [
      "4\n"
     ]
    }
   ],
   "source": [
    "#testing \n",
    "\n",
    "x=3.6\n",
    "\n",
    "print(f\"{x:.0f}\")"
   ]
  },
  {
   "cell_type": "code",
   "execution_count": 41,
   "id": "8d212d1a",
   "metadata": {},
   "outputs": [
    {
     "name": "stdout",
     "output_type": "stream",
     "text": [
      "3\n"
     ]
    }
   ],
   "source": [
    "#testing \n",
    "\n",
    "x=3.6\n",
    "\n",
    "b = int(x//1)\n",
    "print(b)"
   ]
  },
  {
   "cell_type": "code",
   "execution_count": 54,
   "id": "82ce8715",
   "metadata": {},
   "outputs": [
    {
     "name": "stdout",
     "output_type": "stream",
     "text": [
      "4\n"
     ]
    }
   ],
   "source": [
    "#testing \n",
    "\n",
    "x=3.6\n",
    "\n",
    "b = int(round(x))\n",
    "print(b)"
   ]
  },
  {
   "cell_type": "markdown",
   "id": "7b8ae77e",
   "metadata": {},
   "source": [
    "There we go, thats what I want!"
   ]
  },
  {
   "cell_type": "code",
   "execution_count": 44,
   "id": "0ad70d2d",
   "metadata": {},
   "outputs": [
    {
     "name": "stdout",
     "output_type": "stream",
     "text": [
      "Below you can input a vehicles speed (in mph) and the time traveled to learn how far it has traveled.\n",
      "The vehicles speed is, 50\n",
      "Number of hours the vehicle traveled for, 3.6\n",
      "0 and 3.6\n",
      "1 and 3.6\n",
      "2 and 3.6\n",
      "3 and 3.6\n"
     ]
    }
   ],
   "source": [
    "print('Below you can input a vehicles speed (in mph) and the time traveled to learn how far it has traveled.')\n",
    "\n",
    "speed = float(input(\"The vehicles speed is, \"))\n",
    "time = float(input(\"Number of hours the vehicle traveled for, \"))\n",
    "loop = int(round(time))\n",
    "\n",
    "#further testing how the range function works\n",
    "for loop in range(loop):\n",
    "    print(f\"{loop} and {time}\")\n"
   ]
  },
  {
   "cell_type": "markdown",
   "id": "e434a58f",
   "metadata": {},
   "source": [
    "While it might be slightly silly and convoluted, something in me really wants the user to be able to input a non-whole number for the time and have the program still work. \n",
    "\n",
    "So I am very pleased that this all works so far!\n",
    "\n",
    "However I do not like that fact that the list starts with 0 so I am going to try to fix that."
   ]
  },
  {
   "cell_type": "code",
   "execution_count": 49,
   "id": "5af1a1e8",
   "metadata": {},
   "outputs": [
    {
     "name": "stdout",
     "output_type": "stream",
     "text": [
      "Below you can input a vehicles speed (in mph) and the time traveled to learn how far it has traveled.\n",
      "The vehicles speed is, 50\n",
      "Number of hours the vehicle traveled for, 3.6\n",
      "1 and 3.6\n",
      "2 and 3.6\n",
      "3 and 3.6\n",
      "4 and 3.6\n"
     ]
    }
   ],
   "source": [
    "print('Below you can input a vehicles speed (in mph) and the time traveled to learn how far it has traveled.')\n",
    "\n",
    "speed = float(input(\"The vehicles speed is, \"))\n",
    "time = float(input(\"Number of hours the vehicle traveled for, \"))\n",
    "loop = int(round(time))\n",
    "\n",
    "#I added a 1 at the beggining of the range function to see if that will set the starting value of the range to 1.\n",
    "#I also added a '+1' to the limit so that it can include the real limit I want\n",
    "for loop in range(1,loop+1):\n",
    "    print(f\"{loop} and {time}\")\n"
   ]
  },
  {
   "cell_type": "markdown",
   "id": "f999bafa",
   "metadata": {},
   "source": [
    "Now for a bit of testing!"
   ]
  },
  {
   "cell_type": "code",
   "execution_count": 50,
   "id": "2a9e90a9",
   "metadata": {},
   "outputs": [
    {
     "name": "stdout",
     "output_type": "stream",
     "text": [
      "Below you can input a vehicles speed (in mph) and the time traveled to learn how far it has traveled.\n",
      "The vehicles speed is, 50\n",
      "Number of hours the vehicle traveled for, 3\n",
      "1 and 3.0\n",
      "2 and 3.0\n",
      "3 and 3.0\n"
     ]
    }
   ],
   "source": [
    "print('Below you can input a vehicles speed (in mph) and the time traveled to learn how far it has traveled.')\n",
    "\n",
    "speed = float(input(\"The vehicles speed is, \"))\n",
    "time = float(input(\"Number of hours the vehicle traveled for, \"))\n",
    "loop = int(round(time))\n",
    "\n",
    "for loop in range(1,loop+1):\n",
    "    print(f\"{loop} and {time}\")"
   ]
  },
  {
   "cell_type": "code",
   "execution_count": 51,
   "id": "6414517e",
   "metadata": {},
   "outputs": [
    {
     "name": "stdout",
     "output_type": "stream",
     "text": [
      "Below you can input a vehicles speed (in mph) and the time traveled to learn how far it has traveled.\n",
      "The vehicles speed is, 3.2\n",
      "Number of hours the vehicle traveled for, 3.2\n",
      "1 and 3.2\n",
      "2 and 3.2\n",
      "3 and 3.2\n"
     ]
    }
   ],
   "source": [
    "print('Below you can input a vehicles speed (in mph) and the time traveled to learn how far it has traveled.')\n",
    "\n",
    "speed = float(input(\"The vehicles speed is, \"))\n",
    "time = float(input(\"Number of hours the vehicle traveled for, \"))\n",
    "loop = int(round(time))\n",
    "\n",
    "for loop in range(1,loop+1):\n",
    "    print(f\"{loop} and {time}\")"
   ]
  },
  {
   "cell_type": "markdown",
   "id": "d4ac930a",
   "metadata": {},
   "source": [
    "It is here where I realize there is more problems with me wanting to be able to input a non-whole hour number. Such as, the ending value in the hours list not being able to be a decimal. I am going to press on and see if I can fix it."
   ]
  },
  {
   "cell_type": "code",
   "execution_count": 52,
   "id": "a8ab054c",
   "metadata": {},
   "outputs": [
    {
     "data": {
      "text/plain": [
       "0.20000000000000018"
      ]
     },
     "execution_count": 52,
     "metadata": {},
     "output_type": "execute_result"
    }
   ],
   "source": [
    "#more testing \n",
    "\n",
    "3.2%1"
   ]
  },
  {
   "cell_type": "code",
   "execution_count": 56,
   "id": "0815855d",
   "metadata": {},
   "outputs": [
    {
     "name": "stdout",
     "output_type": "stream",
     "text": [
      "Below you can input a vehicles speed (in mph) and the time traveled to learn how far it has traveled.\n",
      "The vehicles speed is, 50\n",
      "Number of hours the vehicle traveled for, 4\n",
      "1 and 4.0\n",
      "2 and 4.0\n",
      "3 and 4.0\n",
      "4 and 4.0\n"
     ]
    }
   ],
   "source": [
    "print('Below you can input a vehicles speed (in mph) and the time traveled to learn how far it has traveled.')\n",
    "\n",
    "speed = float(input(\"The vehicles speed is, \"))\n",
    "time = float(input(\"Number of hours the vehicle traveled for, \"))\n",
    "#I add in this variable so that I have a place to store the remander of 'time'\n",
    "rem = time%1\n",
    "\n",
    "#This IF statement will hopefully add 1 to the loop variable if there is any remander\n",
    "if rem<0:\n",
    "    loop = int(round(time)+1)\n",
    "else:\n",
    "    loop = int(time)\n",
    "\n",
    "for loop in range(1,loop+1):\n",
    "    print(f\"{loop} and {time}\")"
   ]
  },
  {
   "cell_type": "code",
   "execution_count": 58,
   "id": "01f07be9",
   "metadata": {},
   "outputs": [
    {
     "name": "stdout",
     "output_type": "stream",
     "text": [
      "Below you can input a vehicles speed (in mph) and the time traveled to learn how far it has traveled.\n",
      "The vehicles speed is, 50\n",
      "Number of hours the vehicle traveled for, 4.2\n",
      "0.20000000000000018\n",
      "1 and 4.2\n",
      "2 and 4.2\n",
      "3 and 4.2\n",
      "4 and 4.2\n"
     ]
    }
   ],
   "source": [
    "print('Below you can input a vehicles speed (in mph) and the time traveled to learn how far it has traveled.')\n",
    "\n",
    "speed = float(input(\"The vehicles speed is, \"))\n",
    "time = float(input(\"Number of hours the vehicle traveled for, \"))\n",
    "rem = time%1\n",
    "\n",
    "#This print function will tell me what the remander variable is for testing purposes\n",
    "print(rem)\n",
    "if rem<0:\n",
    "    loop = int(round(time)+1)\n",
    "else:\n",
    "    loop = int(time)\n",
    "\n",
    "for loop in range(1,loop+1):\n",
    "    print(f\"{loop} and {time}\")"
   ]
  },
  {
   "cell_type": "code",
   "execution_count": 59,
   "id": "3b7680a6",
   "metadata": {},
   "outputs": [
    {
     "name": "stdout",
     "output_type": "stream",
     "text": [
      "Below you can input a vehicles speed (in mph) and the time traveled to learn how far it has traveled.\n",
      "The vehicles speed is, 50\n",
      "Number of hours the vehicle traveled for, 4.2\n",
      "0.20000000000000018\n",
      "1 and 4.2\n",
      "2 and 4.2\n",
      "3 and 4.2\n",
      "4 and 4.2\n",
      "5 and 4.2\n"
     ]
    }
   ],
   "source": [
    "print('Below you can input a vehicles speed (in mph) and the time traveled to learn how far it has traveled.')\n",
    "\n",
    "speed = float(input(\"The vehicles speed is, \"))\n",
    "time = float(input(\"Number of hours the vehicle traveled for, \"))\n",
    "rem = time%1\n",
    "\n",
    "print(rem)\n",
    "#I said that 'rem' had to be less than 0 by mistake, so now it is greater than as it should be\n",
    "if rem>0:\n",
    "    loop = int(round(time)+1)\n",
    "else:\n",
    "    loop = int(time)\n",
    "\n",
    "for loop in range(1,loop+1):\n",
    "    print(f\"{loop} and {time}\")"
   ]
  },
  {
   "cell_type": "markdown",
   "id": "27001ebf",
   "metadata": {},
   "source": [
    "This is probably starting to sound like the ramblings of a madman, but I think I have the program doing what I want it to for now!\n",
    "\n",
    "Now to add the math calculations."
   ]
  },
  {
   "cell_type": "code",
   "execution_count": 61,
   "id": "40ecb908",
   "metadata": {},
   "outputs": [
    {
     "name": "stdout",
     "output_type": "stream",
     "text": [
      "Below you can input a vehicles speed (in mph) and the time traveled to learn how far it has traveled.\n",
      "The vehicles speed is, 50\n",
      "Number of hours the vehicle traveled for, 4.2\n",
      "Hours             Distance Traveled\n",
      "test\n",
      "test\n",
      "test\n",
      "test\n",
      "test\n"
     ]
    }
   ],
   "source": [
    "print('Below you can input a vehicles speed (in mph) and the time traveled to learn how far it has traveled.')\n",
    "\n",
    "speed = float(input(\"The vehicles speed is, \"))\n",
    "time = float(input(\"Number of hours the vehicle traveled for, \"))\n",
    "\n",
    "print('Hours             Distance Traveled')\n",
    "rem = time%1\n",
    "\n",
    "if rem>0:\n",
    "    loop = int(round(time)+1)\n",
    "else:\n",
    "    loop = int(time)\n",
    "\n",
    "for loop in range(1,loop+1):\n",
    "    print(\"test\")"
   ]
  },
  {
   "cell_type": "code",
   "execution_count": 63,
   "id": "102aa806",
   "metadata": {},
   "outputs": [
    {
     "name": "stdout",
     "output_type": "stream",
     "text": [
      "Below you can input a vehicles speed (in mph) and the time traveled to learn how far it has traveled.\n",
      "The vehicles speed is, 50\n",
      "Number of hours the vehicle traveled for, 4\n",
      "Hours             Distance Traveled\n",
      "1     200.0\n",
      "2     200.0\n",
      "3     200.0\n",
      "4     200.0\n"
     ]
    }
   ],
   "source": [
    "print('Below you can input a vehicles speed (in mph) and the time traveled to learn how far it has traveled.')\n",
    "\n",
    "speed = float(input(\"The vehicles speed is, \"))\n",
    "time = float(input(\"Number of hours the vehicle traveled for, \"))\n",
    "\n",
    "print('Hours             Distance Traveled')\n",
    "rem = time%1\n",
    "\n",
    "if rem>0:\n",
    "    loop = int(round(time)+1)\n",
    "else:\n",
    "    loop = int(time)\n",
    "\n",
    "for loop in range(1,loop+1):\n",
    "    distance = time*speed\n",
    "    print(f'{loop}{distance:10}')\n",
    "    "
   ]
  },
  {
   "cell_type": "code",
   "execution_count": 73,
   "id": "c63981f3",
   "metadata": {},
   "outputs": [
    {
     "name": "stdout",
     "output_type": "stream",
     "text": [
      "Below you can input a vehicles speed (in mph) and the time traveled to learn how far it has traveled.\n",
      "The vehicles speed is, 50\n",
      "Number of hours the vehicle traveled for, 4\n",
      "Hours               Distance Traveled\n",
      "1                          50.0 Miles\n",
      "2                         100.0 Miles\n",
      "3                         150.0 Miles\n",
      "4                         200.0 Miles\n"
     ]
    }
   ],
   "source": [
    "print('Below you can input a vehicles speed (in mph) and the time traveled to learn how far it has traveled.')\n",
    "\n",
    "speed = float(input(\"The vehicles speed is, \"))\n",
    "time = float(input(\"Number of hours the vehicle traveled for, \"))\n",
    "\n",
    "print('Hours               Distance Traveled')\n",
    "rem = time%1\n",
    "\n",
    "if rem>0:\n",
    "    loop = int(round(time)+1)\n",
    "else:\n",
    "    loop = int(time)\n",
    "\n",
    "for loop in range(1,loop+1):\n",
    "    distance = loop*speed\n",
    "    print(f'{loop}{distance:30} Miles')\n",
    "    "
   ]
  },
  {
   "cell_type": "markdown",
   "id": "df9415cf",
   "metadata": {},
   "source": [
    "So it already works for whole numbers, however, I already know that things are going to get funky with any non-whole numbers.\n",
    "\n",
    "I am going to try to add in some logic to keep the dream alive!"
   ]
  },
  {
   "cell_type": "code",
   "execution_count": 77,
   "id": "2ffb1568",
   "metadata": {},
   "outputs": [
    {
     "name": "stdout",
     "output_type": "stream",
     "text": [
      "Below you can input a vehicles speed (in mph) and the time traveled to learn how far it has traveled.\n",
      "The vehicles speed is, 50\n",
      "Number of hours the vehicle traveled for, 3.6\n",
      "Hours               Distance Traveled\n",
      "1                            50.0 Miles\n",
      "2                           100.0 Miles\n",
      "3                           150.0 Miles\n",
      "3.6                         180.0 Miles\n"
     ]
    }
   ],
   "source": [
    "print('Below you can input a vehicles speed (in mph) and the time traveled to learn how far it has traveled.')\n",
    "\n",
    "speed = float(input(\"The vehicles speed is, \"))\n",
    "time = float(input(\"Number of hours the vehicle traveled for, \"))\n",
    "\n",
    "print('Hours               Distance Traveled')\n",
    "rem = time%1\n",
    "loop = int(time)\n",
    "\n",
    "for loop in range(1,loop+1):\n",
    "    distance = loop*speed\n",
    "    print(f'{loop}{distance:32} Miles')\n",
    "    \n",
    "if rem>0:\n",
    "    distance = time*speed\n",
    "    print(f'{time}{distance:30} Miles')"
   ]
  },
  {
   "cell_type": "markdown",
   "id": "23983b98",
   "metadata": {},
   "source": [
    "I almost cant believe it but I think it works! \n",
    "\n",
    "I am going to do some more testing just to make sure."
   ]
  },
  {
   "cell_type": "code",
   "execution_count": 78,
   "id": "a07ee6f7",
   "metadata": {},
   "outputs": [
    {
     "name": "stdout",
     "output_type": "stream",
     "text": [
      "Below you can input a vehicles speed (in mph) and the time traveled to learn how far it has traveled.\n",
      "The vehicles speed is, 65.8\n",
      "Number of hours the vehicle traveled for, 9\n",
      "Hours               Distance Traveled\n",
      "1                            65.8 Miles\n",
      "2                           131.6 Miles\n",
      "3              197.39999999999998 Miles\n",
      "4                           263.2 Miles\n",
      "5                           329.0 Miles\n",
      "6              394.79999999999995 Miles\n",
      "7              460.59999999999997 Miles\n",
      "8                           526.4 Miles\n",
      "9               592.1999999999999 Miles\n"
     ]
    }
   ],
   "source": [
    "print('Below you can input a vehicles speed (in mph) and the time traveled to learn how far it has traveled.')\n",
    "\n",
    "speed = float(input(\"The vehicles speed is, \"))\n",
    "time = float(input(\"Number of hours the vehicle traveled for, \"))\n",
    "\n",
    "print('Hours               Distance Traveled')\n",
    "rem = time%1\n",
    "loop = int(time)\n",
    "\n",
    "for loop in range(1,loop+1):\n",
    "    distance = loop*speed\n",
    "    print(f'{loop}{distance:32} Miles')\n",
    "    \n",
    "if rem>0:\n",
    "    distance = time*speed\n",
    "    print(f'{time}{distance:30} Miles')"
   ]
  },
  {
   "cell_type": "code",
   "execution_count": 79,
   "id": "932531cd",
   "metadata": {},
   "outputs": [
    {
     "name": "stdout",
     "output_type": "stream",
     "text": [
      "Below you can input a vehicles speed (in mph) and the time traveled to learn how far it has traveled.\n",
      "The vehicles speed is, 85.2\n",
      "Number of hours the vehicle traveled for, 5.2\n",
      "Hours               Distance Traveled\n",
      "1                            85.2 Miles\n",
      "2                           170.4 Miles\n",
      "3              255.60000000000002 Miles\n",
      "4                           340.8 Miles\n",
      "5                           426.0 Miles\n",
      "5.2                        443.04 Miles\n"
     ]
    }
   ],
   "source": [
    "print('Below you can input a vehicles speed (in mph) and the time traveled to learn how far it has traveled.')\n",
    "\n",
    "speed = float(input(\"The vehicles speed is, \"))\n",
    "time = float(input(\"Number of hours the vehicle traveled for, \"))\n",
    "\n",
    "print('Hours               Distance Traveled')\n",
    "rem = time%1\n",
    "loop = int(time)\n",
    "\n",
    "for loop in range(1,loop+1):\n",
    "    distance = loop*speed\n",
    "    print(f'{loop}{distance:32} Miles')\n",
    "    \n",
    "if rem>0:\n",
    "    distance = time*speed\n",
    "    print(f'{time}{distance:30} Miles')"
   ]
  },
  {
   "cell_type": "markdown",
   "id": "fa3a9acb",
   "metadata": {},
   "source": [
    "I think it actually works! I am going to add in some rounding clauses into my f-strings though just to finish it up!"
   ]
  },
  {
   "cell_type": "code",
   "execution_count": 80,
   "id": "39085bfa",
   "metadata": {},
   "outputs": [
    {
     "name": "stdout",
     "output_type": "stream",
     "text": [
      "Below you can input a vehicles speed (in mph) and the time traveled to learn how far it has traveled.\n",
      "The vehicles speed is, 85.7\n",
      "Number of hours the vehicle traveled for, 4.3\n",
      "Hours               Distance Traveled\n",
      "1                            85.7 Miles\n",
      "2                           171.4 Miles\n",
      "3                           257.1 Miles\n",
      "4                           342.8 Miles\n",
      "4.3                         368.5 Miles\n"
     ]
    }
   ],
   "source": [
    "#The print function below displays the directions for the user\n",
    "print('Below you can input a vehicles speed (in mph) and the time traveled to learn how far it has traveled.')\n",
    "\n",
    "#The input function below assigns the variable 'speed' whatever value the user inputs and assigns it as a float\n",
    "speed = float(input(\"The vehicles speed is, \"))\n",
    "#The input function below assigns the variable 'time' whatever value the user inputs and assigns it as a float\n",
    "time = float(input(\"Number of hours the vehicle traveled for, \"))\n",
    "\n",
    "#The print statement below displays \"Hours\" and \"Distance Traveled\" \n",
    "print('Hours               Distance Traveled')\n",
    "#The assignment below assigns the variable 'rem' the value of the remander of the variable 'time' divided by 1\n",
    "#this variable is here to test if the number entered by the user is whole or not\n",
    "rem = time%1\n",
    "#The assignment below assign the variable 'loop' the value of the variable 'time' but as in integer instead of a float\n",
    "#The reason for this is that the FOR loop below cannot work with float values. \n",
    "loop = int(time)\n",
    "\n",
    "#The FOR loop below will repeat however many times is assigned to the 'loop' variable plus 1\n",
    "for loop in range(1,loop+1):\n",
    "    #The assignment below assigns the 'distance' variable the value of the 'loop' variable times the 'speed' variable\n",
    "    distance = loop*speed\n",
    "    #The print statement below will display the hours traveled and the distance traveled\n",
    "    print(f'{loop}{distance:32.1f} Miles')\n",
    "\n",
    "#The IF function below tests is the 'rem' variable is greater than 0.\n",
    "#if it is then that means that the users input was not a whole number and the below statements will execute\n",
    "if rem>0:\n",
    "    #The assignment below assigns the 'distance' variable that value of the 'time' variable times the 'speed' variable\n",
    "    distance = time*speed\n",
    "    #The print function below displays the hours traveled and the distance traveled\n",
    "    print(f'{time}{distance:30.1f} Miles')"
   ]
  },
  {
   "cell_type": "markdown",
   "id": "0165cd9f",
   "metadata": {},
   "source": [
    "I am very happy with this! I will admit by the end it became a bit of an obsession to have the user be able to enter whatever they want into the input boxes; but I am very pleased with the end result and am happy I stuck to it!"
   ]
  },
  {
   "cell_type": "markdown",
   "id": "b4b1e35b",
   "metadata": {},
   "source": [
    "## Programming Exercises - Number 12"
   ]
  },
  {
   "attachments": {
    "image.png": {
     "image/png": "[encoded data removed]"
    }
   },
   "cell_type": "markdown",
   "id": "c259076b",
   "metadata": {},
   "source": [
    "Problem 12 asks us to, \n",
    "\n",
    "![image.png](attachment:image.png)"
   ]
  },
  {
   "cell_type": "markdown",
   "id": "15021966",
   "metadata": {},
   "source": [
    "To do this problem I am going to have to use the FOR loop, as well as the input function, print function, and math functions. "
   ]
  },
  {
   "cell_type": "code",
   "execution_count": 126,
   "id": "2ada293d",
   "metadata": {},
   "outputs": [
    {
     "name": "stdout",
     "output_type": "stream",
     "text": [
      "Enter the starting number of organisms, average daily increase, and number of days to multiply to calculate the\n",
      "approximate population\n"
     ]
    }
   ],
   "source": [
    "#To start I am going to put a print function give the user directions.\n",
    "\n",
    "print('''Enter the starting number of organisms, average daily increase, and number of days to multiply to calculate the\n",
    "approximate population''')"
   ]
  },
  {
   "cell_type": "code",
   "execution_count": 127,
   "id": "25b758c8",
   "metadata": {},
   "outputs": [
    {
     "name": "stdout",
     "output_type": "stream",
     "text": [
      "Enter the starting number of organisms, average daily increase, and number of days to multiply to calculate the\n",
      "approximate population\n",
      "Starting number of organisms2\n",
      "test25%\n"
     ]
    },
    {
     "ename": "ValueError",
     "evalue": "could not convert string to float: '25%'",
     "output_type": "error",
     "traceback": [
      "\u001b[1;31m---------------------------------------------------------------------------\u001b[0m",
      "\u001b[1;31mValueError\u001b[0m                                Traceback (most recent call last)",
      "Cell \u001b[1;32mIn[127], line 6\u001b[0m\n\u001b[0;32m      4\u001b[0m org \u001b[38;5;241m=\u001b[39m \u001b[38;5;28mint\u001b[39m(\u001b[38;5;28minput\u001b[39m(\u001b[38;5;124m\"\u001b[39m\u001b[38;5;124mStarting number of organisms\u001b[39m\u001b[38;5;124m\"\u001b[39m))\n\u001b[0;32m      5\u001b[0m \u001b[38;5;66;03m#'RR' For \"reproduction rate\"\u001b[39;00m\n\u001b[1;32m----> 6\u001b[0m RR \u001b[38;5;241m=\u001b[39m \u001b[38;5;28mfloat\u001b[39m(\u001b[38;5;28minput\u001b[39m(\u001b[38;5;124m\"\u001b[39m\u001b[38;5;124mtest\u001b[39m\u001b[38;5;124m\"\u001b[39m))\n",
      "\u001b[1;31mValueError\u001b[0m: could not convert string to float: '25%'"
     ]
    }
   ],
   "source": [
    "print('''Enter the starting number of organisms, average daily increase, and number of days to multiply to calculate the\n",
    "approximate population''')\n",
    "\n",
    "org = int(input(\"Starting number of organisms\"))\n",
    "#'RR' For \"reproduction rate\"\n",
    "RR = float(input(\"test\"))"
   ]
  },
  {
   "cell_type": "code",
   "execution_count": null,
   "id": "22130cf0",
   "metadata": {},
   "outputs": [],
   "source": [
    "print('''Enter the starting number of organisms, average daily increase, and number of days to multiply to calculate the\n",
    "approximate population''')\n",
    "\n",
    "org = int(input(\"Starting number of organisms \"))\n",
    "#'RR' For \"reproduction rate\"\n",
    "RR = float(input(\"Average daily increase (as a decimal) \"))\n",
    "print(RR)"
   ]
  },
  {
   "cell_type": "markdown",
   "id": "36af046d",
   "metadata": {},
   "source": [
    "I'm not sure how to be able to have the user include the percentage sign so I suppose they are just going to have to input their value as a decimal."
   ]
  },
  {
   "cell_type": "code",
   "execution_count": 4,
   "id": "bd1adf33",
   "metadata": {},
   "outputs": [
    {
     "name": "stdout",
     "output_type": "stream",
     "text": [
      "Enter the starting number of organisms, average daily increase, and number of days to multiply to calculate the\n",
      "approximate population\n",
      "Starting number of organisms 25\n",
      "Average daily increase (as a decimal) .5\n",
      "0.5\n"
     ]
    }
   ],
   "source": [
    "print('''Enter the starting number of organisms, average daily increase, and number of days to multiply to calculate the\n",
    "approximate population''')\n",
    "\n",
    "org = int(input(\"Starting number of organisms \"))\n",
    "#'RR' For \"reproduction rate\"\n",
    "RR = float(input(\"Average daily increase (as a decimal) \"))\n",
    "print(RR)"
   ]
  },
  {
   "cell_type": "code",
   "execution_count": 5,
   "id": "d40c842a",
   "metadata": {},
   "outputs": [
    {
     "name": "stdout",
     "output_type": "stream",
     "text": [
      "Enter the starting number of organisms, average daily increase, and number of days to multiply to calculate the\n",
      "approximate population\n",
      "Starting number of organisms 5\n",
      "Average daily increase (as a decimal) .6\n",
      "The number of days to multiply 8\n"
     ]
    }
   ],
   "source": [
    "print('''Enter the starting number of organisms, average daily increase, and number of days to multiply to calculate the\n",
    "approximate population''')\n",
    "\n",
    "org = int(input(\"Starting number of organisms \"))\n",
    "#'RR' For \"reproduction rate\"\n",
    "RR = float(input(\"Average daily increase (as a decimal) \"))\n",
    "days = int(input(\"The number of days to multiply \"))"
   ]
  },
  {
   "cell_type": "markdown",
   "id": "9b8e5cc1",
   "metadata": {},
   "source": [
    "Now that I know that all works I can start working on the loop!"
   ]
  },
  {
   "cell_type": "code",
   "execution_count": 8,
   "id": "b35a26a4",
   "metadata": {},
   "outputs": [
    {
     "name": "stdout",
     "output_type": "stream",
     "text": [
      "Enter the starting number of organisms, average daily increase, and number of days to multiply to calculate the\n",
      "approximate population\n",
      "Starting number of organisms 2\n",
      "Average daily increase (as a decimal) .5\n",
      "The number of days to multiply 10\n",
      "Day                  Approximate Population\n"
     ]
    },
    {
     "ename": "NameError",
     "evalue": "name 'AP' is not defined",
     "output_type": "error",
     "traceback": [
      "\u001b[1;31m---------------------------------------------------------------------------\u001b[0m",
      "\u001b[1;31mNameError\u001b[0m                                 Traceback (most recent call last)",
      "Cell \u001b[1;32mIn[8], line 12\u001b[0m\n\u001b[0;32m      9\u001b[0m \u001b[38;5;28mprint\u001b[39m(\u001b[38;5;124m'\u001b[39m\u001b[38;5;124mDay                  Approximate Population\u001b[39m\u001b[38;5;124m'\u001b[39m)\n\u001b[0;32m     11\u001b[0m \u001b[38;5;28;01mfor\u001b[39;00m days \u001b[38;5;129;01min\u001b[39;00m \u001b[38;5;28mrange\u001b[39m(\u001b[38;5;241m1\u001b[39m,days):\n\u001b[1;32m---> 12\u001b[0m     AP \u001b[38;5;241m+\u001b[39m\u001b[38;5;241m=\u001b[39m org\u001b[38;5;241m*\u001b[39mRR\n\u001b[0;32m     13\u001b[0m     \u001b[38;5;66;03m#I want to round the approximate population to the nearest whole number because you cant have half an organism.\u001b[39;00m\n\u001b[0;32m     14\u001b[0m     \u001b[38;5;28mprint\u001b[39m(\u001b[38;5;124mf\u001b[39m\u001b[38;5;124m'\u001b[39m\u001b[38;5;132;01m{\u001b[39;00mdays\u001b[38;5;132;01m}\u001b[39;00m\u001b[38;5;124m            \u001b[39m\u001b[38;5;132;01m{\u001b[39;00mAP\u001b[38;5;132;01m:\u001b[39;00m\u001b[38;5;124m.0\u001b[39m\u001b[38;5;132;01m}\u001b[39;00m\u001b[38;5;124m'\u001b[39m)\n",
      "\u001b[1;31mNameError\u001b[0m: name 'AP' is not defined"
     ]
    }
   ],
   "source": [
    "print('''Enter the starting number of organisms, average daily increase, and number of days to multiply to calculate the\n",
    "approximate population''')\n",
    "\n",
    "org = int(input(\"Starting number of organisms \"))\n",
    "#'RR' For \"reproduction rate\"\n",
    "RR = float(input(\"Average daily increase (as a decimal) \"))\n",
    "days = int(input(\"The number of days to multiply \"))\n",
    "\n",
    "print('Day                  Approximate Population')\n",
    "\n",
    "for days in range(1,days):\n",
    "    AP += org*RR\n",
    "    #I want to round the approximate population to the nearest whole number because you cant have half an organism.\n",
    "    print(f'{days}            {AP:.0}')"
   ]
  },
  {
   "cell_type": "code",
   "execution_count": 9,
   "id": "f54afe3a",
   "metadata": {},
   "outputs": [
    {
     "name": "stdout",
     "output_type": "stream",
     "text": [
      "Enter the starting number of organisms, average daily increase, and number of days to multiply to calculate the\n",
      "approximate population\n",
      "Starting number of organisms 2\n",
      "Average daily increase (as a decimal) .5\n",
      "The number of days to multiply 10\n",
      "Day                  Approximate Population\n",
      "1            3e+00\n",
      "2            4e+00\n",
      "3            5e+00\n",
      "4            6e+00\n",
      "5            7e+00\n",
      "6            8e+00\n",
      "7            9e+00\n",
      "8            1e+01\n",
      "9            1e+01\n"
     ]
    }
   ],
   "source": [
    "print('''Enter the starting number of organisms, average daily increase, and number of days to multiply to calculate the\n",
    "approximate population''')\n",
    "\n",
    "org = int(input(\"Starting number of organisms \"))\n",
    "#'RR' For \"reproduction rate\"\n",
    "RR = float(input(\"Average daily increase (as a decimal) \"))\n",
    "days = int(input(\"The number of days to multiply \"))\n",
    "AP = org\n",
    "\n",
    "print('Day                  Approximate Population')\n",
    "\n",
    "for days in range(1,days):\n",
    "    AP += org*RR\n",
    "    print(f'{days}            {AP:.0}')"
   ]
  },
  {
   "cell_type": "markdown",
   "id": "2d6fb5b1",
   "metadata": {},
   "source": [
    "Well that is an interesting result, not what I was looking for though"
   ]
  },
  {
   "cell_type": "code",
   "execution_count": 10,
   "id": "a0d28b48",
   "metadata": {},
   "outputs": [
    {
     "name": "stdout",
     "output_type": "stream",
     "text": [
      "Enter the starting number of organisms, average daily increase, and number of days to multiply to calculate the\n",
      "approximate population\n",
      "Starting number of organisms 2\n",
      "Average daily increase (as a decimal) .5\n",
      "The number of days to multiply 8\n",
      "Day                  Approximate Population\n",
      "1            3e+00\n",
      "2            4e+00\n",
      "3            5e+00\n",
      "4            6e+00\n",
      "5            7e+00\n",
      "6            8e+00\n",
      "7            9e+00\n"
     ]
    }
   ],
   "source": [
    "print('''Enter the starting number of organisms, average daily increase, and number of days to multiply to calculate the\n",
    "approximate population''')\n",
    "\n",
    "org = int(input(\"Starting number of organisms \"))\n",
    "#'RR' For \"reproduction rate\"\n",
    "RR = float(input(\"Average daily increase (as a decimal) \"))\n",
    "days = int(input(\"The number of days to multiply \"))\n",
    "AP = org\n",
    "\n",
    "print('Day                  Approximate Population')\n",
    "\n",
    "for days in range(1,days):\n",
    "    AP = AP+ (org*RR)\n",
    "    print(f'{days}            {AP:.0}')"
   ]
  },
  {
   "cell_type": "markdown",
   "id": "ebba1803",
   "metadata": {},
   "source": [
    "Well I can see that the days are off so let me fix that quick by adding 1 to the end of the limit on the RANGE function"
   ]
  },
  {
   "cell_type": "code",
   "execution_count": 11,
   "id": "b5ff30d0",
   "metadata": {},
   "outputs": [
    {
     "name": "stdout",
     "output_type": "stream",
     "text": [
      "Enter the starting number of organisms, average daily increase, and number of days to multiply to calculate the\n",
      "approximate population\n",
      "Starting number of organisms 2\n",
      "Average daily increase (as a decimal) .5\n",
      "The number of days to multiply 8\n",
      "Day                  Approximate Population\n",
      "1            3e+00\n",
      "2            4e+00\n",
      "3            5e+00\n",
      "4            6e+00\n",
      "5            7e+00\n",
      "6            8e+00\n",
      "7            9e+00\n",
      "8            1e+01\n"
     ]
    }
   ],
   "source": [
    "print('''Enter the starting number of organisms, average daily increase, and number of days to multiply to calculate the\n",
    "approximate population''')\n",
    "\n",
    "org = int(input(\"Starting number of organisms \"))\n",
    "#'RR' For \"reproduction rate\"\n",
    "RR = float(input(\"Average daily increase (as a decimal) \"))\n",
    "days = int(input(\"The number of days to multiply \"))\n",
    "AP = org\n",
    "\n",
    "print('Day                  Approximate Population')\n",
    "\n",
    "for days in range(1,days+1):\n",
    "    AP = AP+ (org*RR)\n",
    "    print(f'{days}            {AP:.0}')"
   ]
  },
  {
   "cell_type": "markdown",
   "id": "0b10d217",
   "metadata": {},
   "source": [
    "Now to troubleshoot the strange results!"
   ]
  },
  {
   "cell_type": "code",
   "execution_count": 14,
   "id": "e05cf6a2",
   "metadata": {},
   "outputs": [
    {
     "name": "stdout",
     "output_type": "stream",
     "text": [
      "Enter the starting number of organisms, average daily increase, and number of days to multiply to calculate the\n",
      "approximate population\n",
      "Starting number of organisms 2\n",
      "Average daily increase (as a decimal) .5\n",
      "The number of days to multiply 10\n",
      "Day                  Approximate Population\n",
      "1            1.0\n",
      "2            1.0\n",
      "3            1.0\n",
      "4            1.0\n",
      "5            1.0\n",
      "6            1.0\n",
      "7            1.0\n",
      "8            1.0\n",
      "9            1.0\n",
      "10            1.0\n"
     ]
    }
   ],
   "source": [
    "print('''Enter the starting number of organisms, average daily increase, and number of days to multiply to calculate the\n",
    "approximate population''')\n",
    "\n",
    "org = int(input(\"Starting number of organisms \"))\n",
    "#'RR' For \"reproduction rate\"\n",
    "RR = float(input(\"Average daily increase (as a decimal) \"))\n",
    "days = int(input(\"The number of days to multiply \"))\n",
    "AP = org\n",
    "\n",
    "print('Day                  Approximate Population')\n",
    "\n",
    "for days in range(1,days+1):\n",
    "    AP = (org*RR)\n",
    "    #I removed the rounding function from the F-string to try to fix the '3e+00' nonsense\n",
    "    print(f'{days}            {AP}')"
   ]
  },
  {
   "cell_type": "markdown",
   "id": "84948c80",
   "metadata": {},
   "source": [
    "Ah, I think I might know what the problem is, I need to add a 1 to the front of the percentage so that it will be multiplied by 150% rather than 50%"
   ]
  },
  {
   "cell_type": "code",
   "execution_count": 15,
   "id": "ecd38b74",
   "metadata": {},
   "outputs": [
    {
     "name": "stdout",
     "output_type": "stream",
     "text": [
      "Enter the starting number of organisms, average daily increase, and number of days to multiply to calculate the\n",
      "approximate population\n",
      "Starting number of organisms 2\n",
      "Average daily increase (as a decimal) .5\n"
     ]
    },
    {
     "ename": "TypeError",
     "evalue": "can only concatenate str (not \"int\") to str",
     "output_type": "error",
     "traceback": [
      "\u001b[1;31m---------------------------------------------------------------------------\u001b[0m",
      "\u001b[1;31mTypeError\u001b[0m                                 Traceback (most recent call last)",
      "Cell \u001b[1;32mIn[15], line 7\u001b[0m\n\u001b[0;32m      4\u001b[0m org \u001b[38;5;241m=\u001b[39m \u001b[38;5;28mint\u001b[39m(\u001b[38;5;28minput\u001b[39m(\u001b[38;5;124m\"\u001b[39m\u001b[38;5;124mStarting number of organisms \u001b[39m\u001b[38;5;124m\"\u001b[39m))\n\u001b[0;32m      5\u001b[0m \u001b[38;5;66;03m#'RR' For \"reproduction rate\"\u001b[39;00m\n\u001b[0;32m      6\u001b[0m \u001b[38;5;66;03m#added a +1 to the end of the input to add 1 to the value entered \u001b[39;00m\n\u001b[1;32m----> 7\u001b[0m RR \u001b[38;5;241m=\u001b[39m \u001b[38;5;28mfloat\u001b[39m(\u001b[38;5;28minput\u001b[39m(\u001b[38;5;124m\"\u001b[39m\u001b[38;5;124mAverage daily increase (as a decimal) \u001b[39m\u001b[38;5;124m\"\u001b[39m)\u001b[38;5;241m+\u001b[39m\u001b[38;5;241m1\u001b[39m)\n\u001b[0;32m      8\u001b[0m days \u001b[38;5;241m=\u001b[39m \u001b[38;5;28mint\u001b[39m(\u001b[38;5;28minput\u001b[39m(\u001b[38;5;124m\"\u001b[39m\u001b[38;5;124mThe number of days to multiply \u001b[39m\u001b[38;5;124m\"\u001b[39m))\n\u001b[0;32m      9\u001b[0m AP \u001b[38;5;241m=\u001b[39m org\n",
      "\u001b[1;31mTypeError\u001b[0m: can only concatenate str (not \"int\") to str"
     ]
    }
   ],
   "source": [
    "print('''Enter the starting number of organisms, average daily increase, and number of days to multiply to calculate the\n",
    "approximate population''')\n",
    "\n",
    "org = int(input(\"Starting number of organisms \"))\n",
    "#'RR' For \"reproduction rate\"\n",
    "#added a +1 to the end of the input to add 1 to the value entered \n",
    "RR = float(input(\"Average daily increase (as a decimal) \")+1)\n",
    "days = int(input(\"The number of days to multiply \"))\n",
    "AP = org\n",
    "\n",
    "print('Day                  Approximate Population')\n",
    "\n",
    "for days in range(1,days+1):\n",
    "    AP += (org*RR)\n",
    "    print(f'{days}            {AP}')"
   ]
  },
  {
   "cell_type": "markdown",
   "id": "13993826",
   "metadata": {},
   "source": [
    "OK, let me code the same thing in a different way. "
   ]
  },
  {
   "cell_type": "code",
   "execution_count": 16,
   "id": "daf03c5c",
   "metadata": {},
   "outputs": [
    {
     "name": "stdout",
     "output_type": "stream",
     "text": [
      "Enter the starting number of organisms, average daily increase, and number of days to multiply to calculate the\n",
      "approximate population\n",
      "Starting number of organisms 2\n",
      "Average daily increase (as a decimal) .5\n",
      "The number of days to multiply 10\n",
      "Day                  Approximate Population\n",
      "1            5.0\n",
      "2            8.0\n",
      "3            11.0\n",
      "4            14.0\n",
      "5            17.0\n",
      "6            20.0\n",
      "7            23.0\n",
      "8            26.0\n",
      "9            29.0\n",
      "10            32.0\n"
     ]
    }
   ],
   "source": [
    "print('''Enter the starting number of organisms, average daily increase, and number of days to multiply to calculate the\n",
    "approximate population''')\n",
    "\n",
    "org = int(input(\"Starting number of organisms \"))\n",
    "#'RR' For \"reproduction rate\" \n",
    "RR = float(input(\"Average daily increase (as a decimal) \"))\n",
    "days = int(input(\"The number of days to multiply \"))\n",
    "AP = org\n",
    "#added the assignment below to increase 'RR' by 1\n",
    "RR += 1\n",
    "\n",
    "print('Day                  Approximate Population')\n",
    "\n",
    "for days in range(1,days+1):\n",
    "    AP += (org*(RR))\n",
    "    print(f'{days}            {AP}')"
   ]
  },
  {
   "cell_type": "markdown",
   "id": "4f56c380",
   "metadata": {},
   "source": [
    "That still doesnt quite work, but I think it is my math this time."
   ]
  },
  {
   "cell_type": "code",
   "execution_count": 17,
   "id": "3680f005",
   "metadata": {},
   "outputs": [
    {
     "name": "stdout",
     "output_type": "stream",
     "text": [
      "Enter the starting number of organisms, average daily increase, and number of days to multiply to calculate the\n",
      "approximate population\n",
      "Starting number of organisms 2\n",
      "Average daily increase (as a decimal) .5\n",
      "The number of days to multiply 10\n",
      "Day                  Approximate Population\n",
      "1            3.0\n",
      "2            6.0\n",
      "3            9.0\n",
      "4            12.0\n",
      "5            15.0\n",
      "6            18.0\n",
      "7            21.0\n",
      "8            24.0\n",
      "9            27.0\n",
      "10            30.0\n"
     ]
    }
   ],
   "source": [
    "print('''Enter the starting number of organisms, average daily increase, and number of days to multiply to calculate the\n",
    "approximate population''')\n",
    "\n",
    "org = int(input(\"Starting number of organisms \"))\n",
    "#'RR' For \"reproduction rate\" \n",
    "RR = float(input(\"Average daily increase (as a decimal) \"))\n",
    "days = int(input(\"The number of days to multiply \"))\n",
    "AP = 0\n",
    "RR += 1\n",
    "\n",
    "print('Day                  Approximate Population')\n",
    "\n",
    "for days in range(1,days+1):\n",
    "    AP += (org*(RR))\n",
    "    \n",
    "    print(f'{days}            {AP}')"
   ]
  },
  {
   "cell_type": "markdown",
   "id": "c66a03bd",
   "metadata": {},
   "source": [
    "That seems closer, but I am going to add in some print functions so that I can see and check all of the numbers its calculating."
   ]
  },
  {
   "cell_type": "code",
   "execution_count": 20,
   "id": "abc8cbf7",
   "metadata": {},
   "outputs": [
    {
     "name": "stdout",
     "output_type": "stream",
     "text": [
      "Enter the starting number of organisms, average daily increase, and number of days to multiply to calculate the\n",
      "approximate population\n",
      "Starting number of organisms 2\n",
      "Average daily increase (as a decimal) .5\n",
      "The number of days to multiply 10\n",
      "Day                  Approximate Population\n",
      "days 1            AP 3.0\n",
      "org 2             RR 1.5\n",
      "days 2            AP 6.0\n",
      "org 2             RR 1.5\n",
      "days 3            AP 9.0\n",
      "org 2             RR 1.5\n",
      "days 4            AP 12.0\n",
      "org 2             RR 1.5\n",
      "days 5            AP 15.0\n",
      "org 2             RR 1.5\n",
      "days 6            AP 18.0\n",
      "org 2             RR 1.5\n",
      "days 7            AP 21.0\n",
      "org 2             RR 1.5\n",
      "days 8            AP 24.0\n",
      "org 2             RR 1.5\n",
      "days 9            AP 27.0\n",
      "org 2             RR 1.5\n",
      "days 10            AP 30.0\n",
      "org 2             RR 1.5\n"
     ]
    }
   ],
   "source": [
    "print('''Enter the starting number of organisms, average daily increase, and number of days to multiply to calculate the\n",
    "approximate population''')\n",
    "\n",
    "org = int(input(\"Starting number of organisms \"))\n",
    "#'RR' For \"reproduction rate\" \n",
    "RR = float(input(\"Average daily increase (as a decimal) \"))\n",
    "days = int(input(\"The number of days to multiply \"))\n",
    "AP = 0\n",
    "RR += 1\n",
    "\n",
    "print('Day                  Approximate Population')\n",
    "\n",
    "for days in range(1,days+1):\n",
    "    AP += (org*(RR))\n",
    "    print(f'days {days}            AP {AP}')\n",
    "    print(f'org {org}             RR {RR}')"
   ]
  },
  {
   "cell_type": "markdown",
   "id": "8d5bdc0e",
   "metadata": {},
   "source": [
    "Something is still off with my math for sure"
   ]
  },
  {
   "cell_type": "code",
   "execution_count": 23,
   "id": "1a9c967a",
   "metadata": {},
   "outputs": [
    {
     "name": "stdout",
     "output_type": "stream",
     "text": [
      "Enter the starting number of organisms, average daily increase, and number of days to multiply to calculate the\n",
      "approximate population\n",
      "Starting number of organisms 2\n",
      "Average daily increase (as a decimal) .5\n",
      "The number of days to multiply 10\n",
      "Day                  Approximate Population\n",
      "days 1            AP 3.0\n",
      "org 3.0             RR 1.5\n",
      "days 2            AP 4.5\n",
      "org 4.5             RR 1.5\n",
      "days 3            AP 6.75\n",
      "org 6.75             RR 1.5\n",
      "days 4            AP 10.125\n",
      "org 10.125             RR 1.5\n",
      "days 5            AP 15.1875\n",
      "org 15.1875             RR 1.5\n",
      "days 6            AP 22.78125\n",
      "org 22.78125             RR 1.5\n",
      "days 7            AP 34.171875\n",
      "org 34.171875             RR 1.5\n",
      "days 8            AP 51.2578125\n",
      "org 51.2578125             RR 1.5\n",
      "days 9            AP 76.88671875\n",
      "org 76.88671875             RR 1.5\n",
      "days 10            AP 115.330078125\n",
      "org 115.330078125             RR 1.5\n"
     ]
    }
   ],
   "source": [
    "print('''Enter the starting number of organisms, average daily increase, and number of days to multiply to calculate the\n",
    "approximate population''')\n",
    "\n",
    "org = int(input(\"Starting number of organisms \"))\n",
    "#'RR' For \"reproduction rate\" \n",
    "RR = float(input(\"Average daily increase (as a decimal) \"))\n",
    "days = int(input(\"The number of days to multiply \"))\n",
    "AP = 0\n",
    "RR += 1\n",
    "\n",
    "print('Day                  Approximate Population')\n",
    "\n",
    "for days in range(1,days+1):\n",
    "    AP = org*RR\n",
    "    org = AP\n",
    "    print(f'days {days}            AP {AP}')\n",
    "    print(f'org {org}             RR {RR}')"
   ]
  },
  {
   "cell_type": "markdown",
   "id": "dfa3f2dc",
   "metadata": {},
   "source": [
    "There we go that seems to have set it right! \n",
    "\n",
    "Now to add in some rounding functions and generally pretty the whole thing up."
   ]
  },
  {
   "cell_type": "code",
   "execution_count": 29,
   "id": "18b6f0b0",
   "metadata": {},
   "outputs": [
    {
     "name": "stdout",
     "output_type": "stream",
     "text": [
      "Enter the starting number of organisms, average daily increase, and number of days to multiply to calculate the\n",
      "approximate population\n",
      "Starting number of organisms 5\n",
      "Average daily increase (as a decimal) 1\n",
      "The number of days to multiply 5\n",
      "Day                  Approximate Population\n",
      "1                              10 Organisms\n",
      "2                              20 Organisms\n",
      "3                              40 Organisms\n",
      "4                              80 Organisms\n",
      "5                             160 Organisms\n"
     ]
    }
   ],
   "source": [
    "print('''Enter the starting number of organisms, average daily increase, and number of days to multiply to calculate the\n",
    "approximate population''')\n",
    "\n",
    "org = int(input(\"Starting number of organisms \"))\n",
    "#'RR' For \"reproduction rate\" \n",
    "RR = float(input(\"Average daily increase (as a decimal) \"))\n",
    "days = int(input(\"The number of days to multiply \"))\n",
    "AP = 0\n",
    "RR += 1\n",
    "\n",
    "print('Day                  Approximate Population')\n",
    "\n",
    "for days in range(1,days+1):\n",
    "    AP = org*RR\n",
    "    org = AP\n",
    "    print(f'{days}            {AP:20.0f} Organisms')"
   ]
  },
  {
   "cell_type": "markdown",
   "id": "2133544d",
   "metadata": {},
   "source": [
    "That looks about right! I am going to test a few more values just to make sure everything is working as it should."
   ]
  },
  {
   "cell_type": "code",
   "execution_count": 30,
   "id": "7c68aec1",
   "metadata": {},
   "outputs": [
    {
     "name": "stdout",
     "output_type": "stream",
     "text": [
      "Enter the starting number of organisms, average daily increase, and number of days to multiply to calculate the\n",
      "approximate population\n",
      "Starting number of organisms 50\n",
      "Average daily increase (as a decimal) .25\n",
      "The number of days to multiply 7\n",
      "Day                  Approximate Population\n",
      "1                              62 Organisms\n",
      "2                              78 Organisms\n",
      "3                              98 Organisms\n",
      "4                             122 Organisms\n",
      "5                             153 Organisms\n",
      "6                             191 Organisms\n",
      "7                             238 Organisms\n"
     ]
    }
   ],
   "source": [
    "print('''Enter the starting number of organisms, average daily increase, and number of days to multiply to calculate the\n",
    "approximate population''')\n",
    "\n",
    "org = int(input(\"Starting number of organisms \"))\n",
    "#'RR' For \"reproduction rate\" \n",
    "RR = float(input(\"Average daily increase (as a decimal) \"))\n",
    "days = int(input(\"The number of days to multiply \"))\n",
    "AP = 0\n",
    "RR += 1\n",
    "\n",
    "print('Day                  Approximate Population')\n",
    "\n",
    "for days in range(1,days+1):\n",
    "    AP = org*RR\n",
    "    org = AP\n",
    "    print(f'{days}            {AP:20.0f} Organisms')"
   ]
  },
  {
   "cell_type": "code",
   "execution_count": 31,
   "id": "bf652329",
   "metadata": {},
   "outputs": [
    {
     "name": "stdout",
     "output_type": "stream",
     "text": [
      "Enter the starting number of organisms, average daily increase, and number of days to multiply to calculate the\n",
      "approximate population\n",
      "Starting number of organisms 100\n",
      "Average daily increase (as a decimal) .5\n",
      "The number of days to multiply 10\n",
      "Day                  Approximate Population\n",
      "1                             150 Organisms\n",
      "2                             225 Organisms\n",
      "3                             338 Organisms\n",
      "4                             506 Organisms\n",
      "5                             759 Organisms\n",
      "6                            1139 Organisms\n",
      "7                            1709 Organisms\n",
      "8                            2563 Organisms\n",
      "9                            3844 Organisms\n",
      "10                            5767 Organisms\n"
     ]
    }
   ],
   "source": [
    "#This print function displays the directions for the user\n",
    "print('''Enter the starting number of organisms, average daily increase, and number of days to multiply to calculate the\n",
    "approximate population''')\n",
    "\n",
    "#This assignment assigns the 'org' variable the value entered by the user\n",
    "org = int(input(\"Starting number of organisms \"))\n",
    "#This assignment assigns the 'RR' variable which stands for \"reproduction rate\" the value entered by the user \n",
    "RR = float(input(\"Average daily increase (as a decimal) \"))\n",
    "#This assignment assigns the variable 'days' the value entered by the user\n",
    "days = int(input(\"The number of days to multiply \"))\n",
    "#This assignment assigns the variable 'AP' the value of 0\n",
    "AP = 0\n",
    "#This assignment assigns the variable 'RR' the value of 'RR' +1\n",
    "RR += 1\n",
    "\n",
    "#This print function displays \"day\" and \"approximate population\"\n",
    "print('Day                  Approximate Population')\n",
    "\n",
    "#This FOR loop will repeat for the value of the variable 'days' plus 1\n",
    "for days in range(1,days+1):\n",
    "    #This assignment assigns the 'AP' variable the value of the variable 'org' times the variable 'RR'\n",
    "    AP = org*RR\n",
    "    #This assignment assigns the 'org' variable the value of the 'AP' variable\n",
    "    org = AP\n",
    "    #This print function displays the value for the variable 'days' as well as the value of the variable 'AP'\n",
    "    #rounded the nearest whole number\n",
    "    print(f'{days}            {AP:20.0f} Organisms')"
   ]
  },
  {
   "cell_type": "markdown",
   "id": "039c6844",
   "metadata": {},
   "source": [
    "That looks good I think this problem is done!"
   ]
  },
  {
   "cell_type": "markdown",
   "id": "b318d2c8",
   "metadata": {},
   "source": [
    "## Programming Exercises - Number 16"
   ]
  },
  {
   "attachments": {
    "image-3.png": {
     "image/png": "[encoded data removed]"
    }
   },
   "cell_type": "markdown",
   "id": "a122f016",
   "metadata": {},
   "source": [
    "Problem number 16 asks us to,\n",
    "\n",
    "Use a loop with the turtle graphics library to draw the design shown:\n",
    "\n",
    "![image-3.png](attachment:image-3.png)"
   ]
  },
  {
   "cell_type": "markdown",
   "id": "f26f7da5",
   "metadata": {},
   "source": [
    "To do this problem I am going to have to use the Turtle graphic, as well as some loops."
   ]
  },
  {
   "cell_type": "markdown",
   "id": "9e31d1e1",
   "metadata": {},
   "source": [
    "I will start by defining a for loop, and testing some angles"
   ]
  },
  {
   "cell_type": "code",
   "execution_count": 1,
   "id": "ea7ed0e2",
   "metadata": {},
   "outputs": [
    {
     "ename": "NameError",
     "evalue": "name 'turtle' is not defined",
     "output_type": "error",
     "traceback": [
      "\u001b[1;31m---------------------------------------------------------------------------\u001b[0m",
      "\u001b[1;31mNameError\u001b[0m                                 Traceback (most recent call last)",
      "Cell \u001b[1;32mIn[1], line 3\u001b[0m\n\u001b[0;32m      1\u001b[0m \u001b[38;5;66;03m#Sense the shape had 8 corners I am going to start with having the loop repeat 8 time and see what happens\u001b[39;00m\n\u001b[0;32m      2\u001b[0m \u001b[38;5;28;01mfor\u001b[39;00m x \u001b[38;5;129;01min\u001b[39;00m \u001b[38;5;28mrange\u001b[39m (\u001b[38;5;241m8\u001b[39m):\n\u001b[1;32m----> 3\u001b[0m     turtle\u001b[38;5;241m.\u001b[39mforward(\u001b[38;5;241m100\u001b[39m)\n\u001b[0;32m      4\u001b[0m     \u001b[38;5;66;03m#I am going to start with the turtle turning 135 degrees to the right because the angle looks like it is another 45 degrees\u001b[39;00m\n\u001b[0;32m      5\u001b[0m     \u001b[38;5;66;03m#more than 90 \u001b[39;00m\n\u001b[0;32m      6\u001b[0m     turtle\u001b[38;5;241m.\u001b[39mright(\u001b[38;5;241m135\u001b[39m)\n",
      "\u001b[1;31mNameError\u001b[0m: name 'turtle' is not defined"
     ]
    }
   ],
   "source": [
    "#Sense the shape had 8 corners I am going to start with having the loop repeat 8 times and see what happens\n",
    "for x in range (8):\n",
    "    turtle.forward(100)\n",
    "    #I am going to start with the turtle turning 135 degrees to the right because the angle looks like it is another 45 degrees\n",
    "    #more than 90 \n",
    "    turtle.right(135)"
   ]
  },
  {
   "cell_type": "markdown",
   "id": "1bd59010",
   "metadata": {},
   "source": [
    "Whoops! I forgot to import and show the turtle."
   ]
  },
  {
   "cell_type": "code",
   "execution_count": 1,
   "id": "31d53eca",
   "metadata": {},
   "outputs": [],
   "source": [
    "import turtle\n",
    "turtle.showturtle()\n",
    "\n",
    "for x in range (8):\n",
    "    turtle.forward(100) \n",
    "    turtle.right(135)"
   ]
  },
  {
   "cell_type": "markdown",
   "id": "709756f9",
   "metadata": {},
   "source": [
    "Im not sure why the turtle graphic is not showing up at this point."
   ]
  },
  {
   "cell_type": "markdown",
   "id": "985da7e6",
   "metadata": {},
   "source": [
    "OH! I am silly, I did not see that it opened up a new window!"
   ]
  },
  {
   "attachments": {
    "image.png": {
     "image/png": "[encoded data removed]"
    }
   },
   "cell_type": "markdown",
   "id": "38892d3a",
   "metadata": {},
   "source": [
    "I cant believe it but it seems to have worked first try!\n",
    "\n",
    "Here is an image of what it drew.\n",
    "![image.png](attachment:image.png)"
   ]
  },
  {
   "cell_type": "markdown",
   "id": "f9e9137f",
   "metadata": {},
   "source": [
    "However, I think I may have created an infinite loop somehow, because it seems to crash every time. \n",
    "\n",
    "I am going to see if I can fix that somehow. "
   ]
  },
  {
   "cell_type": "code",
   "execution_count": 1,
   "id": "35e817b4",
   "metadata": {
    "scrolled": false
   },
   "outputs": [],
   "source": [
    "import turtle\n",
    "turtle.showturtle()\n",
    "\n",
    "for x in range (8):\n",
    "    turtle.forward(100) \n",
    "    turtle.right(135)\n",
    "    #I am going to add this IF statement and break function in to see if that fixes the crashing problem.\n",
    "    if x==8:\n",
    "        break\n",
    "    "
   ]
  },
  {
   "cell_type": "markdown",
   "id": "a39bf3db",
   "metadata": {},
   "source": [
    "That does not seem to have fixed it. "
   ]
  },
  {
   "cell_type": "code",
   "execution_count": 1,
   "id": "39777ff6",
   "metadata": {},
   "outputs": [],
   "source": [
    "import turtle\n",
    "turtle.showturtle()\n",
    "\n",
    "for x in range (8):\n",
    "    turtle.forward(100) \n",
    "    turtle.right(135)\n",
    "    if x==8:\n",
    "        break\n",
    "\n",
    "turtle.penup()"
   ]
  },
  {
   "cell_type": "markdown",
   "id": "21059560",
   "metadata": {},
   "source": [
    "Im not sure why the turtle crashes, but it still draws the shape so I suppose that was its only job anyways.\n",
    "\n",
    "I am going to increase the size of the shape to 200 so it is a little easier to see and will pose a picture of the end result."
   ]
  },
  {
   "cell_type": "code",
   "execution_count": 1,
   "id": "fc2b7f13",
   "metadata": {},
   "outputs": [],
   "source": [
    "#The line below opens the turtle program. \n",
    "import turtle\n",
    "#The line shows the turtle in the turtle program \n",
    "turtle.showturtle()\n",
    "\n",
    "#The FOR loop below will repeat 8 times \n",
    "for x in range (8):\n",
    "    #The line below tells the turtle to move forward 200 units\n",
    "    turtle.forward(200) \n",
    "    #The line below tells the turtle to turn 135 degrees to the right\n",
    "    turtle.right(135)"
   ]
  },
  {
   "attachments": {
    "image.png": {
     "image/png": "[encoded data removed]"
    }
   },
   "cell_type": "markdown",
   "id": "faaf76ba",
   "metadata": {},
   "source": [
    "![image.png](attachment:image.png)"
   ]
  },
  {
   "cell_type": "markdown",
   "id": "099a41a3",
   "metadata": {},
   "source": [
    "I think this problem is all done!"
   ]
  },
  {
   "cell_type": "code",
   "execution_count": null,
   "id": "2e72bf82",
   "metadata": {},
   "outputs": [],
   "source": []
  }
 ],
 "metadata": {
  "kernelspec": {
   "display_name": "Python 3 (ipykernel)",
   "language": "python",
   "name": "python3"
  },
  "language_info": {
   "codemirror_mode": {
    "name": "ipython",
    "version": 3
   },
   "file_extension": ".py",
   "mimetype": "text/x-python",
   "name": "python",
   "nbconvert_exporter": "python",
   "pygments_lexer": "ipython3",
   "version": "3.11.5"
  }
 },
 "nbformat": 4,
 "nbformat_minor": 5
}
