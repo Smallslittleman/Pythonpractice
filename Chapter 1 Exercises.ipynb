{
 "cells": [
  {
   "cell_type": "markdown",
   "id": "a1b6d5ee",
   "metadata": {},
   "source": [
    "# Chapter 1 Exercises\n",
    "Exercises 1, 3, and 5."
   ]
  },
  {
   "cell_type": "markdown",
   "id": "5373fe3f",
   "metadata": {},
   "source": [
    "## Ex. 1 "
   ]
  },
  {
   "cell_type": "code",
   "execution_count": 1,
   "id": "d81b41ce",
   "metadata": {},
   "outputs": [
    {
     "name": "stdout",
     "output_type": "stream",
     "text": [
      "This is a test of the Python interpreter.\n"
     ]
    }
   ],
   "source": [
    "#exercise 1 wants us to use the print function \n",
    "print(\"This is a test of the Python interpreter.\")"
   ]
  },
  {
   "cell_type": "code",
   "execution_count": 6,
   "id": "5a404de8",
   "metadata": {},
   "outputs": [
    {
     "ename": "SyntaxError",
     "evalue": "invalid decimal literal (2137216781.py, line 1)",
     "output_type": "error",
     "traceback": [
      "\u001b[1;36m  Cell \u001b[1;32mIn[6], line 1\u001b[1;36m\u001b[0m\n\u001b[1;33m    print(\"Green is my favorite color\", 4x7)\u001b[0m\n\u001b[1;37m                                        ^\u001b[0m\n\u001b[1;31mSyntaxError\u001b[0m\u001b[1;31m:\u001b[0m invalid decimal literal\n"
     ]
    }
   ],
   "source": [
    "print(\"Green is my favorite color\", 4x7)"
   ]
  },
  {
   "cell_type": "code",
   "execution_count": 7,
   "id": "ab7d6127",
   "metadata": {},
   "outputs": [
    {
     "name": "stdout",
     "output_type": "stream",
     "text": [
      "blue is not my favorite color 17\n"
     ]
    }
   ],
   "source": [
    "print(\"blue is not my favorite color\", 17)"
   ]
  },
  {
   "cell_type": "code",
   "execution_count": 8,
   "id": "3447d7ab",
   "metadata": {},
   "outputs": [
    {
     "name": "stdout",
     "output_type": "stream",
     "text": [
      "Yellow is my sister's favorite color 7\n"
     ]
    }
   ],
   "source": [
    "print(\"Yellow is my sister's favorite color\", 1+6)"
   ]
  },
  {
   "cell_type": "markdown",
   "id": "477b787a",
   "metadata": {},
   "source": [
    "## Ex. 3"
   ]
  },
  {
   "cell_type": "markdown",
   "id": "2a897488",
   "metadata": {},
   "source": [
    "Exercise 3 wants us to convert the following numbers into binary.\n",
    "11\n",
    "65\n",
    "100\n",
    "255"
   ]
  },
  {
   "cell_type": "markdown",
   "id": "106d9ff0",
   "metadata": {},
   "source": [
    "For this I will take the value of each bit in the byte and add them together to get the final answer."
   ]
  },
  {
   "cell_type": "markdown",
   "id": "a4cd9e19",
   "metadata": {},
   "source": [
    "1 1 1 1 1 1 1 1"
   ]
  },
  {
   "cell_type": "markdown",
   "id": "3ddfb69e",
   "metadata": {},
   "source": [
    "128 64 32 16 8 4 2 1 "
   ]
  },
  {
   "cell_type": "markdown",
   "id": "acce7a31",
   "metadata": {},
   "source": [
    "### Part A, 11"
   ]
  },
  {
   "cell_type": "markdown",
   "id": "f305ebdd",
   "metadata": {},
   "source": [
    "For 11 we need all the bits to add up to 11. "
   ]
  },
  {
   "cell_type": "markdown",
   "id": "2372a30e",
   "metadata": {},
   "source": [
    "00001011 would be the solution because 8+2+1 = 11"
   ]
  },
  {
   "cell_type": "markdown",
   "id": "7601e997",
   "metadata": {},
   "source": [
    "### Part B, 65"
   ]
  },
  {
   "cell_type": "markdown",
   "id": "71ac1fc6",
   "metadata": {},
   "source": [
    "For 65 we need all the bits to add up to 65. "
   ]
  },
  {
   "cell_type": "markdown",
   "id": "a1ef3810",
   "metadata": {},
   "source": [
    "01000001 would be the solution because 64+1 = 65"
   ]
  },
  {
   "cell_type": "markdown",
   "id": "c24361b3",
   "metadata": {},
   "source": [
    "### Part C, 100"
   ]
  },
  {
   "cell_type": "markdown",
   "id": "e0e0149c",
   "metadata": {},
   "source": [
    "For 100 we need all the bits to add up to 100. "
   ]
  },
  {
   "cell_type": "markdown",
   "id": "5983aa5c",
   "metadata": {},
   "source": [
    "01100100 would be the solution because 64+32+4 = 100"
   ]
  },
  {
   "cell_type": "markdown",
   "id": "a04d19aa",
   "metadata": {},
   "source": [
    "### Part D, 255 "
   ]
  },
  {
   "cell_type": "markdown",
   "id": "3abb3672",
   "metadata": {},
   "source": [
    "For 255 we need all the bits to add up to 255."
   ]
  },
  {
   "cell_type": "markdown",
   "id": "95d9532b",
   "metadata": {},
   "source": [
    "11111111 would be the solution because 128+64+32+16+8+4+2+1 = 255"
   ]
  },
  {
   "cell_type": "markdown",
   "id": "886173a6",
   "metadata": {},
   "source": [
    "# Ex 5"
   ]
  },
  {
   "cell_type": "code",
   "execution_count": 11,
   "id": "99e65e94",
   "metadata": {},
   "outputs": [],
   "source": [
    "#exercise 5 wants us to use the ASCII chart in Appendix C to find the codes for each letter in our first name"
   ]
  },
  {
   "cell_type": "markdown",
   "id": "3ad714da",
   "metadata": {},
   "source": [
    "My name is Zavier, so using the chart I found that the code for \"Z\" is 122, the code for \"A\" is 65, the code for \"V\" is 118, the code for \"I\" is 73, the code for \"E\" is 69, and the code for \"R\" is 114. "
   ]
  },
  {
   "cell_type": "markdown",
   "id": "63fb9776",
   "metadata": {},
   "source": [
    "Does that mean that all together my name would be 122 65 118 73 69 114?"
   ]
  },
  {
   "cell_type": "code",
   "execution_count": null,
   "id": "9f013d8a",
   "metadata": {},
   "outputs": [],
   "source": []
  },
  {
   "cell_type": "code",
   "execution_count": null,
   "id": "9c27ad2e",
   "metadata": {},
   "outputs": [],
   "source": []
  }
 ],
 "metadata": {
  "kernelspec": {
   "display_name": "Python 3 (ipykernel)",
   "language": "python",
   "name": "python3"
  },
  "language_info": {
   "codemirror_mode": {
    "name": "ipython",
    "version": 3
   },
   "file_extension": ".py",
   "mimetype": "text/x-python",
   "name": "python",
   "nbconvert_exporter": "python",
   "pygments_lexer": "ipython3",
   "version": "3.11.5"
  }
 },
 "nbformat": 4,
 "nbformat_minor": 5
}
